{
 "cells": [
  {
   "cell_type": "code",
   "execution_count": 1,
   "metadata": {},
   "outputs": [],
   "source": [
    "import pandas as pd\n",
    "import glob as gb\n",
    "from sklearn.feature_extraction.text import ENGLISH_STOP_WORDS, CountVectorizer, TfidfTransformer\n",
    "from nltk.stem import WordNetLemmatizer, PorterStemmer\n",
    "from sklearn.pipeline import Pipeline"
   ]
  },
  {
   "cell_type": "code",
   "execution_count": 2,
   "metadata": {},
   "outputs": [],
   "source": [
    "from sklearn.metrics import precision_score, recall_score, f1_score, confusion_matrix, accuracy_score\n",
    "from sklearn.model_selection import GridSearchCV\n",
    "from sklearn.model_selection import cross_val_score, cross_val_predict\n",
    "#from sklearn.model_selection import train_test_split\n",
    "from sklearn.naive_bayes import GaussianNB, MultinomialNB, BernoulliNB \n",
    "from sklearn.decomposition import PCA"
   ]
  },
  {
   "cell_type": "code",
   "execution_count": 3,
   "metadata": {},
   "outputs": [],
   "source": [
    "TrnFlsPth=gb.glob(\"DTrain/*/*\")\n",
    "TstFlsPth=gb.glob(\"DTest/*/*\")"
   ]
  },
  {
   "cell_type": "code",
   "execution_count": 4,
   "metadata": {},
   "outputs": [],
   "source": [
    "Tr_lbl=[e.strip().split('\\\\')[1] for e in TrnFlsPth]\n",
    "Ts_lbl=[e.strip().split('\\\\')[1] for e in TstFlsPth]"
   ]
  },
  {
   "cell_type": "code",
   "execution_count": 5,
   "metadata": {},
   "outputs": [],
   "source": [
    "Y_Trn=pd.get_dummies(Tr_lbl)\n",
    "Y_Tst=pd.get_dummies(Ts_lbl)"
   ]
  },
  {
   "cell_type": "code",
   "execution_count": 6,
   "metadata": {},
   "outputs": [
    {
     "data": {
      "text/plain": [
       "False"
      ]
     },
     "execution_count": 6,
     "metadata": {},
     "output_type": "execute_result"
    }
   ],
   "source": [
    "fpt=[open(f) for f in TrnFlsPth]\n",
    "Trfob=[f.read().replace('\\n', ' ') for f in fpt]\n",
    "all(f.close() for f in fpt)"
   ]
  },
  {
   "cell_type": "code",
   "execution_count": 7,
   "metadata": {},
   "outputs": [],
   "source": [
    "fpt=[open(f) for f in TstFlsPth]\n",
    "Tsfob=[f.read().replace('\\n', ' ') for f in fpt]\n",
    "all(f.close() for f in fpt)\n",
    "fpt=None"
   ]
  },
  {
   "cell_type": "code",
   "execution_count": 8,
   "metadata": {},
   "outputs": [],
   "source": [
    "ps=PorterStemmer()\n",
    "Trfob_stm=[' '.join([ps.stem(word) for word in text.split(' ')]) for text in Trfob]\n",
    "Tsfob_stm=[' '.join([ps.stem(word) for word in text.split(' ')]) for text in Tsfob]"
   ]
  },
  {
   "cell_type": "code",
   "execution_count": 9,
   "metadata": {},
   "outputs": [],
   "source": [
    "lm=WordNetLemmatizer()\n",
    "Trfob_lmt=[' '.join([lm.lemmatize(word) for word in text.split(' ')]) for text in Trfob]\n",
    "Tsfob_lmt=[' '.join([lm.lemmatize(word) for word in text.split(' ')]) for text in Trfob]\n",
    "Trfob_lmt_stm=[' '.join([ps.stem(word) for word in text.split(' ')]) for text in Trfob_lmt]\n",
    "Tsfob_lmt_stm=[' '.join([ps.stem(word) for word in text.split(' ')]) for text in Trfob_lmt]"
   ]
  },
  {
   "cell_type": "code",
   "execution_count": 10,
   "metadata": {},
   "outputs": [],
   "source": [
    "vc=CountVectorizer(analyzer='word', binary=False, lowercase=True, max_df=10, min_df=1,\n",
    "                   stop_words='english')\n",
    "vc_ngm=CountVectorizer(analyzer='word', binary=False, lowercase=True, max_df=10, min_df=1,\n",
    "                   ngram_range=(1, 3), stop_words='english')\n",
    "idft=TfidfTransformer()\n",
    "idft_ngm=TfidfTransformer()"
   ]
  },
  {
   "cell_type": "code",
   "execution_count": 11,
   "metadata": {},
   "outputs": [],
   "source": [
    "TrDvcX=vc.fit_transform(Trfob_stm)\n",
    "TrDvc_ngmX=vc_ngm.fit_transform(Trfob_stm)\n",
    "TrDtvcX=idft.fit_transform(TrDvcX.toarray())\n",
    "TrDtvc_ngmX=idft_ngm.fit_transform(TrDvc_ngmX.toarray())"
   ]
  },
  {
   "cell_type": "code",
   "execution_count": 12,
   "metadata": {},
   "outputs": [],
   "source": [
    "TrDvc=pd.DataFrame(TrDvcX.toarray(), columns=vc.get_feature_names())\n",
    "TrDvc_ngm=pd.DataFrame(TrDvc_ngmX.toarray(), columns=vc_ngm.get_feature_names())\n",
    "TrDtvc=pd.DataFrame(TrDtvcX.toarray(), columns=vc.get_feature_names())\n",
    "TrDtvc_ngm=pd.DataFrame(TrDtvc_ngmX.toarray(), columns=vc_ngm.get_feature_names())"
   ]
  },
  {
   "cell_type": "code",
   "execution_count": 13,
   "metadata": {},
   "outputs": [
    {
     "name": "stdout",
     "output_type": "stream",
     "text": [
      "(499, 5175) (499, 89404) (499, 5175) (499, 89404)\n"
     ]
    }
   ],
   "source": [
    "print(TrDvc.shape, TrDvc_ngm.shape, TrDtvc.shape, TrDtvc_ngm.shape)"
   ]
  },
  {
   "cell_type": "code",
   "execution_count": null,
   "metadata": {},
   "outputs": [],
   "source": []
  },
  {
   "cell_type": "code",
   "execution_count": 14,
   "metadata": {},
   "outputs": [],
   "source": [
    "TsDvcX=vc.transform(Tsfob_stm)\n",
    "TsDtvcX=idft.transform(TsDvcX.toarray())\n",
    "TsDtvc=pd.DataFrame(TsDtvcX.toarray(), columns=vc.get_feature_names())\n",
    "TsDvc=pd.DataFrame(TsDvcX.toarray(), columns=vc.get_feature_names())"
   ]
  },
  {
   "cell_type": "code",
   "execution_count": 15,
   "metadata": {},
   "outputs": [
    {
     "name": "stdout",
     "output_type": "stream",
     "text": [
      "(185, 5175) (185, 5175)\n"
     ]
    }
   ],
   "source": [
    "print(TsDvc.shape,TsDtvc.shape)"
   ]
  },
  {
   "cell_type": "code",
   "execution_count": 16,
   "metadata": {},
   "outputs": [],
   "source": [
    "TsDvc_ngmX=vc_ngm.transform(Tsfob_stm)\n",
    "TsDvc_ngm=pd.DataFrame(TsDvc_ngmX.toarray(), columns=vc_ngm.get_feature_names())\n",
    "TsDtvc_ngmX=idft_ngm.transform(TsDvc_ngmX.toarray())\n",
    "TsDtvc_ngm=pd.DataFrame(TsDtvc_ngmX.toarray(), columns=vc_ngm.get_feature_names())"
   ]
  },
  {
   "cell_type": "code",
   "execution_count": 17,
   "metadata": {},
   "outputs": [
    {
     "name": "stdout",
     "output_type": "stream",
     "text": [
      "(185, 89404) (185, 89404)\n"
     ]
    }
   ],
   "source": [
    "print(TsDvc_ngm.shape, TsDtvc_ngm.shape)"
   ]
  },
  {
   "cell_type": "code",
   "execution_count": 18,
   "metadata": {},
   "outputs": [],
   "source": [
    "clf=MultinomialNB()"
   ]
  },
  {
   "cell_type": "code",
   "execution_count": 19,
   "metadata": {},
   "outputs": [
    {
     "data": {
      "text/plain": [
       "MultinomialNB(alpha=1.0, class_prior=None, fit_prior=True)"
      ]
     },
     "execution_count": 19,
     "metadata": {},
     "output_type": "execute_result"
    }
   ],
   "source": [
    "clf.fit(TrDtvc_ngm, Tr_lbl)"
   ]
  },
  {
   "cell_type": "code",
   "execution_count": 20,
   "metadata": {},
   "outputs": [],
   "source": [
    "y=clf.predict(TsDtvc_ngm)"
   ]
  },
  {
   "cell_type": "code",
   "execution_count": 21,
   "metadata": {},
   "outputs": [
    {
     "data": {
      "text/plain": [
       "0.3783783783783784"
      ]
     },
     "execution_count": 21,
     "metadata": {},
     "output_type": "execute_result"
    }
   ],
   "source": [
    "accuracy_score(Ts_lbl, y)"
   ]
  },
  {
   "cell_type": "code",
   "execution_count": 22,
   "metadata": {},
   "outputs": [],
   "source": [
    "lex=['0','00','000','0000']\n",
    "exstp=[fv for fv in TrDvc_ngm if(len(fv)<3)]\n",
    "stpwd=ENGLISH_STOP_WORDS.union(exstp,lex)"
   ]
  },
  {
   "cell_type": "code",
   "execution_count": 23,
   "metadata": {},
   "outputs": [],
   "source": [
    "clsf=BernoulliNB()"
   ]
  },
  {
   "cell_type": "code",
   "execution_count": 24,
   "metadata": {},
   "outputs": [],
   "source": [
    "doc_clf = Pipeline([('vect', vc), ('tfidf', idft), ('clf',clsf )])"
   ]
  },
  {
   "cell_type": "code",
   "execution_count": 25,
   "metadata": {},
   "outputs": [
    {
     "data": {
      "text/plain": [
       "Pipeline(memory=None,\n",
       "     steps=[('vect', CountVectorizer(analyzer='word', binary=False, decode_error='strict',\n",
       "        dtype=<class 'numpy.int64'>, encoding='utf-8', input='content',\n",
       "        lowercase=True, max_df=10, max_features=None, min_df=1,\n",
       "        ngram_range=(1, 1), preprocessor=None, stop_words='english',\n",
       "        s...se, use_idf=True)), ('clf', BernoulliNB(alpha=1.0, binarize=0.0, class_prior=None, fit_prior=True))])"
      ]
     },
     "execution_count": 25,
     "metadata": {},
     "output_type": "execute_result"
    }
   ],
   "source": [
    "doc_clf.fit(Trfob, Tr_lbl)"
   ]
  },
  {
   "cell_type": "code",
   "execution_count": 26,
   "metadata": {},
   "outputs": [],
   "source": [
    "y_pred=doc_clf.predict(Tsfob)"
   ]
  },
  {
   "cell_type": "code",
   "execution_count": 27,
   "metadata": {},
   "outputs": [
    {
     "data": {
      "text/plain": [
       "0.2972972972972973"
      ]
     },
     "execution_count": 27,
     "metadata": {},
     "output_type": "execute_result"
    }
   ],
   "source": [
    "accuracy_score(Ts_lbl, y_pred)"
   ]
  },
  {
   "cell_type": "code",
   "execution_count": 28,
   "metadata": {},
   "outputs": [],
   "source": [
    "CRT=TrDvc.corr()"
   ]
  },
  {
   "cell_type": "code",
   "execution_count": 29,
   "metadata": {},
   "outputs": [],
   "source": [
    "cCl=set()\n",
    "crCl=set()\n",
    "for cl in CRT:\n",
    "    lidx=CRT.index[(abs(CRT[cl])>0.7) & (CRT[cl]<1)].tolist()\n",
    "    for e in lidx:\n",
    "        cCl.add(e)\n",
    "        if((e, cl) not in crCl):\n",
    "            crCl.add((cl, e))            "
   ]
  },
  {
   "cell_type": "code",
   "execution_count": 30,
   "metadata": {},
   "outputs": [
    {
     "name": "stdout",
     "output_type": "stream",
     "text": [
      "29612 4415\n"
     ]
    }
   ],
   "source": [
    "print(len(crCl), len(cCl))"
   ]
  },
  {
   "cell_type": "code",
   "execution_count": 31,
   "metadata": {},
   "outputs": [],
   "source": [
    "for (a,b) in crCl:\n",
    "    if((b, a) in crCl):\n",
    "        print((a, b), (b, a))\n",
    "        break"
   ]
  },
  {
   "cell_type": "code",
   "execution_count": 32,
   "metadata": {},
   "outputs": [],
   "source": [
    "pcmp=PCA()"
   ]
  },
  {
   "cell_type": "code",
   "execution_count": 33,
   "metadata": {},
   "outputs": [
    {
     "data": {
      "text/plain": [
       "(499, 499)"
      ]
     },
     "execution_count": 33,
     "metadata": {},
     "output_type": "execute_result"
    }
   ],
   "source": [
    "#pcmp.fit(TrDtvc)\n",
    "tr=pcmp.fit_transform(TrDtvc)\n",
    "tr=pd.DataFrame(tr)\n",
    "for cl in tr:\n",
    "    mn=sum(tr[cl])/499\n",
    "    tr[cl]=[e+mn for e in tr[cl].values]\n",
    "    \n",
    "tr.shape"
   ]
  },
  {
   "cell_type": "code",
   "execution_count": 34,
   "metadata": {},
   "outputs": [
    {
     "data": {
      "text/plain": [
       "(185, 499)"
      ]
     },
     "execution_count": 34,
     "metadata": {},
     "output_type": "execute_result"
    }
   ],
   "source": [
    "ts=pd.DataFrame(pcmp.transform(TsDtvc))\n",
    "for cl in ts:\n",
    "    mn=sum(ts[cl])/185\n",
    "    for e in ts[cl].values:\n",
    "        e=e+mn\n",
    "ts.shape"
   ]
  },
  {
   "cell_type": "code",
   "execution_count": null,
   "metadata": {},
   "outputs": [],
   "source": [
    "scl=scale(X, axis=0, with_mean=True, with_std=False, copy=True)"
   ]
  },
  {
   "cell_type": "code",
   "execution_count": null,
   "metadata": {},
   "outputs": [],
   "source": [
    "tr=scl.fit_transform(tr)"
   ]
  },
  {
   "cell_type": "code",
   "execution_count": null,
   "metadata": {},
   "outputs": [],
   "source": []
  },
  {
   "cell_type": "code",
   "execution_count": null,
   "metadata": {},
   "outputs": [],
   "source": [
    "clf=MultinomialNB()"
   ]
  },
  {
   "cell_type": "code",
   "execution_count": null,
   "metadata": {},
   "outputs": [],
   "source": []
  },
  {
   "cell_type": "code",
   "execution_count": null,
   "metadata": {},
   "outputs": [],
   "source": []
  },
  {
   "cell_type": "code",
   "execution_count": null,
   "metadata": {},
   "outputs": [],
   "source": [
    "clf.fit(tr, Tr_lbl)"
   ]
  },
  {
   "cell_type": "code",
   "execution_count": null,
   "metadata": {},
   "outputs": [],
   "source": [
    "y=clf.predict(ts)"
   ]
  },
  {
   "cell_type": "code",
   "execution_count": null,
   "metadata": {},
   "outputs": [],
   "source": [
    "accuracy_score(Ts_lbl, y)"
   ]
  },
  {
   "cell_type": "code",
   "execution_count": null,
   "metadata": {},
   "outputs": [],
   "source": [
    "pcmp.get_params()"
   ]
  }
 ],
 "metadata": {
  "kernelspec": {
   "display_name": "Python 3",
   "language": "python",
   "name": "python3"
  },
  "language_info": {
   "codemirror_mode": {
    "name": "ipython",
    "version": 3
   },
   "file_extension": ".py",
   "mimetype": "text/x-python",
   "name": "python",
   "nbconvert_exporter": "python",
   "pygments_lexer": "ipython3",
   "version": "3.7.2"
  }
 },
 "nbformat": 4,
 "nbformat_minor": 2
}
