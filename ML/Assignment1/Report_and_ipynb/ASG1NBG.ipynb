{
 "cells": [
  {
   "cell_type": "code",
   "execution_count": 1,
   "metadata": {},
   "outputs": [],
   "source": [
    "import pandas as pd\n",
    "import glob as gb\n",
    "import matplotlib.pyplot as plt\n",
    "import seaborn as sb\n",
    "from sklearn.feature_extraction.text import ENGLISH_STOP_WORDS, CountVectorizer, TfidfTransformer\n",
    "from sklearn.preprocessing import LabelEncoder\n",
    "from nltk.stem import WordNetLemmatizer, PorterStemmer\n",
    "from sklearn.pipeline import Pipeline"
   ]
  },
  {
   "cell_type": "code",
   "execution_count": 2,
   "metadata": {},
   "outputs": [],
   "source": [
    "from sklearn.metrics import precision_score, recall_score, f1_score, confusion_matrix, accuracy_score\n",
    "from sklearn.model_selection import  RandomizedSearchCV\n",
    "from sklearn.model_selection import cross_val_score\n",
    "from sklearn.naive_bayes import GaussianNB"
   ]
  },
  {
   "cell_type": "code",
   "execution_count": 3,
   "metadata": {},
   "outputs": [],
   "source": [
    "TrnFlsPth=gb.glob(\"DTrain/*/*\")\n",
    "TstFlsPth=gb.glob(\"DTest/*/*\")"
   ]
  },
  {
   "cell_type": "code",
   "execution_count": 4,
   "metadata": {},
   "outputs": [
    {
     "name": "stdout",
     "output_type": "stream",
     "text": [
      "['alum', 'barley', 'coffee', 'dmk', 'fuel', 'livestock', 'palm-oil', 'retail', 'soybean', 'veg-oil'] \n",
      " ['alum', 'barley', 'coffee', 'dmk', 'fuel', 'livestock', 'palm-oil', 'retail', 'soybean', 'veg-oil']\n"
     ]
    }
   ],
   "source": [
    "Tr_lbl=[e.strip().split('\\\\')[1] for e in TrnFlsPth]\n",
    "Ts_lbl=[e.strip().split('\\\\')[1] for e in TstFlsPth]\n",
    "trl=[]\n",
    "a={trl.append(e) for e in Tr_lbl if(e not in trl)}\n",
    "tsl=[]\n",
    "a={tsl.append(e) for e in Ts_lbl if(e not in tsl)}\n",
    "a=None\n",
    "print(trl, '\\n', tsl)"
   ]
  },
  {
   "cell_type": "code",
   "execution_count": 5,
   "metadata": {},
   "outputs": [],
   "source": [
    "le =LabelEncoder()\n",
    "Y_Tr=le.fit_transform(Tr_lbl)\n",
    "Y_Ts=le.fit_transform(Ts_lbl)"
   ]
  },
  {
   "cell_type": "code",
   "execution_count": 6,
   "metadata": {},
   "outputs": [
    {
     "data": {
      "text/plain": [
       "False"
      ]
     },
     "execution_count": 6,
     "metadata": {},
     "output_type": "execute_result"
    }
   ],
   "source": [
    "fpt=[open(f) for f in TrnFlsPth]\n",
    "Trfob=[f.read().replace(\"\\\\\",'').replace('//',' ').replace('/',' ') for f in fpt]\n",
    "all(f.close() for f in fpt)"
   ]
  },
  {
   "cell_type": "code",
   "execution_count": 7,
   "metadata": {},
   "outputs": [],
   "source": [
    "fpt=[open(f) for f in TstFlsPth]\n",
    "Tsfob=[f.read().replace(\"\\\\\",'').replace('//',' ').replace('/',' ') for f in fpt]\n",
    "all(f.close() for f in fpt)\n",
    "fpt=None"
   ]
  },
  {
   "cell_type": "code",
   "execution_count": 8,
   "metadata": {},
   "outputs": [],
   "source": [
    "rd={'\\n':' ','<':' ','>':' ','(':' ',')':' ','[':' ',']':' ','{':' ','}':' ','?':' ',  \n",
    "    ':':' ', \",\":'','.':' ', '|':' ', '_':' ', '||':' '}\n",
    "#\\"
   ]
  },
  {
   "cell_type": "code",
   "execution_count": 9,
   "metadata": {},
   "outputs": [],
   "source": [
    "Trfob=[''.join([rd.get(c,c) for c in flob]) for flob in Trfob]\n",
    "Tsfob=[''.join([rd.get(c,c) for c in flob]) for flob in Tsfob]"
   ]
  },
  {
   "cell_type": "code",
   "execution_count": 10,
   "metadata": {},
   "outputs": [],
   "source": [
    "Trfob=[' '.join(flob.split()) for flob in Trfob]\n",
    "Tsfob=[' '.join(flob.split()) for flob in Tsfob]"
   ]
  },
  {
   "cell_type": "code",
   "execution_count": 11,
   "metadata": {},
   "outputs": [],
   "source": [
    "lm=WordNetLemmatizer()\n",
    "ps=PorterStemmer()\n",
    "Trfob=[' '.join([lm.lemmatize(word) for word in text.split(' ')]) for text in Trfob]\n",
    "Tsfob=[' '.join([lm.lemmatize(word) for word in text.split(' ')]) for text in Tsfob]\n",
    "Trfob=[' '.join([ps.stem(word) for word in text.split(' ')]) for text in Trfob]\n",
    "Tsfob=[' '.join([ps.stem(word) for word in text.split(' ')]) for text in Tsfob]"
   ]
  },
  {
   "cell_type": "code",
   "execution_count": 12,
   "metadata": {},
   "outputs": [
    {
     "data": {
      "text/plain": [
       "\"nippon light metal continu aluminium output cut tokyo march 2 - nippon light metal Co ltd nlgt T which ha annual capac of 63000 tonn will continu primari aluminium product at a rate of 35000 tonn owe to low domest and world price and low water suppli at it hydroelectr power plant a compani offici said nippon which ha no plan to restor output to the 48000 tonn a year at which it wa work until late 1986 will becom japan' onli smelter ryoka light metal industri ltd will stop smelt in april owe to high power cost and low price and mitsui aluminium Co ltd ha said it stop smelt in februari\""
      ]
     },
     "execution_count": 12,
     "metadata": {},
     "output_type": "execute_result"
    }
   ],
   "source": [
    "Trfob[0]"
   ]
  },
  {
   "cell_type": "code",
   "execution_count": 13,
   "metadata": {},
   "outputs": [],
   "source": [
    "vc=CountVectorizer(analyzer='word', binary=False, lowercase=True, max_df=0.3, min_df=1,\n",
    "                   ngram_range=(1, 1), stop_words='english')\n",
    "idft=TfidfTransformer()"
   ]
  },
  {
   "cell_type": "code",
   "execution_count": 14,
   "metadata": {},
   "outputs": [],
   "source": [
    "TrDvcX=vc.fit_transform(Trfob)\n",
    "TrDtvcX=idft.fit_transform(TrDvcX.toarray())\n",
    "###############\n",
    "TsDvcX=vc.transform(Tsfob)\n",
    "TsDtvcX=idft.transform(TsDvcX.toarray())"
   ]
  },
  {
   "cell_type": "code",
   "execution_count": 15,
   "metadata": {},
   "outputs": [],
   "source": [
    "TrDvc=pd.DataFrame(TrDvcX.toarray(), columns=vc.get_feature_names())\n",
    "TrDtvc=pd.DataFrame(TrDtvcX.toarray(), columns=vc.get_feature_names())\n",
    "###############\n",
    "TsDvc=pd.DataFrame(TsDvcX.toarray(), columns=vc.get_feature_names())\n",
    "TsDtvc=pd.DataFrame(TsDtvcX.toarray(), columns=vc.get_feature_names())"
   ]
  },
  {
   "cell_type": "code",
   "execution_count": 16,
   "metadata": {},
   "outputs": [
    {
     "name": "stdout",
     "output_type": "stream",
     "text": [
      "(499, 5694) (499, 5694) (185, 5694) (185, 5694)\n"
     ]
    }
   ],
   "source": [
    "print(TrDvc.shape, TrDtvc.shape, TsDvc.shape, TsDtvc.shape)"
   ]
  },
  {
   "cell_type": "code",
   "execution_count": 17,
   "metadata": {},
   "outputs": [
    {
     "data": {
      "text/plain": [
       "488"
      ]
     },
     "execution_count": 17,
     "metadata": {},
     "output_type": "execute_result"
    }
   ],
   "source": [
    "lex=['0','00','000','0000']\n",
    "exstp=[fv for fv in TrDtvc if(len(fv)<3)]\n",
    "stpwd=ENGLISH_STOP_WORDS.union(exstp,lex)\n",
    "len(stpwd)"
   ]
  },
  {
   "cell_type": "code",
   "execution_count": 18,
   "metadata": {},
   "outputs": [],
   "source": [
    "#########"
   ]
  },
  {
   "cell_type": "code",
   "execution_count": 19,
   "metadata": {},
   "outputs": [
    {
     "data": {
      "text/plain": [
       "GaussianNB(priors=None, var_smoothing=1e-09)"
      ]
     },
     "execution_count": 19,
     "metadata": {},
     "output_type": "execute_result"
    }
   ],
   "source": [
    "clfg=GaussianNB()\n",
    "clfg"
   ]
  },
  {
   "cell_type": "code",
   "execution_count": 20,
   "metadata": {},
   "outputs": [],
   "source": [
    "evlp=['Precision_micro','Recall_micro','Precision_macro','Recall_macro','f1_micro',\n",
    "     'f1_macro','Accuracy']\n",
    "confp=['max df','min df','ngram','idf','no. token']\n",
    "confg=[]\n",
    "prf=[]"
   ]
  },
  {
   "cell_type": "code",
   "execution_count": 21,
   "metadata": {},
   "outputs": [
    {
     "data": {
      "text/plain": [
       "GaussianNB(priors=None, var_smoothing=1e-09)"
      ]
     },
     "execution_count": 21,
     "metadata": {},
     "output_type": "execute_result"
    }
   ],
   "source": [
    "clfg.fit(TrDvc, Tr_lbl)"
   ]
  },
  {
   "cell_type": "code",
   "execution_count": 22,
   "metadata": {},
   "outputs": [
    {
     "name": "stdout",
     "output_type": "stream",
     "text": [
      "0.572972972972973 \n",
      " 0.572972972972973 \n",
      " 0.6259771344180481 \n",
      " 0.4926514642818991\n"
     ]
    },
    {
     "name": "stderr",
     "output_type": "stream",
     "text": [
      "c:\\python\\python37\\lib\\site-packages\\sklearn\\metrics\\classification.py:1143: UndefinedMetricWarning: Precision is ill-defined and being set to 0.0 in labels with no predicted samples.\n",
      "  'precision', 'predicted', average, warn_for)\n"
     ]
    }
   ],
   "source": [
    "y_pred=clfg.predict(TsDvc)\n",
    "a1=precision_score(Ts_lbl, y_pred, average='micro')\n",
    "a2=recall_score(Ts_lbl, y_pred, average='micro')\n",
    "a3=precision_score(Ts_lbl, y_pred, average='macro')\n",
    "a4=recall_score(Ts_lbl, y_pred, average='macro') \n",
    "print(a1,'\\n',a2,'\\n',a3,'\\n',a4)"
   ]
  },
  {
   "cell_type": "code",
   "execution_count": 23,
   "metadata": {},
   "outputs": [
    {
     "name": "stdout",
     "output_type": "stream",
     "text": [
      "0.572972972972973 \n",
      " 0.5220823114702808 \n",
      " 0.572972972972973\n"
     ]
    },
    {
     "name": "stderr",
     "output_type": "stream",
     "text": [
      "c:\\python\\python37\\lib\\site-packages\\sklearn\\metrics\\classification.py:1143: UndefinedMetricWarning: F-score is ill-defined and being set to 0.0 in labels with no predicted samples.\n",
      "  'precision', 'predicted', average, warn_for)\n"
     ]
    }
   ],
   "source": [
    "a5=f1_score(Ts_lbl, y_pred, average='micro')\n",
    "a6=f1_score(Ts_lbl, y_pred, average='macro')\n",
    "a7=accuracy_score(Ts_lbl, y_pred)\n",
    "print(a5,'\\n',a6,'\\n',a7)\n",
    "prf.append((round(a1,4),round(a2,4),round(a3,4),round(a4,4),round(a5,4),round(a6,4),\n",
    "              round(a7,4)))\n",
    "confg.append(('0.3','1',\"1 - 1\",'No','5694'))"
   ]
  },
  {
   "cell_type": "code",
   "execution_count": 24,
   "metadata": {},
   "outputs": [],
   "source": [
    "cm=confusion_matrix(Ts_lbl, y_pred)\n",
    "m=pd.DataFrame(cm, columns=tsl, index=tsl)"
   ]
  },
  {
   "cell_type": "code",
   "execution_count": 25,
   "metadata": {},
   "outputs": [
    {
     "data": {
      "image/png": "[encoded data removed]",
      "text/plain": [
       "<Figure size 504x504 with 2 Axes>"
      ]
     },
     "metadata": {
      "needs_background": "light"
     },
     "output_type": "display_data"
    }
   ],
   "source": [
    "plt.figure(figsize=(7,7))\n",
    "sb.set(font_scale=1.6)\n",
    "sb.heatmap(m, annot=True, cmap=\"YlGnBu\", linewidths=.5, annot_kws={\"size\": 18})\n",
    "plt.xlabel('Predicted Class')\n",
    "plt.ylabel('Actual Class')\n",
    "#plt.title('Confusion Matrix NBG_fig1')\n",
    "plt.savefig('Fig/NBGcm1.png', dpi=300, bbox_inches='tight', pad_inches=0.2)"
   ]
  },
  {
   "cell_type": "code",
   "execution_count": 26,
   "metadata": {},
   "outputs": [
    {
     "data": {
      "text/plain": [
       "GaussianNB(priors=None, var_smoothing=1e-09)"
      ]
     },
     "execution_count": 26,
     "metadata": {},
     "output_type": "execute_result"
    }
   ],
   "source": [
    "clfg.fit(TrDtvc, Tr_lbl) "
   ]
  },
  {
   "cell_type": "code",
   "execution_count": 27,
   "metadata": {},
   "outputs": [
    {
     "name": "stdout",
     "output_type": "stream",
     "text": [
      "0.5783783783783784 \n",
      " 0.5783783783783784 \n",
      " 0.6277330181823121 \n",
      " 0.49720569383612867\n"
     ]
    },
    {
     "name": "stderr",
     "output_type": "stream",
     "text": [
      "c:\\python\\python37\\lib\\site-packages\\sklearn\\metrics\\classification.py:1143: UndefinedMetricWarning: Precision is ill-defined and being set to 0.0 in labels with no predicted samples.\n",
      "  'precision', 'predicted', average, warn_for)\n"
     ]
    }
   ],
   "source": [
    "y_pred=clfg.predict(TsDtvc)\n",
    "a1=precision_score(Ts_lbl, y_pred, average='micro')\n",
    "a2=recall_score(Ts_lbl, y_pred, average='micro')\n",
    "a3=precision_score(Ts_lbl, y_pred, average='macro')\n",
    "a4=recall_score(Ts_lbl, y_pred, average='macro') \n",
    "print(a1,'\\n',a2,'\\n',a3,'\\n',a4)"
   ]
  },
  {
   "cell_type": "code",
   "execution_count": 28,
   "metadata": {},
   "outputs": [
    {
     "name": "stdout",
     "output_type": "stream",
     "text": [
      "0.5783783783783784 \n",
      " 0.524205303579532 \n",
      " 0.5783783783783784\n"
     ]
    },
    {
     "name": "stderr",
     "output_type": "stream",
     "text": [
      "c:\\python\\python37\\lib\\site-packages\\sklearn\\metrics\\classification.py:1143: UndefinedMetricWarning: F-score is ill-defined and being set to 0.0 in labels with no predicted samples.\n",
      "  'precision', 'predicted', average, warn_for)\n"
     ]
    }
   ],
   "source": [
    "a5=f1_score(Ts_lbl, y_pred, average='micro')\n",
    "a6=f1_score(Ts_lbl, y_pred, average='macro')\n",
    "a7=accuracy_score(Ts_lbl, y_pred)\n",
    "print(a5,'\\n',a6,'\\n',a7)\n",
    "prf.append((round(a1,4),round(a2,4),round(a3,4),round(a4,4),round(a5,4),round(a6,4),\n",
    "              round(a7,4)))\n",
    "confg.append(('0.3','1',\"1 - 1\",'Yes','5694'))"
   ]
  },
  {
   "cell_type": "code",
   "execution_count": 29,
   "metadata": {},
   "outputs": [],
   "source": [
    "cm=confusion_matrix(Ts_lbl, y_pred)\n",
    "m=pd.DataFrame(cm, columns=tsl, index=tsl)"
   ]
  },
  {
   "cell_type": "code",
   "execution_count": 30,
   "metadata": {},
   "outputs": [
    {
     "data": {
      "image/png": "[encoded data removed]",
      "text/plain": [
       "<Figure size 504x504 with 2 Axes>"
      ]
     },
     "metadata": {},
     "output_type": "display_data"
    }
   ],
   "source": [
    "plt.figure(figsize=(7,7))\n",
    "sb.set(font_scale=1.6)\n",
    "sb.heatmap(m, annot=True, cmap=\"YlGnBu\", linewidths=.5, fmt=\"d\", annot_kws={\"size\": 18})\n",
    "plt.xlabel('Predicted Class')\n",
    "plt.ylabel('Actual Class')\n",
    "plt.savefig('Fig/NBGcm2.png', dpi=300, bbox_inches='tight', pad_inches=0.2)"
   ]
  },
  {
   "cell_type": "code",
   "execution_count": 31,
   "metadata": {},
   "outputs": [
    {
     "data": {
      "text/html": [
       "<div>\n",
       "<style scoped>\n",
       "    .dataframe tbody tr th:only-of-type {\n",
       "        vertical-align: middle;\n",
       "    }\n",
       "\n",
       "    .dataframe tbody tr th {\n",
       "        vertical-align: top;\n",
       "    }\n",
       "\n",
       "    .dataframe thead th {\n",
       "        text-align: right;\n",
       "    }\n",
       "</style>\n",
       "<table border=\"1\" class=\"dataframe\">\n",
       "  <thead>\n",
       "    <tr style=\"text-align: right;\">\n",
       "      <th></th>\n",
       "      <th>max df</th>\n",
       "      <th>min df</th>\n",
       "      <th>ngram</th>\n",
       "      <th>idf</th>\n",
       "      <th>no. token</th>\n",
       "    </tr>\n",
       "  </thead>\n",
       "  <tbody>\n",
       "    <tr>\n",
       "      <th>0</th>\n",
       "      <td>0.3</td>\n",
       "      <td>1</td>\n",
       "      <td>1 - 1</td>\n",
       "      <td>No</td>\n",
       "      <td>5694</td>\n",
       "    </tr>\n",
       "    <tr>\n",
       "      <th>1</th>\n",
       "      <td>0.3</td>\n",
       "      <td>1</td>\n",
       "      <td>1 - 1</td>\n",
       "      <td>Yes</td>\n",
       "      <td>5694</td>\n",
       "    </tr>\n",
       "  </tbody>\n",
       "</table>\n",
       "</div>"
      ],
      "text/plain": [
       "  max df min df  ngram  idf no. token\n",
       "0    0.3      1  1 - 1   No      5694\n",
       "1    0.3      1  1 - 1  Yes      5694"
      ]
     },
     "execution_count": 31,
     "metadata": {},
     "output_type": "execute_result"
    }
   ],
   "source": [
    "stp=pd.DataFrame(confg, columns=confp)\n",
    "stp.to_csv('CSVOUT/NBGconf1.csv')\n",
    "stp"
   ]
  },
  {
   "cell_type": "code",
   "execution_count": 32,
   "metadata": {},
   "outputs": [
    {
     "data": {
      "image/png": "[encoded data removed]",
      "text/plain": [
       "<Figure size 720x144 with 2 Axes>"
      ]
     },
     "metadata": {},
     "output_type": "display_data"
    }
   ],
   "source": [
    "rsl=pd.DataFrame(prf, columns=evlp)\n",
    "rsl.to_csv('CSVOUT/NBGprf1.csv')\n",
    "plt.figure(figsize=(10,2))\n",
    "sb.set(font_scale=1.6)\n",
    "sb.heatmap(rsl, annot=True, cmap=\"YlGnBu\", linewidths=.5, fmt=\"g\", annot_kws={\"size\": 18})\n",
    "plt.xlabel('Performance')\n",
    "plt.ylabel('Configuration')\n",
    "#plt.title('Confusion Matrix NBG_fig2')\n",
    "plt.savefig('Fig/NBGprf1.png', dpi=300, bbox_inches='tight', pad_inches=0.2)"
   ]
  },
  {
   "cell_type": "code",
   "execution_count": 33,
   "metadata": {},
   "outputs": [],
   "source": [
    "#ruk ruk################"
   ]
  },
  {
   "cell_type": "code",
   "execution_count": 34,
   "metadata": {},
   "outputs": [
    {
     "data": {
      "text/plain": [
       "GaussianNB(priors=None, var_smoothing=1e-09)"
      ]
     },
     "execution_count": 34,
     "metadata": {},
     "output_type": "execute_result"
    }
   ],
   "source": [
    "prf=[]\n",
    "clsfv=GaussianNB()\n",
    "clsfv"
   ]
  },
  {
   "cell_type": "code",
   "execution_count": 35,
   "metadata": {},
   "outputs": [],
   "source": [
    "pipclf = Pipeline([('vct', vc), ('clf',clsfv)])#('idf', idft),"
   ]
  },
  {
   "cell_type": "code",
   "execution_count": 36,
   "metadata": {},
   "outputs": [],
   "source": [
    "mxd=[ 0.3, 0.35, 0.4]\n",
    "mid=[0.005,0.01, 0.05, 0.1,1]\n",
    "ngm=[(1,1),(1,2),(1,3),(2,5),(1,7),(1,9),(1,12)]\n",
    "#c=[0.005,0.05,0.1,0.15,0.2,0.3,1,2,7,9]"
   ]
  },
  {
   "cell_type": "code",
   "execution_count": 37,
   "metadata": {},
   "outputs": [],
   "source": [
    "pramg={\"vct__max_df\":mxd, \"vct__min_df\":mid, \"vct__ngram_range\":ngm,\n",
    "       \"vct__stop_words\":['english', stpwd]\n",
    "       }"
   ]
  },
  {
   "cell_type": "code",
   "execution_count": 38,
   "metadata": {},
   "outputs": [
    {
     "ename": "TypeError",
     "evalue": "A sparse matrix was passed, but dense data is required. Use X.toarray() to convert to a dense numpy array.",
     "output_type": "error",
     "traceback": [
      "\u001b[1;31m---------------------------------------------------------------------------\u001b[0m",
      "\u001b[1;31m_RemoteTraceback\u001b[0m                          Traceback (most recent call last)",
      "\u001b[1;31m_RemoteTraceback\u001b[0m: \n\"\"\"\nTraceback (most recent call last):\n  File \"c:\\python\\python37\\lib\\site-packages\\sklearn\\externals\\joblib\\externals\\loky\\process_executor.py\", line 418, in _process_worker\n    r = call_item()\n  File \"c:\\python\\python37\\lib\\site-packages\\sklearn\\externals\\joblib\\externals\\loky\\process_executor.py\", line 272, in __call__\n    return self.fn(*self.args, **self.kwargs)\n  File \"c:\\python\\python37\\lib\\site-packages\\sklearn\\externals\\joblib\\_parallel_backends.py\", line 567, in __call__\n    return self.func(*args, **kwargs)\n  File \"c:\\python\\python37\\lib\\site-packages\\sklearn\\externals\\joblib\\parallel.py\", line 225, in __call__\n    for func, args, kwargs in self.items]\n  File \"c:\\python\\python37\\lib\\site-packages\\sklearn\\externals\\joblib\\parallel.py\", line 225, in <listcomp>\n    for func, args, kwargs in self.items]\n  File \"c:\\python\\python37\\lib\\site-packages\\sklearn\\model_selection\\_validation.py\", line 528, in _fit_and_score\n    estimator.fit(X_train, y_train, **fit_params)\n  File \"c:\\python\\python37\\lib\\site-packages\\sklearn\\pipeline.py\", line 267, in fit\n    self._final_estimator.fit(Xt, y, **fit_params)\n  File \"c:\\python\\python37\\lib\\site-packages\\sklearn\\naive_bayes.py\", line 190, in fit\n    X, y = check_X_y(X, y)\n  File \"c:\\python\\python37\\lib\\site-packages\\sklearn\\utils\\validation.py\", line 756, in check_X_y\n    estimator=estimator)\n  File \"c:\\python\\python37\\lib\\site-packages\\sklearn\\utils\\validation.py\", line 517, in check_array\n    accept_large_sparse=accept_large_sparse)\n  File \"c:\\python\\python37\\lib\\site-packages\\sklearn\\utils\\validation.py\", line 318, in _ensure_sparse_format\n    raise TypeError('A sparse matrix was passed, but dense '\nTypeError: A sparse matrix was passed, but dense data is required. Use X.toarray() to convert to a dense numpy array.\n\"\"\"",
      "\nThe above exception was the direct cause of the following exception:\n",
      "\u001b[1;31mTypeError\u001b[0m                                 Traceback (most recent call last)",
      "\u001b[1;32m<ipython-input-38-710d99497526>\u001b[0m in \u001b[0;36m<module>\u001b[1;34m\u001b[0m\n\u001b[0;32m      2\u001b[0m                         return_train_score=True) \n\u001b[0;32m      3\u001b[0m \u001b[1;31m##f1_score(average='macro')\u001b[0m\u001b[1;33m\u001b[0m\u001b[1;33m\u001b[0m\u001b[1;33m\u001b[0m\u001b[0m\n\u001b[1;32m----> 4\u001b[1;33m \u001b[0mrCV\u001b[0m\u001b[1;33m.\u001b[0m\u001b[0mfit\u001b[0m\u001b[1;33m(\u001b[0m\u001b[0mTrfob\u001b[0m\u001b[1;33m,\u001b[0m \u001b[0mTr_lbl\u001b[0m\u001b[1;33m)\u001b[0m\u001b[1;33m\u001b[0m\u001b[1;33m\u001b[0m\u001b[0m\n\u001b[0m\u001b[0;32m      5\u001b[0m \u001b[0mclfrb\u001b[0m\u001b[1;33m=\u001b[0m\u001b[0mrCV\u001b[0m\u001b[1;33m.\u001b[0m\u001b[0mbest_estimator_\u001b[0m\u001b[1;33m\u001b[0m\u001b[1;33m\u001b[0m\u001b[0m\n",
      "\u001b[1;32mc:\\python\\python37\\lib\\site-packages\\sklearn\\model_selection\\_search.py\u001b[0m in \u001b[0;36mfit\u001b[1;34m(self, X, y, groups, **fit_params)\u001b[0m\n\u001b[0;32m    720\u001b[0m                 \u001b[1;32mreturn\u001b[0m \u001b[0mresults_container\u001b[0m\u001b[1;33m[\u001b[0m\u001b[1;36m0\u001b[0m\u001b[1;33m]\u001b[0m\u001b[1;33m\u001b[0m\u001b[1;33m\u001b[0m\u001b[0m\n\u001b[0;32m    721\u001b[0m \u001b[1;33m\u001b[0m\u001b[0m\n\u001b[1;32m--> 722\u001b[1;33m             \u001b[0mself\u001b[0m\u001b[1;33m.\u001b[0m\u001b[0m_run_search\u001b[0m\u001b[1;33m(\u001b[0m\u001b[0mevaluate_candidates\u001b[0m\u001b[1;33m)\u001b[0m\u001b[1;33m\u001b[0m\u001b[1;33m\u001b[0m\u001b[0m\n\u001b[0m\u001b[0;32m    723\u001b[0m \u001b[1;33m\u001b[0m\u001b[0m\n\u001b[0;32m    724\u001b[0m         \u001b[0mresults\u001b[0m \u001b[1;33m=\u001b[0m \u001b[0mresults_container\u001b[0m\u001b[1;33m[\u001b[0m\u001b[1;36m0\u001b[0m\u001b[1;33m]\u001b[0m\u001b[1;33m\u001b[0m\u001b[1;33m\u001b[0m\u001b[0m\n",
      "\u001b[1;32mc:\\python\\python37\\lib\\site-packages\\sklearn\\model_selection\\_search.py\u001b[0m in \u001b[0;36m_run_search\u001b[1;34m(self, evaluate_candidates)\u001b[0m\n\u001b[0;32m   1513\u001b[0m         evaluate_candidates(ParameterSampler(\n\u001b[0;32m   1514\u001b[0m             \u001b[0mself\u001b[0m\u001b[1;33m.\u001b[0m\u001b[0mparam_distributions\u001b[0m\u001b[1;33m,\u001b[0m \u001b[0mself\u001b[0m\u001b[1;33m.\u001b[0m\u001b[0mn_iter\u001b[0m\u001b[1;33m,\u001b[0m\u001b[1;33m\u001b[0m\u001b[1;33m\u001b[0m\u001b[0m\n\u001b[1;32m-> 1515\u001b[1;33m             random_state=self.random_state))\n\u001b[0m",
      "\u001b[1;32mc:\\python\\python37\\lib\\site-packages\\sklearn\\model_selection\\_search.py\u001b[0m in \u001b[0;36mevaluate_candidates\u001b[1;34m(candidate_params)\u001b[0m\n\u001b[0;32m    709\u001b[0m                                \u001b[1;32mfor\u001b[0m \u001b[0mparameters\u001b[0m\u001b[1;33m,\u001b[0m \u001b[1;33m(\u001b[0m\u001b[0mtrain\u001b[0m\u001b[1;33m,\u001b[0m \u001b[0mtest\u001b[0m\u001b[1;33m)\u001b[0m\u001b[1;33m\u001b[0m\u001b[1;33m\u001b[0m\u001b[0m\n\u001b[0;32m    710\u001b[0m                                in product(candidate_params,\n\u001b[1;32m--> 711\u001b[1;33m                                           cv.split(X, y, groups)))\n\u001b[0m\u001b[0;32m    712\u001b[0m \u001b[1;33m\u001b[0m\u001b[0m\n\u001b[0;32m    713\u001b[0m                 \u001b[0mall_candidate_params\u001b[0m\u001b[1;33m.\u001b[0m\u001b[0mextend\u001b[0m\u001b[1;33m(\u001b[0m\u001b[0mcandidate_params\u001b[0m\u001b[1;33m)\u001b[0m\u001b[1;33m\u001b[0m\u001b[1;33m\u001b[0m\u001b[0m\n",
      "\u001b[1;32mc:\\python\\python37\\lib\\site-packages\\sklearn\\externals\\joblib\\parallel.py\u001b[0m in \u001b[0;36m__call__\u001b[1;34m(self, iterable)\u001b[0m\n\u001b[0;32m    928\u001b[0m \u001b[1;33m\u001b[0m\u001b[0m\n\u001b[0;32m    929\u001b[0m             \u001b[1;32mwith\u001b[0m \u001b[0mself\u001b[0m\u001b[1;33m.\u001b[0m\u001b[0m_backend\u001b[0m\u001b[1;33m.\u001b[0m\u001b[0mretrieval_context\u001b[0m\u001b[1;33m(\u001b[0m\u001b[1;33m)\u001b[0m\u001b[1;33m:\u001b[0m\u001b[1;33m\u001b[0m\u001b[1;33m\u001b[0m\u001b[0m\n\u001b[1;32m--> 930\u001b[1;33m                 \u001b[0mself\u001b[0m\u001b[1;33m.\u001b[0m\u001b[0mretrieve\u001b[0m\u001b[1;33m(\u001b[0m\u001b[1;33m)\u001b[0m\u001b[1;33m\u001b[0m\u001b[1;33m\u001b[0m\u001b[0m\n\u001b[0m\u001b[0;32m    931\u001b[0m             \u001b[1;31m# Make sure that we get a last message telling us we are done\u001b[0m\u001b[1;33m\u001b[0m\u001b[1;33m\u001b[0m\u001b[1;33m\u001b[0m\u001b[0m\n\u001b[0;32m    932\u001b[0m             \u001b[0melapsed_time\u001b[0m \u001b[1;33m=\u001b[0m \u001b[0mtime\u001b[0m\u001b[1;33m.\u001b[0m\u001b[0mtime\u001b[0m\u001b[1;33m(\u001b[0m\u001b[1;33m)\u001b[0m \u001b[1;33m-\u001b[0m \u001b[0mself\u001b[0m\u001b[1;33m.\u001b[0m\u001b[0m_start_time\u001b[0m\u001b[1;33m\u001b[0m\u001b[1;33m\u001b[0m\u001b[0m\n",
      "\u001b[1;32mc:\\python\\python37\\lib\\site-packages\\sklearn\\externals\\joblib\\parallel.py\u001b[0m in \u001b[0;36mretrieve\u001b[1;34m(self)\u001b[0m\n\u001b[0;32m    831\u001b[0m             \u001b[1;32mtry\u001b[0m\u001b[1;33m:\u001b[0m\u001b[1;33m\u001b[0m\u001b[1;33m\u001b[0m\u001b[0m\n\u001b[0;32m    832\u001b[0m                 \u001b[1;32mif\u001b[0m \u001b[0mgetattr\u001b[0m\u001b[1;33m(\u001b[0m\u001b[0mself\u001b[0m\u001b[1;33m.\u001b[0m\u001b[0m_backend\u001b[0m\u001b[1;33m,\u001b[0m \u001b[1;34m'supports_timeout'\u001b[0m\u001b[1;33m,\u001b[0m \u001b[1;32mFalse\u001b[0m\u001b[1;33m)\u001b[0m\u001b[1;33m:\u001b[0m\u001b[1;33m\u001b[0m\u001b[1;33m\u001b[0m\u001b[0m\n\u001b[1;32m--> 833\u001b[1;33m                     \u001b[0mself\u001b[0m\u001b[1;33m.\u001b[0m\u001b[0m_output\u001b[0m\u001b[1;33m.\u001b[0m\u001b[0mextend\u001b[0m\u001b[1;33m(\u001b[0m\u001b[0mjob\u001b[0m\u001b[1;33m.\u001b[0m\u001b[0mget\u001b[0m\u001b[1;33m(\u001b[0m\u001b[0mtimeout\u001b[0m\u001b[1;33m=\u001b[0m\u001b[0mself\u001b[0m\u001b[1;33m.\u001b[0m\u001b[0mtimeout\u001b[0m\u001b[1;33m)\u001b[0m\u001b[1;33m)\u001b[0m\u001b[1;33m\u001b[0m\u001b[1;33m\u001b[0m\u001b[0m\n\u001b[0m\u001b[0;32m    834\u001b[0m                 \u001b[1;32melse\u001b[0m\u001b[1;33m:\u001b[0m\u001b[1;33m\u001b[0m\u001b[1;33m\u001b[0m\u001b[0m\n\u001b[0;32m    835\u001b[0m                     \u001b[0mself\u001b[0m\u001b[1;33m.\u001b[0m\u001b[0m_output\u001b[0m\u001b[1;33m.\u001b[0m\u001b[0mextend\u001b[0m\u001b[1;33m(\u001b[0m\u001b[0mjob\u001b[0m\u001b[1;33m.\u001b[0m\u001b[0mget\u001b[0m\u001b[1;33m(\u001b[0m\u001b[1;33m)\u001b[0m\u001b[1;33m)\u001b[0m\u001b[1;33m\u001b[0m\u001b[1;33m\u001b[0m\u001b[0m\n",
      "\u001b[1;32mc:\\python\\python37\\lib\\site-packages\\sklearn\\externals\\joblib\\_parallel_backends.py\u001b[0m in \u001b[0;36mwrap_future_result\u001b[1;34m(future, timeout)\u001b[0m\n\u001b[0;32m    519\u001b[0m         AsyncResults.get from multiprocessing.\"\"\"\n\u001b[0;32m    520\u001b[0m         \u001b[1;32mtry\u001b[0m\u001b[1;33m:\u001b[0m\u001b[1;33m\u001b[0m\u001b[1;33m\u001b[0m\u001b[0m\n\u001b[1;32m--> 521\u001b[1;33m             \u001b[1;32mreturn\u001b[0m \u001b[0mfuture\u001b[0m\u001b[1;33m.\u001b[0m\u001b[0mresult\u001b[0m\u001b[1;33m(\u001b[0m\u001b[0mtimeout\u001b[0m\u001b[1;33m=\u001b[0m\u001b[0mtimeout\u001b[0m\u001b[1;33m)\u001b[0m\u001b[1;33m\u001b[0m\u001b[1;33m\u001b[0m\u001b[0m\n\u001b[0m\u001b[0;32m    522\u001b[0m         \u001b[1;32mexcept\u001b[0m \u001b[0mLokyTimeoutError\u001b[0m\u001b[1;33m:\u001b[0m\u001b[1;33m\u001b[0m\u001b[1;33m\u001b[0m\u001b[0m\n\u001b[0;32m    523\u001b[0m             \u001b[1;32mraise\u001b[0m \u001b[0mTimeoutError\u001b[0m\u001b[1;33m(\u001b[0m\u001b[1;33m)\u001b[0m\u001b[1;33m\u001b[0m\u001b[1;33m\u001b[0m\u001b[0m\n",
      "\u001b[1;32mc:\\python\\python37\\lib\\concurrent\\futures\\_base.py\u001b[0m in \u001b[0;36mresult\u001b[1;34m(self, timeout)\u001b[0m\n\u001b[0;32m    430\u001b[0m                 \u001b[1;32mraise\u001b[0m \u001b[0mCancelledError\u001b[0m\u001b[1;33m(\u001b[0m\u001b[1;33m)\u001b[0m\u001b[1;33m\u001b[0m\u001b[1;33m\u001b[0m\u001b[0m\n\u001b[0;32m    431\u001b[0m             \u001b[1;32melif\u001b[0m \u001b[0mself\u001b[0m\u001b[1;33m.\u001b[0m\u001b[0m_state\u001b[0m \u001b[1;33m==\u001b[0m \u001b[0mFINISHED\u001b[0m\u001b[1;33m:\u001b[0m\u001b[1;33m\u001b[0m\u001b[1;33m\u001b[0m\u001b[0m\n\u001b[1;32m--> 432\u001b[1;33m                 \u001b[1;32mreturn\u001b[0m \u001b[0mself\u001b[0m\u001b[1;33m.\u001b[0m\u001b[0m__get_result\u001b[0m\u001b[1;33m(\u001b[0m\u001b[1;33m)\u001b[0m\u001b[1;33m\u001b[0m\u001b[1;33m\u001b[0m\u001b[0m\n\u001b[0m\u001b[0;32m    433\u001b[0m             \u001b[1;32melse\u001b[0m\u001b[1;33m:\u001b[0m\u001b[1;33m\u001b[0m\u001b[1;33m\u001b[0m\u001b[0m\n\u001b[0;32m    434\u001b[0m                 \u001b[1;32mraise\u001b[0m \u001b[0mTimeoutError\u001b[0m\u001b[1;33m(\u001b[0m\u001b[1;33m)\u001b[0m\u001b[1;33m\u001b[0m\u001b[1;33m\u001b[0m\u001b[0m\n",
      "\u001b[1;32mc:\\python\\python37\\lib\\concurrent\\futures\\_base.py\u001b[0m in \u001b[0;36m__get_result\u001b[1;34m(self)\u001b[0m\n\u001b[0;32m    382\u001b[0m     \u001b[1;32mdef\u001b[0m \u001b[0m__get_result\u001b[0m\u001b[1;33m(\u001b[0m\u001b[0mself\u001b[0m\u001b[1;33m)\u001b[0m\u001b[1;33m:\u001b[0m\u001b[1;33m\u001b[0m\u001b[1;33m\u001b[0m\u001b[0m\n\u001b[0;32m    383\u001b[0m         \u001b[1;32mif\u001b[0m \u001b[0mself\u001b[0m\u001b[1;33m.\u001b[0m\u001b[0m_exception\u001b[0m\u001b[1;33m:\u001b[0m\u001b[1;33m\u001b[0m\u001b[1;33m\u001b[0m\u001b[0m\n\u001b[1;32m--> 384\u001b[1;33m             \u001b[1;32mraise\u001b[0m \u001b[0mself\u001b[0m\u001b[1;33m.\u001b[0m\u001b[0m_exception\u001b[0m\u001b[1;33m\u001b[0m\u001b[1;33m\u001b[0m\u001b[0m\n\u001b[0m\u001b[0;32m    385\u001b[0m         \u001b[1;32melse\u001b[0m\u001b[1;33m:\u001b[0m\u001b[1;33m\u001b[0m\u001b[1;33m\u001b[0m\u001b[0m\n\u001b[0;32m    386\u001b[0m             \u001b[1;32mreturn\u001b[0m \u001b[0mself\u001b[0m\u001b[1;33m.\u001b[0m\u001b[0m_result\u001b[0m\u001b[1;33m\u001b[0m\u001b[1;33m\u001b[0m\u001b[0m\n",
      "\u001b[1;31mTypeError\u001b[0m: A sparse matrix was passed, but dense data is required. Use X.toarray() to convert to a dense numpy array."
     ]
    }
   ],
   "source": [
    "rCV=RandomizedSearchCV(pipclf, pramg, n_jobs=7, cv=10, scoring='f1_micro',\n",
    "                        return_train_score=True) \n",
    "##f1_score(average='macro')\n",
    "rCV.fit(Trfob, Tr_lbl)\n",
    "clfrb=rCV.best_estimator_"
   ]
  },
  {
   "cell_type": "code",
   "execution_count": null,
   "metadata": {},
   "outputs": [],
   "source": [
    "clfrb.named_steps"
   ]
  },
  {
   "cell_type": "code",
   "execution_count": null,
   "metadata": {},
   "outputs": [],
   "source": [
    "clfrb.fit(Trfob, Tr_lbl)\n",
    "y_pred=clfrb.predict(Tsfob) \n",
    "a1=precision_score(Ts_lbl, y_pred, average='micro')\n",
    "a2=recall_score(Ts_lbl, y_pred, average='micro')\n",
    "a3=precision_score(Ts_lbl, y_pred, average='macro')\n",
    "a4=recall_score(Ts_lbl, y_pred, average='macro') \n",
    "a5=f1_score(Ts_lbl, y_pred, average='micro')\n",
    "a6=f1_score(Ts_lbl, y_pred, average='macro')\n",
    "a7=accuracy_score(Ts_lbl, y_pred)\n",
    "print(a1,'\\n',a2,'\\n',a3,'\\n',a4,'\\n',a5,'\\n',a6,'\\n',a7)\n",
    "prf.append((round(a1,4),round(a2,4),round(a3,4),round(a4,4),round(a5,4),round(a6,4),\n",
    "              round(a7,4)))"
   ]
  },
  {
   "cell_type": "code",
   "execution_count": null,
   "metadata": {},
   "outputs": [],
   "source": [
    "rCV=RandomizedSearchCV(pipclf, pramg, n_jobs=7, cv=10, scoring='f1_micro',\n",
    "                        return_train_score=True) \n",
    "##f1_score(average='macro')\n",
    "rCV.fit(Trfob, Tr_lbl)\n",
    "clfrb=rCV.best_estimator_"
   ]
  },
  {
   "cell_type": "code",
   "execution_count": null,
   "metadata": {},
   "outputs": [],
   "source": [
    "clfrb.named_steps"
   ]
  },
  {
   "cell_type": "code",
   "execution_count": null,
   "metadata": {},
   "outputs": [],
   "source": [
    "clfrb.fit(Trfob, Tr_lbl)\n",
    "y_pred=clfrb.predict(Tsfob) \n",
    "a1=precision_score(Ts_lbl, y_pred, average='micro')\n",
    "a2=recall_score(Ts_lbl, y_pred, average='micro')\n",
    "a3=precision_score(Ts_lbl, y_pred, average='macro')\n",
    "a4=recall_score(Ts_lbl, y_pred, average='macro') \n",
    "a5=f1_score(Ts_lbl, y_pred, average='micro')\n",
    "a6=f1_score(Ts_lbl, y_pred, average='macro')\n",
    "a7=accuracy_score(Ts_lbl, y_pred)\n",
    "print(a1,'\\n',a2,'\\n',a3,'\\n',a4,'\\n',a5,'\\n',a6,'\\n',a7)\n",
    "prf.append((round(a1,4),round(a2,4),round(a3,4),round(a4,4),round(a5,4),round(a6,4),\n",
    "              round(a7,4)))"
   ]
  },
  {
   "cell_type": "code",
   "execution_count": null,
   "metadata": {},
   "outputs": [],
   "source": [
    "rCV=RandomizedSearchCV(pipclf, pramg, n_jobs=7, cv=10, scoring='f1_micro',\n",
    "                        return_train_score=True) \n",
    "##f1_score(average='macro')\n",
    "rCV.fit(Trfob, Tr_lbl)\n",
    "clfrb=rCV.best_estimator_"
   ]
  },
  {
   "cell_type": "code",
   "execution_count": null,
   "metadata": {},
   "outputs": [],
   "source": [
    "clfrb.named_steps"
   ]
  },
  {
   "cell_type": "code",
   "execution_count": null,
   "metadata": {},
   "outputs": [],
   "source": [
    "clfrb.fit(Trfob, Tr_lbl)\n",
    "y_pred=clfrb.predict(Tsfob) \n",
    "a1=precision_score(Ts_lbl, y_pred, average='micro')\n",
    "a2=recall_score(Ts_lbl, y_pred, average='micro')\n",
    "a3=precision_score(Ts_lbl, y_pred, average='macro')\n",
    "a4=recall_score(Ts_lbl, y_pred, average='macro') \n",
    "a5=f1_score(Ts_lbl, y_pred, average='micro')\n",
    "a6=f1_score(Ts_lbl, y_pred, average='macro')\n",
    "a7=accuracy_score(Ts_lbl, y_pred)\n",
    "print(a1,'\\n',a2,'\\n',a3,'\\n',a4,'\\n',a5,'\\n',a6,'\\n',a7)\n",
    "prf.append((round(a1,4),round(a2,4),round(a3,4),round(a4,4),round(a5,4),round(a6,4),\n",
    "              round(a7,4)))"
   ]
  },
  {
   "cell_type": "code",
   "execution_count": null,
   "metadata": {},
   "outputs": [],
   "source": [
    "#####ruk ruk############################"
   ]
  },
  {
   "cell_type": "code",
   "execution_count": null,
   "metadata": {},
   "outputs": [],
   "source": [
    "rsl=pd.DataFrame(prf, columns=evlp)\n",
    "rsl.to_csv('CSVOUT/NBGprf2.csv')\n",
    "plt.figure(figsize=(10,3))\n",
    "sb.set(font_scale=1.6)\n",
    "sb.heatmap(rsl, annot=True, cmap=\"YlGnBu\", linewidths=.5, fmt=\"g\", annot_kws={\"size\": 18})\n",
    "plt.xlabel('Performance')\n",
    "plt.ylabel('Configuration')\n",
    "#plt.title('Confusion Matrix NBG_fig2')\n",
    "plt.savefig('Fig/NBGprf2.png', dpi=300, bbox_inches='tight', pad_inches=0.2)"
   ]
  },
  {
   "cell_type": "code",
   "execution_count": null,
   "metadata": {},
   "outputs": [],
   "source": [
    "#ruk ruk ################ ruk ruk##########################################"
   ]
  },
  {
   "cell_type": "code",
   "execution_count": null,
   "metadata": {},
   "outputs": [],
   "source": [
    "prf=[]\n",
    "pipclf = Pipeline([('vct', vc), ('idf', idft), ('clf',clsfv)])#"
   ]
  },
  {
   "cell_type": "code",
   "execution_count": null,
   "metadata": {},
   "outputs": [],
   "source": [
    "pramg={\"vct__max_df\":mxd, \"vct__min_df\":mid, \"vct__ngram_range\":ngm,\n",
    "       \"vct__stop_words\":['english', stpwd]\n",
    "       }"
   ]
  },
  {
   "cell_type": "code",
   "execution_count": null,
   "metadata": {},
   "outputs": [],
   "source": [
    "rCV=RandomizedSearchCV(pipclf, pramg, n_jobs=7, cv=10, scoring='f1_micro',\n",
    "                        return_train_score=True) \n",
    "##f1_score(average='macro')\n",
    "rCV.fit(Trfob, Tr_lbl)\n",
    "clfrb=rCV.best_estimator_"
   ]
  },
  {
   "cell_type": "code",
   "execution_count": null,
   "metadata": {},
   "outputs": [],
   "source": [
    "clfrb.named_steps"
   ]
  },
  {
   "cell_type": "code",
   "execution_count": null,
   "metadata": {},
   "outputs": [],
   "source": [
    "clfrb.fit(Trfob, Tr_lbl)\n",
    "y_pred=clfrb.predict(Tsfob) \n",
    "a1=precision_score(Ts_lbl, y_pred, average='micro')\n",
    "a2=recall_score(Ts_lbl, y_pred, average='micro')\n",
    "a3=precision_score(Ts_lbl, y_pred, average='macro')\n",
    "a4=recall_score(Ts_lbl, y_pred, average='macro') \n",
    "a5=f1_score(Ts_lbl, y_pred, average='micro')\n",
    "a6=f1_score(Ts_lbl, y_pred, average='macro')\n",
    "a7=accuracy_score(Ts_lbl, y_pred)\n",
    "print(a1,'\\n',a2,'\\n',a3,'\\n',a4,'\\n',a5,'\\n',a6,'\\n',a7)\n",
    "prf.append((round(a1,4),round(a2,4),round(a3,4),round(a4,4),round(a5,4),round(a6,4),\n",
    "              round(a7,4)))"
   ]
  },
  {
   "cell_type": "code",
   "execution_count": null,
   "metadata": {},
   "outputs": [],
   "source": [
    "rCV=RandomizedSearchCV(pipclf, pramg, n_jobs=7, cv=10, scoring='f1_micro',\n",
    "                        return_train_score=True) \n",
    "##f1_score(average='macro')\n",
    "rCV.fit(Trfob, Tr_lbl)\n",
    "clfrb=rCV.best_estimator_"
   ]
  },
  {
   "cell_type": "code",
   "execution_count": null,
   "metadata": {},
   "outputs": [],
   "source": [
    "clfrb.named_steps"
   ]
  },
  {
   "cell_type": "code",
   "execution_count": null,
   "metadata": {},
   "outputs": [],
   "source": [
    "clfrb.fit(Trfob, Tr_lbl)\n",
    "y_pred=clfrb.predict(Tsfob) \n",
    "a1=precision_score(Ts_lbl, y_pred, average='micro')\n",
    "a2=recall_score(Ts_lbl, y_pred, average='micro')\n",
    "a3=precision_score(Ts_lbl, y_pred, average='macro')\n",
    "a4=recall_score(Ts_lbl, y_pred, average='macro') \n",
    "a5=f1_score(Ts_lbl, y_pred, average='micro')\n",
    "a6=f1_score(Ts_lbl, y_pred, average='macro')\n",
    "a7=accuracy_score(Ts_lbl, y_pred)\n",
    "print(a1,'\\n',a2,'\\n',a3,'\\n',a4,'\\n',a5,'\\n',a6,'\\n',a7)\n",
    "prf.append((round(a1,4),round(a2,4),round(a3,4),round(a4,4),round(a5,4),round(a6,4),\n",
    "              round(a7,4)))"
   ]
  },
  {
   "cell_type": "code",
   "execution_count": null,
   "metadata": {},
   "outputs": [],
   "source": [
    "rCV=RandomizedSearchCV(pipclf, pramg, n_jobs=7, cv=10, scoring='f1_macro',\n",
    "                        return_train_score=True) \n",
    "##f1_score(average='macro')\n",
    "rCV.fit(Trfob, Tr_lbl)\n",
    "clfrb=rCV.best_estimator_\n",
    "clfrb.named_steps"
   ]
  },
  {
   "cell_type": "code",
   "execution_count": null,
   "metadata": {},
   "outputs": [],
   "source": [
    "clfrb.named_steps"
   ]
  },
  {
   "cell_type": "code",
   "execution_count": null,
   "metadata": {},
   "outputs": [],
   "source": [
    "clfrb.fit(Trfob, Tr_lbl)\n",
    "y_pred=clfrb.predict(Tsfob) \n",
    "a1=precision_score(Ts_lbl, y_pred, average='micro')\n",
    "a2=recall_score(Ts_lbl, y_pred, average='micro')\n",
    "a3=precision_score(Ts_lbl, y_pred, average='macro')\n",
    "a4=recall_score(Ts_lbl, y_pred, average='macro') \n",
    "a5=f1_score(Ts_lbl, y_pred, average='micro')\n",
    "a6=f1_score(Ts_lbl, y_pred, average='macro')\n",
    "a7=accuracy_score(Ts_lbl, y_pred)\n",
    "print(a1,'\\n',a2,'\\n',a3,'\\n',a4,'\\n',a5,'\\n',a6,'\\n',a7)\n",
    "prf.append((round(a1,4),round(a2,4),round(a3,4),round(a4,4),round(a5,4),round(a6,4),\n",
    "              round(a7,4)))"
   ]
  },
  {
   "cell_type": "code",
   "execution_count": null,
   "metadata": {},
   "outputs": [],
   "source": [
    "rCV=RandomizedSearchCV(pipclf, pramg, n_jobs=7, cv=10, scoring='f1_macro',\n",
    "                        return_train_score=True) \n",
    "##f1_score(average='macro')\n",
    "rCV.fit(Trfob, Tr_lbl)\n",
    "clfrb=rCV.best_estimator_\n",
    "clfrb.named_steps"
   ]
  },
  {
   "cell_type": "code",
   "execution_count": null,
   "metadata": {},
   "outputs": [],
   "source": [
    "clfrb.named_steps"
   ]
  },
  {
   "cell_type": "code",
   "execution_count": null,
   "metadata": {},
   "outputs": [],
   "source": [
    "clfrb.fit(Trfob, Tr_lbl)\n",
    "y_pred=clfrb.predict(Tsfob) \n",
    "a1=precision_score(Ts_lbl, y_pred, average='micro')\n",
    "a2=recall_score(Ts_lbl, y_pred, average='micro')\n",
    "a3=precision_score(Ts_lbl, y_pred, average='macro')\n",
    "a4=recall_score(Ts_lbl, y_pred, average='macro') \n",
    "a5=f1_score(Ts_lbl, y_pred, average='micro')\n",
    "a6=f1_score(Ts_lbl, y_pred, average='macro')\n",
    "a7=accuracy_score(Ts_lbl, y_pred)\n",
    "print(a1,'\\n',a2,'\\n',a3,'\\n',a4,'\\n',a5,'\\n',a6,'\\n',a7)\n",
    "prf.append((round(a1,4),round(a2,4),round(a3,4),round(a4,4),round(a5,4),round(a6,4),\n",
    "              round(a7,4)))"
   ]
  },
  {
   "cell_type": "code",
   "execution_count": null,
   "metadata": {},
   "outputs": [],
   "source": [
    "rCV=RandomizedSearchCV(pipclf, pramg, n_jobs=7, cv=10, scoring='f1_micro',\n",
    "                        return_train_score=True) \n",
    "##f1_score(average='macro')\n",
    "rCV.fit(Trfob, Tr_lbl)\n",
    "clfrb=rCV.best_estimator_"
   ]
  },
  {
   "cell_type": "code",
   "execution_count": null,
   "metadata": {},
   "outputs": [],
   "source": [
    "clfrb.named_steps"
   ]
  },
  {
   "cell_type": "code",
   "execution_count": null,
   "metadata": {},
   "outputs": [],
   "source": [
    "clfrb.fit(Trfob, Tr_lbl)\n",
    "y_pred=clfrb.predict(Tsfob) \n",
    "a1=precision_score(Ts_lbl, y_pred, average='micro')\n",
    "a2=recall_score(Ts_lbl, y_pred, average='micro')\n",
    "a3=precision_score(Ts_lbl, y_pred, average='macro')\n",
    "a4=recall_score(Ts_lbl, y_pred, average='macro') \n",
    "a5=f1_score(Ts_lbl, y_pred, average='micro')\n",
    "a6=f1_score(Ts_lbl, y_pred, average='macro')\n",
    "a7=accuracy_score(Ts_lbl, y_pred)\n",
    "print(a1,'\\n',a2,'\\n',a3,'\\n',a4,'\\n',a5,'\\n',a6,'\\n',a7)\n",
    "prf.append((round(a1,4),round(a2,4),round(a3,4),round(a4,4),round(a5,4),round(a6,4),\n",
    "              round(a7,4)))"
   ]
  },
  {
   "cell_type": "code",
   "execution_count": null,
   "metadata": {},
   "outputs": [],
   "source": [
    "rsl=pd.DataFrame(prf, columns=evlp)\n",
    "rsl.to_csv('CSVOUT/NBGprf3.csv')\n",
    "plt.figure(figsize=(10,3))\n",
    "sb.set(font_scale=1.6)\n",
    "sb.heatmap(rsl, annot=True, cmap=\"YlGnBu\", linewidths=.5, fmt=\"g\", annot_kws={\"size\": 18})\n",
    "plt.xlabel('Performance')\n",
    "plt.ylabel('Configuration')\n",
    "#plt.title('Confusion Matrix NBG_fig2')\n",
    "plt.savefig('Fig/NBGprf3.png', dpi=300, bbox_inches='tight', pad_inches=0.2)"
   ]
  },
  {
   "cell_type": "code",
   "execution_count": null,
   "metadata": {},
   "outputs": [],
   "source": [
    "###############################################"
   ]
  },
  {
   "cell_type": "code",
   "execution_count": null,
   "metadata": {},
   "outputs": [],
   "source": [
    "evlp=['Precision_micro','Recall_micro','Precision_macro','Recall_macro','f1_micro',\n",
    "     'f1_macro','Accuracy']\n",
    "confp=['max df','min df','ngram','idf','no. token','alpha']\n",
    "confg=[]\n",
    "prf=[]"
   ]
  },
  {
   "cell_type": "code",
   "execution_count": null,
   "metadata": {},
   "outputs": [],
   "source": [
    "vc1=CountVectorizer(analyzer='word', binary=False, lowercase=True, max_df=0.4, min_df=0.01,\n",
    "                   ngram_range=(1, 2), stop_words=stpwd)\n",
    "idft1=TfidfTransformer()"
   ]
  },
  {
   "cell_type": "code",
   "execution_count": null,
   "metadata": {},
   "outputs": [],
   "source": [
    "TrDX=vc1.fit_transform(Trfob)\n",
    "TrDtX=idft1.fit_transform(TrDX.toarray())\n",
    "###############\n",
    "TsDX=vc1.transform(Tsfob)\n",
    "TsDtX=idft1.transform(TsDX.toarray())"
   ]
  },
  {
   "cell_type": "code",
   "execution_count": null,
   "metadata": {},
   "outputs": [],
   "source": [
    "TrD=pd.DataFrame(TrDX.toarray(), columns=vc1.get_feature_names())\n",
    "TrDt=pd.DataFrame(TrDtX.toarray(), columns=vc1.get_feature_names())\n",
    "###############\n",
    "TsD=pd.DataFrame(TsDX.toarray(), columns=vc1.get_feature_names())\n",
    "TsDt=pd.DataFrame(TsDtX.toarray(), columns=vc1.get_feature_names())"
   ]
  },
  {
   "cell_type": "code",
   "execution_count": null,
   "metadata": {},
   "outputs": [],
   "source": [
    "print(TrD.shape, TrDt.shape, TsD.shape, TsDt.shape)"
   ]
  },
  {
   "cell_type": "code",
   "execution_count": null,
   "metadata": {},
   "outputs": [],
   "source": [
    "clfg=GaussianNB()"
   ]
  },
  {
   "cell_type": "code",
   "execution_count": null,
   "metadata": {},
   "outputs": [],
   "source": [
    "clfg.fit(TrD, Tr_lbl)"
   ]
  },
  {
   "cell_type": "code",
   "execution_count": null,
   "metadata": {},
   "outputs": [],
   "source": [
    "y_pred=clfg.predict(TsD)\n",
    "a1=precision_score(Ts_lbl, y_pred, average='micro')\n",
    "a2=recall_score(Ts_lbl, y_pred, average='micro')\n",
    "a3=precision_score(Ts_lbl, y_pred, average='macro')\n",
    "a4=recall_score(Ts_lbl, y_pred, average='macro') \n",
    "a5=f1_score(Ts_lbl, y_pred, average='micro')\n",
    "a6=f1_score(Ts_lbl, y_pred, average='macro')\n",
    "a7=accuracy_score(Ts_lbl, y_pred)\n",
    "print(a1,'\\n',a2,'\\n',a3,'\\n',a4,'\\n',a5,'\\n',a6,'\\n',a7)"
   ]
  },
  {
   "cell_type": "code",
   "execution_count": null,
   "metadata": {},
   "outputs": [],
   "source": [
    "prf.append((round(a1,4),round(a2,4),round(a3,4),round(a4,4),round(a5,4),round(a6,4),round(a7,4)))\n",
    "confg.append(('0.4','0.01',\"1 - 2\",'No','2734'))"
   ]
  },
  {
   "cell_type": "code",
   "execution_count": null,
   "metadata": {},
   "outputs": [],
   "source": [
    "clfg.fit(TrDt, Tr_lbl)"
   ]
  },
  {
   "cell_type": "code",
   "execution_count": null,
   "metadata": {},
   "outputs": [],
   "source": [
    "y_pred=clfg.predict(TsDt)\n",
    "a1=precision_score(Ts_lbl, y_pred, average='micro')\n",
    "a2=recall_score(Ts_lbl, y_pred, average='micro')\n",
    "a3=precision_score(Ts_lbl, y_pred, average='macro')\n",
    "a4=recall_score(Ts_lbl, y_pred, average='macro') \n",
    "a5=f1_score(Ts_lbl, y_pred, average='micro')\n",
    "a6=f1_score(Ts_lbl, y_pred, average='macro')\n",
    "a7=accuracy_score(Ts_lbl, y_pred)\n",
    "print(a1,'\\n',a2,'\\n',a3,'\\n',a4,'\\n',a5,'\\n',a6,'\\n',a7)"
   ]
  },
  {
   "cell_type": "code",
   "execution_count": null,
   "metadata": {},
   "outputs": [],
   "source": [
    "prf.append((round(a1,4),round(a2,4),round(a3,4),round(a4,4),round(a5,4),round(a6,4),round(a7,4)))\n",
    "confg.append(('0.4','0.01',\"1 - 2\",'Yes','2734'))"
   ]
  },
  {
   "cell_type": "code",
   "execution_count": null,
   "metadata": {},
   "outputs": [],
   "source": [
    "cm=confusion_matrix(Ts_lbl, y_pred)\n",
    "m=pd.DataFrame(cm, columns=tsl, index=tsl)\n",
    "plt.figure(figsize=(7,7))\n",
    "sb.set(font_scale=1.6)\n",
    "sb.heatmap(m, annot=True, cmap=\"YlGnBu\", linewidths=.5, annot_kws={\"size\": 18})\n",
    "plt.xlabel('Predicted Class')\n",
    "plt.ylabel('Actual Class')\n",
    "#plt.title('Confusion Matrix NBG_fig1')\n",
    "plt.savefig('Fig/NBGcm3.png', dpi=300, bbox_inches='tight', pad_inches=0.2)"
   ]
  },
  {
   "cell_type": "code",
   "execution_count": null,
   "metadata": {},
   "outputs": [],
   "source": [
    "stp=pd.DataFrame(confg, columns=confp)\n",
    "stp.to_csv('CSVOUT/NBGconf2.csv')\n",
    "stp"
   ]
  },
  {
   "cell_type": "code",
   "execution_count": null,
   "metadata": {},
   "outputs": [],
   "source": [
    "rsl=pd.DataFrame(prf, columns=evlp)\n",
    "rsl.to_csv('CSVOUT/NBGprf4.csv')\n",
    "plt.figure(figsize=(10,2))\n",
    "sb.set(font_scale=1.6)\n",
    "sb.heatmap(rsl, annot=True, cmap=\"YlGnBu\", linewidths=.5, fmt=\"g\", annot_kws={\"size\": 18})\n",
    "plt.xlabel('Performance')\n",
    "plt.ylabel('Configuration')\n",
    "#plt.title('Confusion Matrix NBG_fig2')\n",
    "plt.savefig('Fig/NBGprf4.png', dpi=300, bbox_inches='tight', pad_inches=0.2)"
   ]
  },
  {
   "cell_type": "code",
   "execution_count": null,
   "metadata": {},
   "outputs": [],
   "source": [
    "#ruk#################ruk"
   ]
  },
  {
   "cell_type": "code",
   "execution_count": null,
   "metadata": {},
   "outputs": [],
   "source": [
    "cvp=['1','2','3','4','5','6','7','8','9','10','Average','metric','cv fold']\n",
    "cvs=[]\n",
    "clf_crs=cross_val_score(clfg, TsD, Ts_lbl, cv=10, scoring='f1_micro')\n",
    "sr1=[round(e,4) for e in clf_crs]\n",
    "a1=(sum(clf_crs)/10)\n",
    "sr1.append(a1)\n",
    "sr1.append('f1 micro')\n",
    "sr1.append('10')\n",
    "print(sr1,'\\n','Average Score :',a1)\n",
    "clf_crs=cross_val_score(clfg, TsD, Ts_lbl, cv=10, scoring='f1_macro')\n",
    "sr2=[round(e,4) for e in clf_crs]\n",
    "a2=(sum(clf_crs)/10)\n",
    "sr2.append(a2)\n",
    "sr2.append('f1 macro')\n",
    "sr2.append('10')\n",
    "print(sr2,'\\n','Average Score :',a2)\n",
    "cvs.append(sr1)\n",
    "cvs.append(sr2)\n",
    "rsl=pd.DataFrame(cvs, columns=cvp)\n",
    "rsl.to_csv('CSVOUT/NBGcvpf110.csv')\n",
    "rsl\n",
    "#print(len(sr1),len(sr2))"
   ]
  },
  {
   "cell_type": "code",
   "execution_count": null,
   "metadata": {},
   "outputs": [],
   "source": [
    "cvp=['1','2','3','4','5','6','7','8','9','10','Average','metric','cv fold']\n",
    "cvs=[]\n",
    "clf_crs=cross_val_score(clfg, TrDt, Tr_lbl, cv=10, scoring='f1_micro')\n",
    "sr1=[round(e,4) for e in clf_crs]\n",
    "a1=(sum(clf_crs)/10)\n",
    "sr1.append(a1)\n",
    "sr1.append('f1 micro')\n",
    "sr1.append('10')\n",
    "print(sr1,'\\n','Average Score :',a1)\n",
    "clf_crs=cross_val_score(clfg, TrDt, Tr_lbl, cv=10, scoring='f1_macro')\n",
    "sr2=[round(e,4) for e in clf_crs]\n",
    "a2=(sum(clf_crs)/10)\n",
    "sr2.append(a2)\n",
    "sr2.append('f1 macro')\n",
    "sr2.append('10')\n",
    "print(sr2,'\\n','Average Score :',a2)\n",
    "cvs.append(sr1)\n",
    "cvs.append(sr2)\n",
    "rsl=pd.DataFrame(cvs, columns=cvp)\n",
    "rsl.to_csv('CSVOUT/NBGcvpf110t.csv')\n",
    "rsl\n",
    "#print(len(sr1),len(sr2))"
   ]
  },
  {
   "cell_type": "code",
   "execution_count": null,
   "metadata": {},
   "outputs": [],
   "source": [
    "cvp=['1','2','3','4','5','6','7','8','9','10','11','12','13','14','15','16','17','18','19','20',\n",
    "    'Average','metric','cv fold']\n",
    "cvs=[]\n",
    "clf_crs=cross_val_score(clfg, TrDt, Tr_lbl, cv=20, scoring='f1_micro')\n",
    "sr1=[round(e,4) for e in clf_crs]\n",
    "a1=(sum(clf_crs)/20)\n",
    "sr1.append(a1)\n",
    "sr1.append('f1 micro')\n",
    "sr1.append('20')\n",
    "print(sr1,'\\n','Average Score :',a1)\n",
    "clf_crs=cross_val_score(clfg, TrDt, Tr_lbl, cv=20, scoring='f1_macro')\n",
    "sr2=[round(e,4) for e in clf_crs]\n",
    "a2=(sum(clf_crs)/20)\n",
    "sr2.append(a2)\n",
    "sr2.append('f1 macro')\n",
    "sr2.append('20')\n",
    "print(sr2,'\\n','Average Score :',a2)\n",
    "cvs.append(sr1)\n",
    "cvs.append(sr2)\n",
    "rsl=pd.DataFrame(cvs, columns=cvp)\n",
    "rsl.to_csv('CSVOUT/NBGcvpf120.csv')\n",
    "rsl\n",
    "#print(len(sr1),len(sr2))"
   ]
  }
 ],
 "metadata": {
  "kernelspec": {
   "display_name": "Python 3",
   "language": "python",
   "name": "python3"
  },
  "language_info": {
   "codemirror_mode": {
    "name": "ipython",
    "version": 3
   },
   "file_extension": ".py",
   "mimetype": "text/x-python",
   "name": "python",
   "nbconvert_exporter": "python",
   "pygments_lexer": "ipython3",
   "version": "3.7.2"
  }
 },
 "nbformat": 4,
 "nbformat_minor": 2
}
