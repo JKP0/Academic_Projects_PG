{
 "cells": [
  {
   "cell_type": "code",
   "execution_count": 1,
   "metadata": {},
   "outputs": [],
   "source": [
    "import pandas as pd\n",
    "import glob as gb\n",
    "import matplotlib.pyplot as plt\n",
    "import seaborn as sb\n",
    "from sklearn.feature_extraction.text import ENGLISH_STOP_WORDS, CountVectorizer, TfidfTransformer\n",
    "from sklearn.preprocessing import LabelEncoder\n",
    "from nltk.stem import WordNetLemmatizer, PorterStemmer\n",
    "from sklearn.pipeline import Pipeline\n",
    "from sklearn.decomposition import PCA"
   ]
  },
  {
   "cell_type": "code",
   "execution_count": 2,
   "metadata": {},
   "outputs": [],
   "source": [
    "from sklearn.metrics import precision_score, recall_score, f1_score, confusion_matrix, accuracy_score\n",
    "from sklearn.model_selection import  RandomizedSearchCV\n",
    "from sklearn.model_selection import cross_val_score\n",
    "from sklearn.naive_bayes import MultinomialNB"
   ]
  },
  {
   "cell_type": "code",
   "execution_count": 3,
   "metadata": {},
   "outputs": [],
   "source": [
    "TrnFlsPth=gb.glob(\"DTrain/*/*\")\n",
    "TstFlsPth=gb.glob(\"DTest/*/*\")"
   ]
  },
  {
   "cell_type": "code",
   "execution_count": 4,
   "metadata": {},
   "outputs": [
    {
     "name": "stdout",
     "output_type": "stream",
     "text": [
      "['alum', 'barley', 'coffee', 'dmk', 'fuel', 'livestock', 'palm-oil', 'retail', 'soybean', 'veg-oil'] \n",
      " ['alum', 'barley', 'coffee', 'dmk', 'fuel', 'livestock', 'palm-oil', 'retail', 'soybean', 'veg-oil']\n"
     ]
    }
   ],
   "source": [
    "Tr_lbl=[e.strip().split('\\\\')[1] for e in TrnFlsPth]\n",
    "Ts_lbl=[e.strip().split('\\\\')[1] for e in TstFlsPth]\n",
    "trl=[]\n",
    "a={trl.append(e) for e in Tr_lbl if(e not in trl)}\n",
    "tsl=[]\n",
    "a={tsl.append(e) for e in Ts_lbl if(e not in tsl)}\n",
    "a=None\n",
    "print(trl, '\\n', tsl)"
   ]
  },
  {
   "cell_type": "code",
   "execution_count": 5,
   "metadata": {},
   "outputs": [],
   "source": [
    "le =LabelEncoder()\n",
    "Y_Tr=le.fit_transform(Tr_lbl)\n",
    "Y_Ts=le.fit_transform(Ts_lbl)"
   ]
  },
  {
   "cell_type": "code",
   "execution_count": 6,
   "metadata": {},
   "outputs": [
    {
     "data": {
      "text/plain": [
       "False"
      ]
     },
     "execution_count": 6,
     "metadata": {},
     "output_type": "execute_result"
    }
   ],
   "source": [
    "fpt=[open(f) for f in TrnFlsPth]\n",
    "Trfob=[f.read().replace(\"\\\\\",'').replace('//',' ').replace('/',' ') for f in fpt]\n",
    "all(f.close() for f in fpt)"
   ]
  },
  {
   "cell_type": "code",
   "execution_count": 7,
   "metadata": {},
   "outputs": [],
   "source": [
    "fpt=[open(f) for f in TstFlsPth]\n",
    "Tsfob=[f.read().replace(\"\\\\\",'').replace('//',' ').replace('/',' ') for f in fpt]\n",
    "all(f.close() for f in fpt)\n",
    "fpt=None"
   ]
  },
  {
   "cell_type": "code",
   "execution_count": 8,
   "metadata": {},
   "outputs": [],
   "source": [
    "rd={'\\n':' ','<':' ','>':' ','(':' ',')':' ','[':' ',']':' ','{':' ','}':' ','?':' ',  \n",
    "    ':':' ', \",\":'','.':' ', '|':' ', '_':' ', '||':' '}\n",
    "#\\"
   ]
  },
  {
   "cell_type": "code",
   "execution_count": 9,
   "metadata": {},
   "outputs": [],
   "source": [
    "Trfob=[''.join([rd.get(c,c) for c in flob]) for flob in Trfob]\n",
    "Tsfob=[''.join([rd.get(c,c) for c in flob]) for flob in Tsfob]"
   ]
  },
  {
   "cell_type": "code",
   "execution_count": 10,
   "metadata": {},
   "outputs": [],
   "source": [
    "Trfob=[' '.join(flob.split()) for flob in Trfob]\n",
    "Tsfob=[' '.join(flob.split()) for flob in Tsfob]"
   ]
  },
  {
   "cell_type": "code",
   "execution_count": 11,
   "metadata": {},
   "outputs": [],
   "source": [
    "lm=WordNetLemmatizer()\n",
    "ps=PorterStemmer()\n",
    "Trfob=[' '.join([lm.lemmatize(word) for word in text.split(' ')]) for text in Trfob]\n",
    "Tsfob=[' '.join([lm.lemmatize(word) for word in text.split(' ')]) for text in Tsfob]\n",
    "Trfob=[' '.join([ps.stem(word) for word in text.split(' ')]) for text in Trfob]\n",
    "Tsfob=[' '.join([ps.stem(word) for word in text.split(' ')]) for text in Tsfob]"
   ]
  },
  {
   "cell_type": "code",
   "execution_count": 12,
   "metadata": {},
   "outputs": [
    {
     "data": {
      "text/plain": [
       "\"nippon light metal continu aluminium output cut tokyo march 2 - nippon light metal Co ltd nlgt T which ha annual capac of 63000 tonn will continu primari aluminium product at a rate of 35000 tonn owe to low domest and world price and low water suppli at it hydroelectr power plant a compani offici said nippon which ha no plan to restor output to the 48000 tonn a year at which it wa work until late 1986 will becom japan' onli smelter ryoka light metal industri ltd will stop smelt in april owe to high power cost and low price and mitsui aluminium Co ltd ha said it stop smelt in februari\""
      ]
     },
     "execution_count": 12,
     "metadata": {},
     "output_type": "execute_result"
    }
   ],
   "source": [
    "Trfob[0]"
   ]
  },
  {
   "cell_type": "code",
   "execution_count": 13,
   "metadata": {},
   "outputs": [],
   "source": [
    "vc=CountVectorizer(analyzer='word', binary=False, lowercase=True, max_df=0.3, min_df=1,\n",
    "                   ngram_range=(1, 1), stop_words='english')\n",
    "idft=TfidfTransformer()"
   ]
  },
  {
   "cell_type": "code",
   "execution_count": 14,
   "metadata": {},
   "outputs": [],
   "source": [
    "TrDvcX=vc.fit_transform(Trfob)\n",
    "TrDtvcX=idft.fit_transform(TrDvcX.toarray())\n",
    "###############\n",
    "TsDvcX=vc.transform(Tsfob)\n",
    "TsDtvcX=idft.transform(TsDvcX.toarray())"
   ]
  },
  {
   "cell_type": "code",
   "execution_count": 15,
   "metadata": {},
   "outputs": [],
   "source": [
    "TrDvc=pd.DataFrame(TrDvcX.toarray(), columns=vc.get_feature_names())\n",
    "TrDtvc=pd.DataFrame(TrDtvcX.toarray(), columns=vc.get_feature_names())\n",
    "###############\n",
    "TsDvc=pd.DataFrame(TsDvcX.toarray(), columns=vc.get_feature_names())\n",
    "TsDtvc=pd.DataFrame(TsDtvcX.toarray(), columns=vc.get_feature_names())"
   ]
  },
  {
   "cell_type": "code",
   "execution_count": 16,
   "metadata": {},
   "outputs": [
    {
     "name": "stdout",
     "output_type": "stream",
     "text": [
      "(499, 5694) (499, 5694) (185, 5694) (185, 5694)\n"
     ]
    }
   ],
   "source": [
    "print(TrDvc.shape, TrDtvc.shape, TsDvc.shape, TsDtvc.shape)"
   ]
  },
  {
   "cell_type": "code",
   "execution_count": 17,
   "metadata": {},
   "outputs": [
    {
     "data": {
      "text/plain": [
       "488"
      ]
     },
     "execution_count": 17,
     "metadata": {},
     "output_type": "execute_result"
    }
   ],
   "source": [
    "lex=['0','00','000','0000']\n",
    "exstp=[fv for fv in TrDtvc if(len(fv)<3)]\n",
    "stpwd=ENGLISH_STOP_WORDS.union(exstp,lex)\n",
    "len(stpwd)"
   ]
  },
  {
   "cell_type": "code",
   "execution_count": 18,
   "metadata": {},
   "outputs": [],
   "source": [
    "#########"
   ]
  },
  {
   "cell_type": "code",
   "execution_count": 19,
   "metadata": {},
   "outputs": [
    {
     "data": {
      "text/plain": [
       "MultinomialNB(alpha=1.0, class_prior=None, fit_prior=True)"
      ]
     },
     "execution_count": 19,
     "metadata": {},
     "output_type": "execute_result"
    }
   ],
   "source": [
    "clfm=MultinomialNB()\n",
    "clfm"
   ]
  },
  {
   "cell_type": "code",
   "execution_count": 20,
   "metadata": {},
   "outputs": [],
   "source": [
    "evlp=['Precision_micro','Recall_micro','Precision_macro','Recall_macro','f1_micro',\n",
    "     'f1_macro','Accuracy']\n",
    "confp=['max df','min df','ngram','idf','no. token','alpha']\n",
    "confg=[]\n",
    "prf=[]"
   ]
  },
  {
   "cell_type": "code",
   "execution_count": 21,
   "metadata": {},
   "outputs": [
    {
     "data": {
      "text/plain": [
       "MultinomialNB(alpha=1.0, class_prior=None, fit_prior=True)"
      ]
     },
     "execution_count": 21,
     "metadata": {},
     "output_type": "execute_result"
    }
   ],
   "source": [
    "clfm.fit(TrDvc, Tr_lbl)"
   ]
  },
  {
   "cell_type": "code",
   "execution_count": 22,
   "metadata": {},
   "outputs": [
    {
     "name": "stdout",
     "output_type": "stream",
     "text": [
      "0.6918918918918919 \n",
      " 0.6918918918918919 \n",
      " 0.8102548515314473 \n",
      " 0.6374228435098002\n"
     ]
    }
   ],
   "source": [
    "y_pred=clfm.predict(TsDvc)\n",
    "a1=precision_score(Ts_lbl, y_pred, average='micro')\n",
    "a2=recall_score(Ts_lbl, y_pred, average='micro')\n",
    "a3=precision_score(Ts_lbl, y_pred, average='macro')\n",
    "a4=recall_score(Ts_lbl, y_pred, average='macro') \n",
    "print(a1,'\\n',a2,'\\n',a3,'\\n',a4)"
   ]
  },
  {
   "cell_type": "code",
   "execution_count": 23,
   "metadata": {},
   "outputs": [
    {
     "name": "stdout",
     "output_type": "stream",
     "text": [
      "0.6918918918918919 \n",
      " 0.6773704141185954 \n",
      " 0.6918918918918919\n"
     ]
    }
   ],
   "source": [
    "a5=f1_score(Ts_lbl, y_pred, average='micro')\n",
    "a6=f1_score(Ts_lbl, y_pred, average='macro')\n",
    "a7=accuracy_score(Ts_lbl, y_pred)\n",
    "print(a5,'\\n',a6,'\\n',a7)\n",
    "prf.append((round(a1,4),round(a2,4),round(a3,4),round(a4,4),round(a5,4),round(a6,4),\n",
    "              round(a7,4)))\n",
    "confg.append(('0.3','1',\"1 - 1\",'No','5694','1'))"
   ]
  },
  {
   "cell_type": "code",
   "execution_count": 24,
   "metadata": {},
   "outputs": [],
   "source": [
    "cm=confusion_matrix(Ts_lbl, y_pred)\n",
    "m=pd.DataFrame(cm, columns=tsl, index=tsl)"
   ]
  },
  {
   "cell_type": "code",
   "execution_count": 25,
   "metadata": {},
   "outputs": [
    {
     "data": {
      "image/png": "[encoded data removed]",
      "text/plain": [
       "<Figure size 504x504 with 2 Axes>"
      ]
     },
     "metadata": {
      "needs_background": "light"
     },
     "output_type": "display_data"
    }
   ],
   "source": [
    "plt.figure(figsize=(7,7))\n",
    "sb.set(font_scale=1.6)\n",
    "sb.heatmap(m, annot=True, cmap=\"YlGnBu\", linewidths=.5, annot_kws={\"size\": 18})\n",
    "plt.xlabel('Predicted Class')\n",
    "plt.ylabel('Actual Class')\n",
    "#plt.title('Confusion Matrix NBM_fig1')\n",
    "plt.savefig('Fig/NBMcm1.png', dpi=300, bbox_inches='tight', pad_inches=0.2)"
   ]
  },
  {
   "cell_type": "code",
   "execution_count": 26,
   "metadata": {},
   "outputs": [
    {
     "data": {
      "text/plain": [
       "MultinomialNB(alpha=1.0, class_prior=None, fit_prior=True)"
      ]
     },
     "execution_count": 26,
     "metadata": {},
     "output_type": "execute_result"
    }
   ],
   "source": [
    "clfm.fit(TrDtvc, Tr_lbl) "
   ]
  },
  {
   "cell_type": "code",
   "execution_count": 27,
   "metadata": {},
   "outputs": [
    {
     "name": "stdout",
     "output_type": "stream",
     "text": [
      "0.5081081081081081 \n",
      " 0.5081081081081081 \n",
      " 0.42944098927077656 \n",
      " 0.33005987353813443\n"
     ]
    },
    {
     "name": "stderr",
     "output_type": "stream",
     "text": [
      "c:\\python\\python37\\lib\\site-packages\\sklearn\\metrics\\classification.py:1143: UndefinedMetricWarning: Precision is ill-defined and being set to 0.0 in labels with no predicted samples.\n",
      "  'precision', 'predicted', average, warn_for)\n"
     ]
    }
   ],
   "source": [
    "y_pred=clfm.predict(TsDtvc)\n",
    "a1=precision_score(Ts_lbl, y_pred, average='micro')\n",
    "a2=recall_score(Ts_lbl, y_pred, average='micro')\n",
    "a3=precision_score(Ts_lbl, y_pred, average='macro')\n",
    "a4=recall_score(Ts_lbl, y_pred, average='macro') \n",
    "print(a1,'\\n',a2,'\\n',a3,'\\n',a4)"
   ]
  },
  {
   "cell_type": "code",
   "execution_count": 28,
   "metadata": {},
   "outputs": [
    {
     "name": "stdout",
     "output_type": "stream",
     "text": [
      "0.5081081081081081 \n",
      " 0.30389858951586085 \n",
      " 0.5081081081081081\n"
     ]
    },
    {
     "name": "stderr",
     "output_type": "stream",
     "text": [
      "c:\\python\\python37\\lib\\site-packages\\sklearn\\metrics\\classification.py:1143: UndefinedMetricWarning: F-score is ill-defined and being set to 0.0 in labels with no predicted samples.\n",
      "  'precision', 'predicted', average, warn_for)\n"
     ]
    }
   ],
   "source": [
    "a5=f1_score(Ts_lbl, y_pred, average='micro')\n",
    "a6=f1_score(Ts_lbl, y_pred, average='macro')\n",
    "a7=accuracy_score(Ts_lbl, y_pred)\n",
    "print(a5,'\\n',a6,'\\n',a7)\n",
    "prf.append((round(a1,4),round(a2,4),round(a3,4),round(a4,4),round(a5,4),round(a6,4),\n",
    "              round(a7,4)))\n",
    "confg.append(('0.3','1',\"1 - 1\",'Yes','5694','1'))"
   ]
  },
  {
   "cell_type": "code",
   "execution_count": 29,
   "metadata": {},
   "outputs": [],
   "source": [
    "cm=confusion_matrix(Ts_lbl, y_pred)\n",
    "m=pd.DataFrame(cm, columns=tsl, index=tsl)"
   ]
  },
  {
   "cell_type": "code",
   "execution_count": 30,
   "metadata": {},
   "outputs": [
    {
     "data": {
      "image/png": "[encoded data removed]",
      "text/plain": [
       "<Figure size 504x504 with 2 Axes>"
      ]
     },
     "metadata": {},
     "output_type": "display_data"
    }
   ],
   "source": [
    "plt.figure(figsize=(7,7))\n",
    "sb.set(font_scale=1.6)\n",
    "sb.heatmap(m, annot=True, cmap=\"YlGnBu\", linewidths=.5, fmt=\"d\", annot_kws={\"size\": 18})\n",
    "plt.xlabel('Predicted Class')\n",
    "plt.ylabel('Actual Class')\n",
    "plt.savefig('Fig/NBMcm2.png', dpi=300, bbox_inches='tight', pad_inches=0.2)"
   ]
  },
  {
   "cell_type": "code",
   "execution_count": 31,
   "metadata": {},
   "outputs": [
    {
     "data": {
      "text/html": [
       "<div>\n",
       "<style scoped>\n",
       "    .dataframe tbody tr th:only-of-type {\n",
       "        vertical-align: middle;\n",
       "    }\n",
       "\n",
       "    .dataframe tbody tr th {\n",
       "        vertical-align: top;\n",
       "    }\n",
       "\n",
       "    .dataframe thead th {\n",
       "        text-align: right;\n",
       "    }\n",
       "</style>\n",
       "<table border=\"1\" class=\"dataframe\">\n",
       "  <thead>\n",
       "    <tr style=\"text-align: right;\">\n",
       "      <th></th>\n",
       "      <th>max df</th>\n",
       "      <th>min df</th>\n",
       "      <th>ngram</th>\n",
       "      <th>idf</th>\n",
       "      <th>no. token</th>\n",
       "      <th>alpha</th>\n",
       "    </tr>\n",
       "  </thead>\n",
       "  <tbody>\n",
       "    <tr>\n",
       "      <th>0</th>\n",
       "      <td>0.3</td>\n",
       "      <td>1</td>\n",
       "      <td>1 - 1</td>\n",
       "      <td>No</td>\n",
       "      <td>5694</td>\n",
       "      <td>1</td>\n",
       "    </tr>\n",
       "    <tr>\n",
       "      <th>1</th>\n",
       "      <td>0.3</td>\n",
       "      <td>1</td>\n",
       "      <td>1 - 1</td>\n",
       "      <td>Yes</td>\n",
       "      <td>5694</td>\n",
       "      <td>1</td>\n",
       "    </tr>\n",
       "  </tbody>\n",
       "</table>\n",
       "</div>"
      ],
      "text/plain": [
       "  max df min df  ngram  idf no. token alpha\n",
       "0    0.3      1  1 - 1   No      5694     1\n",
       "1    0.3      1  1 - 1  Yes      5694     1"
      ]
     },
     "execution_count": 31,
     "metadata": {},
     "output_type": "execute_result"
    }
   ],
   "source": [
    "stp=pd.DataFrame(confg, columns=confp)\n",
    "stp.to_csv('CSVOUT/NBMconf1.csv')\n",
    "stp"
   ]
  },
  {
   "cell_type": "code",
   "execution_count": 32,
   "metadata": {},
   "outputs": [
    {
     "data": {
      "image/png": "[encoded data removed]",
      "text/plain": [
       "<Figure size 720x144 with 2 Axes>"
      ]
     },
     "metadata": {},
     "output_type": "display_data"
    }
   ],
   "source": [
    "rsl=pd.DataFrame(prf, columns=evlp)\n",
    "rsl.to_csv('CSVOUT/NBMprf1.csv')\n",
    "plt.figure(figsize=(10,2))\n",
    "sb.set(font_scale=1.6)\n",
    "sb.heatmap(rsl, annot=True, cmap=\"YlGnBu\", linewidths=.5, fmt=\"g\", annot_kws={\"size\": 18})\n",
    "plt.xlabel('Performance')\n",
    "plt.ylabel('Configuration')\n",
    "#plt.title('Confusion Matrix NBM_fig2')\n",
    "plt.savefig('Fig/NBMprf1.png', dpi=300, bbox_inches='tight', pad_inches=0.2)"
   ]
  },
  {
   "cell_type": "code",
   "execution_count": 33,
   "metadata": {},
   "outputs": [],
   "source": [
    "#ruk ruk################"
   ]
  },
  {
   "cell_type": "code",
   "execution_count": 34,
   "metadata": {},
   "outputs": [
    {
     "data": {
      "text/plain": [
       "MultinomialNB(alpha=1.0, class_prior=None, fit_prior=True)"
      ]
     },
     "execution_count": 34,
     "metadata": {},
     "output_type": "execute_result"
    }
   ],
   "source": [
    "prf=[]\n",
    "clsfv=MultinomialNB()\n",
    "clsfv"
   ]
  },
  {
   "cell_type": "code",
   "execution_count": 35,
   "metadata": {},
   "outputs": [],
   "source": [
    "pipclf = Pipeline([('vct', vc), ('clf',clsfv)])#('idf', idft),"
   ]
  },
  {
   "cell_type": "code",
   "execution_count": 36,
   "metadata": {},
   "outputs": [],
   "source": [
    "mxd=[ 0.3, 0.35, 0.4]\n",
    "mid=[0.005,0.01, 0.05, 0.1,1]\n",
    "ngm=[(1,1),(1,2),(1,3),(2,5),(1,7),(1,9),(1,12)]\n",
    "c=[0.005,0.05,0.1,0.15,0.2,0.3,1,2,7,9]"
   ]
  },
  {
   "cell_type": "code",
   "execution_count": 37,
   "metadata": {},
   "outputs": [],
   "source": [
    "pramg={\"vct__max_df\":mxd, \"vct__min_df\":mid, \"vct__ngram_range\":ngm,\n",
    "       \"vct__stop_words\":['english', stpwd],\n",
    "       \"clf__alpha\":c\n",
    "       }"
   ]
  },
  {
   "cell_type": "code",
   "execution_count": 38,
   "metadata": {},
   "outputs": [
    {
     "name": "stderr",
     "output_type": "stream",
     "text": [
      "c:\\python\\python37\\lib\\site-packages\\sklearn\\model_selection\\_search.py:841: DeprecationWarning: The default of the `iid` parameter will change from True to False in version 0.22 and will be removed in 0.24. This will change numeric results when test-set sizes are unequal.\n",
      "  DeprecationWarning)\n"
     ]
    }
   ],
   "source": [
    "rCV=RandomizedSearchCV(pipclf, pramg, n_jobs=7, cv=10, scoring='f1_micro',\n",
    "                        return_train_score=True) \n",
    "##f1_score(average='macro')\n",
    "rCV.fit(Trfob, Tr_lbl)\n",
    "clfrb=rCV.best_estimator_"
   ]
  },
  {
   "cell_type": "code",
   "execution_count": 39,
   "metadata": {},
   "outputs": [
    {
     "data": {
      "text/plain": [
       "{'vct': CountVectorizer(analyzer='word', binary=False, decode_error='strict',\n",
       "         dtype=<class 'numpy.int64'>, encoding='utf-8', input='content',\n",
       "         lowercase=True, max_df=0.3, max_features=None, min_df=0.01,\n",
       "         ngram_range=(1, 2), preprocessor=None,\n",
       "         stop_words=frozenset({'since', 'several', 'ad', 'la', 'pa', 'whereupon', 'two', 'moreover', 'have', 'yourself', '85', 'almost', '63', 'ours', '81', 'whoever', 'within', 'whether', 'which', '69', 'whom', 'hers', 'lo', 'ky', 'now', 'because', 'neither', 'indeed', 'from', 'same', 'ye', 'yet', 'thin', '...22', '13', '90', 'nv', 'own', 'up', 'it', 'sixty', 'sometimes', '53', '79', 'together', 'bi', '80'}),\n",
       "         strip_accents=None, token_pattern='(?u)\\\\b\\\\w\\\\w+\\\\b',\n",
       "         tokenizer=None, vocabulary=None),\n",
       " 'clf': MultinomialNB(alpha=1, class_prior=None, fit_prior=True)}"
      ]
     },
     "execution_count": 39,
     "metadata": {},
     "output_type": "execute_result"
    }
   ],
   "source": [
    "clfrb.named_steps"
   ]
  },
  {
   "cell_type": "code",
   "execution_count": 40,
   "metadata": {},
   "outputs": [
    {
     "name": "stdout",
     "output_type": "stream",
     "text": [
      "0.7027027027027027 \n",
      " 0.7027027027027027 \n",
      " 0.7088852813852815 \n",
      " 0.6692931921192791 \n",
      " 0.7027027027027027 \n",
      " 0.6466558441558442 \n",
      " 0.7027027027027027\n"
     ]
    }
   ],
   "source": [
    "clfrb.fit(Trfob, Tr_lbl)\n",
    "y_pred=clfrb.predict(Tsfob) \n",
    "a1=precision_score(Ts_lbl, y_pred, average='micro')\n",
    "a2=recall_score(Ts_lbl, y_pred, average='micro')\n",
    "a3=precision_score(Ts_lbl, y_pred, average='macro')\n",
    "a4=recall_score(Ts_lbl, y_pred, average='macro') \n",
    "a5=f1_score(Ts_lbl, y_pred, average='micro')\n",
    "a6=f1_score(Ts_lbl, y_pred, average='macro')\n",
    "a7=accuracy_score(Ts_lbl, y_pred)\n",
    "print(a1,'\\n',a2,'\\n',a3,'\\n',a4,'\\n',a5,'\\n',a6,'\\n',a7)\n",
    "prf.append((round(a1,4),round(a2,4),round(a3,4),round(a4,4),round(a5,4),round(a6,4),\n",
    "              round(a7,4)))"
   ]
  },
  {
   "cell_type": "code",
   "execution_count": 41,
   "metadata": {},
   "outputs": [
    {
     "name": "stderr",
     "output_type": "stream",
     "text": [
      "c:\\python\\python37\\lib\\site-packages\\sklearn\\model_selection\\_search.py:841: DeprecationWarning: The default of the `iid` parameter will change from True to False in version 0.22 and will be removed in 0.24. This will change numeric results when test-set sizes are unequal.\n",
      "  DeprecationWarning)\n"
     ]
    }
   ],
   "source": [
    "rCV=RandomizedSearchCV(pipclf, pramg, n_jobs=7, cv=10, scoring='f1_micro',\n",
    "                        return_train_score=True) \n",
    "##f1_score(average='macro')\n",
    "rCV.fit(Trfob, Tr_lbl)\n",
    "clfrb=rCV.best_estimator_"
   ]
  },
  {
   "cell_type": "code",
   "execution_count": 42,
   "metadata": {},
   "outputs": [
    {
     "data": {
      "text/plain": [
       "{'vct': CountVectorizer(analyzer='word', binary=False, decode_error='strict',\n",
       "         dtype=<class 'numpy.int64'>, encoding='utf-8', input='content',\n",
       "         lowercase=True, max_df=0.3, max_features=None, min_df=0.005,\n",
       "         ngram_range=(1, 1), preprocessor=None,\n",
       "         stop_words=frozenset({'since', 'several', 'ad', 'la', 'pa', 'whereupon', 'two', 'moreover', 'have', 'yourself', '85', 'almost', '63', 'ours', '81', 'whoever', 'within', 'whether', 'which', '69', 'whom', 'hers', 'lo', 'ky', 'now', 'because', 'neither', 'indeed', 'from', 'same', 'ye', 'yet', 'thin', '...22', '13', '90', 'nv', 'own', 'up', 'it', 'sixty', 'sometimes', '53', '79', 'together', 'bi', '80'}),\n",
       "         strip_accents=None, token_pattern='(?u)\\\\b\\\\w\\\\w+\\\\b',\n",
       "         tokenizer=None, vocabulary=None),\n",
       " 'clf': MultinomialNB(alpha=0.15, class_prior=None, fit_prior=True)}"
      ]
     },
     "execution_count": 42,
     "metadata": {},
     "output_type": "execute_result"
    }
   ],
   "source": [
    "clfrb.named_steps"
   ]
  },
  {
   "cell_type": "code",
   "execution_count": 43,
   "metadata": {},
   "outputs": [
    {
     "name": "stdout",
     "output_type": "stream",
     "text": [
      "0.7081081081081081 \n",
      " 0.7081081081081081 \n",
      " 0.7303690629011553 \n",
      " 0.7432642778294952 \n",
      " 0.7081081081081082 \n",
      " 0.7211962327078606 \n",
      " 0.7081081081081081\n"
     ]
    }
   ],
   "source": [
    "clfrb.fit(Trfob, Tr_lbl)\n",
    "y_pred=clfrb.predict(Tsfob) \n",
    "a1=precision_score(Ts_lbl, y_pred, average='micro')\n",
    "a2=recall_score(Ts_lbl, y_pred, average='micro')\n",
    "a3=precision_score(Ts_lbl, y_pred, average='macro')\n",
    "a4=recall_score(Ts_lbl, y_pred, average='macro') \n",
    "a5=f1_score(Ts_lbl, y_pred, average='micro')\n",
    "a6=f1_score(Ts_lbl, y_pred, average='macro')\n",
    "a7=accuracy_score(Ts_lbl, y_pred)\n",
    "print(a1,'\\n',a2,'\\n',a3,'\\n',a4,'\\n',a5,'\\n',a6,'\\n',a7)\n",
    "prf.append((round(a1,4),round(a2,4),round(a3,4),round(a4,4),round(a5,4),round(a6,4),\n",
    "              round(a7,4)))"
   ]
  },
  {
   "cell_type": "code",
   "execution_count": 44,
   "metadata": {},
   "outputs": [
    {
     "name": "stderr",
     "output_type": "stream",
     "text": [
      "c:\\python\\python37\\lib\\site-packages\\sklearn\\model_selection\\_search.py:841: DeprecationWarning: The default of the `iid` parameter will change from True to False in version 0.22 and will be removed in 0.24. This will change numeric results when test-set sizes are unequal.\n",
      "  DeprecationWarning)\n"
     ]
    }
   ],
   "source": [
    "rCV=RandomizedSearchCV(pipclf, pramg, n_jobs=7, cv=10, scoring='f1_micro',\n",
    "                        return_train_score=True) \n",
    "##f1_score(average='macro')\n",
    "rCV.fit(Trfob, Tr_lbl)\n",
    "clfrb=rCV.best_estimator_"
   ]
  },
  {
   "cell_type": "code",
   "execution_count": 45,
   "metadata": {},
   "outputs": [
    {
     "data": {
      "text/plain": [
       "{'vct': CountVectorizer(analyzer='word', binary=False, decode_error='strict',\n",
       "         dtype=<class 'numpy.int64'>, encoding='utf-8', input='content',\n",
       "         lowercase=True, max_df=0.4, max_features=None, min_df=0.01,\n",
       "         ngram_range=(1, 1), preprocessor=None,\n",
       "         stop_words=frozenset({'since', 'several', 'ad', 'la', 'pa', 'whereupon', 'two', 'moreover', 'have', 'yourself', '85', 'almost', '63', 'ours', '81', 'whoever', 'within', 'whether', 'which', '69', 'whom', 'hers', 'lo', 'ky', 'now', 'because', 'neither', 'indeed', 'from', 'same', 'ye', 'yet', 'thin', '...22', '13', '90', 'nv', 'own', 'up', 'it', 'sixty', 'sometimes', '53', '79', 'together', 'bi', '80'}),\n",
       "         strip_accents=None, token_pattern='(?u)\\\\b\\\\w\\\\w+\\\\b',\n",
       "         tokenizer=None, vocabulary=None),\n",
       " 'clf': MultinomialNB(alpha=0.3, class_prior=None, fit_prior=True)}"
      ]
     },
     "execution_count": 45,
     "metadata": {},
     "output_type": "execute_result"
    }
   ],
   "source": [
    "clfrb.named_steps"
   ]
  },
  {
   "cell_type": "code",
   "execution_count": 46,
   "metadata": {},
   "outputs": [
    {
     "name": "stdout",
     "output_type": "stream",
     "text": [
      "0.7405405405405405 \n",
      " 0.7405405405405405 \n",
      " 0.756443028824433 \n",
      " 0.7743063673498456 \n",
      " 0.7405405405405405 \n",
      " 0.7436752787139991 \n",
      " 0.7405405405405405\n"
     ]
    }
   ],
   "source": [
    "clfrb.fit(Trfob, Tr_lbl)\n",
    "y_pred=clfrb.predict(Tsfob) \n",
    "a1=precision_score(Ts_lbl, y_pred, average='micro')\n",
    "a2=recall_score(Ts_lbl, y_pred, average='micro')\n",
    "a3=precision_score(Ts_lbl, y_pred, average='macro')\n",
    "a4=recall_score(Ts_lbl, y_pred, average='macro') \n",
    "a5=f1_score(Ts_lbl, y_pred, average='micro')\n",
    "a6=f1_score(Ts_lbl, y_pred, average='macro')\n",
    "a7=accuracy_score(Ts_lbl, y_pred)\n",
    "print(a1,'\\n',a2,'\\n',a3,'\\n',a4,'\\n',a5,'\\n',a6,'\\n',a7)\n",
    "prf.append((round(a1,4),round(a2,4),round(a3,4),round(a4,4),round(a5,4),round(a6,4),\n",
    "              round(a7,4)))"
   ]
  },
  {
   "cell_type": "code",
   "execution_count": 47,
   "metadata": {},
   "outputs": [],
   "source": [
    "#####ruk ruk############################"
   ]
  },
  {
   "cell_type": "code",
   "execution_count": 48,
   "metadata": {},
   "outputs": [
    {
     "data": {
      "image/png": "[encoded data removed]",
      "text/plain": [
       "<Figure size 720x216 with 2 Axes>"
      ]
     },
     "metadata": {},
     "output_type": "display_data"
    }
   ],
   "source": [
    "rsl=pd.DataFrame(prf, columns=evlp)\n",
    "rsl.to_csv('CSVOUT/NBMprf2.csv')\n",
    "plt.figure(figsize=(10,3))\n",
    "sb.set(font_scale=1.6)\n",
    "sb.heatmap(rsl, annot=True, cmap=\"YlGnBu\", linewidths=.5, fmt=\"g\", annot_kws={\"size\": 18})\n",
    "plt.xlabel('Performance')\n",
    "plt.ylabel('Configuration')\n",
    "#plt.title('Confusion Matrix NBM_fig2')\n",
    "plt.savefig('Fig/NBMprf2.png', dpi=300, bbox_inches='tight', pad_inches=0.2)"
   ]
  },
  {
   "cell_type": "code",
   "execution_count": 49,
   "metadata": {},
   "outputs": [],
   "source": [
    "#ruk ruk ################ ruk ruk##########################################"
   ]
  },
  {
   "cell_type": "code",
   "execution_count": 50,
   "metadata": {},
   "outputs": [],
   "source": [
    "prf=[]\n",
    "pipclf = Pipeline([('vct', vc), ('idf', idft), ('clf',clsfv)])#"
   ]
  },
  {
   "cell_type": "code",
   "execution_count": 51,
   "metadata": {},
   "outputs": [],
   "source": [
    "pramg={\"vct__max_df\":mxd, \"vct__min_df\":mid, \"vct__ngram_range\":ngm,\n",
    "       \"vct__stop_words\":['english', stpwd],\n",
    "       \"clf__alpha\":c\n",
    "       }"
   ]
  },
  {
   "cell_type": "code",
   "execution_count": 52,
   "metadata": {},
   "outputs": [
    {
     "name": "stderr",
     "output_type": "stream",
     "text": [
      "c:\\python\\python37\\lib\\site-packages\\sklearn\\model_selection\\_search.py:841: DeprecationWarning: The default of the `iid` parameter will change from True to False in version 0.22 and will be removed in 0.24. This will change numeric results when test-set sizes are unequal.\n",
      "  DeprecationWarning)\n"
     ]
    }
   ],
   "source": [
    "rCV=RandomizedSearchCV(pipclf, pramg, n_jobs=7, cv=10, scoring='f1_micro',\n",
    "                        return_train_score=True) \n",
    "##f1_score(average='macro')\n",
    "rCV.fit(Trfob, Tr_lbl)\n",
    "clfrb=rCV.best_estimator_"
   ]
  },
  {
   "cell_type": "code",
   "execution_count": 53,
   "metadata": {},
   "outputs": [
    {
     "data": {
      "text/plain": [
       "{'vct': CountVectorizer(analyzer='word', binary=False, decode_error='strict',\n",
       "         dtype=<class 'numpy.int64'>, encoding='utf-8', input='content',\n",
       "         lowercase=True, max_df=0.4, max_features=None, min_df=0.005,\n",
       "         ngram_range=(1, 1), preprocessor=None,\n",
       "         stop_words=frozenset({'since', 'several', 'ad', 'la', 'pa', 'whereupon', 'two', 'moreover', 'have', 'yourself', '85', 'almost', '63', 'ours', '81', 'whoever', 'within', 'whether', 'which', '69', 'whom', 'hers', 'lo', 'ky', 'now', 'because', 'neither', 'indeed', 'from', 'same', 'ye', 'yet', 'thin', '...22', '13', '90', 'nv', 'own', 'up', 'it', 'sixty', 'sometimes', '53', '79', 'together', 'bi', '80'}),\n",
       "         strip_accents=None, token_pattern='(?u)\\\\b\\\\w\\\\w+\\\\b',\n",
       "         tokenizer=None, vocabulary=None),\n",
       " 'idf': TfidfTransformer(norm='l2', smooth_idf=True, sublinear_tf=False, use_idf=True),\n",
       " 'clf': MultinomialNB(alpha=0.1, class_prior=None, fit_prior=True)}"
      ]
     },
     "execution_count": 53,
     "metadata": {},
     "output_type": "execute_result"
    }
   ],
   "source": [
    "clfrb.named_steps"
   ]
  },
  {
   "cell_type": "code",
   "execution_count": 54,
   "metadata": {},
   "outputs": [
    {
     "name": "stdout",
     "output_type": "stream",
     "text": [
      "0.7189189189189189 \n",
      " 0.7189189189189189 \n",
      " 0.7930605696719588 \n",
      " 0.6555094083354953 \n",
      " 0.7189189189189189 \n",
      " 0.6746262929050302 \n",
      " 0.7189189189189189\n"
     ]
    }
   ],
   "source": [
    "clfrb.fit(Trfob, Tr_lbl)\n",
    "y_pred=clfrb.predict(Tsfob) \n",
    "a1=precision_score(Ts_lbl, y_pred, average='micro')\n",
    "a2=recall_score(Ts_lbl, y_pred, average='micro')\n",
    "a3=precision_score(Ts_lbl, y_pred, average='macro')\n",
    "a4=recall_score(Ts_lbl, y_pred, average='macro') \n",
    "a5=f1_score(Ts_lbl, y_pred, average='micro')\n",
    "a6=f1_score(Ts_lbl, y_pred, average='macro')\n",
    "a7=accuracy_score(Ts_lbl, y_pred)\n",
    "print(a1,'\\n',a2,'\\n',a3,'\\n',a4,'\\n',a5,'\\n',a6,'\\n',a7)\n",
    "prf.append((round(a1,4),round(a2,4),round(a3,4),round(a4,4),round(a5,4),round(a6,4),\n",
    "              round(a7,4)))"
   ]
  },
  {
   "cell_type": "code",
   "execution_count": 55,
   "metadata": {},
   "outputs": [
    {
     "name": "stderr",
     "output_type": "stream",
     "text": [
      "c:\\python\\python37\\lib\\site-packages\\sklearn\\model_selection\\_search.py:841: DeprecationWarning: The default of the `iid` parameter will change from True to False in version 0.22 and will be removed in 0.24. This will change numeric results when test-set sizes are unequal.\n",
      "  DeprecationWarning)\n"
     ]
    }
   ],
   "source": [
    "rCV=RandomizedSearchCV(pipclf, pramg, n_jobs=7, cv=10, scoring='f1_micro',\n",
    "                        return_train_score=True) \n",
    "##f1_score(average='macro')\n",
    "rCV.fit(Trfob, Tr_lbl)\n",
    "clfrb=rCV.best_estimator_"
   ]
  },
  {
   "cell_type": "code",
   "execution_count": 56,
   "metadata": {},
   "outputs": [
    {
     "data": {
      "text/plain": [
       "{'vct': CountVectorizer(analyzer='word', binary=False, decode_error='strict',\n",
       "         dtype=<class 'numpy.int64'>, encoding='utf-8', input='content',\n",
       "         lowercase=True, max_df=0.4, max_features=None, min_df=0.005,\n",
       "         ngram_range=(1, 1), preprocessor=None,\n",
       "         stop_words=frozenset({'since', 'several', 'ad', 'la', 'pa', 'whereupon', 'two', 'moreover', 'have', 'yourself', '85', 'almost', '63', 'ours', '81', 'whoever', 'within', 'whether', 'which', '69', 'whom', 'hers', 'lo', 'ky', 'now', 'because', 'neither', 'indeed', 'from', 'same', 'ye', 'yet', 'thin', '...22', '13', '90', 'nv', 'own', 'up', 'it', 'sixty', 'sometimes', '53', '79', 'together', 'bi', '80'}),\n",
       "         strip_accents=None, token_pattern='(?u)\\\\b\\\\w\\\\w+\\\\b',\n",
       "         tokenizer=None, vocabulary=None),\n",
       " 'idf': TfidfTransformer(norm='l2', smooth_idf=True, sublinear_tf=False, use_idf=True),\n",
       " 'clf': MultinomialNB(alpha=0.1, class_prior=None, fit_prior=True)}"
      ]
     },
     "execution_count": 56,
     "metadata": {},
     "output_type": "execute_result"
    }
   ],
   "source": [
    "clfrb.named_steps"
   ]
  },
  {
   "cell_type": "code",
   "execution_count": 57,
   "metadata": {},
   "outputs": [
    {
     "name": "stdout",
     "output_type": "stream",
     "text": [
      "0.7189189189189189 \n",
      " 0.7189189189189189 \n",
      " 0.7930605696719588 \n",
      " 0.6555094083354953 \n",
      " 0.7189189189189189 \n",
      " 0.6746262929050302 \n",
      " 0.7189189189189189\n"
     ]
    }
   ],
   "source": [
    "clfrb.fit(Trfob, Tr_lbl)\n",
    "y_pred=clfrb.predict(Tsfob) \n",
    "a1=precision_score(Ts_lbl, y_pred, average='micro')\n",
    "a2=recall_score(Ts_lbl, y_pred, average='micro')\n",
    "a3=precision_score(Ts_lbl, y_pred, average='macro')\n",
    "a4=recall_score(Ts_lbl, y_pred, average='macro') \n",
    "a5=f1_score(Ts_lbl, y_pred, average='micro')\n",
    "a6=f1_score(Ts_lbl, y_pred, average='macro')\n",
    "a7=accuracy_score(Ts_lbl, y_pred)\n",
    "print(a1,'\\n',a2,'\\n',a3,'\\n',a4,'\\n',a5,'\\n',a6,'\\n',a7)\n",
    "prf.append((round(a1,4),round(a2,4),round(a3,4),round(a4,4),round(a5,4),round(a6,4),\n",
    "              round(a7,4)))"
   ]
  },
  {
   "cell_type": "code",
   "execution_count": 58,
   "metadata": {},
   "outputs": [
    {
     "name": "stderr",
     "output_type": "stream",
     "text": [
      "c:\\python\\python37\\lib\\site-packages\\sklearn\\model_selection\\_search.py:841: DeprecationWarning: The default of the `iid` parameter will change from True to False in version 0.22 and will be removed in 0.24. This will change numeric results when test-set sizes are unequal.\n",
      "  DeprecationWarning)\n"
     ]
    },
    {
     "data": {
      "text/plain": [
       "{'vct': CountVectorizer(analyzer='word', binary=False, decode_error='strict',\n",
       "         dtype=<class 'numpy.int64'>, encoding='utf-8', input='content',\n",
       "         lowercase=True, max_df=0.35, max_features=None, min_df=0.05,\n",
       "         ngram_range=(1, 1), preprocessor=None,\n",
       "         stop_words=frozenset({'since', 'several', 'ad', 'la', 'pa', 'whereupon', 'two', 'moreover', 'have', 'yourself', '85', 'almost', '63', 'ours', '81', 'whoever', 'within', 'whether', 'which', '69', 'whom', 'hers', 'lo', 'ky', 'now', 'because', 'neither', 'indeed', 'from', 'same', 'ye', 'yet', 'thin', '...22', '13', '90', 'nv', 'own', 'up', 'it', 'sixty', 'sometimes', '53', '79', 'together', 'bi', '80'}),\n",
       "         strip_accents=None, token_pattern='(?u)\\\\b\\\\w\\\\w+\\\\b',\n",
       "         tokenizer=None, vocabulary=None),\n",
       " 'idf': TfidfTransformer(norm='l2', smooth_idf=True, sublinear_tf=False, use_idf=True),\n",
       " 'clf': MultinomialNB(alpha=0.15, class_prior=None, fit_prior=True)}"
      ]
     },
     "execution_count": 58,
     "metadata": {},
     "output_type": "execute_result"
    }
   ],
   "source": [
    "rCV=RandomizedSearchCV(pipclf, pramg, n_jobs=7, cv=10, scoring='f1_macro',\n",
    "                        return_train_score=True) \n",
    "##f1_score(average='macro')\n",
    "rCV.fit(Trfob, Tr_lbl)\n",
    "clfrb=rCV.best_estimator_\n",
    "clfrb.named_steps"
   ]
  },
  {
   "cell_type": "code",
   "execution_count": 59,
   "metadata": {},
   "outputs": [
    {
     "data": {
      "text/plain": [
       "{'vct': CountVectorizer(analyzer='word', binary=False, decode_error='strict',\n",
       "         dtype=<class 'numpy.int64'>, encoding='utf-8', input='content',\n",
       "         lowercase=True, max_df=0.35, max_features=None, min_df=0.05,\n",
       "         ngram_range=(1, 1), preprocessor=None,\n",
       "         stop_words=frozenset({'since', 'several', 'ad', 'la', 'pa', 'whereupon', 'two', 'moreover', 'have', 'yourself', '85', 'almost', '63', 'ours', '81', 'whoever', 'within', 'whether', 'which', '69', 'whom', 'hers', 'lo', 'ky', 'now', 'because', 'neither', 'indeed', 'from', 'same', 'ye', 'yet', 'thin', '...22', '13', '90', 'nv', 'own', 'up', 'it', 'sixty', 'sometimes', '53', '79', 'together', 'bi', '80'}),\n",
       "         strip_accents=None, token_pattern='(?u)\\\\b\\\\w\\\\w+\\\\b',\n",
       "         tokenizer=None, vocabulary=None),\n",
       " 'idf': TfidfTransformer(norm='l2', smooth_idf=True, sublinear_tf=False, use_idf=True),\n",
       " 'clf': MultinomialNB(alpha=0.15, class_prior=None, fit_prior=True)}"
      ]
     },
     "execution_count": 59,
     "metadata": {},
     "output_type": "execute_result"
    }
   ],
   "source": [
    "clfrb.named_steps"
   ]
  },
  {
   "cell_type": "code",
   "execution_count": 60,
   "metadata": {},
   "outputs": [
    {
     "name": "stdout",
     "output_type": "stream",
     "text": [
      "0.6702702702702703 \n",
      " 0.6702702702702703 \n",
      " 0.7302879970271274 \n",
      " 0.668097539945366 \n",
      " 0.6702702702702703 \n",
      " 0.6778284954769472 \n",
      " 0.6702702702702703\n"
     ]
    }
   ],
   "source": [
    "clfrb.fit(Trfob, Tr_lbl)\n",
    "y_pred=clfrb.predict(Tsfob) \n",
    "a1=precision_score(Ts_lbl, y_pred, average='micro')\n",
    "a2=recall_score(Ts_lbl, y_pred, average='micro')\n",
    "a3=precision_score(Ts_lbl, y_pred, average='macro')\n",
    "a4=recall_score(Ts_lbl, y_pred, average='macro') \n",
    "a5=f1_score(Ts_lbl, y_pred, average='micro')\n",
    "a6=f1_score(Ts_lbl, y_pred, average='macro')\n",
    "a7=accuracy_score(Ts_lbl, y_pred)\n",
    "print(a1,'\\n',a2,'\\n',a3,'\\n',a4,'\\n',a5,'\\n',a6,'\\n',a7)\n",
    "prf.append((round(a1,4),round(a2,4),round(a3,4),round(a4,4),round(a5,4),round(a6,4),\n",
    "              round(a7,4)))"
   ]
  },
  {
   "cell_type": "code",
   "execution_count": 61,
   "metadata": {},
   "outputs": [
    {
     "name": "stderr",
     "output_type": "stream",
     "text": [
      "c:\\python\\python37\\lib\\site-packages\\sklearn\\model_selection\\_search.py:841: DeprecationWarning: The default of the `iid` parameter will change from True to False in version 0.22 and will be removed in 0.24. This will change numeric results when test-set sizes are unequal.\n",
      "  DeprecationWarning)\n"
     ]
    },
    {
     "data": {
      "text/plain": [
       "{'vct': CountVectorizer(analyzer='word', binary=False, decode_error='strict',\n",
       "         dtype=<class 'numpy.int64'>, encoding='utf-8', input='content',\n",
       "         lowercase=True, max_df=0.35, max_features=None, min_df=0.005,\n",
       "         ngram_range=(1, 2), preprocessor=None, stop_words='english',\n",
       "         strip_accents=None, token_pattern='(?u)\\\\b\\\\w\\\\w+\\\\b',\n",
       "         tokenizer=None, vocabulary=None),\n",
       " 'idf': TfidfTransformer(norm='l2', smooth_idf=True, sublinear_tf=False, use_idf=True),\n",
       " 'clf': MultinomialNB(alpha=0.3, class_prior=None, fit_prior=True)}"
      ]
     },
     "execution_count": 61,
     "metadata": {},
     "output_type": "execute_result"
    }
   ],
   "source": [
    "rCV=RandomizedSearchCV(pipclf, pramg, n_jobs=7, cv=10, scoring='f1_macro',\n",
    "                        return_train_score=True) \n",
    "##f1_score(average='macro')\n",
    "rCV.fit(Trfob, Tr_lbl)\n",
    "clfrb=rCV.best_estimator_\n",
    "clfrb.named_steps"
   ]
  },
  {
   "cell_type": "code",
   "execution_count": 62,
   "metadata": {},
   "outputs": [
    {
     "data": {
      "text/plain": [
       "{'vct': CountVectorizer(analyzer='word', binary=False, decode_error='strict',\n",
       "         dtype=<class 'numpy.int64'>, encoding='utf-8', input='content',\n",
       "         lowercase=True, max_df=0.35, max_features=None, min_df=0.005,\n",
       "         ngram_range=(1, 2), preprocessor=None, stop_words='english',\n",
       "         strip_accents=None, token_pattern='(?u)\\\\b\\\\w\\\\w+\\\\b',\n",
       "         tokenizer=None, vocabulary=None),\n",
       " 'idf': TfidfTransformer(norm='l2', smooth_idf=True, sublinear_tf=False, use_idf=True),\n",
       " 'clf': MultinomialNB(alpha=0.3, class_prior=None, fit_prior=True)}"
      ]
     },
     "execution_count": 62,
     "metadata": {},
     "output_type": "execute_result"
    }
   ],
   "source": [
    "clfrb.named_steps"
   ]
  },
  {
   "cell_type": "code",
   "execution_count": 63,
   "metadata": {},
   "outputs": [
    {
     "name": "stdout",
     "output_type": "stream",
     "text": [
      "0.6486486486486487 \n",
      " 0.6486486486486487 \n",
      " 0.6550054428500742 \n",
      " 0.5146116104811757 \n",
      " 0.6486486486486487 \n",
      " 0.5414029829819305 \n",
      " 0.6486486486486487\n"
     ]
    },
    {
     "name": "stderr",
     "output_type": "stream",
     "text": [
      "c:\\python\\python37\\lib\\site-packages\\sklearn\\metrics\\classification.py:1143: UndefinedMetricWarning: Precision is ill-defined and being set to 0.0 in labels with no predicted samples.\n",
      "  'precision', 'predicted', average, warn_for)\n",
      "c:\\python\\python37\\lib\\site-packages\\sklearn\\metrics\\classification.py:1143: UndefinedMetricWarning: F-score is ill-defined and being set to 0.0 in labels with no predicted samples.\n",
      "  'precision', 'predicted', average, warn_for)\n"
     ]
    }
   ],
   "source": [
    "clfrb.fit(Trfob, Tr_lbl)\n",
    "y_pred=clfrb.predict(Tsfob) \n",
    "a1=precision_score(Ts_lbl, y_pred, average='micro')\n",
    "a2=recall_score(Ts_lbl, y_pred, average='micro')\n",
    "a3=precision_score(Ts_lbl, y_pred, average='macro')\n",
    "a4=recall_score(Ts_lbl, y_pred, average='macro') \n",
    "a5=f1_score(Ts_lbl, y_pred, average='micro')\n",
    "a6=f1_score(Ts_lbl, y_pred, average='macro')\n",
    "a7=accuracy_score(Ts_lbl, y_pred)\n",
    "print(a1,'\\n',a2,'\\n',a3,'\\n',a4,'\\n',a5,'\\n',a6,'\\n',a7)\n",
    "prf.append((round(a1,4),round(a2,4),round(a3,4),round(a4,4),round(a5,4),round(a6,4),\n",
    "              round(a7,4)))"
   ]
  },
  {
   "cell_type": "code",
   "execution_count": 64,
   "metadata": {},
   "outputs": [
    {
     "name": "stderr",
     "output_type": "stream",
     "text": [
      "c:\\python\\python37\\lib\\site-packages\\sklearn\\model_selection\\_search.py:841: DeprecationWarning: The default of the `iid` parameter will change from True to False in version 0.22 and will be removed in 0.24. This will change numeric results when test-set sizes are unequal.\n",
      "  DeprecationWarning)\n"
     ]
    }
   ],
   "source": [
    "rCV=RandomizedSearchCV(pipclf, pramg, n_jobs=7, cv=10, scoring='f1_micro',\n",
    "                        return_train_score=True) \n",
    "##f1_score(average='macro')\n",
    "rCV.fit(Trfob, Tr_lbl)\n",
    "clfrb=rCV.best_estimator_"
   ]
  },
  {
   "cell_type": "code",
   "execution_count": 65,
   "metadata": {},
   "outputs": [
    {
     "data": {
      "text/plain": [
       "{'vct': CountVectorizer(analyzer='word', binary=False, decode_error='strict',\n",
       "         dtype=<class 'numpy.int64'>, encoding='utf-8', input='content',\n",
       "         lowercase=True, max_df=0.4, max_features=None, min_df=0.05,\n",
       "         ngram_range=(1, 3), preprocessor=None,\n",
       "         stop_words=frozenset({'since', 'several', 'ad', 'la', 'pa', 'whereupon', 'two', 'moreover', 'have', 'yourself', '85', 'almost', '63', 'ours', '81', 'whoever', 'within', 'whether', 'which', '69', 'whom', 'hers', 'lo', 'ky', 'now', 'because', 'neither', 'indeed', 'from', 'same', 'ye', 'yet', 'thin', '...22', '13', '90', 'nv', 'own', 'up', 'it', 'sixty', 'sometimes', '53', '79', 'together', 'bi', '80'}),\n",
       "         strip_accents=None, token_pattern='(?u)\\\\b\\\\w\\\\w+\\\\b',\n",
       "         tokenizer=None, vocabulary=None),\n",
       " 'idf': TfidfTransformer(norm='l2', smooth_idf=True, sublinear_tf=False, use_idf=True),\n",
       " 'clf': MultinomialNB(alpha=0.05, class_prior=None, fit_prior=True)}"
      ]
     },
     "execution_count": 65,
     "metadata": {},
     "output_type": "execute_result"
    }
   ],
   "source": [
    "clfrb.named_steps"
   ]
  },
  {
   "cell_type": "code",
   "execution_count": 66,
   "metadata": {},
   "outputs": [
    {
     "name": "stdout",
     "output_type": "stream",
     "text": [
      "0.6702702702702703 \n",
      " 0.6702702702702703 \n",
      " 0.7355950145709872 \n",
      " 0.653097539945366 \n",
      " 0.6702702702702703 \n",
      " 0.6686885778670174 \n",
      " 0.6702702702702703\n"
     ]
    }
   ],
   "source": [
    "clfrb.fit(Trfob, Tr_lbl)\n",
    "y_pred=clfrb.predict(Tsfob) \n",
    "a1=precision_score(Ts_lbl, y_pred, average='micro')\n",
    "a2=recall_score(Ts_lbl, y_pred, average='micro')\n",
    "a3=precision_score(Ts_lbl, y_pred, average='macro')\n",
    "a4=recall_score(Ts_lbl, y_pred, average='macro') \n",
    "a5=f1_score(Ts_lbl, y_pred, average='micro')\n",
    "a6=f1_score(Ts_lbl, y_pred, average='macro')\n",
    "a7=accuracy_score(Ts_lbl, y_pred)\n",
    "print(a1,'\\n',a2,'\\n',a3,'\\n',a4,'\\n',a5,'\\n',a6,'\\n',a7)\n",
    "prf.append((round(a1,4),round(a2,4),round(a3,4),round(a4,4),round(a5,4),round(a6,4),\n",
    "              round(a7,4)))"
   ]
  },
  {
   "cell_type": "code",
   "execution_count": 67,
   "metadata": {},
   "outputs": [
    {
     "data": {
      "image/png": "[encoded data removed]",
      "text/plain": [
       "<Figure size 720x216 with 2 Axes>"
      ]
     },
     "metadata": {},
     "output_type": "display_data"
    }
   ],
   "source": [
    "rsl=pd.DataFrame(prf, columns=evlp)\n",
    "rsl.to_csv('CSVOUT/NBMprf3.csv')\n",
    "plt.figure(figsize=(10,3))\n",
    "sb.set(font_scale=1.6)\n",
    "sb.heatmap(rsl, annot=True, cmap=\"YlGnBu\", linewidths=.5, fmt=\"g\", annot_kws={\"size\": 18})\n",
    "plt.xlabel('Performance')\n",
    "plt.ylabel('Configuration')\n",
    "#plt.title('Confusion Matrix NBM_fig2')\n",
    "plt.savefig('Fig/NBMprf3.png', dpi=300, bbox_inches='tight', pad_inches=0.2)"
   ]
  },
  {
   "cell_type": "code",
   "execution_count": 68,
   "metadata": {},
   "outputs": [],
   "source": [
    "###############################################"
   ]
  },
  {
   "cell_type": "code",
   "execution_count": 69,
   "metadata": {},
   "outputs": [],
   "source": [
    "evlp=['Precision_micro','Recall_micro','Precision_macro','Recall_macro','f1_micro',\n",
    "     'f1_macro','Accuracy']\n",
    "confp=['max df','min df','ngram','idf','no. token','alpha']\n",
    "confg=[]\n",
    "prf=[]"
   ]
  },
  {
   "cell_type": "code",
   "execution_count": 70,
   "metadata": {},
   "outputs": [],
   "source": [
    "vc1=CountVectorizer(analyzer='word', binary=False, lowercase=True, max_df=0.4, min_df=0.01,\n",
    "                   ngram_range=(1, 2), stop_words=stpwd)\n",
    "idft1=TfidfTransformer()"
   ]
  },
  {
   "cell_type": "code",
   "execution_count": 71,
   "metadata": {},
   "outputs": [],
   "source": [
    "TrDX=vc1.fit_transform(Trfob)\n",
    "TrDtX=idft1.fit_transform(TrDX.toarray())\n",
    "###############\n",
    "TsDX=vc1.transform(Tsfob)\n",
    "TsDtX=idft1.transform(TsDX.toarray())"
   ]
  },
  {
   "cell_type": "code",
   "execution_count": 72,
   "metadata": {},
   "outputs": [],
   "source": [
    "TrD=pd.DataFrame(TrDX.toarray(), columns=vc1.get_feature_names())\n",
    "TrDt=pd.DataFrame(TrDtX.toarray(), columns=vc1.get_feature_names())\n",
    "###############\n",
    "TsD=pd.DataFrame(TsDX.toarray(), columns=vc1.get_feature_names())\n",
    "TsDt=pd.DataFrame(TsDtX.toarray(), columns=vc1.get_feature_names())"
   ]
  },
  {
   "cell_type": "code",
   "execution_count": 73,
   "metadata": {},
   "outputs": [
    {
     "name": "stdout",
     "output_type": "stream",
     "text": [
      "(499, 2439) (499, 2439) (185, 2439) (185, 2439)\n"
     ]
    }
   ],
   "source": [
    "print(TrD.shape, TrDt.shape, TsD.shape, TsDt.shape)"
   ]
  },
  {
   "cell_type": "code",
   "execution_count": 74,
   "metadata": {},
   "outputs": [],
   "source": [
    "clfm=MultinomialNB(alpha=0.3)"
   ]
  },
  {
   "cell_type": "code",
   "execution_count": 75,
   "metadata": {},
   "outputs": [
    {
     "data": {
      "text/plain": [
       "MultinomialNB(alpha=0.3, class_prior=None, fit_prior=True)"
      ]
     },
     "execution_count": 75,
     "metadata": {},
     "output_type": "execute_result"
    }
   ],
   "source": [
    "clfm.fit(TrD, Tr_lbl)"
   ]
  },
  {
   "cell_type": "code",
   "execution_count": 76,
   "metadata": {},
   "outputs": [
    {
     "name": "stdout",
     "output_type": "stream",
     "text": [
      "0.7135135135135136 \n",
      " 0.7135135135135136 \n",
      " 0.7451007921596158 \n",
      " 0.7012760643195426 \n",
      " 0.7135135135135136 \n",
      " 0.6943086985268587 \n",
      " 0.7135135135135136\n"
     ]
    }
   ],
   "source": [
    "y_pred=clfm.predict(TsD)\n",
    "a1=precision_score(Ts_lbl, y_pred, average='micro')\n",
    "a2=recall_score(Ts_lbl, y_pred, average='micro')\n",
    "a3=precision_score(Ts_lbl, y_pred, average='macro')\n",
    "a4=recall_score(Ts_lbl, y_pred, average='macro') \n",
    "a5=f1_score(Ts_lbl, y_pred, average='micro')\n",
    "a6=f1_score(Ts_lbl, y_pred, average='macro')\n",
    "a7=accuracy_score(Ts_lbl, y_pred)\n",
    "print(a1,'\\n',a2,'\\n',a3,'\\n',a4,'\\n',a5,'\\n',a6,'\\n',a7)"
   ]
  },
  {
   "cell_type": "code",
   "execution_count": 77,
   "metadata": {},
   "outputs": [],
   "source": [
    "prf.append((round(a1,4),round(a2,4),round(a3,4),round(a4,4),round(a5,4),round(a6,4),round(a7,4)))\n",
    "confg.append(('0.4','0.01',\"1 - 2\",'No','2439','0.3'))"
   ]
  },
  {
   "cell_type": "code",
   "execution_count": 78,
   "metadata": {},
   "outputs": [
    {
     "data": {
      "text/plain": [
       "MultinomialNB(alpha=0.3, class_prior=None, fit_prior=True)"
      ]
     },
     "execution_count": 78,
     "metadata": {},
     "output_type": "execute_result"
    }
   ],
   "source": [
    "clfm.fit(TrDt, Tr_lbl)"
   ]
  },
  {
   "cell_type": "code",
   "execution_count": 79,
   "metadata": {},
   "outputs": [
    {
     "name": "stdout",
     "output_type": "stream",
     "text": [
      "0.6702702702702703 \n",
      " 0.6702702702702703 \n",
      " 0.6641290549118115 \n",
      " 0.5685315086402043 \n",
      " 0.6702702702702703 \n",
      " 0.5786265491899295 \n",
      " 0.6702702702702703\n"
     ]
    },
    {
     "name": "stderr",
     "output_type": "stream",
     "text": [
      "c:\\python\\python37\\lib\\site-packages\\sklearn\\metrics\\classification.py:1143: UndefinedMetricWarning: Precision is ill-defined and being set to 0.0 in labels with no predicted samples.\n",
      "  'precision', 'predicted', average, warn_for)\n",
      "c:\\python\\python37\\lib\\site-packages\\sklearn\\metrics\\classification.py:1143: UndefinedMetricWarning: F-score is ill-defined and being set to 0.0 in labels with no predicted samples.\n",
      "  'precision', 'predicted', average, warn_for)\n"
     ]
    }
   ],
   "source": [
    "y_pred=clfm.predict(TsDt)\n",
    "a1=precision_score(Ts_lbl, y_pred, average='micro')\n",
    "a2=recall_score(Ts_lbl, y_pred, average='micro')\n",
    "a3=precision_score(Ts_lbl, y_pred, average='macro')\n",
    "a4=recall_score(Ts_lbl, y_pred, average='macro') \n",
    "a5=f1_score(Ts_lbl, y_pred, average='micro')\n",
    "a6=f1_score(Ts_lbl, y_pred, average='macro')\n",
    "a7=accuracy_score(Ts_lbl, y_pred)\n",
    "print(a1,'\\n',a2,'\\n',a3,'\\n',a4,'\\n',a5,'\\n',a6,'\\n',a7)"
   ]
  },
  {
   "cell_type": "code",
   "execution_count": 80,
   "metadata": {},
   "outputs": [],
   "source": [
    "prf.append((round(a1,4),round(a2,4),round(a3,4),round(a4,4),round(a5,4),round(a6,4),round(a7,4)))\n",
    "confg.append(('0.4','0.01',\"1 - 2\",'Yes','2439','0.3'))"
   ]
  },
  {
   "cell_type": "code",
   "execution_count": 81,
   "metadata": {},
   "outputs": [
    {
     "data": {
      "image/png": "[encoded data removed]",
      "text/plain": [
       "<Figure size 504x504 with 2 Axes>"
      ]
     },
     "metadata": {},
     "output_type": "display_data"
    }
   ],
   "source": [
    "cm=confusion_matrix(Ts_lbl, y_pred)\n",
    "m=pd.DataFrame(cm, columns=tsl, index=tsl)\n",
    "plt.figure(figsize=(7,7))\n",
    "sb.set(font_scale=1.6)\n",
    "sb.heatmap(m, annot=True, cmap=\"YlGnBu\", linewidths=.5, annot_kws={\"size\": 18})\n",
    "plt.xlabel('Predicted Class')\n",
    "plt.ylabel('Actual Class')\n",
    "#plt.title('Confusion Matrix NBM_fig1')\n",
    "plt.savefig('Fig/NBMcm3.png', dpi=300, bbox_inches='tight', pad_inches=0.2)"
   ]
  },
  {
   "cell_type": "code",
   "execution_count": 82,
   "metadata": {},
   "outputs": [
    {
     "data": {
      "text/html": [
       "<div>\n",
       "<style scoped>\n",
       "    .dataframe tbody tr th:only-of-type {\n",
       "        vertical-align: middle;\n",
       "    }\n",
       "\n",
       "    .dataframe tbody tr th {\n",
       "        vertical-align: top;\n",
       "    }\n",
       "\n",
       "    .dataframe thead th {\n",
       "        text-align: right;\n",
       "    }\n",
       "</style>\n",
       "<table border=\"1\" class=\"dataframe\">\n",
       "  <thead>\n",
       "    <tr style=\"text-align: right;\">\n",
       "      <th></th>\n",
       "      <th>max df</th>\n",
       "      <th>min df</th>\n",
       "      <th>ngram</th>\n",
       "      <th>idf</th>\n",
       "      <th>no. token</th>\n",
       "      <th>alpha</th>\n",
       "    </tr>\n",
       "  </thead>\n",
       "  <tbody>\n",
       "    <tr>\n",
       "      <th>0</th>\n",
       "      <td>0.4</td>\n",
       "      <td>0.01</td>\n",
       "      <td>1 - 2</td>\n",
       "      <td>No</td>\n",
       "      <td>2439</td>\n",
       "      <td>0.3</td>\n",
       "    </tr>\n",
       "    <tr>\n",
       "      <th>1</th>\n",
       "      <td>0.4</td>\n",
       "      <td>0.01</td>\n",
       "      <td>1 - 2</td>\n",
       "      <td>Yes</td>\n",
       "      <td>2439</td>\n",
       "      <td>0.3</td>\n",
       "    </tr>\n",
       "  </tbody>\n",
       "</table>\n",
       "</div>"
      ],
      "text/plain": [
       "  max df min df  ngram  idf no. token alpha\n",
       "0    0.4   0.01  1 - 2   No      2439   0.3\n",
       "1    0.4   0.01  1 - 2  Yes      2439   0.3"
      ]
     },
     "execution_count": 82,
     "metadata": {},
     "output_type": "execute_result"
    }
   ],
   "source": [
    "stp=pd.DataFrame(confg, columns=confp)\n",
    "stp.to_csv('CSVOUT/NBMconf2.csv')\n",
    "stp"
   ]
  },
  {
   "cell_type": "code",
   "execution_count": 83,
   "metadata": {},
   "outputs": [
    {
     "data": {
      "image/png": "[encoded data removed]",
      "text/plain": [
       "<Figure size 720x144 with 2 Axes>"
      ]
     },
     "metadata": {},
     "output_type": "display_data"
    }
   ],
   "source": [
    "rsl=pd.DataFrame(prf, columns=evlp)\n",
    "rsl.to_csv('CSVOUT/NBMprf4.csv')\n",
    "plt.figure(figsize=(10,2))\n",
    "sb.set(font_scale=1.6)\n",
    "sb.heatmap(rsl, annot=True, cmap=\"YlGnBu\", linewidths=.5, fmt=\"g\", annot_kws={\"size\": 18})\n",
    "plt.xlabel('Performance')\n",
    "plt.ylabel('Configuration')\n",
    "#plt.title('Confusion Matrix NBM_fig2')\n",
    "plt.savefig('Fig/NBMprf4.png', dpi=300, bbox_inches='tight', pad_inches=0.2)"
   ]
  },
  {
   "cell_type": "code",
   "execution_count": 84,
   "metadata": {},
   "outputs": [],
   "source": [
    "#ruk#################ruk"
   ]
  },
  {
   "cell_type": "code",
   "execution_count": 85,
   "metadata": {},
   "outputs": [
    {
     "name": "stdout",
     "output_type": "stream",
     "text": [
      "[0.7407, 0.7925, 0.7925, 0.7255, 0.8431, 0.7959, 0.6939, 0.766, 0.7391, 0.7391, 0.7628288086839566, 'f1 micro', '10'] \n",
      " Average Score : 0.7628288086839566\n",
      "[0.7733, 0.8144, 0.7999, 0.779, 0.8551, 0.8232, 0.7117, 0.809, 0.7605, 0.7959, 0.7922015194427028, 'f1 macro', '10'] \n",
      " Average Score : 0.7922015194427028\n"
     ]
    },
    {
     "data": {
      "text/html": [
       "<div>\n",
       "<style scoped>\n",
       "    .dataframe tbody tr th:only-of-type {\n",
       "        vertical-align: middle;\n",
       "    }\n",
       "\n",
       "    .dataframe tbody tr th {\n",
       "        vertical-align: top;\n",
       "    }\n",
       "\n",
       "    .dataframe thead th {\n",
       "        text-align: right;\n",
       "    }\n",
       "</style>\n",
       "<table border=\"1\" class=\"dataframe\">\n",
       "  <thead>\n",
       "    <tr style=\"text-align: right;\">\n",
       "      <th></th>\n",
       "      <th>1</th>\n",
       "      <th>2</th>\n",
       "      <th>3</th>\n",
       "      <th>4</th>\n",
       "      <th>5</th>\n",
       "      <th>6</th>\n",
       "      <th>7</th>\n",
       "      <th>8</th>\n",
       "      <th>9</th>\n",
       "      <th>10</th>\n",
       "      <th>Average</th>\n",
       "      <th>metric</th>\n",
       "      <th>cv fold</th>\n",
       "    </tr>\n",
       "  </thead>\n",
       "  <tbody>\n",
       "    <tr>\n",
       "      <th>0</th>\n",
       "      <td>0.7407</td>\n",
       "      <td>0.7925</td>\n",
       "      <td>0.7925</td>\n",
       "      <td>0.7255</td>\n",
       "      <td>0.8431</td>\n",
       "      <td>0.7959</td>\n",
       "      <td>0.6939</td>\n",
       "      <td>0.766</td>\n",
       "      <td>0.7391</td>\n",
       "      <td>0.7391</td>\n",
       "      <td>0.762829</td>\n",
       "      <td>f1 micro</td>\n",
       "      <td>10</td>\n",
       "    </tr>\n",
       "    <tr>\n",
       "      <th>1</th>\n",
       "      <td>0.7733</td>\n",
       "      <td>0.8144</td>\n",
       "      <td>0.7999</td>\n",
       "      <td>0.7790</td>\n",
       "      <td>0.8551</td>\n",
       "      <td>0.8232</td>\n",
       "      <td>0.7117</td>\n",
       "      <td>0.809</td>\n",
       "      <td>0.7605</td>\n",
       "      <td>0.7959</td>\n",
       "      <td>0.792202</td>\n",
       "      <td>f1 macro</td>\n",
       "      <td>10</td>\n",
       "    </tr>\n",
       "  </tbody>\n",
       "</table>\n",
       "</div>"
      ],
      "text/plain": [
       "        1       2       3       4       5       6       7      8       9  \\\n",
       "0  0.7407  0.7925  0.7925  0.7255  0.8431  0.7959  0.6939  0.766  0.7391   \n",
       "1  0.7733  0.8144  0.7999  0.7790  0.8551  0.8232  0.7117  0.809  0.7605   \n",
       "\n",
       "       10   Average    metric cv fold  \n",
       "0  0.7391  0.762829  f1 micro      10  \n",
       "1  0.7959  0.792202  f1 macro      10  "
      ]
     },
     "execution_count": 85,
     "metadata": {},
     "output_type": "execute_result"
    }
   ],
   "source": [
    "cvp=['1','2','3','4','5','6','7','8','9','10','Average','metric','cv fold']\n",
    "cvs=[]\n",
    "clf_crs=cross_val_score(clfm, TrD, Tr_lbl, cv=10, scoring='f1_micro')\n",
    "sr1=[round(e,4) for e in clf_crs]\n",
    "a1=(sum(clf_crs)/10)\n",
    "sr1.append(a1)\n",
    "sr1.append('f1 micro')\n",
    "sr1.append('10')\n",
    "print(sr1,'\\n','Average Score :',a1)\n",
    "clf_crs=cross_val_score(clfm, TrD, Tr_lbl, cv=10, scoring='f1_macro')\n",
    "sr2=[round(e,4) for e in clf_crs]\n",
    "a2=(sum(clf_crs)/10)\n",
    "sr2.append(a2)\n",
    "sr2.append('f1 macro')\n",
    "sr2.append('10')\n",
    "print(sr2,'\\n','Average Score :',a2)\n",
    "cvs.append(sr1)\n",
    "cvs.append(sr2)\n",
    "rsl=pd.DataFrame(cvs, columns=cvp)\n",
    "rsl.to_csv('CSVOUT/NBMcvpf110.csv')\n",
    "rsl\n",
    "#print(len(sr1),len(sr2))"
   ]
  },
  {
   "cell_type": "code",
   "execution_count": 86,
   "metadata": {},
   "outputs": [
    {
     "name": "stdout",
     "output_type": "stream",
     "text": [
      "[0.7593, 0.7547, 0.7358, 0.8431, 0.7451, 0.7347, 0.7143, 0.7021, 0.7609, 0.7174, 0.7467428712089176, 'f1 micro', '10'] \n",
      " Average Score : 0.7467428712089176\n"
     ]
    },
    {
     "name": "stderr",
     "output_type": "stream",
     "text": [
      "c:\\python\\python37\\lib\\site-packages\\sklearn\\metrics\\classification.py:1143: UndefinedMetricWarning: F-score is ill-defined and being set to 0.0 in labels with no predicted samples.\n",
      "  'precision', 'predicted', average, warn_for)\n",
      "c:\\python\\python37\\lib\\site-packages\\sklearn\\metrics\\classification.py:1143: UndefinedMetricWarning: F-score is ill-defined and being set to 0.0 in labels with no predicted samples.\n",
      "  'precision', 'predicted', average, warn_for)\n",
      "c:\\python\\python37\\lib\\site-packages\\sklearn\\metrics\\classification.py:1143: UndefinedMetricWarning: F-score is ill-defined and being set to 0.0 in labels with no predicted samples.\n",
      "  'precision', 'predicted', average, warn_for)\n",
      "c:\\python\\python37\\lib\\site-packages\\sklearn\\metrics\\classification.py:1143: UndefinedMetricWarning: F-score is ill-defined and being set to 0.0 in labels with no predicted samples.\n",
      "  'precision', 'predicted', average, warn_for)\n",
      "c:\\python\\python37\\lib\\site-packages\\sklearn\\metrics\\classification.py:1143: UndefinedMetricWarning: F-score is ill-defined and being set to 0.0 in labels with no predicted samples.\n",
      "  'precision', 'predicted', average, warn_for)\n",
      "c:\\python\\python37\\lib\\site-packages\\sklearn\\metrics\\classification.py:1143: UndefinedMetricWarning: F-score is ill-defined and being set to 0.0 in labels with no predicted samples.\n",
      "  'precision', 'predicted', average, warn_for)\n",
      "c:\\python\\python37\\lib\\site-packages\\sklearn\\metrics\\classification.py:1143: UndefinedMetricWarning: F-score is ill-defined and being set to 0.0 in labels with no predicted samples.\n",
      "  'precision', 'predicted', average, warn_for)\n"
     ]
    },
    {
     "name": "stdout",
     "output_type": "stream",
     "text": [
      "[0.7459, 0.5792, 0.6716, 0.8489, 0.7052, 0.5946, 0.7042, 0.5468, 0.7639, 0.6271, 0.6787488550730713, 'f1 macro', '10'] \n",
      " Average Score : 0.6787488550730713\n"
     ]
    },
    {
     "name": "stderr",
     "output_type": "stream",
     "text": [
      "c:\\python\\python37\\lib\\site-packages\\sklearn\\metrics\\classification.py:1143: UndefinedMetricWarning: F-score is ill-defined and being set to 0.0 in labels with no predicted samples.\n",
      "  'precision', 'predicted', average, warn_for)\n"
     ]
    },
    {
     "data": {
      "text/html": [
       "<div>\n",
       "<style scoped>\n",
       "    .dataframe tbody tr th:only-of-type {\n",
       "        vertical-align: middle;\n",
       "    }\n",
       "\n",
       "    .dataframe tbody tr th {\n",
       "        vertical-align: top;\n",
       "    }\n",
       "\n",
       "    .dataframe thead th {\n",
       "        text-align: right;\n",
       "    }\n",
       "</style>\n",
       "<table border=\"1\" class=\"dataframe\">\n",
       "  <thead>\n",
       "    <tr style=\"text-align: right;\">\n",
       "      <th></th>\n",
       "      <th>1</th>\n",
       "      <th>2</th>\n",
       "      <th>3</th>\n",
       "      <th>4</th>\n",
       "      <th>5</th>\n",
       "      <th>6</th>\n",
       "      <th>7</th>\n",
       "      <th>8</th>\n",
       "      <th>9</th>\n",
       "      <th>10</th>\n",
       "      <th>Average</th>\n",
       "      <th>metric</th>\n",
       "      <th>cv fold</th>\n",
       "    </tr>\n",
       "  </thead>\n",
       "  <tbody>\n",
       "    <tr>\n",
       "      <th>0</th>\n",
       "      <td>0.7593</td>\n",
       "      <td>0.7547</td>\n",
       "      <td>0.7358</td>\n",
       "      <td>0.8431</td>\n",
       "      <td>0.7451</td>\n",
       "      <td>0.7347</td>\n",
       "      <td>0.7143</td>\n",
       "      <td>0.7021</td>\n",
       "      <td>0.7609</td>\n",
       "      <td>0.7174</td>\n",
       "      <td>0.746743</td>\n",
       "      <td>f1 micro</td>\n",
       "      <td>10</td>\n",
       "    </tr>\n",
       "    <tr>\n",
       "      <th>1</th>\n",
       "      <td>0.7459</td>\n",
       "      <td>0.5792</td>\n",
       "      <td>0.6716</td>\n",
       "      <td>0.8489</td>\n",
       "      <td>0.7052</td>\n",
       "      <td>0.5946</td>\n",
       "      <td>0.7042</td>\n",
       "      <td>0.5468</td>\n",
       "      <td>0.7639</td>\n",
       "      <td>0.6271</td>\n",
       "      <td>0.678749</td>\n",
       "      <td>f1 macro</td>\n",
       "      <td>10</td>\n",
       "    </tr>\n",
       "  </tbody>\n",
       "</table>\n",
       "</div>"
      ],
      "text/plain": [
       "        1       2       3       4       5       6       7       8       9  \\\n",
       "0  0.7593  0.7547  0.7358  0.8431  0.7451  0.7347  0.7143  0.7021  0.7609   \n",
       "1  0.7459  0.5792  0.6716  0.8489  0.7052  0.5946  0.7042  0.5468  0.7639   \n",
       "\n",
       "       10   Average    metric cv fold  \n",
       "0  0.7174  0.746743  f1 micro      10  \n",
       "1  0.6271  0.678749  f1 macro      10  "
      ]
     },
     "execution_count": 86,
     "metadata": {},
     "output_type": "execute_result"
    }
   ],
   "source": [
    "cvp=['1','2','3','4','5','6','7','8','9','10','Average','metric','cv fold']\n",
    "cvs=[]\n",
    "clf_crs=cross_val_score(clfm, TrDt, Tr_lbl, cv=10, scoring='f1_micro')\n",
    "sr1=[round(e,4) for e in clf_crs]\n",
    "a1=(sum(clf_crs)/10)\n",
    "sr1.append(a1)\n",
    "sr1.append('f1 micro')\n",
    "sr1.append('10')\n",
    "print(sr1,'\\n','Average Score :',a1)\n",
    "clf_crs=cross_val_score(clfm, TrDt, Tr_lbl, cv=10, scoring='f1_macro')\n",
    "sr2=[round(e,4) for e in clf_crs]\n",
    "a2=(sum(clf_crs)/10)\n",
    "sr2.append(a2)\n",
    "sr2.append('f1 macro')\n",
    "sr2.append('10')\n",
    "print(sr2,'\\n','Average Score :',a2)\n",
    "cvs.append(sr1)\n",
    "cvs.append(sr2)\n",
    "rsl=pd.DataFrame(cvs, columns=cvp)\n",
    "rsl.to_csv('CSVOUT/NBMcvpf110t.csv')\n",
    "rsl\n",
    "#print(len(sr1),len(sr2))"
   ]
  },
  {
   "cell_type": "code",
   "execution_count": 87,
   "metadata": {},
   "outputs": [
    {
     "name": "stderr",
     "output_type": "stream",
     "text": [
      "c:\\python\\python37\\lib\\site-packages\\sklearn\\model_selection\\_split.py:652: Warning: The least populated class in y has only 10 members, which is too few. The minimum number of members in any class cannot be less than n_splits=20.\n",
      "  % (min_groups, self.n_splits)), Warning)\n"
     ]
    },
    {
     "name": "stdout",
     "output_type": "stream",
     "text": [
      "[0.6207, 0.7586, 0.6897, 0.75, 0.8214, 0.7143, 0.7857, 0.8889, 0.7037, 0.8148, 0.8, 0.8333, 0.6667, 0.6522, 0.6957, 0.8571, 0.7143, 0.75, 0.6316, 0.8421, 0.7495370182494383, 'f1 micro', '20'] \n",
      " Average Score : 0.7495370182494383\n"
     ]
    },
    {
     "name": "stderr",
     "output_type": "stream",
     "text": [
      "c:\\python\\python37\\lib\\site-packages\\sklearn\\model_selection\\_split.py:652: Warning: The least populated class in y has only 10 members, which is too few. The minimum number of members in any class cannot be less than n_splits=20.\n",
      "  % (min_groups, self.n_splits)), Warning)\n",
      "c:\\python\\python37\\lib\\site-packages\\sklearn\\metrics\\classification.py:1143: UndefinedMetricWarning: F-score is ill-defined and being set to 0.0 in labels with no predicted samples.\n",
      "  'precision', 'predicted', average, warn_for)\n",
      "c:\\python\\python37\\lib\\site-packages\\sklearn\\metrics\\classification.py:1143: UndefinedMetricWarning: F-score is ill-defined and being set to 0.0 in labels with no predicted samples.\n",
      "  'precision', 'predicted', average, warn_for)\n",
      "c:\\python\\python37\\lib\\site-packages\\sklearn\\metrics\\classification.py:1143: UndefinedMetricWarning: F-score is ill-defined and being set to 0.0 in labels with no predicted samples.\n",
      "  'precision', 'predicted', average, warn_for)\n",
      "c:\\python\\python37\\lib\\site-packages\\sklearn\\metrics\\classification.py:1143: UndefinedMetricWarning: F-score is ill-defined and being set to 0.0 in labels with no predicted samples.\n",
      "  'precision', 'predicted', average, warn_for)\n",
      "c:\\python\\python37\\lib\\site-packages\\sklearn\\metrics\\classification.py:1143: UndefinedMetricWarning: F-score is ill-defined and being set to 0.0 in labels with no predicted samples.\n",
      "  'precision', 'predicted', average, warn_for)\n",
      "c:\\python\\python37\\lib\\site-packages\\sklearn\\metrics\\classification.py:1143: UndefinedMetricWarning: F-score is ill-defined and being set to 0.0 in labels with no predicted samples.\n",
      "  'precision', 'predicted', average, warn_for)\n",
      "c:\\python\\python37\\lib\\site-packages\\sklearn\\metrics\\classification.py:1143: UndefinedMetricWarning: F-score is ill-defined and being set to 0.0 in labels with no predicted samples.\n",
      "  'precision', 'predicted', average, warn_for)\n",
      "c:\\python\\python37\\lib\\site-packages\\sklearn\\metrics\\classification.py:1143: UndefinedMetricWarning: F-score is ill-defined and being set to 0.0 in labels with no predicted samples.\n",
      "  'precision', 'predicted', average, warn_for)\n",
      "c:\\python\\python37\\lib\\site-packages\\sklearn\\metrics\\classification.py:1143: UndefinedMetricWarning: F-score is ill-defined and being set to 0.0 in labels with no predicted samples.\n",
      "  'precision', 'predicted', average, warn_for)\n",
      "c:\\python\\python37\\lib\\site-packages\\sklearn\\metrics\\classification.py:1143: UndefinedMetricWarning: F-score is ill-defined and being set to 0.0 in labels with no predicted samples.\n",
      "  'precision', 'predicted', average, warn_for)\n",
      "c:\\python\\python37\\lib\\site-packages\\sklearn\\metrics\\classification.py:1143: UndefinedMetricWarning: F-score is ill-defined and being set to 0.0 in labels with no predicted samples.\n",
      "  'precision', 'predicted', average, warn_for)\n",
      "c:\\python\\python37\\lib\\site-packages\\sklearn\\metrics\\classification.py:1143: UndefinedMetricWarning: F-score is ill-defined and being set to 0.0 in labels with no predicted samples.\n",
      "  'precision', 'predicted', average, warn_for)\n",
      "c:\\python\\python37\\lib\\site-packages\\sklearn\\metrics\\classification.py:1143: UndefinedMetricWarning: F-score is ill-defined and being set to 0.0 in labels with no predicted samples.\n",
      "  'precision', 'predicted', average, warn_for)\n",
      "c:\\python\\python37\\lib\\site-packages\\sklearn\\metrics\\classification.py:1143: UndefinedMetricWarning: F-score is ill-defined and being set to 0.0 in labels with no predicted samples.\n",
      "  'precision', 'predicted', average, warn_for)\n"
     ]
    },
    {
     "name": "stdout",
     "output_type": "stream",
     "text": [
      "[0.5976, 0.7079, 0.5229, 0.6034, 0.7206, 0.5746, 0.8167, 0.7689, 0.5756, 0.7384, 0.7945, 0.7739, 0.5684, 0.4204, 0.5366, 0.7935, 0.6806, 0.6324, 0.5634, 0.6821, 0.6536208598500266, 'f1 macro', '20'] \n",
      " Average Score : 0.6536208598500266\n"
     ]
    },
    {
     "name": "stderr",
     "output_type": "stream",
     "text": [
      "c:\\python\\python37\\lib\\site-packages\\sklearn\\metrics\\classification.py:1143: UndefinedMetricWarning: F-score is ill-defined and being set to 0.0 in labels with no predicted samples.\n",
      "  'precision', 'predicted', average, warn_for)\n",
      "c:\\python\\python37\\lib\\site-packages\\sklearn\\metrics\\classification.py:1143: UndefinedMetricWarning: F-score is ill-defined and being set to 0.0 in labels with no predicted samples.\n",
      "  'precision', 'predicted', average, warn_for)\n",
      "c:\\python\\python37\\lib\\site-packages\\sklearn\\metrics\\classification.py:1143: UndefinedMetricWarning: F-score is ill-defined and being set to 0.0 in labels with no predicted samples.\n",
      "  'precision', 'predicted', average, warn_for)\n"
     ]
    },
    {
     "data": {
      "text/html": [
       "<div>\n",
       "<style scoped>\n",
       "    .dataframe tbody tr th:only-of-type {\n",
       "        vertical-align: middle;\n",
       "    }\n",
       "\n",
       "    .dataframe tbody tr th {\n",
       "        vertical-align: top;\n",
       "    }\n",
       "\n",
       "    .dataframe thead th {\n",
       "        text-align: right;\n",
       "    }\n",
       "</style>\n",
       "<table border=\"1\" class=\"dataframe\">\n",
       "  <thead>\n",
       "    <tr style=\"text-align: right;\">\n",
       "      <th></th>\n",
       "      <th>1</th>\n",
       "      <th>2</th>\n",
       "      <th>3</th>\n",
       "      <th>4</th>\n",
       "      <th>5</th>\n",
       "      <th>6</th>\n",
       "      <th>7</th>\n",
       "      <th>8</th>\n",
       "      <th>9</th>\n",
       "      <th>10</th>\n",
       "      <th>...</th>\n",
       "      <th>14</th>\n",
       "      <th>15</th>\n",
       "      <th>16</th>\n",
       "      <th>17</th>\n",
       "      <th>18</th>\n",
       "      <th>19</th>\n",
       "      <th>20</th>\n",
       "      <th>Average</th>\n",
       "      <th>metric</th>\n",
       "      <th>cv fold</th>\n",
       "    </tr>\n",
       "  </thead>\n",
       "  <tbody>\n",
       "    <tr>\n",
       "      <th>0</th>\n",
       "      <td>0.6207</td>\n",
       "      <td>0.7586</td>\n",
       "      <td>0.6897</td>\n",
       "      <td>0.7500</td>\n",
       "      <td>0.8214</td>\n",
       "      <td>0.7143</td>\n",
       "      <td>0.7857</td>\n",
       "      <td>0.8889</td>\n",
       "      <td>0.7037</td>\n",
       "      <td>0.8148</td>\n",
       "      <td>...</td>\n",
       "      <td>0.6522</td>\n",
       "      <td>0.6957</td>\n",
       "      <td>0.8571</td>\n",
       "      <td>0.7143</td>\n",
       "      <td>0.7500</td>\n",
       "      <td>0.6316</td>\n",
       "      <td>0.8421</td>\n",
       "      <td>0.749537</td>\n",
       "      <td>f1 micro</td>\n",
       "      <td>20</td>\n",
       "    </tr>\n",
       "    <tr>\n",
       "      <th>1</th>\n",
       "      <td>0.5976</td>\n",
       "      <td>0.7079</td>\n",
       "      <td>0.5229</td>\n",
       "      <td>0.6034</td>\n",
       "      <td>0.7206</td>\n",
       "      <td>0.5746</td>\n",
       "      <td>0.8167</td>\n",
       "      <td>0.7689</td>\n",
       "      <td>0.5756</td>\n",
       "      <td>0.7384</td>\n",
       "      <td>...</td>\n",
       "      <td>0.4204</td>\n",
       "      <td>0.5366</td>\n",
       "      <td>0.7935</td>\n",
       "      <td>0.6806</td>\n",
       "      <td>0.6324</td>\n",
       "      <td>0.5634</td>\n",
       "      <td>0.6821</td>\n",
       "      <td>0.653621</td>\n",
       "      <td>f1 macro</td>\n",
       "      <td>20</td>\n",
       "    </tr>\n",
       "  </tbody>\n",
       "</table>\n",
       "<p>2 rows × 23 columns</p>\n",
       "</div>"
      ],
      "text/plain": [
       "        1       2       3       4       5       6       7       8       9  \\\n",
       "0  0.6207  0.7586  0.6897  0.7500  0.8214  0.7143  0.7857  0.8889  0.7037   \n",
       "1  0.5976  0.7079  0.5229  0.6034  0.7206  0.5746  0.8167  0.7689  0.5756   \n",
       "\n",
       "       10  ...      14      15      16      17      18      19      20  \\\n",
       "0  0.8148  ...  0.6522  0.6957  0.8571  0.7143  0.7500  0.6316  0.8421   \n",
       "1  0.7384  ...  0.4204  0.5366  0.7935  0.6806  0.6324  0.5634  0.6821   \n",
       "\n",
       "    Average    metric  cv fold  \n",
       "0  0.749537  f1 micro       20  \n",
       "1  0.653621  f1 macro       20  \n",
       "\n",
       "[2 rows x 23 columns]"
      ]
     },
     "execution_count": 87,
     "metadata": {},
     "output_type": "execute_result"
    }
   ],
   "source": [
    "cvp=['1','2','3','4','5','6','7','8','9','10','11','12','13','14','15','16','17','18','19','20',\n",
    "    'Average','metric','cv fold']\n",
    "cvs=[]\n",
    "clf_crs=cross_val_score(clfm, TrDt, Tr_lbl, cv=20, scoring='f1_micro')\n",
    "sr1=[round(e,4) for e in clf_crs]\n",
    "a1=(sum(clf_crs)/20)\n",
    "sr1.append(a1)\n",
    "sr1.append('f1 micro')\n",
    "sr1.append('20')\n",
    "print(sr1,'\\n','Average Score :',a1)\n",
    "clf_crs=cross_val_score(clfm, TrDt, Tr_lbl, cv=20, scoring='f1_macro')\n",
    "sr2=[round(e,4) for e in clf_crs]\n",
    "a2=(sum(clf_crs)/20)\n",
    "sr2.append(a2)\n",
    "sr2.append('f1 macro')\n",
    "sr2.append('20')\n",
    "print(sr2,'\\n','Average Score :',a2)\n",
    "cvs.append(sr1)\n",
    "cvs.append(sr2)\n",
    "rsl=pd.DataFrame(cvs, columns=cvp)\n",
    "rsl.to_csv('CSVOUT/NBMcvpf120d.csv')\n",
    "rsl\n",
    "#print(len(sr1),len(sr2))"
   ]
  },
  {
   "cell_type": "code",
   "execution_count": 97,
   "metadata": {},
   "outputs": [],
   "source": [
    "vc=CountVectorizer(analyzer='word', binary=False, lowercase=True, max_df=0.35, min_df=0.005,\n",
    "                   ngram_range=(1, 2), stop_words=stpwd)\n",
    "idft=TfidfTransformer()"
   ]
  },
  {
   "cell_type": "code",
   "execution_count": 98,
   "metadata": {},
   "outputs": [],
   "source": [
    "TrDX=vc.fit_transform(Trfob)\n",
    "TrDtX=idft.fit_transform(TrDX.toarray())"
   ]
  },
  {
   "cell_type": "code",
   "execution_count": 99,
   "metadata": {},
   "outputs": [],
   "source": [
    "TrD=pd.DataFrame(TrDX.toarray(), columns=vc.get_feature_names())\n",
    "TrDt=pd.DataFrame(TrDtX.toarray(), columns=vc.get_feature_names())"
   ]
  },
  {
   "cell_type": "code",
   "execution_count": 100,
   "metadata": {},
   "outputs": [],
   "source": [
    "vc1=CountVectorizer(analyzer='word', binary=False, lowercase=True, max_df=0.4, min_df=0.01,\n",
    "                   ngram_range=(1, 2), stop_words=stpwd)\n",
    "idft1=TfidfTransformer()"
   ]
  },
  {
   "cell_type": "code",
   "execution_count": 101,
   "metadata": {},
   "outputs": [],
   "source": [
    "TrD1X=vc1.fit_transform(Trfob)\n",
    "TrDt1X=idft1.fit_transform(TrD1X.toarray())"
   ]
  },
  {
   "cell_type": "code",
   "execution_count": 102,
   "metadata": {},
   "outputs": [],
   "source": [
    "TrD1=pd.DataFrame(TrD1X.toarray(), columns=vc1.get_feature_names())\n",
    "TrDt1=pd.DataFrame(TrDt1X.toarray(), columns=vc1.get_feature_names())"
   ]
  },
  {
   "cell_type": "code",
   "execution_count": 104,
   "metadata": {},
   "outputs": [],
   "source": [
    "TrDX=TrDtX=TrD1X=TrDt1X=None"
   ]
  },
  {
   "cell_type": "code",
   "execution_count": 103,
   "metadata": {},
   "outputs": [
    {
     "name": "stdout",
     "output_type": "stream",
     "text": [
      "(499, 5289) (499, 5289) (499, 2439) (499, 2439)\n"
     ]
    }
   ],
   "source": [
    "print(TrD.shape,TrDt.shape,TrD1.shape,TrDt1.shape)"
   ]
  },
  {
   "cell_type": "code",
   "execution_count": 106,
   "metadata": {},
   "outputs": [],
   "source": [
    "v1=TrD.var()\n",
    "v2=TrDt.var()\n",
    "v3=TrD1.var()\n",
    "v4=TrDt1.var()"
   ]
  },
  {
   "cell_type": "code",
   "execution_count": 107,
   "metadata": {},
   "outputs": [],
   "source": [
    "cv1=TrD.cov()\n",
    "cv2=TrDt.cov()\n",
    "cv3=TrD1.cov()\n",
    "cv4=TrDt1.cov()"
   ]
  },
  {
   "cell_type": "code",
   "execution_count": 109,
   "metadata": {},
   "outputs": [],
   "source": [
    "cr1=TrD.corr()"
   ]
  },
  {
   "cell_type": "code",
   "execution_count": 110,
   "metadata": {},
   "outputs": [],
   "source": [
    "cr2=TrDt.corr()"
   ]
  },
  {
   "cell_type": "code",
   "execution_count": 111,
   "metadata": {},
   "outputs": [],
   "source": [
    "cr3=TrD1.corr()"
   ]
  },
  {
   "cell_type": "code",
   "execution_count": 112,
   "metadata": {},
   "outputs": [],
   "source": [
    "cr4=TrDt1.corr()"
   ]
  },
  {
   "cell_type": "code",
   "execution_count": 113,
   "metadata": {},
   "outputs": [
    {
     "name": "stdout",
     "output_type": "stream",
     "text": [
      "0.005987879373204242 11.218364439722775\n"
     ]
    }
   ],
   "source": [
    "print(min(v1),max(v1))"
   ]
  },
  {
   "cell_type": "code",
   "execution_count": 114,
   "metadata": {},
   "outputs": [
    {
     "name": "stdout",
     "output_type": "stream",
     "text": [
      "6.920911882702201e-06 0.011919795898280064\n"
     ]
    }
   ],
   "source": [
    "print(min(v2),max(v2))"
   ]
  },
  {
   "cell_type": "code",
   "execution_count": 115,
   "metadata": {},
   "outputs": [
    {
     "name": "stdout",
     "output_type": "stream",
     "text": [
      "0.009939557830520482 11.218364439722775\n"
     ]
    }
   ],
   "source": [
    "print(min(v3),max(v3))"
   ]
  },
  {
   "cell_type": "code",
   "execution_count": 116,
   "metadata": {},
   "outputs": [
    {
     "name": "stdout",
     "output_type": "stream",
     "text": [
      "1.3284643064703313e-05 0.01359895330434166\n"
     ]
    }
   ],
   "source": [
    "print(min(v4),max(v4))"
   ]
  },
  {
   "cell_type": "code",
   "execution_count": 140,
   "metadata": {},
   "outputs": [
    {
     "name": "stdout",
     "output_type": "stream",
     "text": [
      "0.0009453582907922103 0.9903573454339194\n"
     ]
    }
   ],
   "source": [
    "k1u=[e for e in v1 if(e>5)]\n",
    "k1l=[e for e in v1 if(e<1)]\n",
    "print(len(k1u)/5289, len(k1l)/5289)"
   ]
  },
  {
   "cell_type": "code",
   "execution_count": 141,
   "metadata": {},
   "outputs": [
    {
     "name": "stdout",
     "output_type": "stream",
     "text": [
      "0.0274153904329741 0.07335980336547551\n"
     ]
    }
   ],
   "source": [
    "k2u=[e for e in v2 if(e>10**-3)]\n",
    "k2l=[e for e in v2 if(e<10**-5)]\n",
    "print(len(k2u)/5289, len(k2l)/5289)"
   ]
  },
  {
   "cell_type": "code",
   "execution_count": 142,
   "metadata": {},
   "outputs": [
    {
     "name": "stdout",
     "output_type": "stream",
     "text": [
      "0.0024600246002460025 0.9782697826978269\n"
     ]
    }
   ],
   "source": [
    "k3u=[e for e in v3 if(e>5)]\n",
    "k3l=[e for e in v3 if(e<1)]\n",
    "print(len(k3u)/2439, len(k3l)/2439)"
   ]
  },
  {
   "cell_type": "code",
   "execution_count": 143,
   "metadata": {},
   "outputs": [
    {
     "name": "stdout",
     "output_type": "stream",
     "text": [
      "0.08077080770807708 0.25379253792537926\n"
     ]
    }
   ],
   "source": [
    "k4u=[e for e in v4 if(e>10**-3)]\n",
    "k4l=[e for e in v4 if(e<10**-4)]\n",
    "print(len(k4u)/2439, len(k4l)/2439)"
   ]
  },
  {
   "cell_type": "code",
   "execution_count": null,
   "metadata": {},
   "outputs": [],
   "source": [
    "confp=['max df', 'min df', 'ngram', 'idf','no. token','max var', 'min var','phvrc','plvrc']\n",
    "conf=[]\n",
    "conf.append((0.35,0.005,'1 - 2','No','5289','11.218',0,'0.0009','0.990'))\n",
    "conf.append((0.35,0.005,'1 - 2','Yes','5289','0.011',0,'0.027','0.073'))\n",
    "conf.append((0.35,0.005,'1 - 2','No','2439','11.218',0,'0.0024','0.978'))\n",
    "conf.append((0.4,0.01,'1 - 2','Yes','2439','0.013',0,'0.080','0.253'))\n",
    "rl=pd.DataFrame(conf, columns=confp)\n",
    "rl.to_csv('CSVOUT/NBMVar.csv')\n",
    "rl"
   ]
  },
  {
   "cell_type": "code",
   "execution_count": 148,
   "metadata": {},
   "outputs": [
    {
     "name": "stdout",
     "output_type": "stream",
     "text": [
      "3936 67502\n"
     ]
    }
   ],
   "source": [
    "cCl1=set()\n",
    "crCl1=set()\n",
    "for cl in cr1:\n",
    "    lidx=cr1.index[(abs(cr1[cl])>0.65) & (cr1[cl]<1)].tolist()\n",
    "    for e in lidx:\n",
    "        cCl1.add(e)\n",
    "        if((e, cl) not in crCl1):\n",
    "            crCl1.add((cl, e)) \n",
    "print(len(cCl1),len(crCl1))"
   ]
  },
  {
   "cell_type": "code",
   "execution_count": 149,
   "metadata": {},
   "outputs": [
    {
     "name": "stdout",
     "output_type": "stream",
     "text": [
      "0.7441860465116279 0.004827048059383947\n"
     ]
    }
   ],
   "source": [
    "print(len(cCl1)/5289,len(crCl1)/(5289*2645-5289))"
   ]
  },
  {
   "cell_type": "code",
   "execution_count": 150,
   "metadata": {},
   "outputs": [
    {
     "name": "stdout",
     "output_type": "stream",
     "text": [
      "4074 33369\n"
     ]
    }
   ],
   "source": [
    "cCl2=set()\n",
    "crCl2=set()\n",
    "for cl in cr2:\n",
    "    lidx=cr2.index[(abs(cr2[cl])>0.65) & (cr2[cl]<1)].tolist()\n",
    "    for e in lidx:\n",
    "        cCl2.add(e)\n",
    "        if((e, cl) not in crCl2):\n",
    "            crCl2.add((cl, e))\n",
    "print(len(cCl2),len(crCl2))"
   ]
  },
  {
   "cell_type": "code",
   "execution_count": 151,
   "metadata": {},
   "outputs": [
    {
     "name": "stdout",
     "output_type": "stream",
     "text": [
      "0.7702779353374929 0.0023862073226509277\n"
     ]
    }
   ],
   "source": [
    "print(len(cCl2)/5289,len(crCl2)/(5289*2645-5289))"
   ]
  },
  {
   "cell_type": "code",
   "execution_count": 152,
   "metadata": {},
   "outputs": [
    {
     "name": "stdout",
     "output_type": "stream",
     "text": [
      "1240 6303\n"
     ]
    }
   ],
   "source": [
    "cCl3=set()\n",
    "crCl3=set()\n",
    "for cl in cr3:\n",
    "    lidx=cr3.index[(abs(cr3[cl])>0.65) & (cr3[cl]<1)].tolist()\n",
    "    for e in lidx:\n",
    "        cCl3.add(e)\n",
    "        if((e, cl) not in crCl3):\n",
    "            crCl3.add((cl, e))\n",
    "print(len(cCl3),len(crCl3))"
   ]
  },
  {
   "cell_type": "code",
   "execution_count": 153,
   "metadata": {},
   "outputs": [
    {
     "name": "stdout",
     "output_type": "stream",
     "text": [
      "0.5084050840508405 0.004243441449192817\n"
     ]
    }
   ],
   "source": [
    "print(len(cCl3)/2439,len(crCl3)/(((2439*1220)/2)-2439))"
   ]
  },
  {
   "cell_type": "code",
   "execution_count": 156,
   "metadata": {},
   "outputs": [
    {
     "name": "stdout",
     "output_type": "stream",
     "text": [
      "1160 3146\n"
     ]
    }
   ],
   "source": [
    "cCl4=set()\n",
    "crCl4=set()\n",
    "for cl in cr4:\n",
    "    lidx=cr4.index[(abs(cr4[cl])>0.65) & (cr4[cl]<1)].tolist()\n",
    "    for e in lidx:\n",
    "        cCl4.add(e)\n",
    "        if((e, cl) not in crCl4):\n",
    "            crCl4.add((cl, e))\n",
    "print(len(cCl4),len(crCl4))"
   ]
  },
  {
   "cell_type": "code",
   "execution_count": 155,
   "metadata": {},
   "outputs": [
    {
     "name": "stdout",
     "output_type": "stream",
     "text": [
      "0.4756047560475605 0.0021180178961067117\n"
     ]
    }
   ],
   "source": [
    "print(len(cCl4)/2439,len(crCl4)/(((2439*1220)/2)-2439))"
   ]
  },
  {
   "cell_type": "code",
   "execution_count": 160,
   "metadata": {},
   "outputs": [
    {
     "data": {
      "text/html": [
       "<div>\n",
       "<style scoped>\n",
       "    .dataframe tbody tr th:only-of-type {\n",
       "        vertical-align: middle;\n",
       "    }\n",
       "\n",
       "    .dataframe tbody tr th {\n",
       "        vertical-align: top;\n",
       "    }\n",
       "\n",
       "    .dataframe thead th {\n",
       "        text-align: right;\n",
       "    }\n",
       "</style>\n",
       "<table border=\"1\" class=\"dataframe\">\n",
       "  <thead>\n",
       "    <tr style=\"text-align: right;\">\n",
       "      <th></th>\n",
       "      <th>max df</th>\n",
       "      <th>min df</th>\n",
       "      <th>ngram</th>\n",
       "      <th>idf</th>\n",
       "      <th>no. token</th>\n",
       "      <th>phrc</th>\n",
       "    </tr>\n",
       "  </thead>\n",
       "  <tbody>\n",
       "    <tr>\n",
       "      <th>0</th>\n",
       "      <td>0.35</td>\n",
       "      <td>0.005</td>\n",
       "      <td>1 - 2</td>\n",
       "      <td>No</td>\n",
       "      <td>5289</td>\n",
       "      <td>0.744</td>\n",
       "    </tr>\n",
       "    <tr>\n",
       "      <th>1</th>\n",
       "      <td>0.35</td>\n",
       "      <td>0.005</td>\n",
       "      <td>1 - 2</td>\n",
       "      <td>Yes</td>\n",
       "      <td>5289</td>\n",
       "      <td>0.770</td>\n",
       "    </tr>\n",
       "    <tr>\n",
       "      <th>2</th>\n",
       "      <td>0.35</td>\n",
       "      <td>0.005</td>\n",
       "      <td>1 - 2</td>\n",
       "      <td>No</td>\n",
       "      <td>2439</td>\n",
       "      <td>0.508</td>\n",
       "    </tr>\n",
       "    <tr>\n",
       "      <th>3</th>\n",
       "      <td>0.40</td>\n",
       "      <td>0.010</td>\n",
       "      <td>1 - 2</td>\n",
       "      <td>Yes</td>\n",
       "      <td>2439</td>\n",
       "      <td>0.475</td>\n",
       "    </tr>\n",
       "  </tbody>\n",
       "</table>\n",
       "</div>"
      ],
      "text/plain": [
       "   max df  min df  ngram  idf no. token   phrc\n",
       "0    0.35   0.005  1 - 2   No      5289  0.744\n",
       "1    0.35   0.005  1 - 2  Yes      5289  0.770\n",
       "2    0.35   0.005  1 - 2   No      2439  0.508\n",
       "3    0.40   0.010  1 - 2  Yes      2439  0.475"
      ]
     },
     "execution_count": 160,
     "metadata": {},
     "output_type": "execute_result"
    }
   ],
   "source": [
    "confp=['max df', 'min df', 'ngram', 'idf','no. token','phrc']\n",
    "conf=[]\n",
    "conf.append((0.35,0.005,'1 - 2','No','5289',0.744))\n",
    "conf.append((0.35,0.005,'1 - 2','Yes','5289',0.770))\n",
    "conf.append((0.35,0.005,'1 - 2','No','2439',0.508))\n",
    "conf.append((0.4,0.01,'1 - 2','Yes','2439',0.475))\n",
    "rlr=pd.DataFrame(conf, columns=confp)\n",
    "rlr.to_csv('CSVOUT/NBMcr.csv')\n",
    "rlr"
   ]
  },
  {
   "cell_type": "code",
   "execution_count": 169,
   "metadata": {},
   "outputs": [],
   "source": [
    "cvi1=cv1.min()\n",
    "cvx1=cv1.max()\n",
    "cvi2=cv2.min()\n",
    "cvx2=cv2.max()\n",
    "cvi3=cv3.min()\n",
    "cvx3=cv3.max()\n",
    "cvi4=cv4.min()\n",
    "cvx4=cv4.max()"
   ]
  },
  {
   "cell_type": "code",
   "execution_count": 171,
   "metadata": {},
   "outputs": [],
   "source": [
    "q11,q13=cvi1.quantile(q=0.3),cvx1.quantile(q=0.7)\n",
    "q21,q23=cvi2.quantile(q=0.3),cvx2.quantile(q=0.7)\n",
    "q31,q33=cvi3.quantile(q=0.3),cvx3.quantile(q=0.7)\n",
    "q41,q43=cvi4.quantile(q=0.3),cvx4.quantile(q=0.7)\n",
    "q51,q53=cvi1.quantile(q=0.1),cvx1.quantile(q=0.6)\n",
    "q61,q63=cvi2.quantile(q=0.1),cvx2.quantile(q=0.6)\n",
    "q71,q73=cvi3.quantile(q=0.1),cvx3.quantile(q=0.6)\n",
    "q81,q83=cvi4.quantile(q=0.1),cvx4.quantile(q=0.6)"
   ]
  },
  {
   "cell_type": "code",
   "execution_count": 172,
   "metadata": {},
   "outputs": [
    {
     "name": "stdout",
     "output_type": "stream",
     "text": [
      "-0.016962438934093108 0.09990664059041773\n",
      "-4.173639455293909e-05 0.00023423164060581335\n",
      "-0.03761337936918016 0.16026913264279524\n",
      "-0.00010242512631146642 0.00044158068004898274\n",
      "-0.04082140183982425 0.08238806931131332\n",
      "-9.164979703173737e-05 0.00018377175259275998\n",
      "-0.08478804999557342 0.12121994994004062\n",
      "-0.00020439680507525277 0.0003472073754846079\n"
     ]
    }
   ],
   "source": [
    "print(q11,q13)\n",
    "print(q21,q23)\n",
    "print(q31,q33)\n",
    "print(q41,q43)\n",
    "print(q51,q53)\n",
    "print(q61,q63)\n",
    "print(q71,q73)\n",
    "print(q81,q83)"
   ]
  },
  {
   "cell_type": "code",
   "execution_count": 168,
   "metadata": {},
   "outputs": [
    {
     "name": "stdout",
     "output_type": "stream",
     "text": [
      "2350 52068\n"
     ]
    }
   ],
   "source": [
    "cCVl1i1=set()\n",
    "cvCl1i1=set()\n",
    "for cl in cv1:\n",
    "    lidx=cv1.index[(abs(cv1[cl])<q11)].tolist()\n",
    "    for e in lidx:\n",
    "        cCVl3.add(e)\n",
    "        if((e, cl) not in cvCl3):\n",
    "            cvCl3.add((cl, e))\n",
    "print(len(cCVl3),len(cvCl3))\n",
    "#(((2439*1220)/2)-2439)"
   ]
  },
  {
   "cell_type": "code",
   "execution_count": null,
   "metadata": {},
   "outputs": [],
   "source": []
  },
  {
   "cell_type": "code",
   "execution_count": null,
   "metadata": {},
   "outputs": [],
   "source": []
  },
  {
   "cell_type": "code",
   "execution_count": null,
   "metadata": {},
   "outputs": [],
   "source": []
  },
  {
   "cell_type": "code",
   "execution_count": null,
   "metadata": {},
   "outputs": [],
   "source": []
  },
  {
   "cell_type": "code",
   "execution_count": null,
   "metadata": {},
   "outputs": [],
   "source": []
  },
  {
   "cell_type": "code",
   "execution_count": null,
   "metadata": {},
   "outputs": [],
   "source": []
  },
  {
   "cell_type": "code",
   "execution_count": null,
   "metadata": {},
   "outputs": [],
   "source": []
  },
  {
   "cell_type": "code",
   "execution_count": null,
   "metadata": {},
   "outputs": [],
   "source": []
  }
 ],
 "metadata": {
  "kernelspec": {
   "display_name": "Python 3",
   "language": "python",
   "name": "python3"
  },
  "language_info": {
   "codemirror_mode": {
    "name": "ipython",
    "version": 3
   },
   "file_extension": ".py",
   "mimetype": "text/x-python",
   "name": "python",
   "nbconvert_exporter": "python",
   "pygments_lexer": "ipython3",
   "version": "3.7.2"
  }
 },
 "nbformat": 4,
 "nbformat_minor": 2
}
