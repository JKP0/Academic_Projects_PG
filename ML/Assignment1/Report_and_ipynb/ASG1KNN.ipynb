{
 "cells": [
  {
   "cell_type": "code",
   "execution_count": 1,
   "metadata": {},
   "outputs": [],
   "source": [
    "import pandas as pd\n",
    "import glob as gb\n",
    "import matplotlib.pyplot as plt\n",
    "import seaborn as sb\n",
    "from sklearn.feature_extraction.text import ENGLISH_STOP_WORDS, CountVectorizer, TfidfTransformer\n",
    "from sklearn.preprocessing import LabelEncoder\n",
    "from nltk.stem import WordNetLemmatizer, PorterStemmer\n",
    "from sklearn.pipeline import Pipeline"
   ]
  },
  {
   "cell_type": "code",
   "execution_count": 2,
   "metadata": {},
   "outputs": [],
   "source": [
    "from sklearn.metrics import precision_score, recall_score, f1_score, confusion_matrix, accuracy_score\n",
    "from sklearn.model_selection import  RandomizedSearchCV\n",
    "from sklearn.model_selection import cross_val_score\n",
    "from sklearn.neighbors import KNeighborsClassifier"
   ]
  },
  {
   "cell_type": "code",
   "execution_count": 3,
   "metadata": {},
   "outputs": [],
   "source": [
    "TrnFlsPth=gb.glob(\"DTrain/*/*\")\n",
    "TstFlsPth=gb.glob(\"DTest/*/*\")"
   ]
  },
  {
   "cell_type": "code",
   "execution_count": 4,
   "metadata": {},
   "outputs": [
    {
     "name": "stdout",
     "output_type": "stream",
     "text": [
      "['alum', 'barley', 'coffee', 'dmk', 'fuel', 'livestock', 'palm-oil', 'retail', 'soybean', 'veg-oil'] \n",
      " ['alum', 'barley', 'coffee', 'dmk', 'fuel', 'livestock', 'palm-oil', 'retail', 'soybean', 'veg-oil']\n"
     ]
    }
   ],
   "source": [
    "Tr_lbl=[e.strip().split('\\\\')[1] for e in TrnFlsPth]\n",
    "Ts_lbl=[e.strip().split('\\\\')[1] for e in TstFlsPth]\n",
    "trl=[]\n",
    "a={trl.append(e) for e in Tr_lbl if(e not in trl)}\n",
    "tsl=[]\n",
    "a={tsl.append(e) for e in Ts_lbl if(e not in tsl)}\n",
    "a=None\n",
    "print(trl, '\\n', tsl)"
   ]
  },
  {
   "cell_type": "code",
   "execution_count": 5,
   "metadata": {},
   "outputs": [],
   "source": [
    "le =LabelEncoder()\n",
    "Y_Tr=le.fit_transform(Tr_lbl)\n",
    "Y_Ts=le.fit_transform(Ts_lbl)"
   ]
  },
  {
   "cell_type": "code",
   "execution_count": 6,
   "metadata": {},
   "outputs": [
    {
     "data": {
      "text/plain": [
       "False"
      ]
     },
     "execution_count": 6,
     "metadata": {},
     "output_type": "execute_result"
    }
   ],
   "source": [
    "fpt=[open(f) for f in TrnFlsPth]\n",
    "Trfob=[f.read().replace(\"\\\\\",'').replace('//',' ').replace('/',' ') for f in fpt]\n",
    "all(f.close() for f in fpt)"
   ]
  },
  {
   "cell_type": "code",
   "execution_count": 7,
   "metadata": {},
   "outputs": [],
   "source": [
    "fpt=[open(f) for f in TstFlsPth]\n",
    "Tsfob=[f.read().replace(\"\\\\\",'').replace('//',' ').replace('/',' ') for f in fpt]\n",
    "all(f.close() for f in fpt)\n",
    "fpt=None"
   ]
  },
  {
   "cell_type": "code",
   "execution_count": 8,
   "metadata": {},
   "outputs": [],
   "source": [
    "rd={'\\n':' ','<':' ','>':' ','(':' ',')':' ','[':' ',']':' ','{':' ','}':' ','?':' ',  \n",
    "    ':':' ', \",\":'','.':' ', '|':' ', '_':' ', '||':' '}\n",
    "#\\"
   ]
  },
  {
   "cell_type": "code",
   "execution_count": 9,
   "metadata": {},
   "outputs": [],
   "source": [
    "Trfob=[''.join([rd.get(c,c) for c in flob]) for flob in Trfob]\n",
    "Tsfob=[''.join([rd.get(c,c) for c in flob]) for flob in Tsfob]"
   ]
  },
  {
   "cell_type": "code",
   "execution_count": 10,
   "metadata": {},
   "outputs": [],
   "source": [
    "Trfob=[' '.join(flob.split()) for flob in Trfob]\n",
    "Tsfob=[' '.join(flob.split()) for flob in Tsfob]"
   ]
  },
  {
   "cell_type": "code",
   "execution_count": 11,
   "metadata": {},
   "outputs": [],
   "source": [
    "lm=WordNetLemmatizer()\n",
    "ps=PorterStemmer()\n",
    "Trfob=[' '.join([lm.lemmatize(word) for word in text.split(' ')]) for text in Trfob]\n",
    "Tsfob=[' '.join([lm.lemmatize(word) for word in text.split(' ')]) for text in Tsfob]\n",
    "Trfob=[' '.join([ps.stem(word) for word in text.split(' ')]) for text in Trfob]\n",
    "Tsfob=[' '.join([ps.stem(word) for word in text.split(' ')]) for text in Tsfob]"
   ]
  },
  {
   "cell_type": "code",
   "execution_count": 12,
   "metadata": {},
   "outputs": [
    {
     "data": {
      "text/plain": [
       "\"nippon light metal continu aluminium output cut tokyo march 2 - nippon light metal Co ltd nlgt T which ha annual capac of 63000 tonn will continu primari aluminium product at a rate of 35000 tonn owe to low domest and world price and low water suppli at it hydroelectr power plant a compani offici said nippon which ha no plan to restor output to the 48000 tonn a year at which it wa work until late 1986 will becom japan' onli smelter ryoka light metal industri ltd will stop smelt in april owe to high power cost and low price and mitsui aluminium Co ltd ha said it stop smelt in februari\""
      ]
     },
     "execution_count": 12,
     "metadata": {},
     "output_type": "execute_result"
    }
   ],
   "source": [
    "Trfob[0]"
   ]
  },
  {
   "cell_type": "code",
   "execution_count": 13,
   "metadata": {},
   "outputs": [],
   "source": [
    "vc=CountVectorizer(analyzer='word', binary=False, lowercase=True, max_df=0.3, min_df=1,\n",
    "                   ngram_range=(1, 1), stop_words='english')\n",
    "idft=TfidfTransformer()"
   ]
  },
  {
   "cell_type": "code",
   "execution_count": 14,
   "metadata": {},
   "outputs": [],
   "source": [
    "TrDvcX=vc.fit_transform(Trfob)\n",
    "TrDtvcX=idft.fit_transform(TrDvcX.toarray())\n",
    "###############\n",
    "TsDvcX=vc.transform(Tsfob)\n",
    "TsDtvcX=idft.transform(TsDvcX.toarray())"
   ]
  },
  {
   "cell_type": "code",
   "execution_count": 15,
   "metadata": {},
   "outputs": [],
   "source": [
    "TrDvc=pd.DataFrame(TrDvcX.toarray(), columns=vc.get_feature_names())\n",
    "TrDtvc=pd.DataFrame(TrDtvcX.toarray(), columns=vc.get_feature_names())\n",
    "###############\n",
    "TsDvc=pd.DataFrame(TsDvcX.toarray(), columns=vc.get_feature_names())\n",
    "TsDtvc=pd.DataFrame(TsDtvcX.toarray(), columns=vc.get_feature_names())"
   ]
  },
  {
   "cell_type": "code",
   "execution_count": 16,
   "metadata": {},
   "outputs": [
    {
     "name": "stdout",
     "output_type": "stream",
     "text": [
      "(499, 5694) (499, 5694) (185, 5694) (185, 5694)\n"
     ]
    }
   ],
   "source": [
    "print(TrDvc.shape, TrDtvc.shape, TsDvc.shape, TsDtvc.shape)"
   ]
  },
  {
   "cell_type": "code",
   "execution_count": 17,
   "metadata": {},
   "outputs": [
    {
     "data": {
      "text/plain": [
       "488"
      ]
     },
     "execution_count": 17,
     "metadata": {},
     "output_type": "execute_result"
    }
   ],
   "source": [
    "lex=['0','00','000','0000']\n",
    "exstp=[fv for fv in TrDtvc if(len(fv)<3)]\n",
    "stpwd=ENGLISH_STOP_WORDS.union(exstp,lex)\n",
    "len(stpwd)"
   ]
  },
  {
   "cell_type": "code",
   "execution_count": 18,
   "metadata": {},
   "outputs": [],
   "source": [
    "#########"
   ]
  },
  {
   "cell_type": "code",
   "execution_count": 19,
   "metadata": {},
   "outputs": [],
   "source": [
    "evlp=['Precision_micro','Recall_micro','Precision_macro','Recall_macro','f1_micro',\n",
    "     'f1_macro','Accuracy']\n",
    "confp=['max df','min df','ngram','idf','no. token','algorithm','leafsize',\n",
    "       'metric','K','p']\n",
    "confg=[]\n",
    "prf=[]\n",
    "clfk=KNeighborsClassifier()"
   ]
  },
  {
   "cell_type": "code",
   "execution_count": 20,
   "metadata": {},
   "outputs": [
    {
     "data": {
      "text/plain": [
       "KNeighborsClassifier(algorithm='auto', leaf_size=30, metric='minkowski',\n",
       "           metric_params=None, n_jobs=None, n_neighbors=5, p=2,\n",
       "           weights='uniform')"
      ]
     },
     "execution_count": 20,
     "metadata": {},
     "output_type": "execute_result"
    }
   ],
   "source": [
    "clfk.fit(TrDvc, Tr_lbl)"
   ]
  },
  {
   "cell_type": "code",
   "execution_count": 21,
   "metadata": {},
   "outputs": [
    {
     "name": "stdout",
     "output_type": "stream",
     "text": [
      "0.5783783783783784 \n",
      " 0.5783783783783784 \n",
      " 0.6407062111330404 \n",
      " 0.6006629455542499\n"
     ]
    }
   ],
   "source": [
    "y_pred=clfk.predict(TsDvc)\n",
    "a1=precision_score(Ts_lbl, y_pred, average='micro')\n",
    "a2=recall_score(Ts_lbl, y_pred, average='micro')\n",
    "a3=precision_score(Ts_lbl, y_pred, average='macro')\n",
    "a4=recall_score(Ts_lbl, y_pred, average='macro') \n",
    "print(a1,'\\n',a2,'\\n',a3,'\\n',a4)"
   ]
  },
  {
   "cell_type": "code",
   "execution_count": 22,
   "metadata": {},
   "outputs": [
    {
     "name": "stdout",
     "output_type": "stream",
     "text": [
      "0.5783783783783784 \n",
      " 0.5417071431483197 \n",
      " 0.5783783783783784\n"
     ]
    }
   ],
   "source": [
    "a5=f1_score(Ts_lbl, y_pred, average='micro')\n",
    "a6=f1_score(Ts_lbl, y_pred, average='macro')\n",
    "a7=accuracy_score(Ts_lbl, y_pred)\n",
    "print(a5,'\\n',a6,'\\n',a7)\n",
    "prf.append((round(a1,4),round(a2,4),round(a3,4),round(a4,4),round(a5,4),round(a6,4),\n",
    "              round(a7,4)))\n",
    "confg.append(('0.3','1',\"1 - 1\",'No','5694','auto','30','minkowski','5','2'))"
   ]
  },
  {
   "cell_type": "code",
   "execution_count": 23,
   "metadata": {},
   "outputs": [],
   "source": [
    "cm=confusion_matrix(Ts_lbl, y_pred)\n",
    "m=pd.DataFrame(cm, columns=tsl, index=tsl)"
   ]
  },
  {
   "cell_type": "code",
   "execution_count": 24,
   "metadata": {},
   "outputs": [
    {
     "data": {
      "image/png": "[encoded data removed]",
      "text/plain": [
       "<Figure size 504x504 with 2 Axes>"
      ]
     },
     "metadata": {
      "needs_background": "light"
     },
     "output_type": "display_data"
    }
   ],
   "source": [
    "plt.figure(figsize=(7,7))\n",
    "sb.set(font_scale=1.6)\n",
    "sb.heatmap(m, annot=True, cmap=\"YlGnBu\", linewidths=.5, annot_kws={\"size\": 18})\n",
    "plt.xlabel('Predicted Class')\n",
    "plt.ylabel('Actual Class')\n",
    "#plt.title('Confusion Matrix KNN_fig1')\n",
    "plt.savefig('Fig/KNNcm1.png', dpi=300, bbox_inches='tight', pad_inches=0.2)"
   ]
  },
  {
   "cell_type": "code",
   "execution_count": 25,
   "metadata": {},
   "outputs": [],
   "source": [
    "################t"
   ]
  },
  {
   "cell_type": "code",
   "execution_count": 26,
   "metadata": {},
   "outputs": [
    {
     "data": {
      "text/plain": [
       "KNeighborsClassifier(algorithm='auto', leaf_size=30, metric='minkowski',\n",
       "           metric_params=None, n_jobs=None, n_neighbors=5, p=2,\n",
       "           weights='uniform')"
      ]
     },
     "execution_count": 26,
     "metadata": {},
     "output_type": "execute_result"
    }
   ],
   "source": [
    "clfk.fit(TrDtvc, Tr_lbl) "
   ]
  },
  {
   "cell_type": "code",
   "execution_count": 27,
   "metadata": {},
   "outputs": [
    {
     "name": "stdout",
     "output_type": "stream",
     "text": [
      "0.6918918918918919 \n",
      " 0.6918918918918919 \n",
      " 0.7297990966721617 \n",
      " 0.6970608298869169\n"
     ]
    }
   ],
   "source": [
    "y_pred=clfk.predict(TsDtvc)\n",
    "a1=precision_score(Ts_lbl, y_pred, average='micro')\n",
    "a2=recall_score(Ts_lbl, y_pred, average='micro')\n",
    "a3=precision_score(Ts_lbl, y_pred, average='macro')\n",
    "a4=recall_score(Ts_lbl, y_pred, average='macro') \n",
    "print(a1,'\\n',a2,'\\n',a3,'\\n',a4)"
   ]
  },
  {
   "cell_type": "code",
   "execution_count": 28,
   "metadata": {},
   "outputs": [
    {
     "name": "stdout",
     "output_type": "stream",
     "text": [
      "0.6918918918918919 \n",
      " 0.6811779324718897 \n",
      " 0.6918918918918919\n"
     ]
    }
   ],
   "source": [
    "a5=f1_score(Ts_lbl, y_pred, average='micro')\n",
    "a6=f1_score(Ts_lbl, y_pred, average='macro')\n",
    "a7=accuracy_score(Ts_lbl, y_pred)\n",
    "print(a5,'\\n',a6,'\\n',a7)\n",
    "prf.append((round(a1,4),round(a2,4),round(a3,4),round(a4,4),round(a5,4),round(a6,4),\n",
    "              round(a7,4)))\n",
    "confg.append(('0.3','1',\"1 - 1\",'Yes','5694','auto','30','minkowski','5','2'))"
   ]
  },
  {
   "cell_type": "code",
   "execution_count": 29,
   "metadata": {},
   "outputs": [],
   "source": [
    "cm=confusion_matrix(Ts_lbl, y_pred)\n",
    "m=pd.DataFrame(cm, columns=tsl, index=tsl)"
   ]
  },
  {
   "cell_type": "code",
   "execution_count": 30,
   "metadata": {},
   "outputs": [
    {
     "data": {
      "image/png": "[encoded data removed]",
      "text/plain": [
       "<Figure size 504x504 with 2 Axes>"
      ]
     },
     "metadata": {},
     "output_type": "display_data"
    }
   ],
   "source": [
    "plt.figure(figsize=(7,7))\n",
    "sb.set(font_scale=1.6)\n",
    "sb.heatmap(m, annot=True, cmap=\"YlGnBu\", linewidths=.5, fmt=\"d\", annot_kws={\"size\": 18})\n",
    "plt.xlabel('Predicted Class')\n",
    "plt.ylabel('Actual Class')\n",
    "plt.savefig('Fig/KNNcm2.png', dpi=300, bbox_inches='tight', pad_inches=0.2)"
   ]
  },
  {
   "cell_type": "code",
   "execution_count": 31,
   "metadata": {},
   "outputs": [
    {
     "data": {
      "text/html": [
       "<div>\n",
       "<style scoped>\n",
       "    .dataframe tbody tr th:only-of-type {\n",
       "        vertical-align: middle;\n",
       "    }\n",
       "\n",
       "    .dataframe tbody tr th {\n",
       "        vertical-align: top;\n",
       "    }\n",
       "\n",
       "    .dataframe thead th {\n",
       "        text-align: right;\n",
       "    }\n",
       "</style>\n",
       "<table border=\"1\" class=\"dataframe\">\n",
       "  <thead>\n",
       "    <tr style=\"text-align: right;\">\n",
       "      <th></th>\n",
       "      <th>max df</th>\n",
       "      <th>min df</th>\n",
       "      <th>ngram</th>\n",
       "      <th>idf</th>\n",
       "      <th>no. token</th>\n",
       "      <th>algorithm</th>\n",
       "      <th>leafsize</th>\n",
       "      <th>metric</th>\n",
       "      <th>K</th>\n",
       "      <th>p</th>\n",
       "    </tr>\n",
       "  </thead>\n",
       "  <tbody>\n",
       "    <tr>\n",
       "      <th>0</th>\n",
       "      <td>0.3</td>\n",
       "      <td>1</td>\n",
       "      <td>1 - 1</td>\n",
       "      <td>No</td>\n",
       "      <td>5694</td>\n",
       "      <td>auto</td>\n",
       "      <td>30</td>\n",
       "      <td>minkowski</td>\n",
       "      <td>5</td>\n",
       "      <td>2</td>\n",
       "    </tr>\n",
       "    <tr>\n",
       "      <th>1</th>\n",
       "      <td>0.3</td>\n",
       "      <td>1</td>\n",
       "      <td>1 - 1</td>\n",
       "      <td>Yes</td>\n",
       "      <td>5694</td>\n",
       "      <td>auto</td>\n",
       "      <td>30</td>\n",
       "      <td>minkowski</td>\n",
       "      <td>5</td>\n",
       "      <td>2</td>\n",
       "    </tr>\n",
       "  </tbody>\n",
       "</table>\n",
       "</div>"
      ],
      "text/plain": [
       "  max df min df  ngram  idf no. token algorithm leafsize     metric  K  p\n",
       "0    0.3      1  1 - 1   No      5694      auto       30  minkowski  5  2\n",
       "1    0.3      1  1 - 1  Yes      5694      auto       30  minkowski  5  2"
      ]
     },
     "execution_count": 31,
     "metadata": {},
     "output_type": "execute_result"
    }
   ],
   "source": [
    "stp=pd.DataFrame(confg, columns=confp)\n",
    "stp.to_csv('CSVOUT/KNNconf1.csv')\n",
    "stp"
   ]
  },
  {
   "cell_type": "code",
   "execution_count": 32,
   "metadata": {},
   "outputs": [
    {
     "data": {
      "image/png": "[encoded data removed]",
      "text/plain": [
       "<Figure size 720x144 with 2 Axes>"
      ]
     },
     "metadata": {},
     "output_type": "display_data"
    }
   ],
   "source": [
    "rsl=pd.DataFrame(prf, columns=evlp)\n",
    "rsl.to_csv('CSVOUT/KNNprf1.csv')\n",
    "plt.figure(figsize=(10,2))\n",
    "sb.set(font_scale=1.6)\n",
    "sb.heatmap(rsl, annot=True, cmap=\"YlGnBu\", linewidths=.5, fmt=\"g\", annot_kws={\"size\": 18})\n",
    "plt.xlabel('Performance')\n",
    "plt.ylabel('Configuration')\n",
    "#plt.title('Confusion Matrix KNN_fig2')\n",
    "plt.savefig('Fig/KNNprf1.png', dpi=300, bbox_inches='tight', pad_inches=0.2)"
   ]
  },
  {
   "cell_type": "code",
   "execution_count": 33,
   "metadata": {},
   "outputs": [],
   "source": [
    "ruk ruk################"
   ]
  },
  {
   "cell_type": "code",
   "execution_count": 34,
   "metadata": {},
   "outputs": [
    {
     "data": {
      "text/plain": [
       "KNeighborsClassifier(algorithm='auto', leaf_size=30, metric='minkowski',\n",
       "           metric_params=None, n_jobs=None, n_neighbors=5, p=2,\n",
       "           weights='uniform')"
      ]
     },
     "execution_count": 34,
     "metadata": {},
     "output_type": "execute_result"
    }
   ],
   "source": [
    "prf=[]\n",
    "clsfv=KNeighborsClassifier()\n",
    "clsfv"
   ]
  },
  {
   "cell_type": "code",
   "execution_count": 35,
   "metadata": {},
   "outputs": [],
   "source": [
    "pipclf = Pipeline([('vct', vc), ('clf',clsfv)])#('idf', idft),"
   ]
  },
  {
   "cell_type": "code",
   "execution_count": 36,
   "metadata": {},
   "outputs": [],
   "source": [
    "mxd=[ 0.3, 0.35, 0.4]\n",
    "mid=[0.005,0.01, 0.05, 0.1,1]\n",
    "ngm=[(1,2),(1,3),(2,5),(1,7),(1,9),(1,12)]"
   ]
  },
  {
   "cell_type": "code",
   "execution_count": 37,
   "metadata": {},
   "outputs": [],
   "source": [
    "K=[7,10,12,15,18]\n",
    "lfsz=[30,40,60,75,100]"
   ]
  },
  {
   "cell_type": "code",
   "execution_count": 38,
   "metadata": {},
   "outputs": [],
   "source": [
    "#mtr=['cosine'] ##'minkowski', not supported for sparse matrix\n",
    "#alg=['kd_tree', 'brute']#ball_tree\n",
    "#pp=[1,2,3,4]\n",
    "pramg={\"vct__max_df\":mxd, \"vct__min_df\":mid, \"vct__ngram_range\":ngm,\n",
    "       \"vct__stop_words\":['english', stpwd],\n",
    "       \"clf__algorithm\":[\"brute\"], \"clf__leaf_size\":lfsz, \"clf__n_neighbors\":K,\n",
    "       \"clf__metric\":['cosine'],\n",
    "       }#\"clf__metric\":mtr,"
   ]
  },
  {
   "cell_type": "code",
   "execution_count": 39,
   "metadata": {},
   "outputs": [
    {
     "name": "stderr",
     "output_type": "stream",
     "text": [
      "c:\\python\\python37\\lib\\site-packages\\sklearn\\model_selection\\_search.py:841: DeprecationWarning: The default of the `iid` parameter will change from True to False in version 0.22 and will be removed in 0.24. This will change numeric results when test-set sizes are unequal.\n",
      "  DeprecationWarning)\n"
     ]
    }
   ],
   "source": [
    "rCV=RandomizedSearchCV(pipclf, pramg, n_jobs=7, cv=10, scoring='f1_micro',\n",
    "                        return_train_score=True) \n",
    "##f1_score(average='macro')\n",
    "rCV.fit(Trfob, Tr_lbl)\n",
    "clfrb=rCV.best_estimator_"
   ]
  },
  {
   "cell_type": "code",
   "execution_count": 40,
   "metadata": {},
   "outputs": [
    {
     "data": {
      "text/plain": [
       "{'vct': CountVectorizer(analyzer='word', binary=False, decode_error='strict',\n",
       "         dtype=<class 'numpy.int64'>, encoding='utf-8', input='content',\n",
       "         lowercase=True, max_df=0.35, max_features=None, min_df=0.005,\n",
       "         ngram_range=(1, 9), preprocessor=None,\n",
       "         stop_words=frozenset({'el', 'several', 'be', 'then', 'they', '60', 'al', '90', 'vt', 'both', '06', '22', '31', 'last', 'now', 'whom', '51', 'about', 'dn', 'name', '61', 'co', '85', 'everything', 'being', 'beside', 'hi', 'in', 'sometime', '11', 'moreover', 'do', 'down', 'seeming', 'something', '72', ... '37', 'onto', '56', 'whereupon', '86', 'through', 'st', 're', 'via', 'further', 'very', 'amongst'}),\n",
       "         strip_accents=None, token_pattern='(?u)\\\\b\\\\w\\\\w+\\\\b',\n",
       "         tokenizer=None, vocabulary=None),\n",
       " 'clf': KNeighborsClassifier(algorithm='brute', leaf_size=75, metric='cosine',\n",
       "            metric_params=None, n_jobs=None, n_neighbors=7, p=2,\n",
       "            weights='uniform')}"
      ]
     },
     "execution_count": 40,
     "metadata": {},
     "output_type": "execute_result"
    }
   ],
   "source": [
    "clfrb.named_steps"
   ]
  },
  {
   "cell_type": "code",
   "execution_count": 41,
   "metadata": {},
   "outputs": [
    {
     "name": "stdout",
     "output_type": "stream",
     "text": [
      "0.654054054054054 \n",
      " 0.654054054054054 \n",
      " 0.6828121732069101 \n",
      " 0.6305569714265367 \n",
      " 0.654054054054054 \n",
      " 0.6037045536773322 \n",
      " 0.654054054054054\n"
     ]
    }
   ],
   "source": [
    "clfrb.fit(Trfob, Tr_lbl)\n",
    "y_pred=clfrb.predict(Tsfob) \n",
    "a1=precision_score(Ts_lbl, y_pred, average='micro')\n",
    "a2=recall_score(Ts_lbl, y_pred, average='micro')\n",
    "a3=precision_score(Ts_lbl, y_pred, average='macro')\n",
    "a4=recall_score(Ts_lbl, y_pred, average='macro') \n",
    "a5=f1_score(Ts_lbl, y_pred, average='micro')\n",
    "a6=f1_score(Ts_lbl, y_pred, average='macro')\n",
    "a7=accuracy_score(Ts_lbl, y_pred)\n",
    "print(a1,'\\n',a2,'\\n',a3,'\\n',a4,'\\n',a5,'\\n',a6,'\\n',a7)\n",
    "prf.append((round(a1,4),round(a2,4),round(a3,4),round(a4,4),round(a5,4),round(a6,4),\n",
    "              round(a7,4)))"
   ]
  },
  {
   "cell_type": "code",
   "execution_count": 42,
   "metadata": {},
   "outputs": [],
   "source": [
    "#############"
   ]
  },
  {
   "cell_type": "code",
   "execution_count": 43,
   "metadata": {},
   "outputs": [
    {
     "name": "stderr",
     "output_type": "stream",
     "text": [
      "c:\\python\\python37\\lib\\site-packages\\sklearn\\model_selection\\_search.py:841: DeprecationWarning: The default of the `iid` parameter will change from True to False in version 0.22 and will be removed in 0.24. This will change numeric results when test-set sizes are unequal.\n",
      "  DeprecationWarning)\n"
     ]
    }
   ],
   "source": [
    "rCV=RandomizedSearchCV(pipclf, pramg, n_jobs=7, cv=10, scoring='f1_micro',\n",
    "                        return_train_score=True) \n",
    "##f1_score(average='macro')\n",
    "rCV.fit(Trfob, Tr_lbl)\n",
    "clfrb=rCV.best_estimator_"
   ]
  },
  {
   "cell_type": "code",
   "execution_count": 44,
   "metadata": {},
   "outputs": [
    {
     "data": {
      "text/plain": [
       "{'vct': CountVectorizer(analyzer='word', binary=False, decode_error='strict',\n",
       "         dtype=<class 'numpy.int64'>, encoding='utf-8', input='content',\n",
       "         lowercase=True, max_df=0.35, max_features=None, min_df=0.05,\n",
       "         ngram_range=(1, 7), preprocessor=None,\n",
       "         stop_words=frozenset({'el', 'several', 'be', 'then', 'they', '60', 'al', '90', 'vt', 'both', '06', '22', '31', 'last', 'now', 'whom', '51', 'about', 'dn', 'name', '61', 'co', '85', 'everything', 'being', 'beside', 'hi', 'in', 'sometime', '11', 'moreover', 'do', 'down', 'seeming', 'something', '72', ... '37', 'onto', '56', 'whereupon', '86', 'through', 'st', 're', 'via', 'further', 'very', 'amongst'}),\n",
       "         strip_accents=None, token_pattern='(?u)\\\\b\\\\w\\\\w+\\\\b',\n",
       "         tokenizer=None, vocabulary=None),\n",
       " 'clf': KNeighborsClassifier(algorithm='brute', leaf_size=75, metric='cosine',\n",
       "            metric_params=None, n_jobs=None, n_neighbors=12, p=2,\n",
       "            weights='uniform')}"
      ]
     },
     "execution_count": 44,
     "metadata": {},
     "output_type": "execute_result"
    }
   ],
   "source": [
    "clfrb.named_steps"
   ]
  },
  {
   "cell_type": "code",
   "execution_count": 45,
   "metadata": {},
   "outputs": [
    {
     "name": "stdout",
     "output_type": "stream",
     "text": [
      "0.6270270270270271 \n",
      " 0.6270270270270271 \n",
      " 0.6454334454071295 \n",
      " 0.6276051474964518 \n",
      " 0.6270270270270271 \n",
      " 0.5955976941816113 \n",
      " 0.6270270270270271\n"
     ]
    }
   ],
   "source": [
    "clfrb.fit(Trfob, Tr_lbl)\n",
    "y_pred=clfrb.predict(Tsfob) \n",
    "a1=precision_score(Ts_lbl, y_pred, average='micro')\n",
    "a2=recall_score(Ts_lbl, y_pred, average='micro')\n",
    "a3=precision_score(Ts_lbl, y_pred, average='macro')\n",
    "a4=recall_score(Ts_lbl, y_pred, average='macro') \n",
    "a5=f1_score(Ts_lbl, y_pred, average='micro')\n",
    "a6=f1_score(Ts_lbl, y_pred, average='macro')\n",
    "a7=accuracy_score(Ts_lbl, y_pred)\n",
    "print(a1,'\\n',a2,'\\n',a3,'\\n',a4,'\\n',a5,'\\n',a6,'\\n',a7)\n",
    "prf.append((round(a1,4),round(a2,4),round(a3,4),round(a4,4),round(a5,4),round(a6,4),\n",
    "              round(a7,4)))"
   ]
  },
  {
   "cell_type": "code",
   "execution_count": 46,
   "metadata": {},
   "outputs": [],
   "source": [
    "##############ruk ruk"
   ]
  },
  {
   "cell_type": "code",
   "execution_count": 47,
   "metadata": {},
   "outputs": [],
   "source": [
    "#mtr=['cosine'] #'minkowski', not supported for sparse matrix\n",
    "alg=['ball_tree','kd_tree']#ball_tree\n",
    "pp=[2,3,4]\n",
    "pramg={\"vct__max_df\":mxd, \"vct__min_df\":mid, \"vct__ngram_range\":ngm,\n",
    "       \"vct__stop_words\":['english', stpwd],\n",
    "       \"clf__algorithm\":alg, \"clf__leaf_size\":lfsz, \"clf__n_neighbors\":K,\n",
    "       \"clf__metric\":['euclidean'], \"clf__p\":pp\n",
    "       }#\"clf__metric\":mtr,\"clf__metric\":['chebyshev'],"
   ]
  },
  {
   "cell_type": "code",
   "execution_count": 48,
   "metadata": {},
   "outputs": [
    {
     "name": "stderr",
     "output_type": "stream",
     "text": [
      "c:\\python\\python37\\lib\\site-packages\\sklearn\\model_selection\\_search.py:841: DeprecationWarning: The default of the `iid` parameter will change from True to False in version 0.22 and will be removed in 0.24. This will change numeric results when test-set sizes are unequal.\n",
      "  DeprecationWarning)\n",
      "c:\\python\\python37\\lib\\site-packages\\sklearn\\neighbors\\base.py:217: UserWarning: cannot use tree with sparse input: using brute force\n",
      "  warnings.warn(\"cannot use tree with sparse input: \"\n"
     ]
    }
   ],
   "source": [
    "rCV=RandomizedSearchCV(pipclf, pramg, n_jobs=7, cv=10, scoring='f1_micro',\n",
    "                        return_train_score=True) \n",
    "##f1_score(average='macro')\n",
    "rCV.fit(Trfob, Tr_lbl)\n",
    "clfrb=rCV.best_estimator_"
   ]
  },
  {
   "cell_type": "code",
   "execution_count": 49,
   "metadata": {},
   "outputs": [
    {
     "data": {
      "text/plain": [
       "{'vct': CountVectorizer(analyzer='word', binary=False, decode_error='strict',\n",
       "         dtype=<class 'numpy.int64'>, encoding='utf-8', input='content',\n",
       "         lowercase=True, max_df=0.4, max_features=None, min_df=0.1,\n",
       "         ngram_range=(1, 3), preprocessor=None, stop_words='english',\n",
       "         strip_accents=None, token_pattern='(?u)\\\\b\\\\w\\\\w+\\\\b',\n",
       "         tokenizer=None, vocabulary=None),\n",
       " 'clf': KNeighborsClassifier(algorithm='ball_tree', leaf_size=30, metric='euclidean',\n",
       "            metric_params=None, n_jobs=None, n_neighbors=12, p=3,\n",
       "            weights='uniform')}"
      ]
     },
     "execution_count": 49,
     "metadata": {},
     "output_type": "execute_result"
    }
   ],
   "source": [
    "clfrb.named_steps"
   ]
  },
  {
   "cell_type": "code",
   "execution_count": 50,
   "metadata": {},
   "outputs": [
    {
     "name": "stdout",
     "output_type": "stream",
     "text": [
      "0.4918918918918919 \n",
      " 0.4918918918918919 \n",
      " 0.5689591445480419 \n",
      " 0.48796938666503886 \n",
      " 0.4918918918918919 \n",
      " 0.44706617888653233 \n",
      " 0.4918918918918919\n"
     ]
    },
    {
     "name": "stderr",
     "output_type": "stream",
     "text": [
      "c:\\python\\python37\\lib\\site-packages\\sklearn\\neighbors\\base.py:217: UserWarning: cannot use tree with sparse input: using brute force\n",
      "  warnings.warn(\"cannot use tree with sparse input: \"\n"
     ]
    }
   ],
   "source": [
    "clfrb.fit(Trfob, Tr_lbl)\n",
    "y_pred=clfrb.predict(Tsfob) \n",
    "a1=precision_score(Ts_lbl, y_pred, average='micro')\n",
    "a2=recall_score(Ts_lbl, y_pred, average='micro')\n",
    "a3=precision_score(Ts_lbl, y_pred, average='macro')\n",
    "a4=recall_score(Ts_lbl, y_pred, average='macro') \n",
    "a5=f1_score(Ts_lbl, y_pred, average='micro')\n",
    "a6=f1_score(Ts_lbl, y_pred, average='macro')\n",
    "a7=accuracy_score(Ts_lbl, y_pred)\n",
    "print(a1,'\\n',a2,'\\n',a3,'\\n',a4,'\\n',a5,'\\n',a6,'\\n',a7)\n",
    "prf.append((round(a1,4),round(a2,4),round(a3,4),round(a4,4),round(a5,4),round(a6,4),\n",
    "              round(a7,4)))"
   ]
  },
  {
   "cell_type": "code",
   "execution_count": 51,
   "metadata": {},
   "outputs": [
    {
     "name": "stderr",
     "output_type": "stream",
     "text": [
      "c:\\python\\python37\\lib\\site-packages\\sklearn\\model_selection\\_search.py:841: DeprecationWarning: The default of the `iid` parameter will change from True to False in version 0.22 and will be removed in 0.24. This will change numeric results when test-set sizes are unequal.\n",
      "  DeprecationWarning)\n",
      "c:\\python\\python37\\lib\\site-packages\\sklearn\\neighbors\\base.py:217: UserWarning: cannot use tree with sparse input: using brute force\n",
      "  warnings.warn(\"cannot use tree with sparse input: \"\n"
     ]
    }
   ],
   "source": [
    "rCV=RandomizedSearchCV(pipclf, pramg, n_jobs=7, cv=10, scoring='f1_micro',\n",
    "                        return_train_score=True) \n",
    "##f1_score(average='macro')\n",
    "rCV.fit(Trfob, Tr_lbl)\n",
    "clfrb=rCV.best_estimator_"
   ]
  },
  {
   "cell_type": "code",
   "execution_count": 52,
   "metadata": {},
   "outputs": [
    {
     "data": {
      "text/plain": [
       "{'vct': CountVectorizer(analyzer='word', binary=False, decode_error='strict',\n",
       "         dtype=<class 'numpy.int64'>, encoding='utf-8', input='content',\n",
       "         lowercase=True, max_df=0.35, max_features=None, min_df=0.01,\n",
       "         ngram_range=(1, 2), preprocessor=None,\n",
       "         stop_words=frozenset({'el', 'several', 'be', 'then', 'they', '60', 'al', '90', 'vt', 'both', '06', '22', '31', 'last', 'now', 'whom', '51', 'about', 'dn', 'name', '61', 'co', '85', 'everything', 'being', 'beside', 'hi', 'in', 'sometime', '11', 'moreover', 'do', 'down', 'seeming', 'something', '72', ... '37', 'onto', '56', 'whereupon', '86', 'through', 'st', 're', 'via', 'further', 'very', 'amongst'}),\n",
       "         strip_accents=None, token_pattern='(?u)\\\\b\\\\w\\\\w+\\\\b',\n",
       "         tokenizer=None, vocabulary=None),\n",
       " 'clf': KNeighborsClassifier(algorithm='kd_tree', leaf_size=75, metric='euclidean',\n",
       "            metric_params=None, n_jobs=None, n_neighbors=10, p=2,\n",
       "            weights='uniform')}"
      ]
     },
     "execution_count": 52,
     "metadata": {},
     "output_type": "execute_result"
    }
   ],
   "source": [
    "clfrb.named_steps"
   ]
  },
  {
   "cell_type": "code",
   "execution_count": 53,
   "metadata": {},
   "outputs": [
    {
     "name": "stdout",
     "output_type": "stream",
     "text": [
      "0.5513513513513514 \n",
      " 0.5513513513513514 \n",
      " 0.6506010656010656 \n",
      " 0.5792617674139413 \n",
      " 0.5513513513513514 \n",
      " 0.5556326282127356 \n",
      " 0.5513513513513514\n"
     ]
    },
    {
     "name": "stderr",
     "output_type": "stream",
     "text": [
      "c:\\python\\python37\\lib\\site-packages\\sklearn\\neighbors\\base.py:217: UserWarning: cannot use tree with sparse input: using brute force\n",
      "  warnings.warn(\"cannot use tree with sparse input: \"\n"
     ]
    }
   ],
   "source": [
    "clfrb.fit(Trfob, Tr_lbl)\n",
    "y_pred=clfrb.predict(Tsfob) \n",
    "a1=precision_score(Ts_lbl, y_pred, average='micro')\n",
    "a2=recall_score(Ts_lbl, y_pred, average='micro')\n",
    "a3=precision_score(Ts_lbl, y_pred, average='macro')\n",
    "a4=recall_score(Ts_lbl, y_pred, average='macro') \n",
    "a5=f1_score(Ts_lbl, y_pred, average='micro')\n",
    "a6=f1_score(Ts_lbl, y_pred, average='macro')\n",
    "a7=accuracy_score(Ts_lbl, y_pred)\n",
    "print(a1,'\\n',a2,'\\n',a3,'\\n',a4,'\\n',a5,'\\n',a6,'\\n',a7)\n",
    "prf.append((round(a1,4),round(a2,4),round(a3,4),round(a4,4),round(a5,4),round(a6,4),\n",
    "              round(a7,4)))"
   ]
  },
  {
   "cell_type": "code",
   "execution_count": 54,
   "metadata": {},
   "outputs": [
    {
     "data": {
      "image/png": "[encoded data removed]",
      "text/plain": [
       "<Figure size 720x216 with 2 Axes>"
      ]
     },
     "metadata": {},
     "output_type": "display_data"
    }
   ],
   "source": [
    "rsl=pd.DataFrame(prf, columns=evlp)\n",
    "rsl.to_csv('CSVOUT/KNNprf2.csv')\n",
    "plt.figure(figsize=(10,3))\n",
    "sb.set(font_scale=1.6)\n",
    "sb.heatmap(rsl, annot=True, cmap=\"YlGnBu\", linewidths=.5, fmt=\"g\", annot_kws={\"size\": 18})\n",
    "plt.xlabel('Performance')\n",
    "plt.ylabel('Configuration')\n",
    "#plt.title('Confusion Matrix KNN_fig2')\n",
    "plt.savefig('Fig/KNNprf2.png', dpi=300, bbox_inches='tight', pad_inches=0.2)"
   ]
  },
  {
   "cell_type": "code",
   "execution_count": 55,
   "metadata": {},
   "outputs": [],
   "source": [
    "#ruk ruk ################ ruk ruk##########################################"
   ]
  },
  {
   "cell_type": "code",
   "execution_count": 56,
   "metadata": {},
   "outputs": [],
   "source": [
    "prf=[]\n",
    "pipclf = Pipeline([('vct', vc), ('idf', idft), ('clf',clsfv)])#"
   ]
  },
  {
   "cell_type": "code",
   "execution_count": 57,
   "metadata": {},
   "outputs": [],
   "source": [
    "#mtr=['cosine'] ##'minkowski', not supported for sparse matrix\n",
    "#alg=['kd_tree', 'brute']#ball_tree\n",
    "#pp=[1,2,3,4]\n",
    "pramg={\"vct__max_df\":mxd, \"vct__min_df\":mid, \"vct__ngram_range\":ngm,\n",
    "       \"vct__stop_words\":['english', stpwd],\n",
    "       \"clf__algorithm\":[\"brute\"], \"clf__leaf_size\":lfsz, \"clf__n_neighbors\":K,\n",
    "       \"clf__metric\":['cosine'],\n",
    "       }#\"clf__metric\":mtr,"
   ]
  },
  {
   "cell_type": "code",
   "execution_count": 58,
   "metadata": {},
   "outputs": [],
   "source": [
    "########ruk ruk"
   ]
  },
  {
   "cell_type": "code",
   "execution_count": 59,
   "metadata": {},
   "outputs": [
    {
     "name": "stderr",
     "output_type": "stream",
     "text": [
      "c:\\python\\python37\\lib\\site-packages\\sklearn\\model_selection\\_search.py:841: DeprecationWarning: The default of the `iid` parameter will change from True to False in version 0.22 and will be removed in 0.24. This will change numeric results when test-set sizes are unequal.\n",
      "  DeprecationWarning)\n"
     ]
    }
   ],
   "source": [
    "rCV=RandomizedSearchCV(pipclf, pramg, n_jobs=7, cv=10, scoring='f1_micro',\n",
    "                        return_train_score=True) \n",
    "##f1_score(average='macro')\n",
    "rCV.fit(Trfob, Tr_lbl)\n",
    "clfrb=rCV.best_estimator_"
   ]
  },
  {
   "cell_type": "code",
   "execution_count": 60,
   "metadata": {},
   "outputs": [
    {
     "data": {
      "text/plain": [
       "{'vct': CountVectorizer(analyzer='word', binary=False, decode_error='strict',\n",
       "         dtype=<class 'numpy.int64'>, encoding='utf-8', input='content',\n",
       "         lowercase=True, max_df=0.35, max_features=None, min_df=0.01,\n",
       "         ngram_range=(1, 2), preprocessor=None, stop_words='english',\n",
       "         strip_accents=None, token_pattern='(?u)\\\\b\\\\w\\\\w+\\\\b',\n",
       "         tokenizer=None, vocabulary=None),\n",
       " 'idf': TfidfTransformer(norm='l2', smooth_idf=True, sublinear_tf=False, use_idf=True),\n",
       " 'clf': KNeighborsClassifier(algorithm='brute', leaf_size=40, metric='cosine',\n",
       "            metric_params=None, n_jobs=None, n_neighbors=18, p=2,\n",
       "            weights='uniform')}"
      ]
     },
     "execution_count": 60,
     "metadata": {},
     "output_type": "execute_result"
    }
   ],
   "source": [
    "clfrb.named_steps"
   ]
  },
  {
   "cell_type": "code",
   "execution_count": 61,
   "metadata": {},
   "outputs": [
    {
     "name": "stdout",
     "output_type": "stream",
     "text": [
      "0.6648648648648648 \n",
      " 0.6648648648648648 \n",
      " 0.6900673912376041 \n",
      " 0.6424767525854482 \n",
      " 0.6648648648648648 \n",
      " 0.6263755980861244 \n",
      " 0.6648648648648648\n"
     ]
    }
   ],
   "source": [
    "clfrb.fit(Trfob, Tr_lbl)\n",
    "y_pred=clfrb.predict(Tsfob) \n",
    "a1=precision_score(Ts_lbl, y_pred, average='micro')\n",
    "a2=recall_score(Ts_lbl, y_pred, average='micro')\n",
    "a3=precision_score(Ts_lbl, y_pred, average='macro')\n",
    "a4=recall_score(Ts_lbl, y_pred, average='macro') \n",
    "a5=f1_score(Ts_lbl, y_pred, average='micro')\n",
    "a6=f1_score(Ts_lbl, y_pred, average='macro')\n",
    "a7=accuracy_score(Ts_lbl, y_pred)\n",
    "print(a1,'\\n',a2,'\\n',a3,'\\n',a4,'\\n',a5,'\\n',a6,'\\n',a7)\n",
    "prf.append((round(a1,4),round(a2,4),round(a3,4),round(a4,4),round(a5,4),round(a6,4),\n",
    "              round(a7,4)))"
   ]
  },
  {
   "cell_type": "code",
   "execution_count": 62,
   "metadata": {},
   "outputs": [],
   "source": [
    "##############"
   ]
  },
  {
   "cell_type": "code",
   "execution_count": 63,
   "metadata": {},
   "outputs": [
    {
     "name": "stderr",
     "output_type": "stream",
     "text": [
      "c:\\python\\python37\\lib\\site-packages\\sklearn\\model_selection\\_search.py:841: DeprecationWarning: The default of the `iid` parameter will change from True to False in version 0.22 and will be removed in 0.24. This will change numeric results when test-set sizes are unequal.\n",
      "  DeprecationWarning)\n"
     ]
    }
   ],
   "source": [
    "rCV=RandomizedSearchCV(pipclf, pramg, n_jobs=7, cv=10, scoring='f1_micro',\n",
    "                        return_train_score=True) \n",
    "##f1_score(average='macro')\n",
    "rCV.fit(Trfob, Tr_lbl)\n",
    "clfrb=rCV.best_estimator_"
   ]
  },
  {
   "cell_type": "code",
   "execution_count": 64,
   "metadata": {},
   "outputs": [
    {
     "data": {
      "text/plain": [
       "{'vct': CountVectorizer(analyzer='word', binary=False, decode_error='strict',\n",
       "         dtype=<class 'numpy.int64'>, encoding='utf-8', input='content',\n",
       "         lowercase=True, max_df=0.35, max_features=None, min_df=0.01,\n",
       "         ngram_range=(1, 7), preprocessor=None,\n",
       "         stop_words=frozenset({'el', 'several', 'be', 'then', 'they', '60', 'al', '90', 'vt', 'both', '06', '22', '31', 'last', 'now', 'whom', '51', 'about', 'dn', 'name', '61', 'co', '85', 'everything', 'being', 'beside', 'hi', 'in', 'sometime', '11', 'moreover', 'do', 'down', 'seeming', 'something', '72', ... '37', 'onto', '56', 'whereupon', '86', 'through', 'st', 're', 'via', 'further', 'very', 'amongst'}),\n",
       "         strip_accents=None, token_pattern='(?u)\\\\b\\\\w\\\\w+\\\\b',\n",
       "         tokenizer=None, vocabulary=None),\n",
       " 'idf': TfidfTransformer(norm='l2', smooth_idf=True, sublinear_tf=False, use_idf=True),\n",
       " 'clf': KNeighborsClassifier(algorithm='brute', leaf_size=75, metric='cosine',\n",
       "            metric_params=None, n_jobs=None, n_neighbors=18, p=2,\n",
       "            weights='uniform')}"
      ]
     },
     "execution_count": 64,
     "metadata": {},
     "output_type": "execute_result"
    }
   ],
   "source": [
    "clfrb.named_steps"
   ]
  },
  {
   "cell_type": "code",
   "execution_count": 65,
   "metadata": {},
   "outputs": [
    {
     "name": "stdout",
     "output_type": "stream",
     "text": [
      "0.6918918918918919 \n",
      " 0.6918918918918919 \n",
      " 0.7265331097473955 \n",
      " 0.6611585555063817 \n",
      " 0.6918918918918919 \n",
      " 0.6518572621485917 \n",
      " 0.6918918918918919\n"
     ]
    }
   ],
   "source": [
    "clfrb.fit(Trfob, Tr_lbl)\n",
    "y_pred=clfrb.predict(Tsfob) \n",
    "a1=precision_score(Ts_lbl, y_pred, average='micro')\n",
    "a2=recall_score(Ts_lbl, y_pred, average='micro')\n",
    "a3=precision_score(Ts_lbl, y_pred, average='macro')\n",
    "a4=recall_score(Ts_lbl, y_pred, average='macro') \n",
    "a5=f1_score(Ts_lbl, y_pred, average='micro')\n",
    "a6=f1_score(Ts_lbl, y_pred, average='macro')\n",
    "a7=accuracy_score(Ts_lbl, y_pred)\n",
    "print(a1,'\\n',a2,'\\n',a3,'\\n',a4,'\\n',a5,'\\n',a6,'\\n',a7)\n",
    "prf.append((round(a1,4),round(a2,4),round(a3,4),round(a4,4),round(a5,4),round(a6,4),\n",
    "              round(a7,4)))"
   ]
  },
  {
   "cell_type": "code",
   "execution_count": 66,
   "metadata": {},
   "outputs": [],
   "source": [
    "############## ruk ruk ruk "
   ]
  },
  {
   "cell_type": "code",
   "execution_count": 67,
   "metadata": {},
   "outputs": [],
   "source": [
    "#mtr=['cosine'] #'minkowski', not supported for sparse matrix\n",
    "alg=['ball_tree','kd_tree', 'brute']#ball_tree\n",
    "pp=[2,3,4]\n",
    "pramg={\"vct__max_df\":mxd, \"vct__min_df\":mid, \"vct__ngram_range\":ngm,\n",
    "       \"vct__stop_words\":['english', stpwd],\n",
    "       \"clf__algorithm\":alg, \"clf__leaf_size\":lfsz, \"clf__n_neighbors\":K,\n",
    "       \"clf__metric\":['euclidean'], \"clf__p\":pp\n",
    "       }#\"clf__metric\":mtr,\"clf__metric\":['chebyshev'],"
   ]
  },
  {
   "cell_type": "code",
   "execution_count": 68,
   "metadata": {},
   "outputs": [
    {
     "name": "stderr",
     "output_type": "stream",
     "text": [
      "c:\\python\\python37\\lib\\site-packages\\sklearn\\model_selection\\_search.py:841: DeprecationWarning: The default of the `iid` parameter will change from True to False in version 0.22 and will be removed in 0.24. This will change numeric results when test-set sizes are unequal.\n",
      "  DeprecationWarning)\n",
      "c:\\python\\python37\\lib\\site-packages\\sklearn\\neighbors\\base.py:217: UserWarning: cannot use tree with sparse input: using brute force\n",
      "  warnings.warn(\"cannot use tree with sparse input: \"\n"
     ]
    },
    {
     "data": {
      "text/plain": [
       "{'vct': CountVectorizer(analyzer='word', binary=False, decode_error='strict',\n",
       "         dtype=<class 'numpy.int64'>, encoding='utf-8', input='content',\n",
       "         lowercase=True, max_df=0.35, max_features=None, min_df=0.005,\n",
       "         ngram_range=(1, 7), preprocessor=None, stop_words='english',\n",
       "         strip_accents=None, token_pattern='(?u)\\\\b\\\\w\\\\w+\\\\b',\n",
       "         tokenizer=None, vocabulary=None),\n",
       " 'idf': TfidfTransformer(norm='l2', smooth_idf=True, sublinear_tf=False, use_idf=True),\n",
       " 'clf': KNeighborsClassifier(algorithm='ball_tree', leaf_size=30, metric='euclidean',\n",
       "            metric_params=None, n_jobs=None, n_neighbors=10, p=3,\n",
       "            weights='uniform')}"
      ]
     },
     "execution_count": 68,
     "metadata": {},
     "output_type": "execute_result"
    }
   ],
   "source": [
    "rCV=RandomizedSearchCV(pipclf, pramg, n_jobs=7, cv=10, scoring='f1_macro',\n",
    "                        return_train_score=True) \n",
    "##f1_score(average='macro')\n",
    "rCV.fit(Trfob, Tr_lbl)\n",
    "clfrb=rCV.best_estimator_\n",
    "clfrb.named_steps"
   ]
  },
  {
   "cell_type": "code",
   "execution_count": 69,
   "metadata": {},
   "outputs": [
    {
     "name": "stdout",
     "output_type": "stream",
     "text": [
      "0.6486486486486487 \n",
      " 0.6486486486486487 \n",
      " 0.6812480538920167 \n",
      " 0.6594287087765348 \n",
      " 0.6486486486486487 \n",
      " 0.6285868665452392 \n",
      " 0.6486486486486487\n"
     ]
    },
    {
     "name": "stderr",
     "output_type": "stream",
     "text": [
      "c:\\python\\python37\\lib\\site-packages\\sklearn\\neighbors\\base.py:217: UserWarning: cannot use tree with sparse input: using brute force\n",
      "  warnings.warn(\"cannot use tree with sparse input: \"\n"
     ]
    }
   ],
   "source": [
    "clfrb.fit(Trfob, Tr_lbl)\n",
    "y_pred=clfrb.predict(Tsfob) \n",
    "a1=precision_score(Ts_lbl, y_pred, average='micro')\n",
    "a2=recall_score(Ts_lbl, y_pred, average='micro')\n",
    "a3=precision_score(Ts_lbl, y_pred, average='macro')\n",
    "a4=recall_score(Ts_lbl, y_pred, average='macro') \n",
    "a5=f1_score(Ts_lbl, y_pred, average='micro')\n",
    "a6=f1_score(Ts_lbl, y_pred, average='macro')\n",
    "a7=accuracy_score(Ts_lbl, y_pred)\n",
    "print(a1,'\\n',a2,'\\n',a3,'\\n',a4,'\\n',a5,'\\n',a6,'\\n',a7)\n",
    "prf.append((round(a1,4),round(a2,4),round(a3,4),round(a4,4),round(a5,4),round(a6,4),\n",
    "              round(a7,4)))"
   ]
  },
  {
   "cell_type": "code",
   "execution_count": 70,
   "metadata": {},
   "outputs": [],
   "source": [
    "##############"
   ]
  },
  {
   "cell_type": "code",
   "execution_count": 71,
   "metadata": {},
   "outputs": [
    {
     "name": "stderr",
     "output_type": "stream",
     "text": [
      "c:\\python\\python37\\lib\\site-packages\\sklearn\\model_selection\\_search.py:841: DeprecationWarning: The default of the `iid` parameter will change from True to False in version 0.22 and will be removed in 0.24. This will change numeric results when test-set sizes are unequal.\n",
      "  DeprecationWarning)\n",
      "c:\\python\\python37\\lib\\site-packages\\sklearn\\neighbors\\base.py:217: UserWarning: cannot use tree with sparse input: using brute force\n",
      "  warnings.warn(\"cannot use tree with sparse input: \"\n"
     ]
    },
    {
     "data": {
      "text/plain": [
       "{'vct': CountVectorizer(analyzer='word', binary=False, decode_error='strict',\n",
       "         dtype=<class 'numpy.int64'>, encoding='utf-8', input='content',\n",
       "         lowercase=True, max_df=0.35, max_features=None, min_df=0.005,\n",
       "         ngram_range=(1, 12), preprocessor=None, stop_words='english',\n",
       "         strip_accents=None, token_pattern='(?u)\\\\b\\\\w\\\\w+\\\\b',\n",
       "         tokenizer=None, vocabulary=None),\n",
       " 'idf': TfidfTransformer(norm='l2', smooth_idf=True, sublinear_tf=False, use_idf=True),\n",
       " 'clf': KNeighborsClassifier(algorithm='kd_tree', leaf_size=40, metric='euclidean',\n",
       "            metric_params=None, n_jobs=None, n_neighbors=10, p=4,\n",
       "            weights='uniform')}"
      ]
     },
     "execution_count": 71,
     "metadata": {},
     "output_type": "execute_result"
    }
   ],
   "source": [
    "rCV=RandomizedSearchCV(pipclf, pramg, n_jobs=7, cv=10, scoring='f1_macro',\n",
    "                        return_train_score=True) \n",
    "##f1_score(average='macro')\n",
    "rCV.fit(Trfob, Tr_lbl)\n",
    "clfrb=rCV.best_estimator_\n",
    "clfrb.named_steps"
   ]
  },
  {
   "cell_type": "code",
   "execution_count": 72,
   "metadata": {},
   "outputs": [
    {
     "name": "stderr",
     "output_type": "stream",
     "text": [
      "c:\\python\\python37\\lib\\site-packages\\sklearn\\neighbors\\base.py:217: UserWarning: cannot use tree with sparse input: using brute force\n",
      "  warnings.warn(\"cannot use tree with sparse input: \"\n"
     ]
    },
    {
     "name": "stdout",
     "output_type": "stream",
     "text": [
      "0.6432432432432432 \n",
      " 0.6432432432432432 \n",
      " 0.6764997486173957 \n",
      " 0.6271314114792376 \n",
      " 0.6432432432432432 \n",
      " 0.6009708572204363 \n",
      " 0.6432432432432432\n"
     ]
    }
   ],
   "source": [
    "clfrb.fit(Trfob, Tr_lbl)\n",
    "y_pred=clfrb.predict(Tsfob) \n",
    "a1=precision_score(Ts_lbl, y_pred, average='micro')\n",
    "a2=recall_score(Ts_lbl, y_pred, average='micro')\n",
    "a3=precision_score(Ts_lbl, y_pred, average='macro')\n",
    "a4=recall_score(Ts_lbl, y_pred, average='macro') \n",
    "a5=f1_score(Ts_lbl, y_pred, average='micro')\n",
    "a6=f1_score(Ts_lbl, y_pred, average='macro')\n",
    "a7=accuracy_score(Ts_lbl, y_pred)\n",
    "print(a1,'\\n',a2,'\\n',a3,'\\n',a4,'\\n',a5,'\\n',a6,'\\n',a7)\n",
    "prf.append((round(a1,4),round(a2,4),round(a3,4),round(a4,4),round(a5,4),round(a6,4),\n",
    "              round(a7,4)))"
   ]
  },
  {
   "cell_type": "code",
   "execution_count": 73,
   "metadata": {},
   "outputs": [],
   "source": [
    "#ruk ###############"
   ]
  },
  {
   "cell_type": "code",
   "execution_count": 74,
   "metadata": {},
   "outputs": [
    {
     "data": {
      "image/png": "[encoded data removed]",
      "text/plain": [
       "<Figure size 720x216 with 2 Axes>"
      ]
     },
     "metadata": {},
     "output_type": "display_data"
    }
   ],
   "source": [
    "rsl=pd.DataFrame(prf, columns=evlp)\n",
    "rsl.to_csv('CSVOUT/KNNprf3.csv')\n",
    "plt.figure(figsize=(10,3))\n",
    "sb.set(font_scale=1.6)\n",
    "sb.heatmap(rsl, annot=True, cmap=\"YlGnBu\", linewidths=.5, fmt=\"g\", annot_kws={\"size\": 18})\n",
    "plt.xlabel('Performance')\n",
    "plt.ylabel('Configuration')\n",
    "#plt.title('Confusion Matrix KNN_fig2')\n",
    "plt.savefig('Fig/KNNprf3.png', dpi=300, bbox_inches='tight', pad_inches=0.2)"
   ]
  },
  {
   "cell_type": "code",
   "execution_count": 75,
   "metadata": {},
   "outputs": [],
   "source": [
    "##############################################"
   ]
  },
  {
   "cell_type": "code",
   "execution_count": 76,
   "metadata": {},
   "outputs": [],
   "source": [
    "evlp=['Precision_micro','Recall_micro','Precision_macro','Recall_macro','f1_micro',\n",
    "     'f1_macro','Accuracy']\n",
    "confp=['max df','min df','ngram','idf','no. token','algorithm','leafsize',\n",
    "       'metric','K','p']\n",
    "confg=[]\n",
    "prf=[]"
   ]
  },
  {
   "cell_type": "code",
   "execution_count": 77,
   "metadata": {},
   "outputs": [],
   "source": [
    "vc1=CountVectorizer(analyzer='word', binary=False, lowercase=True, max_df=0.35, min_df=1,\n",
    "                   ngram_range=(1, 12), stop_words=stpwd)\n",
    "idft1=TfidfTransformer()"
   ]
  },
  {
   "cell_type": "code",
   "execution_count": 78,
   "metadata": {},
   "outputs": [],
   "source": [
    "TrDX=vc1.fit_transform(Trfob)\n",
    "TrDtX=idft1.fit_transform(TrDX.toarray())\n",
    "###############\n",
    "TsDX=vc1.transform(Tsfob)\n",
    "TsDtX=idft1.transform(TsDX.toarray())"
   ]
  },
  {
   "cell_type": "code",
   "execution_count": 79,
   "metadata": {},
   "outputs": [],
   "source": [
    "TrD=pd.DataFrame(TrDX.toarray(), columns=vc1.get_feature_names())\n",
    "TrDt=pd.DataFrame(TrDtX.toarray(), columns=vc1.get_feature_names())\n",
    "###############\n",
    "TsD=pd.DataFrame(TsDX.toarray(), columns=vc1.get_feature_names())\n",
    "TsDt=pd.DataFrame(TsDtX.toarray(), columns=vc1.get_feature_names())"
   ]
  },
  {
   "cell_type": "code",
   "execution_count": 80,
   "metadata": {},
   "outputs": [
    {
     "name": "stdout",
     "output_type": "stream",
     "text": [
      "(499, 498538) (499, 498538) (185, 498538) (185, 498538)\n"
     ]
    }
   ],
   "source": [
    "print(TrD.shape, TrDt.shape, TsD.shape, TsDt.shape)"
   ]
  },
  {
   "cell_type": "code",
   "execution_count": 81,
   "metadata": {},
   "outputs": [],
   "source": [
    "clf=KNeighborsClassifier()"
   ]
  },
  {
   "cell_type": "code",
   "execution_count": 82,
   "metadata": {},
   "outputs": [
    {
     "data": {
      "text/plain": [
       "KNeighborsClassifier(algorithm='auto', leaf_size=30, metric='minkowski',\n",
       "           metric_params=None, n_jobs=None, n_neighbors=5, p=2,\n",
       "           weights='uniform')"
      ]
     },
     "execution_count": 82,
     "metadata": {},
     "output_type": "execute_result"
    }
   ],
   "source": [
    "clf.fit(TrD, Tr_lbl) "
   ]
  },
  {
   "cell_type": "code",
   "execution_count": 83,
   "metadata": {},
   "outputs": [
    {
     "name": "stdout",
     "output_type": "stream",
     "text": [
      "0.22702702702702704 \n",
      " 0.22702702702702704 \n",
      " 0.3110162388908033 \n",
      " 0.2747698022698023 \n",
      " 0.22702702702702704 \n",
      " 0.1304784591745439 \n",
      " 0.22702702702702704\n"
     ]
    },
    {
     "name": "stderr",
     "output_type": "stream",
     "text": [
      "c:\\python\\python37\\lib\\site-packages\\sklearn\\metrics\\classification.py:1143: UndefinedMetricWarning: Precision is ill-defined and being set to 0.0 in labels with no predicted samples.\n",
      "  'precision', 'predicted', average, warn_for)\n",
      "c:\\python\\python37\\lib\\site-packages\\sklearn\\metrics\\classification.py:1143: UndefinedMetricWarning: F-score is ill-defined and being set to 0.0 in labels with no predicted samples.\n",
      "  'precision', 'predicted', average, warn_for)\n"
     ]
    }
   ],
   "source": [
    "y_pred=clf.predict(TsD)\n",
    "a1=precision_score(Ts_lbl, y_pred, average='micro')\n",
    "a2=recall_score(Ts_lbl, y_pred, average='micro')\n",
    "a3=precision_score(Ts_lbl, y_pred, average='macro')\n",
    "a4=recall_score(Ts_lbl, y_pred, average='macro') \n",
    "a5=f1_score(Ts_lbl, y_pred, average='micro')\n",
    "a6=f1_score(Ts_lbl, y_pred, average='macro')\n",
    "a7=accuracy_score(Ts_lbl, y_pred)\n",
    "print(a1,'\\n',a2,'\\n',a3,'\\n',a4,'\\n',a5,'\\n',a6,'\\n',a7)"
   ]
  },
  {
   "cell_type": "code",
   "execution_count": 84,
   "metadata": {},
   "outputs": [],
   "source": [
    "#ruk ruk"
   ]
  },
  {
   "cell_type": "code",
   "execution_count": 85,
   "metadata": {},
   "outputs": [],
   "source": [
    "prf.append((round(a1,4),round(a2,4),round(a3,4),round(a4,4),round(a5,4),round(a6,4),round(a7,4)))\n",
    "confg.append(('0.35','1',\"1 - 12\",'No','498538','auto','30','minkowski','5','2'))"
   ]
  },
  {
   "cell_type": "code",
   "execution_count": 86,
   "metadata": {},
   "outputs": [],
   "source": [
    "#####################"
   ]
  },
  {
   "cell_type": "code",
   "execution_count": 87,
   "metadata": {},
   "outputs": [],
   "source": [
    "vc1=CountVectorizer(analyzer='word', binary=False, lowercase=True, max_df=0.35, min_df=0.005,\n",
    "                   ngram_range=(1, 1), stop_words=stpwd)\n",
    "idft1=TfidfTransformer()"
   ]
  },
  {
   "cell_type": "code",
   "execution_count": 88,
   "metadata": {},
   "outputs": [],
   "source": [
    "TrDX=vc1.fit_transform(Trfob)\n",
    "TrDtX=idft1.fit_transform(TrDX.toarray())\n",
    "###############\n",
    "TsDX=vc1.transform(Tsfob)\n",
    "TsDtX=idft1.transform(TsDX.toarray())"
   ]
  },
  {
   "cell_type": "code",
   "execution_count": 89,
   "metadata": {},
   "outputs": [],
   "source": [
    "TrD=pd.DataFrame(TrDX.toarray(), columns=vc1.get_feature_names())\n",
    "TrDt=pd.DataFrame(TrDtX.toarray(), columns=vc1.get_feature_names())\n",
    "###############\n",
    "TsD=pd.DataFrame(TsDX.toarray(), columns=vc1.get_feature_names())\n",
    "TsDt=pd.DataFrame(TsDtX.toarray(), columns=vc1.get_feature_names())"
   ]
  },
  {
   "cell_type": "code",
   "execution_count": 90,
   "metadata": {},
   "outputs": [
    {
     "name": "stdout",
     "output_type": "stream",
     "text": [
      "(499, 2179) (499, 2179) (185, 2179) (185, 2179)\n"
     ]
    }
   ],
   "source": [
    "print(TrD.shape, TrDt.shape, TsD.shape, TsDt.shape)"
   ]
  },
  {
   "cell_type": "code",
   "execution_count": 91,
   "metadata": {},
   "outputs": [],
   "source": [
    "clf=KNeighborsClassifier()"
   ]
  },
  {
   "cell_type": "code",
   "execution_count": 92,
   "metadata": {},
   "outputs": [
    {
     "data": {
      "text/plain": [
       "KNeighborsClassifier(algorithm='auto', leaf_size=30, metric='minkowski',\n",
       "           metric_params=None, n_jobs=None, n_neighbors=5, p=2,\n",
       "           weights='uniform')"
      ]
     },
     "execution_count": 92,
     "metadata": {},
     "output_type": "execute_result"
    }
   ],
   "source": [
    "clf.fit(TrD, Tr_lbl)"
   ]
  },
  {
   "cell_type": "code",
   "execution_count": 93,
   "metadata": {},
   "outputs": [
    {
     "name": "stdout",
     "output_type": "stream",
     "text": [
      "0.5621621621621622 \n",
      " 0.5621621621621622 \n",
      " 0.6391298073906769 \n",
      " 0.6062481369003108 \n",
      " 0.5621621621621622 \n",
      " 0.557064711446626 \n",
      " 0.5621621621621622\n"
     ]
    }
   ],
   "source": [
    "y_pred=clf.predict(TsD)\n",
    "a1=precision_score(Ts_lbl, y_pred, average='micro')\n",
    "a2=recall_score(Ts_lbl, y_pred, average='micro')\n",
    "a3=precision_score(Ts_lbl, y_pred, average='macro')\n",
    "a4=recall_score(Ts_lbl, y_pred, average='macro') \n",
    "a5=f1_score(Ts_lbl, y_pred, average='micro')\n",
    "a6=f1_score(Ts_lbl, y_pred, average='macro')\n",
    "a7=accuracy_score(Ts_lbl, y_pred)\n",
    "print(a1,'\\n',a2,'\\n',a3,'\\n',a4,'\\n',a5,'\\n',a6,'\\n',a7)"
   ]
  },
  {
   "cell_type": "code",
   "execution_count": 94,
   "metadata": {},
   "outputs": [],
   "source": [
    "#ruk"
   ]
  },
  {
   "cell_type": "code",
   "execution_count": 95,
   "metadata": {},
   "outputs": [],
   "source": [
    "prf.append((round(a1,4),round(a2,4),round(a3,4),round(a4,4),round(a5,4),round(a6,4),round(a7,4)))\n",
    "confg.append(('0.35','0.005',\"1 - 1\",'No','2179','auto','30','minkowski','5','2'))"
   ]
  },
  {
   "cell_type": "code",
   "execution_count": 96,
   "metadata": {},
   "outputs": [],
   "source": [
    "############"
   ]
  },
  {
   "cell_type": "code",
   "execution_count": 97,
   "metadata": {},
   "outputs": [
    {
     "data": {
      "text/plain": [
       "KNeighborsClassifier(algorithm='auto', leaf_size=30, metric='minkowski',\n",
       "           metric_params=None, n_jobs=None, n_neighbors=5, p=2,\n",
       "           weights='uniform')"
      ]
     },
     "execution_count": 97,
     "metadata": {},
     "output_type": "execute_result"
    }
   ],
   "source": [
    "clf.fit(TrDt, Tr_lbl)"
   ]
  },
  {
   "cell_type": "code",
   "execution_count": 98,
   "metadata": {},
   "outputs": [
    {
     "name": "stdout",
     "output_type": "stream",
     "text": [
      "0.6810810810810811 \n",
      " 0.6810810810810811 \n",
      " 0.7410478068082085 \n",
      " 0.6773017483887049 \n",
      " 0.6810810810810811 \n",
      " 0.6827306550055238 \n",
      " 0.6810810810810811\n"
     ]
    }
   ],
   "source": [
    "y_pred=clf.predict(TsDt)\n",
    "a1=precision_score(Ts_lbl, y_pred, average='micro')\n",
    "a2=recall_score(Ts_lbl, y_pred, average='micro')\n",
    "a3=precision_score(Ts_lbl, y_pred, average='macro')\n",
    "a4=recall_score(Ts_lbl, y_pred, average='macro') \n",
    "a5=f1_score(Ts_lbl, y_pred, average='micro')\n",
    "a6=f1_score(Ts_lbl, y_pred, average='macro')\n",
    "a7=accuracy_score(Ts_lbl, y_pred)\n",
    "print(a1,'\\n',a2,'\\n',a3,'\\n',a4,'\\n',a5,'\\n',a6,'\\n',a7)"
   ]
  },
  {
   "cell_type": "code",
   "execution_count": 99,
   "metadata": {},
   "outputs": [],
   "source": [
    "prf.append((round(a1,4),round(a2,4),round(a3,4),round(a4,4),round(a5,4),round(a6,4),round(a7,4)))\n",
    "confg.append(('0.35','0.005',\"1 - 1\",'Yes','2179','auto','30','minkowski','5','2'))"
   ]
  },
  {
   "cell_type": "code",
   "execution_count": 100,
   "metadata": {},
   "outputs": [],
   "source": [
    "#ruk ruk ###########ruk"
   ]
  },
  {
   "cell_type": "code",
   "execution_count": 101,
   "metadata": {},
   "outputs": [],
   "source": [
    "vc1=CountVectorizer(analyzer='word', binary=False, lowercase=True, max_df=0.35, min_df=0.005,\n",
    "                   ngram_range=(1, 3), stop_words=stpwd)\n",
    "idft1=TfidfTransformer()"
   ]
  },
  {
   "cell_type": "code",
   "execution_count": 102,
   "metadata": {},
   "outputs": [],
   "source": [
    "TrDX=vc1.fit_transform(Trfob)\n",
    "TrDtX=idft1.fit_transform(TrDX.toarray())\n",
    "###############\n",
    "TsDX=vc1.transform(Tsfob)\n",
    "TsDtX=idft1.transform(TsDX.toarray())"
   ]
  },
  {
   "cell_type": "code",
   "execution_count": 103,
   "metadata": {},
   "outputs": [],
   "source": [
    "TrD=pd.DataFrame(TrDX.toarray(), columns=vc1.get_feature_names())\n",
    "TrDt=pd.DataFrame(TrDtX.toarray(), columns=vc1.get_feature_names())\n",
    "###############\n",
    "TsD=pd.DataFrame(TsDX.toarray(), columns=vc1.get_feature_names())\n",
    "TsDt=pd.DataFrame(TsDtX.toarray(), columns=vc1.get_feature_names())"
   ]
  },
  {
   "cell_type": "code",
   "execution_count": 104,
   "metadata": {},
   "outputs": [
    {
     "name": "stdout",
     "output_type": "stream",
     "text": [
      "(499, 7128) (499, 7128) (185, 7128) (185, 7128)\n"
     ]
    }
   ],
   "source": [
    "print(TrD.shape, TrDt.shape, TsD.shape, TsDt.shape)"
   ]
  },
  {
   "cell_type": "code",
   "execution_count": 105,
   "metadata": {},
   "outputs": [],
   "source": [
    "clf=KNeighborsClassifier()"
   ]
  },
  {
   "cell_type": "code",
   "execution_count": 106,
   "metadata": {},
   "outputs": [
    {
     "data": {
      "text/plain": [
       "KNeighborsClassifier(algorithm='auto', leaf_size=30, metric='minkowski',\n",
       "           metric_params=None, n_jobs=None, n_neighbors=5, p=2,\n",
       "           weights='uniform')"
      ]
     },
     "execution_count": 106,
     "metadata": {},
     "output_type": "execute_result"
    }
   ],
   "source": [
    "clf.fit(TrDt, Tr_lbl)"
   ]
  },
  {
   "cell_type": "code",
   "execution_count": 107,
   "metadata": {},
   "outputs": [
    {
     "name": "stdout",
     "output_type": "stream",
     "text": [
      "0.6648648648648648 \n",
      " 0.6648648648648648 \n",
      " 0.6975285540304796 \n",
      " 0.6496040181909748 \n",
      " 0.6648648648648648 \n",
      " 0.6364502960433193 \n",
      " 0.6648648648648648\n"
     ]
    }
   ],
   "source": [
    "y_pred=clf.predict(TsDt)\n",
    "a1=precision_score(Ts_lbl, y_pred, average='micro')\n",
    "a2=recall_score(Ts_lbl, y_pred, average='micro')\n",
    "a3=precision_score(Ts_lbl, y_pred, average='macro')\n",
    "a4=recall_score(Ts_lbl, y_pred, average='macro') \n",
    "a5=f1_score(Ts_lbl, y_pred, average='micro')\n",
    "a6=f1_score(Ts_lbl, y_pred, average='macro')\n",
    "a7=accuracy_score(Ts_lbl, y_pred)\n",
    "print(a1,'\\n',a2,'\\n',a3,'\\n',a4,'\\n',a5,'\\n',a6,'\\n',a7)"
   ]
  },
  {
   "cell_type": "code",
   "execution_count": 108,
   "metadata": {},
   "outputs": [],
   "source": [
    "prf.append((round(a1,4),round(a2,4),round(a3,4),round(a4,4),round(a5,4),round(a6,4),round(a7,4)))\n",
    "confg.append(('0.35','0.005',\"1 - 3\",'Yes','7128','auto','30','minkowski','5','2'))"
   ]
  },
  {
   "cell_type": "code",
   "execution_count": 109,
   "metadata": {},
   "outputs": [],
   "source": [
    "########################################"
   ]
  },
  {
   "cell_type": "code",
   "execution_count": 110,
   "metadata": {},
   "outputs": [],
   "source": [
    "vc1=CountVectorizer(analyzer='word', binary=False, lowercase=True, max_df=0.35, min_df=0.005,\n",
    "                   ngram_range=(1, 1), stop_words=stpwd)\n",
    "idft1=TfidfTransformer()"
   ]
  },
  {
   "cell_type": "code",
   "execution_count": 111,
   "metadata": {},
   "outputs": [],
   "source": [
    "TrDX=vc1.fit_transform(Trfob)\n",
    "TrDtX=idft1.fit_transform(TrDX.toarray())\n",
    "###############\n",
    "TsDX=vc1.transform(Tsfob)\n",
    "TsDtX=idft1.transform(TsDX.toarray())"
   ]
  },
  {
   "cell_type": "code",
   "execution_count": 112,
   "metadata": {},
   "outputs": [],
   "source": [
    "TrD=pd.DataFrame(TrDX.toarray(), columns=vc1.get_feature_names())\n",
    "TrDt=pd.DataFrame(TrDtX.toarray(), columns=vc1.get_feature_names())\n",
    "###############\n",
    "TsD=pd.DataFrame(TsDX.toarray(), columns=vc1.get_feature_names())\n",
    "TsDt=pd.DataFrame(TsDtX.toarray(), columns=vc1.get_feature_names())"
   ]
  },
  {
   "cell_type": "code",
   "execution_count": 113,
   "metadata": {},
   "outputs": [
    {
     "name": "stdout",
     "output_type": "stream",
     "text": [
      "(499, 2179) (499, 2179) (185, 2179) (185, 2179)\n"
     ]
    }
   ],
   "source": [
    "print(TrD.shape, TrDt.shape, TsD.shape, TsDt.shape)"
   ]
  },
  {
   "cell_type": "code",
   "execution_count": 114,
   "metadata": {},
   "outputs": [],
   "source": [
    "clf=KNeighborsClassifier(algorithm='kd_tree',n_neighbors=5)"
   ]
  },
  {
   "cell_type": "code",
   "execution_count": 115,
   "metadata": {},
   "outputs": [
    {
     "data": {
      "text/plain": [
       "KNeighborsClassifier(algorithm='kd_tree', leaf_size=30, metric='minkowski',\n",
       "           metric_params=None, n_jobs=None, n_neighbors=5, p=2,\n",
       "           weights='uniform')"
      ]
     },
     "execution_count": 115,
     "metadata": {},
     "output_type": "execute_result"
    }
   ],
   "source": [
    "clf.fit(TrDt, Tr_lbl)"
   ]
  },
  {
   "cell_type": "code",
   "execution_count": 116,
   "metadata": {},
   "outputs": [
    {
     "name": "stdout",
     "output_type": "stream",
     "text": [
      "0.6810810810810811 \n",
      " 0.6810810810810811 \n",
      " 0.7410478068082085 \n",
      " 0.6773017483887049 \n",
      " 0.6810810810810811 \n",
      " 0.6827306550055238 \n",
      " 0.6810810810810811\n"
     ]
    }
   ],
   "source": [
    "y_pred=clf.predict(TsDt)\n",
    "a1=precision_score(Ts_lbl, y_pred, average='micro')\n",
    "a2=recall_score(Ts_lbl, y_pred, average='micro')\n",
    "a3=precision_score(Ts_lbl, y_pred, average='macro')\n",
    "a4=recall_score(Ts_lbl, y_pred, average='macro') \n",
    "a5=f1_score(Ts_lbl, y_pred, average='micro')\n",
    "a6=f1_score(Ts_lbl, y_pred, average='macro')\n",
    "a7=accuracy_score(Ts_lbl, y_pred)\n",
    "print(a1,'\\n',a2,'\\n',a3,'\\n',a4,'\\n',a5,'\\n',a6,'\\n',a7)"
   ]
  },
  {
   "cell_type": "code",
   "execution_count": 117,
   "metadata": {},
   "outputs": [],
   "source": [
    "prf.append((round(a1,4),round(a2,4),round(a3,4),round(a4,4),round(a5,4),round(a6,4),round(a7,4)))\n",
    "confg.append(('0.35','0.005',\"1 - 1\",'Yes','2179','kd tree','30','minkowski','5','2'))"
   ]
  },
  {
   "cell_type": "code",
   "execution_count": 118,
   "metadata": {},
   "outputs": [],
   "source": [
    "#############cs"
   ]
  },
  {
   "cell_type": "code",
   "execution_count": 119,
   "metadata": {},
   "outputs": [],
   "source": [
    "vc1=CountVectorizer(analyzer='word', binary=False, lowercase=True, max_df=0.35, min_df=0.005,\n",
    "                   ngram_range=(1, 1), stop_words=stpwd)\n",
    "idft1=TfidfTransformer()"
   ]
  },
  {
   "cell_type": "code",
   "execution_count": 120,
   "metadata": {},
   "outputs": [],
   "source": [
    "TrDX=vc1.fit_transform(Trfob)\n",
    "TrDtX=idft1.fit_transform(TrDX.toarray())\n",
    "###############\n",
    "TsDX=vc1.transform(Tsfob)\n",
    "TsDtX=idft1.transform(TsDX.toarray())"
   ]
  },
  {
   "cell_type": "code",
   "execution_count": 121,
   "metadata": {},
   "outputs": [],
   "source": [
    "TrD=pd.DataFrame(TrDX.toarray(), columns=vc1.get_feature_names())\n",
    "TrDt=pd.DataFrame(TrDtX.toarray(), columns=vc1.get_feature_names())\n",
    "###############\n",
    "TsD=pd.DataFrame(TsDX.toarray(), columns=vc1.get_feature_names())\n",
    "TsDt=pd.DataFrame(TsDtX.toarray(), columns=vc1.get_feature_names())"
   ]
  },
  {
   "cell_type": "code",
   "execution_count": 122,
   "metadata": {},
   "outputs": [
    {
     "name": "stdout",
     "output_type": "stream",
     "text": [
      "(499, 2179) (499, 2179) (185, 2179) (185, 2179)\n"
     ]
    }
   ],
   "source": [
    "print(TrD.shape, TrDt.shape, TsD.shape, TsDt.shape)"
   ]
  },
  {
   "cell_type": "code",
   "execution_count": 123,
   "metadata": {},
   "outputs": [
    {
     "data": {
      "text/plain": [
       "KNeighborsClassifier(algorithm='auto', leaf_size=30, metric='cosine',\n",
       "           metric_params=None, n_jobs=None, n_neighbors=5, p=2,\n",
       "           weights='uniform')"
      ]
     },
     "execution_count": 123,
     "metadata": {},
     "output_type": "execute_result"
    }
   ],
   "source": [
    "clf=KNeighborsClassifier(metric='cosine', n_neighbors=5)\n",
    "clf"
   ]
  },
  {
   "cell_type": "code",
   "execution_count": 124,
   "metadata": {},
   "outputs": [
    {
     "data": {
      "text/plain": [
       "KNeighborsClassifier(algorithm='auto', leaf_size=30, metric='cosine',\n",
       "           metric_params=None, n_jobs=None, n_neighbors=5, p=2,\n",
       "           weights='uniform')"
      ]
     },
     "execution_count": 124,
     "metadata": {},
     "output_type": "execute_result"
    }
   ],
   "source": [
    "clf.fit(TrDt, Tr_lbl)"
   ]
  },
  {
   "cell_type": "code",
   "execution_count": 125,
   "metadata": {},
   "outputs": [
    {
     "name": "stdout",
     "output_type": "stream",
     "text": [
      "0.6810810810810811 \n",
      " 0.6810810810810811 \n",
      " 0.7258326967150495 \n",
      " 0.6776293487163053 \n",
      " 0.6810810810810811 \n",
      " 0.6788856873447666 \n",
      " 0.6810810810810811\n"
     ]
    }
   ],
   "source": [
    "y_pred=clf.predict(TsDt)\n",
    "a1=precision_score(Ts_lbl, y_pred, average='micro')\n",
    "a2=recall_score(Ts_lbl, y_pred, average='micro')\n",
    "a3=precision_score(Ts_lbl, y_pred, average='macro')\n",
    "a4=recall_score(Ts_lbl, y_pred, average='macro') \n",
    "a5=f1_score(Ts_lbl, y_pred, average='micro')\n",
    "a6=f1_score(Ts_lbl, y_pred, average='macro')\n",
    "a7=accuracy_score(Ts_lbl, y_pred)\n",
    "print(a1,'\\n',a2,'\\n',a3,'\\n',a4,'\\n',a5,'\\n',a6,'\\n',a7)"
   ]
  },
  {
   "cell_type": "code",
   "execution_count": 126,
   "metadata": {},
   "outputs": [],
   "source": [
    "prf.append((round(a1,4),round(a2,4),round(a3,4),round(a4,4),round(a5,4),round(a6,4),round(a7,4)))\n",
    "confg.append(('0.35','0.005',\"1 - 1\",'Yes','2179','auto','30','cosine','5','2'))"
   ]
  },
  {
   "cell_type": "code",
   "execution_count": 127,
   "metadata": {},
   "outputs": [],
   "source": [
    "##############ec"
   ]
  },
  {
   "cell_type": "code",
   "execution_count": 128,
   "metadata": {},
   "outputs": [],
   "source": [
    "vc1=CountVectorizer(analyzer='word', binary=False, lowercase=True, max_df=0.35, min_df=0.005,\n",
    "                   ngram_range=(1, 1), stop_words=stpwd)\n",
    "idft1=TfidfTransformer()"
   ]
  },
  {
   "cell_type": "code",
   "execution_count": 129,
   "metadata": {},
   "outputs": [],
   "source": [
    "TrDX=vc1.fit_transform(Trfob)\n",
    "TrDtX=idft1.fit_transform(TrDX.toarray())\n",
    "###############\n",
    "TsDX=vc1.transform(Tsfob)\n",
    "TsDtX=idft1.transform(TsDX.toarray())"
   ]
  },
  {
   "cell_type": "code",
   "execution_count": 130,
   "metadata": {},
   "outputs": [],
   "source": [
    "TrD=pd.DataFrame(TrDX.toarray(), columns=vc1.get_feature_names())\n",
    "TrDt=pd.DataFrame(TrDtX.toarray(), columns=vc1.get_feature_names())\n",
    "###############\n",
    "TsD=pd.DataFrame(TsDX.toarray(), columns=vc1.get_feature_names())\n",
    "TsDt=pd.DataFrame(TsDtX.toarray(), columns=vc1.get_feature_names())"
   ]
  },
  {
   "cell_type": "code",
   "execution_count": 131,
   "metadata": {},
   "outputs": [
    {
     "name": "stdout",
     "output_type": "stream",
     "text": [
      "(499, 2179) (499, 2179) (185, 2179) (185, 2179)\n"
     ]
    }
   ],
   "source": [
    "print(TrD.shape, TrDt.shape, TsD.shape, TsDt.shape)"
   ]
  },
  {
   "cell_type": "code",
   "execution_count": 132,
   "metadata": {},
   "outputs": [],
   "source": [
    "clf=KNeighborsClassifier(metric='euclidean', n_neighbors=5, p=3)#looks no effect from p"
   ]
  },
  {
   "cell_type": "code",
   "execution_count": 133,
   "metadata": {},
   "outputs": [
    {
     "data": {
      "text/plain": [
       "KNeighborsClassifier(algorithm='auto', leaf_size=30, metric='euclidean',\n",
       "           metric_params=None, n_jobs=None, n_neighbors=5, p=3,\n",
       "           weights='uniform')"
      ]
     },
     "execution_count": 133,
     "metadata": {},
     "output_type": "execute_result"
    }
   ],
   "source": [
    "clf.fit(TrDt, Tr_lbl)"
   ]
  },
  {
   "cell_type": "code",
   "execution_count": 134,
   "metadata": {},
   "outputs": [
    {
     "name": "stdout",
     "output_type": "stream",
     "text": [
      "0.6810810810810811 \n",
      " 0.6810810810810811 \n",
      " 0.7410478068082085 \n",
      " 0.6773017483887049 \n",
      " 0.6810810810810811 \n",
      " 0.6827306550055238 \n",
      " 0.6810810810810811\n"
     ]
    }
   ],
   "source": [
    "y_pred=clf.predict(TsDt)\n",
    "a1=precision_score(Ts_lbl, y_pred, average='micro')\n",
    "a2=recall_score(Ts_lbl, y_pred, average='micro')\n",
    "a3=precision_score(Ts_lbl, y_pred, average='macro')\n",
    "a4=recall_score(Ts_lbl, y_pred, average='macro') \n",
    "a5=f1_score(Ts_lbl, y_pred, average='micro')\n",
    "a6=f1_score(Ts_lbl, y_pred, average='macro')\n",
    "a7=accuracy_score(Ts_lbl, y_pred)\n",
    "print(a1,'\\n',a2,'\\n',a3,'\\n',a4,'\\n',a5,'\\n',a6,'\\n',a7)"
   ]
  },
  {
   "cell_type": "code",
   "execution_count": 135,
   "metadata": {},
   "outputs": [],
   "source": [
    "prf.append((round(a1,4),round(a2,4),round(a3,4),round(a4,4),round(a5,4),round(a6,4),round(a7,4)))\n",
    "confg.append(('0.35','0.005',\"1 - 1\",'Yes','2179','auto','30','euclidean','5','3'))"
   ]
  },
  {
   "cell_type": "code",
   "execution_count": 136,
   "metadata": {},
   "outputs": [
    {
     "data": {
      "text/html": [
       "<div>\n",
       "<style scoped>\n",
       "    .dataframe tbody tr th:only-of-type {\n",
       "        vertical-align: middle;\n",
       "    }\n",
       "\n",
       "    .dataframe tbody tr th {\n",
       "        vertical-align: top;\n",
       "    }\n",
       "\n",
       "    .dataframe thead th {\n",
       "        text-align: right;\n",
       "    }\n",
       "</style>\n",
       "<table border=\"1\" class=\"dataframe\">\n",
       "  <thead>\n",
       "    <tr style=\"text-align: right;\">\n",
       "      <th></th>\n",
       "      <th>max df</th>\n",
       "      <th>min df</th>\n",
       "      <th>ngram</th>\n",
       "      <th>idf</th>\n",
       "      <th>no. token</th>\n",
       "      <th>algorithm</th>\n",
       "      <th>leafsize</th>\n",
       "      <th>metric</th>\n",
       "      <th>K</th>\n",
       "      <th>p</th>\n",
       "    </tr>\n",
       "  </thead>\n",
       "  <tbody>\n",
       "    <tr>\n",
       "      <th>0</th>\n",
       "      <td>0.35</td>\n",
       "      <td>1</td>\n",
       "      <td>1 - 12</td>\n",
       "      <td>No</td>\n",
       "      <td>498538</td>\n",
       "      <td>auto</td>\n",
       "      <td>30</td>\n",
       "      <td>minkowski</td>\n",
       "      <td>5</td>\n",
       "      <td>2</td>\n",
       "    </tr>\n",
       "    <tr>\n",
       "      <th>1</th>\n",
       "      <td>0.35</td>\n",
       "      <td>0.005</td>\n",
       "      <td>1 - 1</td>\n",
       "      <td>No</td>\n",
       "      <td>2179</td>\n",
       "      <td>auto</td>\n",
       "      <td>30</td>\n",
       "      <td>minkowski</td>\n",
       "      <td>5</td>\n",
       "      <td>2</td>\n",
       "    </tr>\n",
       "    <tr>\n",
       "      <th>2</th>\n",
       "      <td>0.35</td>\n",
       "      <td>0.005</td>\n",
       "      <td>1 - 1</td>\n",
       "      <td>Yes</td>\n",
       "      <td>2179</td>\n",
       "      <td>auto</td>\n",
       "      <td>30</td>\n",
       "      <td>minkowski</td>\n",
       "      <td>5</td>\n",
       "      <td>2</td>\n",
       "    </tr>\n",
       "    <tr>\n",
       "      <th>3</th>\n",
       "      <td>0.35</td>\n",
       "      <td>0.005</td>\n",
       "      <td>1 - 3</td>\n",
       "      <td>Yes</td>\n",
       "      <td>7128</td>\n",
       "      <td>auto</td>\n",
       "      <td>30</td>\n",
       "      <td>minkowski</td>\n",
       "      <td>5</td>\n",
       "      <td>2</td>\n",
       "    </tr>\n",
       "    <tr>\n",
       "      <th>4</th>\n",
       "      <td>0.35</td>\n",
       "      <td>0.005</td>\n",
       "      <td>1 - 1</td>\n",
       "      <td>Yes</td>\n",
       "      <td>2179</td>\n",
       "      <td>kd tree</td>\n",
       "      <td>30</td>\n",
       "      <td>minkowski</td>\n",
       "      <td>5</td>\n",
       "      <td>2</td>\n",
       "    </tr>\n",
       "    <tr>\n",
       "      <th>5</th>\n",
       "      <td>0.35</td>\n",
       "      <td>0.005</td>\n",
       "      <td>1 - 1</td>\n",
       "      <td>Yes</td>\n",
       "      <td>2179</td>\n",
       "      <td>auto</td>\n",
       "      <td>30</td>\n",
       "      <td>cosine</td>\n",
       "      <td>5</td>\n",
       "      <td>2</td>\n",
       "    </tr>\n",
       "    <tr>\n",
       "      <th>6</th>\n",
       "      <td>0.35</td>\n",
       "      <td>0.005</td>\n",
       "      <td>1 - 1</td>\n",
       "      <td>Yes</td>\n",
       "      <td>2179</td>\n",
       "      <td>auto</td>\n",
       "      <td>30</td>\n",
       "      <td>euclidean</td>\n",
       "      <td>5</td>\n",
       "      <td>3</td>\n",
       "    </tr>\n",
       "  </tbody>\n",
       "</table>\n",
       "</div>"
      ],
      "text/plain": [
       "  max df min df   ngram  idf no. token algorithm leafsize     metric  K  p\n",
       "0   0.35      1  1 - 12   No    498538      auto       30  minkowski  5  2\n",
       "1   0.35  0.005   1 - 1   No      2179      auto       30  minkowski  5  2\n",
       "2   0.35  0.005   1 - 1  Yes      2179      auto       30  minkowski  5  2\n",
       "3   0.35  0.005   1 - 3  Yes      7128      auto       30  minkowski  5  2\n",
       "4   0.35  0.005   1 - 1  Yes      2179   kd tree       30  minkowski  5  2\n",
       "5   0.35  0.005   1 - 1  Yes      2179      auto       30     cosine  5  2\n",
       "6   0.35  0.005   1 - 1  Yes      2179      auto       30  euclidean  5  3"
      ]
     },
     "execution_count": 136,
     "metadata": {},
     "output_type": "execute_result"
    }
   ],
   "source": [
    "stp=pd.DataFrame(confg, columns=confp)\n",
    "stp.to_csv('CSVOUT/KNNconf4.csv')\n",
    "stp"
   ]
  },
  {
   "cell_type": "code",
   "execution_count": 137,
   "metadata": {},
   "outputs": [
    {
     "data": {
      "image/png": "[encoded data removed]",
      "text/plain": [
       "<Figure size 720x360 with 2 Axes>"
      ]
     },
     "metadata": {},
     "output_type": "display_data"
    }
   ],
   "source": [
    "rsl=pd.DataFrame(prf, columns=evlp)\n",
    "rsl.to_csv('CSVOUT/KNNprf4.csv')\n",
    "plt.figure(figsize=(10,5))\n",
    "sb.set(font_scale=1.6)\n",
    "sb.heatmap(rsl, annot=True, cmap=\"YlGnBu\", linewidths=.5, fmt=\"g\", annot_kws={\"size\": 18})\n",
    "plt.xlabel('Performance')\n",
    "plt.ylabel('Configuration')\n",
    "#plt.title('Confusion Matrix KNN_fig2')\n",
    "plt.savefig('Fig/KNNprf4.png', dpi=300, bbox_inches='tight', pad_inches=0.2)"
   ]
  },
  {
   "cell_type": "code",
   "execution_count": 138,
   "metadata": {},
   "outputs": [],
   "source": [
    "confp=['max df','min df','ngram','idf','no. token','algorithm','leafsize',\n",
    "       'metric','K','p']\n",
    "confg=[]"
   ]
  },
  {
   "cell_type": "code",
   "execution_count": 139,
   "metadata": {},
   "outputs": [
    {
     "data": {
      "text/plain": [
       "KNeighborsClassifier(algorithm='auto', leaf_size=30, metric='cosine',\n",
       "           metric_params=None, n_jobs=None, n_neighbors=7, p=2,\n",
       "           weights='uniform')"
      ]
     },
     "execution_count": 139,
     "metadata": {},
     "output_type": "execute_result"
    }
   ],
   "source": [
    "clf=KNeighborsClassifier(metric='cosine', n_neighbors=7, p=2)#looks no effect from p\n",
    "clf"
   ]
  },
  {
   "cell_type": "code",
   "execution_count": 140,
   "metadata": {},
   "outputs": [],
   "source": [
    "confg.append(('0.35','0.005',\"1 - 1\",'Yes','2179','auto','30','cosine','7','2'))"
   ]
  },
  {
   "cell_type": "code",
   "execution_count": 141,
   "metadata": {},
   "outputs": [
    {
     "name": "stderr",
     "output_type": "stream",
     "text": [
      "c:\\python\\python37\\lib\\site-packages\\sklearn\\model_selection\\_split.py:652: Warning: The least populated class in y has only 2 members, which is too few. The minimum number of members in any class cannot be less than n_splits=10.\n",
      "  % (min_groups, self.n_splits)), Warning)\n",
      "c:\\python\\python37\\lib\\site-packages\\sklearn\\model_selection\\_split.py:652: Warning: The least populated class in y has only 2 members, which is too few. The minimum number of members in any class cannot be less than n_splits=10.\n",
      "  % (min_groups, self.n_splits)), Warning)\n",
      "c:\\python\\python37\\lib\\site-packages\\sklearn\\metrics\\classification.py:1143: UndefinedMetricWarning: F-score is ill-defined and being set to 0.0 in labels with no predicted samples.\n",
      "  'precision', 'predicted', average, warn_for)\n"
     ]
    },
    {
     "name": "stdout",
     "output_type": "stream",
     "text": [
      "[0.5217, 0.6087, 0.4091, 0.5, 0.6471, 0.8824, 0.5882, 0.8125, 0.6, 0.4667, 0.6036339417189801, 'f1 micro', '10'] \n",
      " Average Score : 0.6036339417189801\n",
      "[0.4598, 0.4862, 0.2375, 0.536, 0.5583, 0.7944, 0.4926, 0.6562, 0.5333, 0.4352, 0.5189531448943214, 'f1 macro', '10'] \n",
      " Average Score : 0.5189531448943214\n"
     ]
    },
    {
     "name": "stderr",
     "output_type": "stream",
     "text": [
      "c:\\python\\python37\\lib\\site-packages\\sklearn\\metrics\\classification.py:1143: UndefinedMetricWarning: F-score is ill-defined and being set to 0.0 in labels with no predicted samples.\n",
      "  'precision', 'predicted', average, warn_for)\n",
      "c:\\python\\python37\\lib\\site-packages\\sklearn\\metrics\\classification.py:1143: UndefinedMetricWarning: F-score is ill-defined and being set to 0.0 in labels with no predicted samples.\n",
      "  'precision', 'predicted', average, warn_for)\n",
      "c:\\python\\python37\\lib\\site-packages\\sklearn\\metrics\\classification.py:1143: UndefinedMetricWarning: F-score is ill-defined and being set to 0.0 in labels with no predicted samples.\n",
      "  'precision', 'predicted', average, warn_for)\n",
      "c:\\python\\python37\\lib\\site-packages\\sklearn\\metrics\\classification.py:1143: UndefinedMetricWarning: F-score is ill-defined and being set to 0.0 in labels with no predicted samples.\n",
      "  'precision', 'predicted', average, warn_for)\n",
      "c:\\python\\python37\\lib\\site-packages\\sklearn\\metrics\\classification.py:1143: UndefinedMetricWarning: F-score is ill-defined and being set to 0.0 in labels with no predicted samples.\n",
      "  'precision', 'predicted', average, warn_for)\n",
      "c:\\python\\python37\\lib\\site-packages\\sklearn\\metrics\\classification.py:1143: UndefinedMetricWarning: F-score is ill-defined and being set to 0.0 in labels with no predicted samples.\n",
      "  'precision', 'predicted', average, warn_for)\n",
      "c:\\python\\python37\\lib\\site-packages\\sklearn\\metrics\\classification.py:1143: UndefinedMetricWarning: F-score is ill-defined and being set to 0.0 in labels with no predicted samples.\n",
      "  'precision', 'predicted', average, warn_for)\n",
      "c:\\python\\python37\\lib\\site-packages\\sklearn\\metrics\\classification.py:1143: UndefinedMetricWarning: F-score is ill-defined and being set to 0.0 in labels with no predicted samples.\n",
      "  'precision', 'predicted', average, warn_for)\n",
      "c:\\python\\python37\\lib\\site-packages\\sklearn\\metrics\\classification.py:1143: UndefinedMetricWarning: F-score is ill-defined and being set to 0.0 in labels with no predicted samples.\n",
      "  'precision', 'predicted', average, warn_for)\n",
      "c:\\python\\python37\\lib\\site-packages\\sklearn\\metrics\\classification.py:1145: UndefinedMetricWarning: F-score is ill-defined and being set to 0.0 in labels with no true samples.\n",
      "  'recall', 'true', average, warn_for)\n"
     ]
    },
    {
     "data": {
      "text/html": [
       "<div>\n",
       "<style scoped>\n",
       "    .dataframe tbody tr th:only-of-type {\n",
       "        vertical-align: middle;\n",
       "    }\n",
       "\n",
       "    .dataframe tbody tr th {\n",
       "        vertical-align: top;\n",
       "    }\n",
       "\n",
       "    .dataframe thead th {\n",
       "        text-align: right;\n",
       "    }\n",
       "</style>\n",
       "<table border=\"1\" class=\"dataframe\">\n",
       "  <thead>\n",
       "    <tr style=\"text-align: right;\">\n",
       "      <th></th>\n",
       "      <th>1</th>\n",
       "      <th>2</th>\n",
       "      <th>3</th>\n",
       "      <th>4</th>\n",
       "      <th>5</th>\n",
       "      <th>6</th>\n",
       "      <th>7</th>\n",
       "      <th>8</th>\n",
       "      <th>9</th>\n",
       "      <th>10</th>\n",
       "      <th>Average</th>\n",
       "      <th>metric</th>\n",
       "      <th>cv fold</th>\n",
       "    </tr>\n",
       "  </thead>\n",
       "  <tbody>\n",
       "    <tr>\n",
       "      <th>0</th>\n",
       "      <td>0.5217</td>\n",
       "      <td>0.6087</td>\n",
       "      <td>0.4091</td>\n",
       "      <td>0.500</td>\n",
       "      <td>0.6471</td>\n",
       "      <td>0.8824</td>\n",
       "      <td>0.5882</td>\n",
       "      <td>0.8125</td>\n",
       "      <td>0.6000</td>\n",
       "      <td>0.4667</td>\n",
       "      <td>0.603634</td>\n",
       "      <td>f1 micro</td>\n",
       "      <td>10</td>\n",
       "    </tr>\n",
       "    <tr>\n",
       "      <th>1</th>\n",
       "      <td>0.4598</td>\n",
       "      <td>0.4862</td>\n",
       "      <td>0.2375</td>\n",
       "      <td>0.536</td>\n",
       "      <td>0.5583</td>\n",
       "      <td>0.7944</td>\n",
       "      <td>0.4926</td>\n",
       "      <td>0.6562</td>\n",
       "      <td>0.5333</td>\n",
       "      <td>0.4352</td>\n",
       "      <td>0.518953</td>\n",
       "      <td>f1 macro</td>\n",
       "      <td>10</td>\n",
       "    </tr>\n",
       "  </tbody>\n",
       "</table>\n",
       "</div>"
      ],
      "text/plain": [
       "        1       2       3      4       5       6       7       8       9  \\\n",
       "0  0.5217  0.6087  0.4091  0.500  0.6471  0.8824  0.5882  0.8125  0.6000   \n",
       "1  0.4598  0.4862  0.2375  0.536  0.5583  0.7944  0.4926  0.6562  0.5333   \n",
       "\n",
       "       10   Average    metric cv fold  \n",
       "0  0.4667  0.603634  f1 micro      10  \n",
       "1  0.4352  0.518953  f1 macro      10  "
      ]
     },
     "execution_count": 141,
     "metadata": {},
     "output_type": "execute_result"
    }
   ],
   "source": [
    "cvp=['1','2','3','4','5','6','7','8','9','10','Average','metric','cv fold']\n",
    "cvs=[]\n",
    "clf_crs=cross_val_score(clf, TsDt, Ts_lbl, cv=10, scoring='f1_micro')\n",
    "sr1=[round(e,4) for e in clf_crs]\n",
    "a1=(sum(clf_crs)/10)\n",
    "sr1.append(a1)\n",
    "sr1.append('f1 micro')\n",
    "sr1.append('10')\n",
    "print(sr1,'\\n','Average Score :',a1)\n",
    "clf_crs=cross_val_score(clf, TsDt, Ts_lbl, cv=10, scoring='f1_macro')\n",
    "sr2=[round(e,4) for e in clf_crs]\n",
    "a2=(sum(clf_crs)/10)\n",
    "sr2.append(a2)\n",
    "sr2.append('f1 macro')\n",
    "sr2.append('10')\n",
    "print(sr2,'\\n','Average Score :',a2)\n",
    "cvs.append(sr1)\n",
    "cvs.append(sr2)\n",
    "rsl=pd.DataFrame(cvs, columns=cvp)\n",
    "rsl.to_csv('CSVOUT/KNNcvp110.csv')\n",
    "rsl"
   ]
  },
  {
   "cell_type": "code",
   "execution_count": 142,
   "metadata": {},
   "outputs": [
    {
     "name": "stderr",
     "output_type": "stream",
     "text": [
      "c:\\python\\python37\\lib\\site-packages\\sklearn\\model_selection\\_split.py:652: Warning: The least populated class in y has only 2 members, which is too few. The minimum number of members in any class cannot be less than n_splits=20.\n",
      "  % (min_groups, self.n_splits)), Warning)\n"
     ]
    },
    {
     "name": "stdout",
     "output_type": "stream",
     "text": [
      "[0.5333, 0.5333, 0.7143, 0.5385, 0.4545, 0.5455, 0.6364, 0.3636, 0.7, 0.8, 0.75, 0.875, 0.625, 1.0, 0.8333, 0.6667, 0.8333, 0.4, 0.4, 0.4, 0.6301373626373626, 'f1 micro', '20'] \n",
      " Average Score : 0.6301373626373626\n"
     ]
    },
    {
     "name": "stderr",
     "output_type": "stream",
     "text": [
      "c:\\python\\python37\\lib\\site-packages\\sklearn\\model_selection\\_split.py:652: Warning: The least populated class in y has only 2 members, which is too few. The minimum number of members in any class cannot be less than n_splits=20.\n",
      "  % (min_groups, self.n_splits)), Warning)\n",
      "c:\\python\\python37\\lib\\site-packages\\sklearn\\metrics\\classification.py:1143: UndefinedMetricWarning: F-score is ill-defined and being set to 0.0 in labels with no predicted samples.\n",
      "  'precision', 'predicted', average, warn_for)\n",
      "c:\\python\\python37\\lib\\site-packages\\sklearn\\metrics\\classification.py:1143: UndefinedMetricWarning: F-score is ill-defined and being set to 0.0 in labels with no predicted samples.\n",
      "  'precision', 'predicted', average, warn_for)\n",
      "c:\\python\\python37\\lib\\site-packages\\sklearn\\metrics\\classification.py:1143: UndefinedMetricWarning: F-score is ill-defined and being set to 0.0 in labels with no predicted samples.\n",
      "  'precision', 'predicted', average, warn_for)\n",
      "c:\\python\\python37\\lib\\site-packages\\sklearn\\metrics\\classification.py:1143: UndefinedMetricWarning: F-score is ill-defined and being set to 0.0 in labels with no predicted samples.\n",
      "  'precision', 'predicted', average, warn_for)\n",
      "c:\\python\\python37\\lib\\site-packages\\sklearn\\metrics\\classification.py:1143: UndefinedMetricWarning: F-score is ill-defined and being set to 0.0 in labels with no predicted samples.\n",
      "  'precision', 'predicted', average, warn_for)\n",
      "c:\\python\\python37\\lib\\site-packages\\sklearn\\metrics\\classification.py:1143: UndefinedMetricWarning: F-score is ill-defined and being set to 0.0 in labels with no predicted samples.\n",
      "  'precision', 'predicted', average, warn_for)\n",
      "c:\\python\\python37\\lib\\site-packages\\sklearn\\metrics\\classification.py:1143: UndefinedMetricWarning: F-score is ill-defined and being set to 0.0 in labels with no predicted samples.\n",
      "  'precision', 'predicted', average, warn_for)\n",
      "c:\\python\\python37\\lib\\site-packages\\sklearn\\metrics\\classification.py:1143: UndefinedMetricWarning: F-score is ill-defined and being set to 0.0 in labels with no predicted samples.\n",
      "  'precision', 'predicted', average, warn_for)\n",
      "c:\\python\\python37\\lib\\site-packages\\sklearn\\metrics\\classification.py:1145: UndefinedMetricWarning: F-score is ill-defined and being set to 0.0 in labels with no true samples.\n",
      "  'recall', 'true', average, warn_for)\n",
      "c:\\python\\python37\\lib\\site-packages\\sklearn\\metrics\\classification.py:1143: UndefinedMetricWarning: F-score is ill-defined and being set to 0.0 in labels with no predicted samples.\n",
      "  'precision', 'predicted', average, warn_for)\n",
      "c:\\python\\python37\\lib\\site-packages\\sklearn\\metrics\\classification.py:1143: UndefinedMetricWarning: F-score is ill-defined and being set to 0.0 in labels with no predicted samples.\n",
      "  'precision', 'predicted', average, warn_for)\n",
      "c:\\python\\python37\\lib\\site-packages\\sklearn\\metrics\\classification.py:1143: UndefinedMetricWarning: F-score is ill-defined and being set to 0.0 in labels with no predicted samples.\n",
      "  'precision', 'predicted', average, warn_for)\n",
      "c:\\python\\python37\\lib\\site-packages\\sklearn\\metrics\\classification.py:1145: UndefinedMetricWarning: F-score is ill-defined and being set to 0.0 in labels with no true samples.\n",
      "  'recall', 'true', average, warn_for)\n",
      "c:\\python\\python37\\lib\\site-packages\\sklearn\\metrics\\classification.py:1143: UndefinedMetricWarning: F-score is ill-defined and being set to 0.0 in labels with no predicted samples.\n",
      "  'precision', 'predicted', average, warn_for)\n",
      "c:\\python\\python37\\lib\\site-packages\\sklearn\\metrics\\classification.py:1143: UndefinedMetricWarning: F-score is ill-defined and being set to 0.0 in labels with no predicted samples.\n",
      "  'precision', 'predicted', average, warn_for)\n",
      "c:\\python\\python37\\lib\\site-packages\\sklearn\\metrics\\classification.py:1143: UndefinedMetricWarning: F-score is ill-defined and being set to 0.0 in labels with no predicted samples.\n",
      "  'precision', 'predicted', average, warn_for)\n",
      "c:\\python\\python37\\lib\\site-packages\\sklearn\\metrics\\classification.py:1143: UndefinedMetricWarning: F-score is ill-defined and being set to 0.0 in labels with no predicted samples.\n",
      "  'precision', 'predicted', average, warn_for)\n"
     ]
    },
    {
     "name": "stdout",
     "output_type": "stream",
     "text": [
      "[0.46, 0.42, 0.6376, 0.4222, 0.3125, 0.4214, 0.5417, 0.2778, 0.725, 0.6833, 0.6889, 0.8889, 0.4762, 1.0, 0.76, 0.5333, 0.7333, 0.3333, 0.3333, 0.2778, 0.5463287037037038, 'f1 macro', '20'] \n",
      " Average Score : 0.5463287037037038\n"
     ]
    },
    {
     "name": "stderr",
     "output_type": "stream",
     "text": [
      "c:\\python\\python37\\lib\\site-packages\\sklearn\\metrics\\classification.py:1143: UndefinedMetricWarning: F-score is ill-defined and being set to 0.0 in labels with no predicted samples.\n",
      "  'precision', 'predicted', average, warn_for)\n",
      "c:\\python\\python37\\lib\\site-packages\\sklearn\\metrics\\classification.py:1145: UndefinedMetricWarning: F-score is ill-defined and being set to 0.0 in labels with no true samples.\n",
      "  'recall', 'true', average, warn_for)\n",
      "c:\\python\\python37\\lib\\site-packages\\sklearn\\metrics\\classification.py:1143: UndefinedMetricWarning: F-score is ill-defined and being set to 0.0 in labels with no predicted samples.\n",
      "  'precision', 'predicted', average, warn_for)\n",
      "c:\\python\\python37\\lib\\site-packages\\sklearn\\metrics\\classification.py:1145: UndefinedMetricWarning: F-score is ill-defined and being set to 0.0 in labels with no true samples.\n",
      "  'recall', 'true', average, warn_for)\n"
     ]
    },
    {
     "data": {
      "text/html": [
       "<div>\n",
       "<style scoped>\n",
       "    .dataframe tbody tr th:only-of-type {\n",
       "        vertical-align: middle;\n",
       "    }\n",
       "\n",
       "    .dataframe tbody tr th {\n",
       "        vertical-align: top;\n",
       "    }\n",
       "\n",
       "    .dataframe thead th {\n",
       "        text-align: right;\n",
       "    }\n",
       "</style>\n",
       "<table border=\"1\" class=\"dataframe\">\n",
       "  <thead>\n",
       "    <tr style=\"text-align: right;\">\n",
       "      <th></th>\n",
       "      <th>1</th>\n",
       "      <th>2</th>\n",
       "      <th>3</th>\n",
       "      <th>4</th>\n",
       "      <th>5</th>\n",
       "      <th>6</th>\n",
       "      <th>7</th>\n",
       "      <th>8</th>\n",
       "      <th>9</th>\n",
       "      <th>10</th>\n",
       "      <th>...</th>\n",
       "      <th>14</th>\n",
       "      <th>15</th>\n",
       "      <th>16</th>\n",
       "      <th>17</th>\n",
       "      <th>18</th>\n",
       "      <th>19</th>\n",
       "      <th>20</th>\n",
       "      <th>Average</th>\n",
       "      <th>metric</th>\n",
       "      <th>cv fold</th>\n",
       "    </tr>\n",
       "  </thead>\n",
       "  <tbody>\n",
       "    <tr>\n",
       "      <th>0</th>\n",
       "      <td>0.5333</td>\n",
       "      <td>0.5333</td>\n",
       "      <td>0.7143</td>\n",
       "      <td>0.5385</td>\n",
       "      <td>0.4545</td>\n",
       "      <td>0.5455</td>\n",
       "      <td>0.6364</td>\n",
       "      <td>0.3636</td>\n",
       "      <td>0.700</td>\n",
       "      <td>0.8000</td>\n",
       "      <td>...</td>\n",
       "      <td>1.0</td>\n",
       "      <td>0.8333</td>\n",
       "      <td>0.6667</td>\n",
       "      <td>0.8333</td>\n",
       "      <td>0.4000</td>\n",
       "      <td>0.4000</td>\n",
       "      <td>0.4000</td>\n",
       "      <td>0.630137</td>\n",
       "      <td>f1 micro</td>\n",
       "      <td>20</td>\n",
       "    </tr>\n",
       "    <tr>\n",
       "      <th>1</th>\n",
       "      <td>0.4600</td>\n",
       "      <td>0.4200</td>\n",
       "      <td>0.6376</td>\n",
       "      <td>0.4222</td>\n",
       "      <td>0.3125</td>\n",
       "      <td>0.4214</td>\n",
       "      <td>0.5417</td>\n",
       "      <td>0.2778</td>\n",
       "      <td>0.725</td>\n",
       "      <td>0.6833</td>\n",
       "      <td>...</td>\n",
       "      <td>1.0</td>\n",
       "      <td>0.7600</td>\n",
       "      <td>0.5333</td>\n",
       "      <td>0.7333</td>\n",
       "      <td>0.3333</td>\n",
       "      <td>0.3333</td>\n",
       "      <td>0.2778</td>\n",
       "      <td>0.546329</td>\n",
       "      <td>f1 macro</td>\n",
       "      <td>20</td>\n",
       "    </tr>\n",
       "  </tbody>\n",
       "</table>\n",
       "<p>2 rows × 23 columns</p>\n",
       "</div>"
      ],
      "text/plain": [
       "        1       2       3       4       5       6       7       8      9  \\\n",
       "0  0.5333  0.5333  0.7143  0.5385  0.4545  0.5455  0.6364  0.3636  0.700   \n",
       "1  0.4600  0.4200  0.6376  0.4222  0.3125  0.4214  0.5417  0.2778  0.725   \n",
       "\n",
       "       10  ...   14      15      16      17      18      19      20   Average  \\\n",
       "0  0.8000  ...  1.0  0.8333  0.6667  0.8333  0.4000  0.4000  0.4000  0.630137   \n",
       "1  0.6833  ...  1.0  0.7600  0.5333  0.7333  0.3333  0.3333  0.2778  0.546329   \n",
       "\n",
       "     metric  cv fold  \n",
       "0  f1 micro       20  \n",
       "1  f1 macro       20  \n",
       "\n",
       "[2 rows x 23 columns]"
      ]
     },
     "execution_count": 142,
     "metadata": {},
     "output_type": "execute_result"
    }
   ],
   "source": [
    "cvp=['1','2','3','4','5','6','7','8','9','10','11','12','13','14','15','16','17','18','19','20',\n",
    "    'Average','metric','cv fold']\n",
    "cvs=[]\n",
    "clf_crs=cross_val_score(clf, TsDt, Ts_lbl, cv=20, scoring='f1_micro')\n",
    "sr1=[round(e,4) for e in clf_crs]\n",
    "a1=(sum(clf_crs)/20)\n",
    "sr1.append(a1)\n",
    "sr1.append('f1 micro')\n",
    "sr1.append('20')\n",
    "print(sr1,'\\n','Average Score :',a1)\n",
    "clf_crs=cross_val_score(clf, TsDt, Ts_lbl, cv=20, scoring='f1_macro')\n",
    "sr2=[round(e,4) for e in clf_crs]\n",
    "a2=(sum(clf_crs)/20)\n",
    "sr2.append(a2)\n",
    "sr2.append('f1 macro')\n",
    "sr2.append('20')\n",
    "print(sr2,'\\n','Average Score :',a2)\n",
    "cvs.append(sr1)\n",
    "cvs.append(sr2)\n",
    "rsl=pd.DataFrame(cvs, columns=cvp)\n",
    "rsl.to_csv('CSVOUT/KNNcvpf120.csv')\n",
    "rsl\n",
    "#print(len(sr1),len(sr2))"
   ]
  },
  {
   "cell_type": "code",
   "execution_count": 143,
   "metadata": {},
   "outputs": [],
   "source": [
    "clf=KNeighborsClassifier(algorithm='kd_tree', metric='euclidean', n_neighbors=7, p=3)\n",
    "#looks no effect from p"
   ]
  },
  {
   "cell_type": "code",
   "execution_count": 144,
   "metadata": {},
   "outputs": [],
   "source": [
    "confg.append(('0.35','0.005',\"1 - 1\",'Yes','2179','kd tree','30','euclidean','7','3'))"
   ]
  },
  {
   "cell_type": "code",
   "execution_count": 145,
   "metadata": {},
   "outputs": [
    {
     "name": "stderr",
     "output_type": "stream",
     "text": [
      "c:\\python\\python37\\lib\\site-packages\\sklearn\\model_selection\\_split.py:652: Warning: The least populated class in y has only 2 members, which is too few. The minimum number of members in any class cannot be less than n_splits=10.\n",
      "  % (min_groups, self.n_splits)), Warning)\n"
     ]
    },
    {
     "name": "stdout",
     "output_type": "stream",
     "text": [
      "[0.5217, 0.6087, 0.4091, 0.5, 0.6471, 0.8824, 0.5882, 0.8125, 0.6, 0.4667, 0.6036339417189801, 'f1 micro', '10'] \n",
      " Average Score : 0.6036339417189801\n"
     ]
    },
    {
     "name": "stderr",
     "output_type": "stream",
     "text": [
      "c:\\python\\python37\\lib\\site-packages\\sklearn\\model_selection\\_split.py:652: Warning: The least populated class in y has only 2 members, which is too few. The minimum number of members in any class cannot be less than n_splits=10.\n",
      "  % (min_groups, self.n_splits)), Warning)\n",
      "c:\\python\\python37\\lib\\site-packages\\sklearn\\metrics\\classification.py:1143: UndefinedMetricWarning: F-score is ill-defined and being set to 0.0 in labels with no predicted samples.\n",
      "  'precision', 'predicted', average, warn_for)\n",
      "c:\\python\\python37\\lib\\site-packages\\sklearn\\metrics\\classification.py:1143: UndefinedMetricWarning: F-score is ill-defined and being set to 0.0 in labels with no predicted samples.\n",
      "  'precision', 'predicted', average, warn_for)\n",
      "c:\\python\\python37\\lib\\site-packages\\sklearn\\metrics\\classification.py:1143: UndefinedMetricWarning: F-score is ill-defined and being set to 0.0 in labels with no predicted samples.\n",
      "  'precision', 'predicted', average, warn_for)\n",
      "c:\\python\\python37\\lib\\site-packages\\sklearn\\metrics\\classification.py:1143: UndefinedMetricWarning: F-score is ill-defined and being set to 0.0 in labels with no predicted samples.\n",
      "  'precision', 'predicted', average, warn_for)\n",
      "c:\\python\\python37\\lib\\site-packages\\sklearn\\metrics\\classification.py:1143: UndefinedMetricWarning: F-score is ill-defined and being set to 0.0 in labels with no predicted samples.\n",
      "  'precision', 'predicted', average, warn_for)\n",
      "c:\\python\\python37\\lib\\site-packages\\sklearn\\metrics\\classification.py:1143: UndefinedMetricWarning: F-score is ill-defined and being set to 0.0 in labels with no predicted samples.\n",
      "  'precision', 'predicted', average, warn_for)\n",
      "c:\\python\\python37\\lib\\site-packages\\sklearn\\metrics\\classification.py:1143: UndefinedMetricWarning: F-score is ill-defined and being set to 0.0 in labels with no predicted samples.\n",
      "  'precision', 'predicted', average, warn_for)\n",
      "c:\\python\\python37\\lib\\site-packages\\sklearn\\metrics\\classification.py:1143: UndefinedMetricWarning: F-score is ill-defined and being set to 0.0 in labels with no predicted samples.\n",
      "  'precision', 'predicted', average, warn_for)\n",
      "c:\\python\\python37\\lib\\site-packages\\sklearn\\metrics\\classification.py:1143: UndefinedMetricWarning: F-score is ill-defined and being set to 0.0 in labels with no predicted samples.\n",
      "  'precision', 'predicted', average, warn_for)\n"
     ]
    },
    {
     "name": "stdout",
     "output_type": "stream",
     "text": [
      "[0.4598, 0.4862, 0.2375, 0.536, 0.5583, 0.7944, 0.506, 0.6562, 0.5333, 0.4352, 0.5202924306086071, 'f1 macro', '10'] \n",
      " Average Score : 0.5202924306086071\n"
     ]
    },
    {
     "name": "stderr",
     "output_type": "stream",
     "text": [
      "c:\\python\\python37\\lib\\site-packages\\sklearn\\metrics\\classification.py:1143: UndefinedMetricWarning: F-score is ill-defined and being set to 0.0 in labels with no predicted samples.\n",
      "  'precision', 'predicted', average, warn_for)\n",
      "c:\\python\\python37\\lib\\site-packages\\sklearn\\metrics\\classification.py:1145: UndefinedMetricWarning: F-score is ill-defined and being set to 0.0 in labels with no true samples.\n",
      "  'recall', 'true', average, warn_for)\n"
     ]
    },
    {
     "data": {
      "text/html": [
       "<div>\n",
       "<style scoped>\n",
       "    .dataframe tbody tr th:only-of-type {\n",
       "        vertical-align: middle;\n",
       "    }\n",
       "\n",
       "    .dataframe tbody tr th {\n",
       "        vertical-align: top;\n",
       "    }\n",
       "\n",
       "    .dataframe thead th {\n",
       "        text-align: right;\n",
       "    }\n",
       "</style>\n",
       "<table border=\"1\" class=\"dataframe\">\n",
       "  <thead>\n",
       "    <tr style=\"text-align: right;\">\n",
       "      <th></th>\n",
       "      <th>1</th>\n",
       "      <th>2</th>\n",
       "      <th>3</th>\n",
       "      <th>4</th>\n",
       "      <th>5</th>\n",
       "      <th>6</th>\n",
       "      <th>7</th>\n",
       "      <th>8</th>\n",
       "      <th>9</th>\n",
       "      <th>10</th>\n",
       "      <th>Average</th>\n",
       "      <th>metric</th>\n",
       "      <th>cv fold</th>\n",
       "    </tr>\n",
       "  </thead>\n",
       "  <tbody>\n",
       "    <tr>\n",
       "      <th>0</th>\n",
       "      <td>0.5217</td>\n",
       "      <td>0.6087</td>\n",
       "      <td>0.4091</td>\n",
       "      <td>0.500</td>\n",
       "      <td>0.6471</td>\n",
       "      <td>0.8824</td>\n",
       "      <td>0.5882</td>\n",
       "      <td>0.8125</td>\n",
       "      <td>0.6000</td>\n",
       "      <td>0.4667</td>\n",
       "      <td>0.603634</td>\n",
       "      <td>f1 micro</td>\n",
       "      <td>10</td>\n",
       "    </tr>\n",
       "    <tr>\n",
       "      <th>1</th>\n",
       "      <td>0.4598</td>\n",
       "      <td>0.4862</td>\n",
       "      <td>0.2375</td>\n",
       "      <td>0.536</td>\n",
       "      <td>0.5583</td>\n",
       "      <td>0.7944</td>\n",
       "      <td>0.5060</td>\n",
       "      <td>0.6562</td>\n",
       "      <td>0.5333</td>\n",
       "      <td>0.4352</td>\n",
       "      <td>0.520292</td>\n",
       "      <td>f1 macro</td>\n",
       "      <td>10</td>\n",
       "    </tr>\n",
       "  </tbody>\n",
       "</table>\n",
       "</div>"
      ],
      "text/plain": [
       "        1       2       3      4       5       6       7       8       9  \\\n",
       "0  0.5217  0.6087  0.4091  0.500  0.6471  0.8824  0.5882  0.8125  0.6000   \n",
       "1  0.4598  0.4862  0.2375  0.536  0.5583  0.7944  0.5060  0.6562  0.5333   \n",
       "\n",
       "       10   Average    metric cv fold  \n",
       "0  0.4667  0.603634  f1 micro      10  \n",
       "1  0.4352  0.520292  f1 macro      10  "
      ]
     },
     "execution_count": 145,
     "metadata": {},
     "output_type": "execute_result"
    }
   ],
   "source": [
    "cvp=['1','2','3','4','5','6','7','8','9','10','Average','metric','cv fold']\n",
    "cvs=[]\n",
    "clf_crs=cross_val_score(clf, TsDt, Ts_lbl, cv=10, scoring='f1_micro')\n",
    "sr1=[round(e,4) for e in clf_crs]\n",
    "a1=(sum(clf_crs)/10)\n",
    "sr1.append(a1)\n",
    "sr1.append('f1 micro')\n",
    "sr1.append('10')\n",
    "print(sr1,'\\n','Average Score :',a1)\n",
    "clf_crs=cross_val_score(clf, TsDt, Ts_lbl, cv=10, scoring='f1_macro')\n",
    "sr2=[round(e,4) for e in clf_crs]\n",
    "a2=(sum(clf_crs)/10)\n",
    "sr2.append(a2)\n",
    "sr2.append('f1 macro')\n",
    "sr2.append('10')\n",
    "print(sr2,'\\n','Average Score :',a2)\n",
    "cvs.append(sr1)\n",
    "cvs.append(sr2)\n",
    "rsl=pd.DataFrame(cvs, columns=cvp)\n",
    "rsl.to_csv('CSVOUT/KNNcvpf210.csv')\n",
    "rsl"
   ]
  },
  {
   "cell_type": "code",
   "execution_count": 146,
   "metadata": {},
   "outputs": [
    {
     "name": "stderr",
     "output_type": "stream",
     "text": [
      "c:\\python\\python37\\lib\\site-packages\\sklearn\\model_selection\\_split.py:652: Warning: The least populated class in y has only 2 members, which is too few. The minimum number of members in any class cannot be less than n_splits=20.\n",
      "  % (min_groups, self.n_splits)), Warning)\n"
     ]
    },
    {
     "name": "stdout",
     "output_type": "stream",
     "text": [
      "[0.5333, 0.5333, 0.7143, 0.5385, 0.4545, 0.5455, 0.5455, 0.3636, 0.7, 0.8, 0.75, 0.875, 0.625, 1.0, 0.8333, 0.6667, 0.8333, 0.4, 0.4, 0.4, 0.6255919080919081, 'f1 micro', '20'] \n",
      " Average Score : 0.6255919080919081\n"
     ]
    },
    {
     "name": "stderr",
     "output_type": "stream",
     "text": [
      "c:\\python\\python37\\lib\\site-packages\\sklearn\\model_selection\\_split.py:652: Warning: The least populated class in y has only 2 members, which is too few. The minimum number of members in any class cannot be less than n_splits=20.\n",
      "  % (min_groups, self.n_splits)), Warning)\n",
      "c:\\python\\python37\\lib\\site-packages\\sklearn\\metrics\\classification.py:1143: UndefinedMetricWarning: F-score is ill-defined and being set to 0.0 in labels with no predicted samples.\n",
      "  'precision', 'predicted', average, warn_for)\n",
      "c:\\python\\python37\\lib\\site-packages\\sklearn\\metrics\\classification.py:1143: UndefinedMetricWarning: F-score is ill-defined and being set to 0.0 in labels with no predicted samples.\n",
      "  'precision', 'predicted', average, warn_for)\n",
      "c:\\python\\python37\\lib\\site-packages\\sklearn\\metrics\\classification.py:1143: UndefinedMetricWarning: F-score is ill-defined and being set to 0.0 in labels with no predicted samples.\n",
      "  'precision', 'predicted', average, warn_for)\n",
      "c:\\python\\python37\\lib\\site-packages\\sklearn\\metrics\\classification.py:1143: UndefinedMetricWarning: F-score is ill-defined and being set to 0.0 in labels with no predicted samples.\n",
      "  'precision', 'predicted', average, warn_for)\n",
      "c:\\python\\python37\\lib\\site-packages\\sklearn\\metrics\\classification.py:1143: UndefinedMetricWarning: F-score is ill-defined and being set to 0.0 in labels with no predicted samples.\n",
      "  'precision', 'predicted', average, warn_for)\n",
      "c:\\python\\python37\\lib\\site-packages\\sklearn\\metrics\\classification.py:1143: UndefinedMetricWarning: F-score is ill-defined and being set to 0.0 in labels with no predicted samples.\n",
      "  'precision', 'predicted', average, warn_for)\n",
      "c:\\python\\python37\\lib\\site-packages\\sklearn\\metrics\\classification.py:1143: UndefinedMetricWarning: F-score is ill-defined and being set to 0.0 in labels with no predicted samples.\n",
      "  'precision', 'predicted', average, warn_for)\n",
      "c:\\python\\python37\\lib\\site-packages\\sklearn\\metrics\\classification.py:1143: UndefinedMetricWarning: F-score is ill-defined and being set to 0.0 in labels with no predicted samples.\n",
      "  'precision', 'predicted', average, warn_for)\n",
      "c:\\python\\python37\\lib\\site-packages\\sklearn\\metrics\\classification.py:1145: UndefinedMetricWarning: F-score is ill-defined and being set to 0.0 in labels with no true samples.\n",
      "  'recall', 'true', average, warn_for)\n",
      "c:\\python\\python37\\lib\\site-packages\\sklearn\\metrics\\classification.py:1143: UndefinedMetricWarning: F-score is ill-defined and being set to 0.0 in labels with no predicted samples.\n",
      "  'precision', 'predicted', average, warn_for)\n"
     ]
    },
    {
     "name": "stdout",
     "output_type": "stream",
     "text": [
      "[0.46, 0.42, 0.6376, 0.4222, 0.3125, 0.4214, 0.5083, 0.2778, 0.725, 0.6833, 0.6889, 0.8889, 0.4762, 1.0, 0.76, 0.5333, 0.7333, 0.3333, 0.3333, 0.2778, 0.5446620370370371, 'f1 macro', '20'] \n",
      " Average Score : 0.5446620370370371\n"
     ]
    },
    {
     "name": "stderr",
     "output_type": "stream",
     "text": [
      "c:\\python\\python37\\lib\\site-packages\\sklearn\\metrics\\classification.py:1143: UndefinedMetricWarning: F-score is ill-defined and being set to 0.0 in labels with no predicted samples.\n",
      "  'precision', 'predicted', average, warn_for)\n",
      "c:\\python\\python37\\lib\\site-packages\\sklearn\\metrics\\classification.py:1143: UndefinedMetricWarning: F-score is ill-defined and being set to 0.0 in labels with no predicted samples.\n",
      "  'precision', 'predicted', average, warn_for)\n",
      "c:\\python\\python37\\lib\\site-packages\\sklearn\\metrics\\classification.py:1145: UndefinedMetricWarning: F-score is ill-defined and being set to 0.0 in labels with no true samples.\n",
      "  'recall', 'true', average, warn_for)\n",
      "c:\\python\\python37\\lib\\site-packages\\sklearn\\metrics\\classification.py:1143: UndefinedMetricWarning: F-score is ill-defined and being set to 0.0 in labels with no predicted samples.\n",
      "  'precision', 'predicted', average, warn_for)\n",
      "c:\\python\\python37\\lib\\site-packages\\sklearn\\metrics\\classification.py:1143: UndefinedMetricWarning: F-score is ill-defined and being set to 0.0 in labels with no predicted samples.\n",
      "  'precision', 'predicted', average, warn_for)\n",
      "c:\\python\\python37\\lib\\site-packages\\sklearn\\metrics\\classification.py:1143: UndefinedMetricWarning: F-score is ill-defined and being set to 0.0 in labels with no predicted samples.\n",
      "  'precision', 'predicted', average, warn_for)\n",
      "c:\\python\\python37\\lib\\site-packages\\sklearn\\metrics\\classification.py:1143: UndefinedMetricWarning: F-score is ill-defined and being set to 0.0 in labels with no predicted samples.\n",
      "  'precision', 'predicted', average, warn_for)\n",
      "c:\\python\\python37\\lib\\site-packages\\sklearn\\metrics\\classification.py:1143: UndefinedMetricWarning: F-score is ill-defined and being set to 0.0 in labels with no predicted samples.\n",
      "  'precision', 'predicted', average, warn_for)\n",
      "c:\\python\\python37\\lib\\site-packages\\sklearn\\metrics\\classification.py:1145: UndefinedMetricWarning: F-score is ill-defined and being set to 0.0 in labels with no true samples.\n",
      "  'recall', 'true', average, warn_for)\n",
      "c:\\python\\python37\\lib\\site-packages\\sklearn\\metrics\\classification.py:1143: UndefinedMetricWarning: F-score is ill-defined and being set to 0.0 in labels with no predicted samples.\n",
      "  'precision', 'predicted', average, warn_for)\n",
      "c:\\python\\python37\\lib\\site-packages\\sklearn\\metrics\\classification.py:1145: UndefinedMetricWarning: F-score is ill-defined and being set to 0.0 in labels with no true samples.\n",
      "  'recall', 'true', average, warn_for)\n"
     ]
    },
    {
     "data": {
      "text/html": [
       "<div>\n",
       "<style scoped>\n",
       "    .dataframe tbody tr th:only-of-type {\n",
       "        vertical-align: middle;\n",
       "    }\n",
       "\n",
       "    .dataframe tbody tr th {\n",
       "        vertical-align: top;\n",
       "    }\n",
       "\n",
       "    .dataframe thead th {\n",
       "        text-align: right;\n",
       "    }\n",
       "</style>\n",
       "<table border=\"1\" class=\"dataframe\">\n",
       "  <thead>\n",
       "    <tr style=\"text-align: right;\">\n",
       "      <th></th>\n",
       "      <th>1</th>\n",
       "      <th>2</th>\n",
       "      <th>3</th>\n",
       "      <th>4</th>\n",
       "      <th>5</th>\n",
       "      <th>6</th>\n",
       "      <th>7</th>\n",
       "      <th>8</th>\n",
       "      <th>9</th>\n",
       "      <th>10</th>\n",
       "      <th>...</th>\n",
       "      <th>14</th>\n",
       "      <th>15</th>\n",
       "      <th>16</th>\n",
       "      <th>17</th>\n",
       "      <th>18</th>\n",
       "      <th>19</th>\n",
       "      <th>20</th>\n",
       "      <th>Average</th>\n",
       "      <th>metric</th>\n",
       "      <th>cv fold</th>\n",
       "    </tr>\n",
       "  </thead>\n",
       "  <tbody>\n",
       "    <tr>\n",
       "      <th>0</th>\n",
       "      <td>0.5333</td>\n",
       "      <td>0.5333</td>\n",
       "      <td>0.7143</td>\n",
       "      <td>0.5385</td>\n",
       "      <td>0.4545</td>\n",
       "      <td>0.5455</td>\n",
       "      <td>0.5455</td>\n",
       "      <td>0.3636</td>\n",
       "      <td>0.700</td>\n",
       "      <td>0.8000</td>\n",
       "      <td>...</td>\n",
       "      <td>1.0</td>\n",
       "      <td>0.8333</td>\n",
       "      <td>0.6667</td>\n",
       "      <td>0.8333</td>\n",
       "      <td>0.4000</td>\n",
       "      <td>0.4000</td>\n",
       "      <td>0.4000</td>\n",
       "      <td>0.625592</td>\n",
       "      <td>f1 micro</td>\n",
       "      <td>20</td>\n",
       "    </tr>\n",
       "    <tr>\n",
       "      <th>1</th>\n",
       "      <td>0.4600</td>\n",
       "      <td>0.4200</td>\n",
       "      <td>0.6376</td>\n",
       "      <td>0.4222</td>\n",
       "      <td>0.3125</td>\n",
       "      <td>0.4214</td>\n",
       "      <td>0.5083</td>\n",
       "      <td>0.2778</td>\n",
       "      <td>0.725</td>\n",
       "      <td>0.6833</td>\n",
       "      <td>...</td>\n",
       "      <td>1.0</td>\n",
       "      <td>0.7600</td>\n",
       "      <td>0.5333</td>\n",
       "      <td>0.7333</td>\n",
       "      <td>0.3333</td>\n",
       "      <td>0.3333</td>\n",
       "      <td>0.2778</td>\n",
       "      <td>0.544662</td>\n",
       "      <td>f1 macro</td>\n",
       "      <td>20</td>\n",
       "    </tr>\n",
       "  </tbody>\n",
       "</table>\n",
       "<p>2 rows × 23 columns</p>\n",
       "</div>"
      ],
      "text/plain": [
       "        1       2       3       4       5       6       7       8      9  \\\n",
       "0  0.5333  0.5333  0.7143  0.5385  0.4545  0.5455  0.5455  0.3636  0.700   \n",
       "1  0.4600  0.4200  0.6376  0.4222  0.3125  0.4214  0.5083  0.2778  0.725   \n",
       "\n",
       "       10  ...   14      15      16      17      18      19      20   Average  \\\n",
       "0  0.8000  ...  1.0  0.8333  0.6667  0.8333  0.4000  0.4000  0.4000  0.625592   \n",
       "1  0.6833  ...  1.0  0.7600  0.5333  0.7333  0.3333  0.3333  0.2778  0.544662   \n",
       "\n",
       "     metric  cv fold  \n",
       "0  f1 micro       20  \n",
       "1  f1 macro       20  \n",
       "\n",
       "[2 rows x 23 columns]"
      ]
     },
     "execution_count": 146,
     "metadata": {},
     "output_type": "execute_result"
    }
   ],
   "source": [
    "cvp=['1','2','3','4','5','6','7','8','9','10','11','12','13','14','15','16','17','18','19','20',\n",
    "    'Average','metric','cv fold']\n",
    "cvs=[]\n",
    "clf_crs=cross_val_score(clf, TsDt, Ts_lbl, cv=20, scoring='f1_micro')\n",
    "sr1=[round(e,4) for e in clf_crs]\n",
    "a1=(sum(clf_crs)/20)\n",
    "sr1.append(a1)\n",
    "sr1.append('f1 micro')\n",
    "sr1.append('20')\n",
    "print(sr1,'\\n','Average Score :',a1)\n",
    "clf_crs=cross_val_score(clf, TsDt, Ts_lbl, cv=20, scoring='f1_macro')\n",
    "sr2=[round(e,4) for e in clf_crs]\n",
    "a2=(sum(clf_crs)/20)\n",
    "sr2.append(a2)\n",
    "sr2.append('f1 macro')\n",
    "sr2.append('20')\n",
    "print(sr2,'\\n','Average Score :',a2)\n",
    "cvs.append(sr1)\n",
    "cvs.append(sr2)\n",
    "rsl=pd.DataFrame(cvs, columns=cvp)\n",
    "rsl.to_csv('CSVOUT/KNNcvpf20.csv')\n",
    "rsl"
   ]
  },
  {
   "cell_type": "code",
   "execution_count": 147,
   "metadata": {},
   "outputs": [
    {
     "data": {
      "text/html": [
       "<div>\n",
       "<style scoped>\n",
       "    .dataframe tbody tr th:only-of-type {\n",
       "        vertical-align: middle;\n",
       "    }\n",
       "\n",
       "    .dataframe tbody tr th {\n",
       "        vertical-align: top;\n",
       "    }\n",
       "\n",
       "    .dataframe thead th {\n",
       "        text-align: right;\n",
       "    }\n",
       "</style>\n",
       "<table border=\"1\" class=\"dataframe\">\n",
       "  <thead>\n",
       "    <tr style=\"text-align: right;\">\n",
       "      <th></th>\n",
       "      <th>max df</th>\n",
       "      <th>min df</th>\n",
       "      <th>ngram</th>\n",
       "      <th>idf</th>\n",
       "      <th>no. token</th>\n",
       "      <th>algorithm</th>\n",
       "      <th>leafsize</th>\n",
       "      <th>metric</th>\n",
       "      <th>K</th>\n",
       "      <th>p</th>\n",
       "    </tr>\n",
       "  </thead>\n",
       "  <tbody>\n",
       "    <tr>\n",
       "      <th>0</th>\n",
       "      <td>0.35</td>\n",
       "      <td>0.005</td>\n",
       "      <td>1 - 1</td>\n",
       "      <td>Yes</td>\n",
       "      <td>2179</td>\n",
       "      <td>auto</td>\n",
       "      <td>30</td>\n",
       "      <td>cosine</td>\n",
       "      <td>7</td>\n",
       "      <td>2</td>\n",
       "    </tr>\n",
       "    <tr>\n",
       "      <th>1</th>\n",
       "      <td>0.35</td>\n",
       "      <td>0.005</td>\n",
       "      <td>1 - 1</td>\n",
       "      <td>Yes</td>\n",
       "      <td>2179</td>\n",
       "      <td>kd tree</td>\n",
       "      <td>30</td>\n",
       "      <td>euclidean</td>\n",
       "      <td>7</td>\n",
       "      <td>3</td>\n",
       "    </tr>\n",
       "  </tbody>\n",
       "</table>\n",
       "</div>"
      ],
      "text/plain": [
       "  max df min df  ngram  idf no. token algorithm leafsize     metric  K  p\n",
       "0   0.35  0.005  1 - 1  Yes      2179      auto       30     cosine  7  2\n",
       "1   0.35  0.005  1 - 1  Yes      2179   kd tree       30  euclidean  7  3"
      ]
     },
     "execution_count": 147,
     "metadata": {},
     "output_type": "execute_result"
    }
   ],
   "source": [
    "stp=pd.DataFrame(confg, columns=confp)\n",
    "stp.to_csv('CSVOUT/KNNconfFFF.csv')\n",
    "stp"
   ]
  }
 ],
 "metadata": {
  "kernelspec": {
   "display_name": "Python 3",
   "language": "python",
   "name": "python3"
  },
  "language_info": {
   "codemirror_mode": {
    "name": "ipython",
    "version": 3
   },
   "file_extension": ".py",
   "mimetype": "text/x-python",
   "name": "python",
   "nbconvert_exporter": "python",
   "pygments_lexer": "ipython3",
   "version": "3.7.2"
  }
 },
 "nbformat": 4,
 "nbformat_minor": 2
}
