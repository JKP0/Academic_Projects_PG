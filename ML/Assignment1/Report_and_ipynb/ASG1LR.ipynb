{
 "cells": [
  {
   "cell_type": "code",
   "execution_count": 1,
   "metadata": {},
   "outputs": [],
   "source": [
    "import pandas as pd\n",
    "import glob as gb\n",
    "import matplotlib.pyplot as plt\n",
    "import seaborn as sb\n",
    "from sklearn.feature_extraction.text import ENGLISH_STOP_WORDS, CountVectorizer, TfidfTransformer\n",
    "from sklearn.preprocessing import LabelEncoder\n",
    "from nltk.stem import WordNetLemmatizer, PorterStemmer\n",
    "from sklearn.pipeline import Pipeline"
   ]
  },
  {
   "cell_type": "code",
   "execution_count": 3,
   "metadata": {},
   "outputs": [],
   "source": [
    "from sklearn.metrics import precision_score, recall_score, f1_score, confusion_matrix, accuracy_score\n",
    "from sklearn.model_selection import  RandomizedSearchCV\n",
    "from sklearn.model_selection import cross_val_score\n",
    "from sklearn.linear_model import LogisticRegression"
   ]
  },
  {
   "cell_type": "code",
   "execution_count": 4,
   "metadata": {},
   "outputs": [],
   "source": [
    "TrnFlsPth=gb.glob(\"DTrain/*/*\")\n",
    "TstFlsPth=gb.glob(\"DTest/*/*\")"
   ]
  },
  {
   "cell_type": "code",
   "execution_count": 5,
   "metadata": {},
   "outputs": [
    {
     "name": "stdout",
     "output_type": "stream",
     "text": [
      "['alum', 'barley', 'coffee', 'dmk', 'fuel', 'livestock', 'palm-oil', 'retail', 'soybean', 'veg-oil'] \n",
      " ['alum', 'barley', 'coffee', 'dmk', 'fuel', 'livestock', 'palm-oil', 'retail', 'soybean', 'veg-oil']\n"
     ]
    }
   ],
   "source": [
    "Tr_lbl=[e.strip().split('\\\\')[1] for e in TrnFlsPth]\n",
    "Ts_lbl=[e.strip().split('\\\\')[1] for e in TstFlsPth]\n",
    "trl=[]\n",
    "a={trl.append(e) for e in Tr_lbl if(e not in trl)}\n",
    "tsl=[]\n",
    "a={tsl.append(e) for e in Ts_lbl if(e not in tsl)}\n",
    "a=None\n",
    "print(trl, '\\n', tsl)"
   ]
  },
  {
   "cell_type": "code",
   "execution_count": 6,
   "metadata": {},
   "outputs": [],
   "source": [
    "le =LabelEncoder()\n",
    "Y_Tr=le.fit_transform(Tr_lbl)\n",
    "Y_Ts=le.fit_transform(Ts_lbl)"
   ]
  },
  {
   "cell_type": "code",
   "execution_count": 7,
   "metadata": {},
   "outputs": [
    {
     "data": {
      "text/plain": [
       "False"
      ]
     },
     "execution_count": 7,
     "metadata": {},
     "output_type": "execute_result"
    }
   ],
   "source": [
    "fpt=[open(f) for f in TrnFlsPth]\n",
    "Trfob=[f.read().replace(\"\\\\\",'').replace('//',' ').replace('/',' ') for f in fpt]\n",
    "all(f.close() for f in fpt)"
   ]
  },
  {
   "cell_type": "code",
   "execution_count": 8,
   "metadata": {},
   "outputs": [],
   "source": [
    "fpt=[open(f) for f in TstFlsPth]\n",
    "Tsfob=[f.read().replace(\"\\\\\",'').replace('//',' ').replace('/',' ') for f in fpt]\n",
    "all(f.close() for f in fpt)\n",
    "fpt=None"
   ]
  },
  {
   "cell_type": "code",
   "execution_count": 9,
   "metadata": {},
   "outputs": [],
   "source": [
    "rd={'\\n':' ','<':' ','>':' ','(':' ',')':' ','[':' ',']':' ','{':' ','}':' ','?':' ',  \n",
    "    ':':' ', \",\":'','.':' ', '|':' ', '_':' ', '||':' '}\n",
    "#\\"
   ]
  },
  {
   "cell_type": "code",
   "execution_count": 10,
   "metadata": {},
   "outputs": [],
   "source": [
    "Trfob=[''.join([rd.get(c,c) for c in flob]) for flob in Trfob]\n",
    "Tsfob=[''.join([rd.get(c,c) for c in flob]) for flob in Tsfob]"
   ]
  },
  {
   "cell_type": "code",
   "execution_count": 11,
   "metadata": {},
   "outputs": [],
   "source": [
    "Trfob=[' '.join(flob.split()) for flob in Trfob]\n",
    "Tsfob=[' '.join(flob.split()) for flob in Tsfob]"
   ]
  },
  {
   "cell_type": "code",
   "execution_count": 12,
   "metadata": {},
   "outputs": [],
   "source": [
    "lm=WordNetLemmatizer()\n",
    "ps=PorterStemmer()\n",
    "Trfob=[' '.join([lm.lemmatize(word) for word in text.split(' ')]) for text in Trfob]\n",
    "Tsfob=[' '.join([lm.lemmatize(word) for word in text.split(' ')]) for text in Tsfob]\n",
    "Trfob=[' '.join([ps.stem(word) for word in text.split(' ')]) for text in Trfob]\n",
    "Tsfob=[' '.join([ps.stem(word) for word in text.split(' ')]) for text in Tsfob]"
   ]
  },
  {
   "cell_type": "code",
   "execution_count": 13,
   "metadata": {},
   "outputs": [
    {
     "data": {
      "text/plain": [
       "\"nippon light metal continu aluminium output cut tokyo march 2 - nippon light metal Co ltd nlgt T which ha annual capac of 63000 tonn will continu primari aluminium product at a rate of 35000 tonn owe to low domest and world price and low water suppli at it hydroelectr power plant a compani offici said nippon which ha no plan to restor output to the 48000 tonn a year at which it wa work until late 1986 will becom japan' onli smelter ryoka light metal industri ltd will stop smelt in april owe to high power cost and low price and mitsui aluminium Co ltd ha said it stop smelt in februari\""
      ]
     },
     "execution_count": 13,
     "metadata": {},
     "output_type": "execute_result"
    }
   ],
   "source": [
    "Trfob[0]"
   ]
  },
  {
   "cell_type": "code",
   "execution_count": 14,
   "metadata": {},
   "outputs": [],
   "source": [
    "vc=CountVectorizer(analyzer='word', binary=False, lowercase=True, max_df=0.3, min_df=1,\n",
    "                   ngram_range=(1, 1), stop_words='english')\n",
    "idft=TfidfTransformer()"
   ]
  },
  {
   "cell_type": "code",
   "execution_count": 15,
   "metadata": {},
   "outputs": [],
   "source": [
    "TrDvcX=vc.fit_transform(Trfob)\n",
    "TrDtvcX=idft.fit_transform(TrDvcX.toarray())\n",
    "###############\n",
    "TsDvcX=vc.transform(Tsfob)\n",
    "TsDtvcX=idft.transform(TsDvcX.toarray())"
   ]
  },
  {
   "cell_type": "code",
   "execution_count": 16,
   "metadata": {},
   "outputs": [],
   "source": [
    "TrDvc=pd.DataFrame(TrDvcX.toarray(), columns=vc.get_feature_names())\n",
    "TrDtvc=pd.DataFrame(TrDtvcX.toarray(), columns=vc.get_feature_names())\n",
    "###############\n",
    "TsDvc=pd.DataFrame(TsDvcX.toarray(), columns=vc.get_feature_names())\n",
    "TsDtvc=pd.DataFrame(TsDtvcX.toarray(), columns=vc.get_feature_names())"
   ]
  },
  {
   "cell_type": "code",
   "execution_count": 17,
   "metadata": {},
   "outputs": [
    {
     "name": "stdout",
     "output_type": "stream",
     "text": [
      "(499, 5694) (499, 5694) (185, 5694) (185, 5694)\n"
     ]
    }
   ],
   "source": [
    "print(TrDvc.shape, TrDtvc.shape, TsDvc.shape, TsDtvc.shape)"
   ]
  },
  {
   "cell_type": "code",
   "execution_count": 18,
   "metadata": {},
   "outputs": [
    {
     "data": {
      "text/plain": [
       "488"
      ]
     },
     "execution_count": 18,
     "metadata": {},
     "output_type": "execute_result"
    }
   ],
   "source": [
    "lex=['0','00','000','0000']\n",
    "exstp=[fv for fv in TrDtvc if(len(fv)<3)]\n",
    "stpwd=ENGLISH_STOP_WORDS.union(exstp,lex)\n",
    "len(stpwd)"
   ]
  },
  {
   "cell_type": "code",
   "execution_count": 19,
   "metadata": {},
   "outputs": [],
   "source": [
    "#########"
   ]
  },
  {
   "cell_type": "code",
   "execution_count": 20,
   "metadata": {},
   "outputs": [
    {
     "data": {
      "text/plain": [
       "LogisticRegression(C=1.0, class_weight=None, dual=False, fit_intercept=True,\n",
       "          intercept_scaling=1, max_iter=100, multi_class='warn',\n",
       "          n_jobs=None, penalty='l2', random_state=None, solver='warn',\n",
       "          tol=0.0001, verbose=0, warm_start=False)"
      ]
     },
     "execution_count": 20,
     "metadata": {},
     "output_type": "execute_result"
    }
   ],
   "source": [
    "clfs=LogisticRegression()\n",
    "clfs"
   ]
  },
  {
   "cell_type": "code",
   "execution_count": 23,
   "metadata": {},
   "outputs": [],
   "source": [
    "evlp=['Precision_micro','Recall_micro','Precision_macro','Recall_macro','f1_micro',\n",
    "     'f1_macro','Accuracy']\n",
    "confp=['max df','min df','ngram','idf','no. token','C','gamma','solver','max iter']\n",
    "confg=[]\n",
    "prf=[]"
   ]
  },
  {
   "cell_type": "code",
   "execution_count": 24,
   "metadata": {},
   "outputs": [
    {
     "name": "stderr",
     "output_type": "stream",
     "text": [
      "c:\\python\\python37\\lib\\site-packages\\sklearn\\linear_model\\logistic.py:433: FutureWarning: Default solver will be changed to 'lbfgs' in 0.22. Specify a solver to silence this warning.\n",
      "  FutureWarning)\n",
      "c:\\python\\python37\\lib\\site-packages\\sklearn\\linear_model\\logistic.py:460: FutureWarning: Default multi_class will be changed to 'auto' in 0.22. Specify the multi_class option to silence this warning.\n",
      "  \"this warning.\", FutureWarning)\n"
     ]
    },
    {
     "data": {
      "text/plain": [
       "LogisticRegression(C=1.0, class_weight=None, dual=False, fit_intercept=True,\n",
       "          intercept_scaling=1, max_iter=100, multi_class='warn',\n",
       "          n_jobs=None, penalty='l2', random_state=None, solver='warn',\n",
       "          tol=0.0001, verbose=0, warm_start=False)"
      ]
     },
     "execution_count": 24,
     "metadata": {},
     "output_type": "execute_result"
    }
   ],
   "source": [
    "clfs.fit(TrDvc, Tr_lbl)"
   ]
  },
  {
   "cell_type": "code",
   "execution_count": 25,
   "metadata": {},
   "outputs": [
    {
     "name": "stdout",
     "output_type": "stream",
     "text": [
      "0.7405405405405405 \n",
      " 0.7405405405405405 \n",
      " 0.7725265995726354 \n",
      " 0.7378123521601783\n"
     ]
    }
   ],
   "source": [
    "y_pred=clfs.predict(TsDvc)\n",
    "a1=precision_score(Ts_lbl, y_pred, average='micro')\n",
    "a2=recall_score(Ts_lbl, y_pred, average='micro')\n",
    "a3=precision_score(Ts_lbl, y_pred, average='macro')\n",
    "a4=recall_score(Ts_lbl, y_pred, average='macro') \n",
    "print(a1,'\\n',a2,'\\n',a3,'\\n',a4)"
   ]
  },
  {
   "cell_type": "code",
   "execution_count": 26,
   "metadata": {},
   "outputs": [
    {
     "name": "stdout",
     "output_type": "stream",
     "text": [
      "0.7405405405405405 \n",
      " 0.7291011504125162 \n",
      " 0.7405405405405405\n"
     ]
    }
   ],
   "source": [
    "a5=f1_score(Ts_lbl, y_pred, average='micro')\n",
    "a6=f1_score(Ts_lbl, y_pred, average='macro')\n",
    "a7=accuracy_score(Ts_lbl, y_pred)\n",
    "print(a5,'\\n',a6,'\\n',a7)\n",
    "prf.append((round(a1,4),round(a2,4),round(a3,4),round(a4,4),round(a5,4),round(a6,4),\n",
    "              round(a7,4)))\n",
    "confg.append(('0.3','1',\"1 - 1\",'No','5694','1','1','liblinear','100'))"
   ]
  },
  {
   "cell_type": "code",
   "execution_count": 27,
   "metadata": {},
   "outputs": [],
   "source": [
    "cm=confusion_matrix(Ts_lbl, y_pred)\n",
    "m=pd.DataFrame(cm, columns=tsl, index=tsl)"
   ]
  },
  {
   "cell_type": "code",
   "execution_count": 28,
   "metadata": {},
   "outputs": [
    {
     "data": {
      "image/png": "[encoded data removed]",
      "text/plain": [
       "<Figure size 504x504 with 2 Axes>"
      ]
     },
     "metadata": {
      "needs_background": "light"
     },
     "output_type": "display_data"
    }
   ],
   "source": [
    "plt.figure(figsize=(7,7))\n",
    "sb.set(font_scale=1.6)\n",
    "sb.heatmap(m, annot=True, cmap=\"YlGnBu\", linewidths=.5, annot_kws={\"size\": 18})\n",
    "plt.xlabel('Predicted Class')\n",
    "plt.ylabel('Actual Class')\n",
    "#plt.title('Confusion Matrix LGR_fig1')\n",
    "plt.savefig('Fig/LGRcm1.png', dpi=300, bbox_inches='tight', pad_inches=0.2)"
   ]
  },
  {
   "cell_type": "code",
   "execution_count": 29,
   "metadata": {},
   "outputs": [],
   "source": [
    "################t"
   ]
  },
  {
   "cell_type": "code",
   "execution_count": 30,
   "metadata": {},
   "outputs": [
    {
     "name": "stderr",
     "output_type": "stream",
     "text": [
      "c:\\python\\python37\\lib\\site-packages\\sklearn\\linear_model\\logistic.py:433: FutureWarning: Default solver will be changed to 'lbfgs' in 0.22. Specify a solver to silence this warning.\n",
      "  FutureWarning)\n",
      "c:\\python\\python37\\lib\\site-packages\\sklearn\\linear_model\\logistic.py:460: FutureWarning: Default multi_class will be changed to 'auto' in 0.22. Specify the multi_class option to silence this warning.\n",
      "  \"this warning.\", FutureWarning)\n"
     ]
    },
    {
     "data": {
      "text/plain": [
       "LogisticRegression(C=1.0, class_weight=None, dual=False, fit_intercept=True,\n",
       "          intercept_scaling=1, max_iter=100, multi_class='warn',\n",
       "          n_jobs=None, penalty='l2', random_state=None, solver='warn',\n",
       "          tol=0.0001, verbose=0, warm_start=False)"
      ]
     },
     "execution_count": 30,
     "metadata": {},
     "output_type": "execute_result"
    }
   ],
   "source": [
    "clfs.fit(TrDtvc, Tr_lbl) "
   ]
  },
  {
   "cell_type": "code",
   "execution_count": 31,
   "metadata": {},
   "outputs": [
    {
     "name": "stdout",
     "output_type": "stream",
     "text": [
      "0.6648648648648648 \n",
      " 0.6648648648648648 \n",
      " 0.6607994675436537 \n",
      " 0.5661564062651019\n"
     ]
    },
    {
     "name": "stderr",
     "output_type": "stream",
     "text": [
      "c:\\python\\python37\\lib\\site-packages\\sklearn\\metrics\\classification.py:1143: UndefinedMetricWarning: Precision is ill-defined and being set to 0.0 in labels with no predicted samples.\n",
      "  'precision', 'predicted', average, warn_for)\n"
     ]
    }
   ],
   "source": [
    "y_pred=clfs.predict(TsDtvc)\n",
    "a1=precision_score(Ts_lbl, y_pred, average='micro')\n",
    "a2=recall_score(Ts_lbl, y_pred, average='micro')\n",
    "a3=precision_score(Ts_lbl, y_pred, average='macro')\n",
    "a4=recall_score(Ts_lbl, y_pred, average='macro') \n",
    "print(a1,'\\n',a2,'\\n',a3,'\\n',a4)"
   ]
  },
  {
   "cell_type": "code",
   "execution_count": 32,
   "metadata": {},
   "outputs": [
    {
     "name": "stdout",
     "output_type": "stream",
     "text": [
      "0.6648648648648648 \n",
      " 0.5767995065612511 \n",
      " 0.6648648648648648\n"
     ]
    },
    {
     "name": "stderr",
     "output_type": "stream",
     "text": [
      "c:\\python\\python37\\lib\\site-packages\\sklearn\\metrics\\classification.py:1143: UndefinedMetricWarning: F-score is ill-defined and being set to 0.0 in labels with no predicted samples.\n",
      "  'precision', 'predicted', average, warn_for)\n"
     ]
    }
   ],
   "source": [
    "a5=f1_score(Ts_lbl, y_pred, average='micro')\n",
    "a6=f1_score(Ts_lbl, y_pred, average='macro')\n",
    "a7=accuracy_score(Ts_lbl, y_pred)\n",
    "print(a5,'\\n',a6,'\\n',a7)\n",
    "prf.append((round(a1,4),round(a2,4),round(a3,4),round(a4,4),round(a5,4),round(a6,4),\n",
    "              round(a7,4)))\n",
    "confg.append(('0.3','1',\"1 - 1\",'Yes','5694','1','1','liblinear','100'))"
   ]
  },
  {
   "cell_type": "code",
   "execution_count": 33,
   "metadata": {},
   "outputs": [],
   "source": [
    "cm=confusion_matrix(Ts_lbl, y_pred)\n",
    "m=pd.DataFrame(cm, columns=tsl, index=tsl)"
   ]
  },
  {
   "cell_type": "code",
   "execution_count": 34,
   "metadata": {},
   "outputs": [
    {
     "data": {
      "image/png": "[encoded data removed]",
      "text/plain": [
       "<Figure size 504x504 with 2 Axes>"
      ]
     },
     "metadata": {},
     "output_type": "display_data"
    }
   ],
   "source": [
    "plt.figure(figsize=(7,7))\n",
    "sb.set(font_scale=1.6)\n",
    "sb.heatmap(m, annot=True, cmap=\"YlGnBu\", linewidths=.5, fmt=\"d\", annot_kws={\"size\": 18})\n",
    "plt.xlabel('Predicted Class')\n",
    "plt.ylabel('Actual Class')\n",
    "plt.savefig('Fig/LGRcm2.png', dpi=300, bbox_inches='tight', pad_inches=0.2)"
   ]
  },
  {
   "cell_type": "code",
   "execution_count": 35,
   "metadata": {},
   "outputs": [
    {
     "data": {
      "text/html": [
       "<div>\n",
       "<style scoped>\n",
       "    .dataframe tbody tr th:only-of-type {\n",
       "        vertical-align: middle;\n",
       "    }\n",
       "\n",
       "    .dataframe tbody tr th {\n",
       "        vertical-align: top;\n",
       "    }\n",
       "\n",
       "    .dataframe thead th {\n",
       "        text-align: right;\n",
       "    }\n",
       "</style>\n",
       "<table border=\"1\" class=\"dataframe\">\n",
       "  <thead>\n",
       "    <tr style=\"text-align: right;\">\n",
       "      <th></th>\n",
       "      <th>max df</th>\n",
       "      <th>min df</th>\n",
       "      <th>ngram</th>\n",
       "      <th>idf</th>\n",
       "      <th>no. token</th>\n",
       "      <th>C</th>\n",
       "      <th>gamma</th>\n",
       "      <th>solver</th>\n",
       "      <th>max iter</th>\n",
       "    </tr>\n",
       "  </thead>\n",
       "  <tbody>\n",
       "    <tr>\n",
       "      <th>0</th>\n",
       "      <td>0.3</td>\n",
       "      <td>1</td>\n",
       "      <td>1 - 1</td>\n",
       "      <td>No</td>\n",
       "      <td>5694</td>\n",
       "      <td>1</td>\n",
       "      <td>1</td>\n",
       "      <td>lbfgs</td>\n",
       "      <td>100</td>\n",
       "    </tr>\n",
       "    <tr>\n",
       "      <th>1</th>\n",
       "      <td>0.3</td>\n",
       "      <td>1</td>\n",
       "      <td>1 - 1</td>\n",
       "      <td>Yes</td>\n",
       "      <td>5694</td>\n",
       "      <td>1</td>\n",
       "      <td>1</td>\n",
       "      <td>lbfgs</td>\n",
       "      <td>100</td>\n",
       "    </tr>\n",
       "  </tbody>\n",
       "</table>\n",
       "</div>"
      ],
      "text/plain": [
       "  max df min df  ngram  idf no. token  C gamma solver max iter\n",
       "0    0.3      1  1 - 1   No      5694  1     1  lbfgs      100\n",
       "1    0.3      1  1 - 1  Yes      5694  1     1  lbfgs      100"
      ]
     },
     "execution_count": 35,
     "metadata": {},
     "output_type": "execute_result"
    }
   ],
   "source": [
    "stp=pd.DataFrame(confg, columns=confp)\n",
    "stp.to_csv('CSVOUT/LGRconf1.csv')\n",
    "stp"
   ]
  },
  {
   "cell_type": "code",
   "execution_count": 36,
   "metadata": {},
   "outputs": [
    {
     "data": {
      "image/png": "[encoded data removed]",
      "text/plain": [
       "<Figure size 720x144 with 2 Axes>"
      ]
     },
     "metadata": {},
     "output_type": "display_data"
    }
   ],
   "source": [
    "rsl=pd.DataFrame(prf, columns=evlp)\n",
    "rsl.to_csv('CSVOUT/LGRprf1.csv')\n",
    "plt.figure(figsize=(10,2))\n",
    "sb.set(font_scale=1.6)\n",
    "sb.heatmap(rsl, annot=True, cmap=\"YlGnBu\", linewidths=.5, fmt=\"g\", annot_kws={\"size\": 18})\n",
    "plt.xlabel('Performance')\n",
    "plt.ylabel('Configuration')\n",
    "#plt.title('Confusion Matrix LGR_fig2')\n",
    "plt.savefig('Fig/LGRprf1.png', dpi=300, bbox_inches='tight', pad_inches=0.2)"
   ]
  },
  {
   "cell_type": "code",
   "execution_count": 38,
   "metadata": {},
   "outputs": [
    {
     "data": {
      "text/plain": [
       "LogisticRegression(C=1.0, class_weight=None, dual=False, fit_intercept=True,\n",
       "          intercept_scaling=1, max_iter=100, multi_class='warn',\n",
       "          n_jobs=None, penalty='l2', random_state=None, solver='warn',\n",
       "          tol=0.0001, verbose=0, warm_start=False)"
      ]
     },
     "execution_count": 38,
     "metadata": {},
     "output_type": "execute_result"
    }
   ],
   "source": [
    "prf=[]\n",
    "clsfv=LogisticRegression()\n",
    "clsfv"
   ]
  },
  {
   "cell_type": "code",
   "execution_count": 39,
   "metadata": {},
   "outputs": [],
   "source": [
    "pipclf = Pipeline([('vct', vc), ('clf',clsfv)])#('idf', idft),"
   ]
  },
  {
   "cell_type": "code",
   "execution_count": 40,
   "metadata": {},
   "outputs": [],
   "source": [
    "mxd=[ 0.3, 0.35, 0.4]\n",
    "mid=[0.005,0.01, 0.05, 0.1,1]\n",
    "ngm=[(1,2),(1,3),(2,5),(1,7),(1,9),(1,12)]"
   ]
  },
  {
   "cell_type": "code",
   "execution_count": 44,
   "metadata": {},
   "outputs": [],
   "source": [
    "#'C','gamma','kernel','max iter'\n",
    "c=[0.05,0.1,0.2,0.3,1,2,7,9]\n",
    "gma=[0.1,0.3,1,2,3,10]\n",
    "sov=['newton-cg', 'lbfgs', 'liblinear', 'sag', 'saga']#'precomputed' not supported for sparse matrix"
   ]
  },
  {
   "cell_type": "code",
   "execution_count": 47,
   "metadata": {},
   "outputs": [],
   "source": [
    "pramg={\"vct__max_df\":mxd, \"vct__min_df\":mid, \"vct__ngram_range\":ngm,\n",
    "       \"vct__stop_words\":['english', stpwd],\n",
    "       \"clf__C\":c, \"clf__intercept_scaling\":gma,\"clf__solver\":sov,\n",
    "       }"
   ]
  },
  {
   "cell_type": "code",
   "execution_count": 48,
   "metadata": {},
   "outputs": [
    {
     "name": "stderr",
     "output_type": "stream",
     "text": [
      "c:\\python\\python37\\lib\\site-packages\\sklearn\\model_selection\\_search.py:841: DeprecationWarning: The default of the `iid` parameter will change from True to False in version 0.22 and will be removed in 0.24. This will change numeric results when test-set sizes are unequal.\n",
      "  DeprecationWarning)\n",
      "c:\\python\\python37\\lib\\site-packages\\sklearn\\linear_model\\logistic.py:460: FutureWarning: Default multi_class will be changed to 'auto' in 0.22. Specify the multi_class option to silence this warning.\n",
      "  \"this warning.\", FutureWarning)\n",
      "c:\\python\\python37\\lib\\site-packages\\sklearn\\linear_model\\sag.py:334: ConvergenceWarning: The max_iter was reached which means the coef_ did not converge\n",
      "  \"the coef_ did not converge\", ConvergenceWarning)\n"
     ]
    }
   ],
   "source": [
    "rCV=RandomizedSearchCV(pipclf, pramg, n_jobs=7, cv=10, scoring='f1_micro',\n",
    "                        return_train_score=True) \n",
    "##f1_score(average='macro')\n",
    "rCV.fit(Trfob, Tr_lbl)\n",
    "clfrb=rCV.best_estimator_"
   ]
  },
  {
   "cell_type": "code",
   "execution_count": 49,
   "metadata": {},
   "outputs": [
    {
     "data": {
      "text/plain": [
       "{'vct': CountVectorizer(analyzer='word', binary=False, decode_error='strict',\n",
       "         dtype=<class 'numpy.int64'>, encoding='utf-8', input='content',\n",
       "         lowercase=True, max_df=0.4, max_features=None, min_df=0.01,\n",
       "         ngram_range=(1, 9), preprocessor=None,\n",
       "         stop_words=frozenset({'some', 'has', '59', 'than', 'pl', 'except', 'lt', 'thick', 'almost', 'through', 'again', 'seems', 'ye', 'wherein', 'anywhere', 'too', 'neither', 'fifty', 'hundred', 'many', 'behind', 'put', 'side', 'must', 'less', '75', '06', 'its', 'toward', 'so', 'still', 'him', 'former', 'i...', 'formerly', 'should', 'am', '36', '74', 'dn', 'hi', 'might', 'ten', '11', 'nothing', 'bu', 'x1'}),\n",
       "         strip_accents=None, token_pattern='(?u)\\\\b\\\\w\\\\w+\\\\b',\n",
       "         tokenizer=None, vocabulary=None),\n",
       " 'clf': LogisticRegression(C=0.3, class_weight=None, dual=False, fit_intercept=True,\n",
       "           intercept_scaling=0.1, max_iter=100, multi_class='warn',\n",
       "           n_jobs=None, penalty='l2', random_state=None, solver='saga',\n",
       "           tol=0.0001, verbose=0, warm_start=False)}"
      ]
     },
     "execution_count": 49,
     "metadata": {},
     "output_type": "execute_result"
    }
   ],
   "source": [
    "clfrb.named_steps"
   ]
  },
  {
   "cell_type": "code",
   "execution_count": 50,
   "metadata": {},
   "outputs": [
    {
     "name": "stdout",
     "output_type": "stream",
     "text": [
      "0.745945945945946 \n",
      " 0.745945945945946 \n",
      " 0.7642277167277167 \n",
      " 0.706565143630361 \n",
      " 0.7459459459459459 \n",
      " 0.6883236601022306 \n",
      " 0.745945945945946\n"
     ]
    }
   ],
   "source": [
    "clfrb.fit(Trfob, Tr_lbl)\n",
    "y_pred=clfrb.predict(Tsfob) \n",
    "a1=precision_score(Ts_lbl, y_pred, average='micro')\n",
    "a2=recall_score(Ts_lbl, y_pred, average='micro')\n",
    "a3=precision_score(Ts_lbl, y_pred, average='macro')\n",
    "a4=recall_score(Ts_lbl, y_pred, average='macro') \n",
    "a5=f1_score(Ts_lbl, y_pred, average='micro')\n",
    "a6=f1_score(Ts_lbl, y_pred, average='macro')\n",
    "a7=accuracy_score(Ts_lbl, y_pred)\n",
    "print(a1,'\\n',a2,'\\n',a3,'\\n',a4,'\\n',a5,'\\n',a6,'\\n',a7)\n",
    "prf.append((round(a1,4),round(a2,4),round(a3,4),round(a4,4),round(a5,4),round(a6,4),\n",
    "              round(a7,4)))"
   ]
  },
  {
   "cell_type": "code",
   "execution_count": 51,
   "metadata": {},
   "outputs": [],
   "source": [
    "#############"
   ]
  },
  {
   "cell_type": "code",
   "execution_count": 52,
   "metadata": {},
   "outputs": [
    {
     "name": "stderr",
     "output_type": "stream",
     "text": [
      "c:\\python\\python37\\lib\\site-packages\\sklearn\\model_selection\\_search.py:841: DeprecationWarning: The default of the `iid` parameter will change from True to False in version 0.22 and will be removed in 0.24. This will change numeric results when test-set sizes are unequal.\n",
      "  DeprecationWarning)\n",
      "c:\\python\\python37\\lib\\site-packages\\sklearn\\linear_model\\logistic.py:460: FutureWarning: Default multi_class will be changed to 'auto' in 0.22. Specify the multi_class option to silence this warning.\n",
      "  \"this warning.\", FutureWarning)\n",
      "c:\\python\\python37\\lib\\site-packages\\sklearn\\linear_model\\logistic.py:758: ConvergenceWarning: lbfgs failed to converge. Increase the number of iterations.\n",
      "  \"of iterations.\", ConvergenceWarning)\n"
     ]
    }
   ],
   "source": [
    "rCV=RandomizedSearchCV(pipclf, pramg, n_jobs=7, cv=10, scoring='f1_micro',\n",
    "                        return_train_score=True) \n",
    "##f1_score(average='macro')\n",
    "rCV.fit(Trfob, Tr_lbl)\n",
    "clfrb=rCV.best_estimator_"
   ]
  },
  {
   "cell_type": "code",
   "execution_count": 53,
   "metadata": {},
   "outputs": [
    {
     "data": {
      "text/plain": [
       "{'vct': CountVectorizer(analyzer='word', binary=False, decode_error='strict',\n",
       "         dtype=<class 'numpy.int64'>, encoding='utf-8', input='content',\n",
       "         lowercase=True, max_df=0.4, max_features=None, min_df=0.005,\n",
       "         ngram_range=(1, 2), preprocessor=None, stop_words='english',\n",
       "         strip_accents=None, token_pattern='(?u)\\\\b\\\\w\\\\w+\\\\b',\n",
       "         tokenizer=None, vocabulary=None),\n",
       " 'clf': LogisticRegression(C=0.2, class_weight=None, dual=False, fit_intercept=True,\n",
       "           intercept_scaling=2, max_iter=100, multi_class='warn',\n",
       "           n_jobs=None, penalty='l2', random_state=None, solver='lbfgs',\n",
       "           tol=0.0001, verbose=0, warm_start=False)}"
      ]
     },
     "execution_count": 53,
     "metadata": {},
     "output_type": "execute_result"
    }
   ],
   "source": [
    "clfrb.named_steps"
   ]
  },
  {
   "cell_type": "code",
   "execution_count": 54,
   "metadata": {},
   "outputs": [
    {
     "name": "stderr",
     "output_type": "stream",
     "text": [
      "c:\\python\\python37\\lib\\site-packages\\sklearn\\linear_model\\logistic.py:460: FutureWarning: Default multi_class will be changed to 'auto' in 0.22. Specify the multi_class option to silence this warning.\n",
      "  \"this warning.\", FutureWarning)\n"
     ]
    },
    {
     "name": "stdout",
     "output_type": "stream",
     "text": [
      "0.745945945945946 \n",
      " 0.745945945945946 \n",
      " 0.7892346241183451 \n",
      " 0.7202476205737076 \n",
      " 0.7459459459459459 \n",
      " 0.7170328061270304 \n",
      " 0.745945945945946\n"
     ]
    },
    {
     "name": "stderr",
     "output_type": "stream",
     "text": [
      "c:\\python\\python37\\lib\\site-packages\\sklearn\\linear_model\\logistic.py:758: ConvergenceWarning: lbfgs failed to converge. Increase the number of iterations.\n",
      "  \"of iterations.\", ConvergenceWarning)\n"
     ]
    }
   ],
   "source": [
    "clfrb.fit(Trfob, Tr_lbl)\n",
    "y_pred=clfrb.predict(Tsfob) \n",
    "a1=precision_score(Ts_lbl, y_pred, average='micro')\n",
    "a2=recall_score(Ts_lbl, y_pred, average='micro')\n",
    "a3=precision_score(Ts_lbl, y_pred, average='macro')\n",
    "a4=recall_score(Ts_lbl, y_pred, average='macro') \n",
    "a5=f1_score(Ts_lbl, y_pred, average='micro')\n",
    "a6=f1_score(Ts_lbl, y_pred, average='macro')\n",
    "a7=accuracy_score(Ts_lbl, y_pred)\n",
    "print(a1,'\\n',a2,'\\n',a3,'\\n',a4,'\\n',a5,'\\n',a6,'\\n',a7)\n",
    "prf.append((round(a1,4),round(a2,4),round(a3,4),round(a4,4),round(a5,4),round(a6,4),\n",
    "              round(a7,4)))"
   ]
  },
  {
   "cell_type": "code",
   "execution_count": 55,
   "metadata": {},
   "outputs": [
    {
     "name": "stderr",
     "output_type": "stream",
     "text": [
      "c:\\python\\python37\\lib\\site-packages\\sklearn\\model_selection\\_search.py:841: DeprecationWarning: The default of the `iid` parameter will change from True to False in version 0.22 and will be removed in 0.24. This will change numeric results when test-set sizes are unequal.\n",
      "  DeprecationWarning)\n",
      "c:\\python\\python37\\lib\\site-packages\\sklearn\\linear_model\\logistic.py:460: FutureWarning: Default multi_class will be changed to 'auto' in 0.22. Specify the multi_class option to silence this warning.\n",
      "  \"this warning.\", FutureWarning)\n",
      "c:\\python\\python37\\lib\\site-packages\\sklearn\\linear_model\\sag.py:334: ConvergenceWarning: The max_iter was reached which means the coef_ did not converge\n",
      "  \"the coef_ did not converge\", ConvergenceWarning)\n"
     ]
    }
   ],
   "source": [
    "rCV=RandomizedSearchCV(pipclf, pramg, n_jobs=7, cv=10, scoring='f1_micro',\n",
    "                        return_train_score=True) \n",
    "##f1_score(average='macro')\n",
    "rCV.fit(Trfob, Tr_lbl)\n",
    "clfrb=rCV.best_estimator_"
   ]
  },
  {
   "cell_type": "code",
   "execution_count": 56,
   "metadata": {},
   "outputs": [
    {
     "data": {
      "text/plain": [
       "{'vct': CountVectorizer(analyzer='word', binary=False, decode_error='strict',\n",
       "         dtype=<class 'numpy.int64'>, encoding='utf-8', input='content',\n",
       "         lowercase=True, max_df=0.35, max_features=None, min_df=0.005,\n",
       "         ngram_range=(1, 2), preprocessor=None,\n",
       "         stop_words=frozenset({'some', 'has', '59', 'than', 'pl', 'except', 'lt', 'thick', 'almost', 'through', 'again', 'seems', 'ye', 'wherein', 'anywhere', 'too', 'neither', 'fifty', 'hundred', 'many', 'behind', 'put', 'side', 'must', 'less', '75', '06', 'its', 'toward', 'so', 'still', 'him', 'former', 'i...', 'formerly', 'should', 'am', '36', '74', 'dn', 'hi', 'might', 'ten', '11', 'nothing', 'bu', 'x1'}),\n",
       "         strip_accents=None, token_pattern='(?u)\\\\b\\\\w\\\\w+\\\\b',\n",
       "         tokenizer=None, vocabulary=None),\n",
       " 'clf': LogisticRegression(C=7, class_weight=None, dual=False, fit_intercept=True,\n",
       "           intercept_scaling=3, max_iter=100, multi_class='warn',\n",
       "           n_jobs=None, penalty='l2', random_state=None, solver='sag',\n",
       "           tol=0.0001, verbose=0, warm_start=False)}"
      ]
     },
     "execution_count": 56,
     "metadata": {},
     "output_type": "execute_result"
    }
   ],
   "source": [
    "clfrb.named_steps"
   ]
  },
  {
   "cell_type": "code",
   "execution_count": 57,
   "metadata": {},
   "outputs": [
    {
     "name": "stdout",
     "output_type": "stream",
     "text": [
      "0.7675675675675676 \n",
      " 0.7675675675675676 \n",
      " 0.7920166870166869 \n",
      " 0.7472981493633669 \n",
      " 0.7675675675675676 \n",
      " 0.7453700669885835 \n",
      " 0.7675675675675676\n"
     ]
    }
   ],
   "source": [
    "clfrb.fit(Trfob, Tr_lbl)\n",
    "y_pred=clfrb.predict(Tsfob) \n",
    "a1=precision_score(Ts_lbl, y_pred, average='micro')\n",
    "a2=recall_score(Ts_lbl, y_pred, average='micro')\n",
    "a3=precision_score(Ts_lbl, y_pred, average='macro')\n",
    "a4=recall_score(Ts_lbl, y_pred, average='macro') \n",
    "a5=f1_score(Ts_lbl, y_pred, average='micro')\n",
    "a6=f1_score(Ts_lbl, y_pred, average='macro')\n",
    "a7=accuracy_score(Ts_lbl, y_pred)\n",
    "print(a1,'\\n',a2,'\\n',a3,'\\n',a4,'\\n',a5,'\\n',a6,'\\n',a7)\n",
    "prf.append((round(a1,4),round(a2,4),round(a3,4),round(a4,4),round(a5,4),round(a6,4),\n",
    "              round(a7,4)))"
   ]
  },
  {
   "cell_type": "code",
   "execution_count": 59,
   "metadata": {},
   "outputs": [],
   "source": [
    "c=[0.05,0.1,0.2,0.3,1,2,7,9,11]"
   ]
  },
  {
   "cell_type": "code",
   "execution_count": 60,
   "metadata": {},
   "outputs": [
    {
     "name": "stderr",
     "output_type": "stream",
     "text": [
      "c:\\python\\python37\\lib\\site-packages\\sklearn\\model_selection\\_search.py:841: DeprecationWarning: The default of the `iid` parameter will change from True to False in version 0.22 and will be removed in 0.24. This will change numeric results when test-set sizes are unequal.\n",
      "  DeprecationWarning)\n",
      "c:\\python\\python37\\lib\\site-packages\\sklearn\\linear_model\\logistic.py:460: FutureWarning: Default multi_class will be changed to 'auto' in 0.22. Specify the multi_class option to silence this warning.\n",
      "  \"this warning.\", FutureWarning)\n",
      "c:\\python\\python37\\lib\\site-packages\\sklearn\\linear_model\\sag.py:334: ConvergenceWarning: The max_iter was reached which means the coef_ did not converge\n",
      "  \"the coef_ did not converge\", ConvergenceWarning)\n"
     ]
    }
   ],
   "source": [
    "rCV=RandomizedSearchCV(pipclf, pramg, n_jobs=7, cv=10, scoring='f1_micro',\n",
    "                        return_train_score=True) \n",
    "##f1_score(average='macro')\n",
    "rCV.fit(Trfob, Tr_lbl)\n",
    "clfrb=rCV.best_estimator_"
   ]
  },
  {
   "cell_type": "code",
   "execution_count": 61,
   "metadata": {},
   "outputs": [
    {
     "data": {
      "text/plain": [
       "{'vct': CountVectorizer(analyzer='word', binary=False, decode_error='strict',\n",
       "         dtype=<class 'numpy.int64'>, encoding='utf-8', input='content',\n",
       "         lowercase=True, max_df=0.35, max_features=None, min_df=0.01,\n",
       "         ngram_range=(1, 3), preprocessor=None, stop_words='english',\n",
       "         strip_accents=None, token_pattern='(?u)\\\\b\\\\w\\\\w+\\\\b',\n",
       "         tokenizer=None, vocabulary=None),\n",
       " 'clf': LogisticRegression(C=9, class_weight=None, dual=False, fit_intercept=True,\n",
       "           intercept_scaling=2, max_iter=100, multi_class='warn',\n",
       "           n_jobs=None, penalty='l2', random_state=None, solver='saga',\n",
       "           tol=0.0001, verbose=0, warm_start=False)}"
      ]
     },
     "execution_count": 61,
     "metadata": {},
     "output_type": "execute_result"
    }
   ],
   "source": [
    "clfrb.named_steps"
   ]
  },
  {
   "cell_type": "code",
   "execution_count": 62,
   "metadata": {},
   "outputs": [
    {
     "name": "stdout",
     "output_type": "stream",
     "text": [
      "0.7513513513513513 \n",
      " 0.7513513513513513 \n",
      " 0.7772911971749181 \n",
      " 0.7168927439579614 \n",
      " 0.7513513513513513 \n",
      " 0.7111604649660637 \n",
      " 0.7513513513513513\n"
     ]
    }
   ],
   "source": [
    "clfrb.fit(Trfob, Tr_lbl)\n",
    "y_pred=clfrb.predict(Tsfob) \n",
    "a1=precision_score(Ts_lbl, y_pred, average='micro')\n",
    "a2=recall_score(Ts_lbl, y_pred, average='micro')\n",
    "a3=precision_score(Ts_lbl, y_pred, average='macro')\n",
    "a4=recall_score(Ts_lbl, y_pred, average='macro') \n",
    "a5=f1_score(Ts_lbl, y_pred, average='micro')\n",
    "a6=f1_score(Ts_lbl, y_pred, average='macro')\n",
    "a7=accuracy_score(Ts_lbl, y_pred)\n",
    "print(a1,'\\n',a2,'\\n',a3,'\\n',a4,'\\n',a5,'\\n',a6,'\\n',a7)\n",
    "prf.append((round(a1,4),round(a2,4),round(a3,4),round(a4,4),round(a5,4),round(a6,4),\n",
    "              round(a7,4)))"
   ]
  },
  {
   "cell_type": "code",
   "execution_count": 63,
   "metadata": {},
   "outputs": [
    {
     "name": "stderr",
     "output_type": "stream",
     "text": [
      "c:\\python\\python37\\lib\\site-packages\\sklearn\\model_selection\\_search.py:841: DeprecationWarning: The default of the `iid` parameter will change from True to False in version 0.22 and will be removed in 0.24. This will change numeric results when test-set sizes are unequal.\n",
      "  DeprecationWarning)\n",
      "c:\\python\\python37\\lib\\site-packages\\sklearn\\linear_model\\logistic.py:460: FutureWarning: Default multi_class will be changed to 'auto' in 0.22. Specify the multi_class option to silence this warning.\n",
      "  \"this warning.\", FutureWarning)\n"
     ]
    }
   ],
   "source": [
    "rCV=RandomizedSearchCV(pipclf, pramg, n_jobs=7, cv=10, scoring='f1_micro',\n",
    "                        return_train_score=True) \n",
    "##f1_score(average='macro')\n",
    "rCV.fit(Trfob, Tr_lbl)\n",
    "clfrb=rCV.best_estimator_"
   ]
  },
  {
   "cell_type": "code",
   "execution_count": 64,
   "metadata": {},
   "outputs": [
    {
     "data": {
      "text/plain": [
       "{'vct': CountVectorizer(analyzer='word', binary=False, decode_error='strict',\n",
       "         dtype=<class 'numpy.int64'>, encoding='utf-8', input='content',\n",
       "         lowercase=True, max_df=0.35, max_features=None, min_df=0.005,\n",
       "         ngram_range=(1, 7), preprocessor=None, stop_words='english',\n",
       "         strip_accents=None, token_pattern='(?u)\\\\b\\\\w\\\\w+\\\\b',\n",
       "         tokenizer=None, vocabulary=None),\n",
       " 'clf': LogisticRegression(C=0.1, class_weight=None, dual=False, fit_intercept=True,\n",
       "           intercept_scaling=0.1, max_iter=100, multi_class='warn',\n",
       "           n_jobs=None, penalty='l2', random_state=None, solver='liblinear',\n",
       "           tol=0.0001, verbose=0, warm_start=False)}"
      ]
     },
     "execution_count": 64,
     "metadata": {},
     "output_type": "execute_result"
    }
   ],
   "source": [
    "clfrb.named_steps"
   ]
  },
  {
   "cell_type": "code",
   "execution_count": 65,
   "metadata": {},
   "outputs": [
    {
     "name": "stdout",
     "output_type": "stream",
     "text": [
      "0.7513513513513513 \n",
      " 0.7513513513513513 \n",
      " 0.7843484848484847 \n",
      " 0.7178826666870146 \n",
      " 0.7513513513513513 \n",
      " 0.7150979060616923 \n",
      " 0.7513513513513513\n"
     ]
    }
   ],
   "source": [
    "clfrb.fit(Trfob, Tr_lbl)\n",
    "y_pred=clfrb.predict(Tsfob) \n",
    "a1=precision_score(Ts_lbl, y_pred, average='micro')\n",
    "a2=recall_score(Ts_lbl, y_pred, average='micro')\n",
    "a3=precision_score(Ts_lbl, y_pred, average='macro')\n",
    "a4=recall_score(Ts_lbl, y_pred, average='macro') \n",
    "a5=f1_score(Ts_lbl, y_pred, average='micro')\n",
    "a6=f1_score(Ts_lbl, y_pred, average='macro')\n",
    "a7=accuracy_score(Ts_lbl, y_pred)\n",
    "print(a1,'\\n',a2,'\\n',a3,'\\n',a4,'\\n',a5,'\\n',a6,'\\n',a7)\n",
    "prf.append((round(a1,4),round(a2,4),round(a3,4),round(a4,4),round(a5,4),round(a6,4),\n",
    "              round(a7,4)))"
   ]
  },
  {
   "cell_type": "code",
   "execution_count": 67,
   "metadata": {},
   "outputs": [],
   "source": [
    "#ruk ruk##############ruk ruk"
   ]
  },
  {
   "cell_type": "code",
   "execution_count": 68,
   "metadata": {},
   "outputs": [
    {
     "data": {
      "image/png": "[encoded data removed]",
      "text/plain": [
       "<Figure size 720x288 with 2 Axes>"
      ]
     },
     "metadata": {},
     "output_type": "display_data"
    }
   ],
   "source": [
    "rsl=pd.DataFrame(prf, columns=evlp)\n",
    "rsl.to_csv('CSVOUT/LGRprf2.csv')\n",
    "plt.figure(figsize=(10,4))\n",
    "sb.set(font_scale=1.6)\n",
    "sb.heatmap(rsl, annot=True, cmap=\"YlGnBu\", linewidths=.5, fmt=\"g\", annot_kws={\"size\": 18})\n",
    "plt.xlabel('Performance')\n",
    "plt.ylabel('Configuration')\n",
    "#plt.title('Confusion Matrix LGR_fig2')\n",
    "plt.savefig('Fig/LGRprf2.png', dpi=300, bbox_inches='tight', pad_inches=0.2)"
   ]
  },
  {
   "cell_type": "code",
   "execution_count": null,
   "metadata": {},
   "outputs": [],
   "source": [
    "#ruk ruk ################ ruk ruk##########################################"
   ]
  },
  {
   "cell_type": "code",
   "execution_count": 69,
   "metadata": {},
   "outputs": [],
   "source": [
    "prf=[]\n",
    "pipclf = Pipeline([('vct', vc), ('idf', idft), ('clf',clsfv)])#"
   ]
  },
  {
   "cell_type": "code",
   "execution_count": 70,
   "metadata": {},
   "outputs": [
    {
     "name": "stderr",
     "output_type": "stream",
     "text": [
      "c:\\python\\python37\\lib\\site-packages\\sklearn\\model_selection\\_search.py:841: DeprecationWarning: The default of the `iid` parameter will change from True to False in version 0.22 and will be removed in 0.24. This will change numeric results when test-set sizes are unequal.\n",
      "  DeprecationWarning)\n",
      "c:\\python\\python37\\lib\\site-packages\\sklearn\\linear_model\\logistic.py:460: FutureWarning: Default multi_class will be changed to 'auto' in 0.22. Specify the multi_class option to silence this warning.\n",
      "  \"this warning.\", FutureWarning)\n"
     ]
    }
   ],
   "source": [
    "rCV=RandomizedSearchCV(pipclf, pramg, n_jobs=7, cv=10, scoring='f1_micro',\n",
    "                        return_train_score=True) \n",
    "##f1_score(average='macro')\n",
    "rCV.fit(Trfob, Tr_lbl)\n",
    "clfrb=rCV.best_estimator_"
   ]
  },
  {
   "cell_type": "code",
   "execution_count": 71,
   "metadata": {},
   "outputs": [
    {
     "data": {
      "text/plain": [
       "{'vct': CountVectorizer(analyzer='word', binary=False, decode_error='strict',\n",
       "         dtype=<class 'numpy.int64'>, encoding='utf-8', input='content',\n",
       "         lowercase=True, max_df=0.35, max_features=None, min_df=0.01,\n",
       "         ngram_range=(1, 7), preprocessor=None,\n",
       "         stop_words=frozenset({'some', 'has', '59', 'than', 'pl', 'except', 'lt', 'thick', 'almost', 'through', 'again', 'seems', 'ye', 'wherein', 'anywhere', 'too', 'neither', 'fifty', 'hundred', 'many', 'behind', 'put', 'side', 'must', 'less', '75', '06', 'its', 'toward', 'so', 'still', 'him', 'former', 'i...', 'formerly', 'should', 'am', '36', '74', 'dn', 'hi', 'might', 'ten', '11', 'nothing', 'bu', 'x1'}),\n",
       "         strip_accents=None, token_pattern='(?u)\\\\b\\\\w\\\\w+\\\\b',\n",
       "         tokenizer=None, vocabulary=None),\n",
       " 'idf': TfidfTransformer(norm='l2', smooth_idf=True, sublinear_tf=False, use_idf=True),\n",
       " 'clf': LogisticRegression(C=2, class_weight=None, dual=False, fit_intercept=True,\n",
       "           intercept_scaling=0.1, max_iter=100, multi_class='warn',\n",
       "           n_jobs=None, penalty='l2', random_state=None, solver='lbfgs',\n",
       "           tol=0.0001, verbose=0, warm_start=False)}"
      ]
     },
     "execution_count": 71,
     "metadata": {},
     "output_type": "execute_result"
    }
   ],
   "source": [
    "clfrb.named_steps"
   ]
  },
  {
   "cell_type": "code",
   "execution_count": 72,
   "metadata": {},
   "outputs": [
    {
     "name": "stderr",
     "output_type": "stream",
     "text": [
      "c:\\python\\python37\\lib\\site-packages\\sklearn\\linear_model\\logistic.py:460: FutureWarning: Default multi_class will be changed to 'auto' in 0.22. Specify the multi_class option to silence this warning.\n",
      "  \"this warning.\", FutureWarning)\n"
     ]
    },
    {
     "name": "stdout",
     "output_type": "stream",
     "text": [
      "0.7135135135135136 \n",
      " 0.7135135135135136 \n",
      " 0.7765301489016659 \n",
      " 0.6235827979306241 \n",
      " 0.7135135135135136 \n",
      " 0.6454317643075408 \n",
      " 0.7135135135135136\n"
     ]
    },
    {
     "name": "stderr",
     "output_type": "stream",
     "text": [
      "c:\\python\\python37\\lib\\site-packages\\sklearn\\metrics\\classification.py:1143: UndefinedMetricWarning: Precision is ill-defined and being set to 0.0 in labels with no predicted samples.\n",
      "  'precision', 'predicted', average, warn_for)\n",
      "c:\\python\\python37\\lib\\site-packages\\sklearn\\metrics\\classification.py:1143: UndefinedMetricWarning: F-score is ill-defined and being set to 0.0 in labels with no predicted samples.\n",
      "  'precision', 'predicted', average, warn_for)\n"
     ]
    }
   ],
   "source": [
    "clfrb.fit(Trfob, Tr_lbl)\n",
    "y_pred=clfrb.predict(Tsfob) \n",
    "a1=precision_score(Ts_lbl, y_pred, average='micro')\n",
    "a2=recall_score(Ts_lbl, y_pred, average='micro')\n",
    "a3=precision_score(Ts_lbl, y_pred, average='macro')\n",
    "a4=recall_score(Ts_lbl, y_pred, average='macro') \n",
    "a5=f1_score(Ts_lbl, y_pred, average='micro')\n",
    "a6=f1_score(Ts_lbl, y_pred, average='macro')\n",
    "a7=accuracy_score(Ts_lbl, y_pred)\n",
    "print(a1,'\\n',a2,'\\n',a3,'\\n',a4,'\\n',a5,'\\n',a6,'\\n',a7)\n",
    "prf.append((round(a1,4),round(a2,4),round(a3,4),round(a4,4),round(a5,4),round(a6,4),\n",
    "              round(a7,4)))"
   ]
  },
  {
   "cell_type": "code",
   "execution_count": 73,
   "metadata": {},
   "outputs": [
    {
     "name": "stderr",
     "output_type": "stream",
     "text": [
      "c:\\python\\python37\\lib\\site-packages\\sklearn\\model_selection\\_search.py:841: DeprecationWarning: The default of the `iid` parameter will change from True to False in version 0.22 and will be removed in 0.24. This will change numeric results when test-set sizes are unequal.\n",
      "  DeprecationWarning)\n",
      "c:\\python\\python37\\lib\\site-packages\\sklearn\\linear_model\\logistic.py:460: FutureWarning: Default multi_class will be changed to 'auto' in 0.22. Specify the multi_class option to silence this warning.\n",
      "  \"this warning.\", FutureWarning)\n"
     ]
    },
    {
     "data": {
      "text/plain": [
       "{'vct': CountVectorizer(analyzer='word', binary=False, decode_error='strict',\n",
       "         dtype=<class 'numpy.int64'>, encoding='utf-8', input='content',\n",
       "         lowercase=True, max_df=0.3, max_features=None, min_df=0.01,\n",
       "         ngram_range=(1, 12), preprocessor=None,\n",
       "         stop_words=frozenset({'some', 'has', '59', 'than', 'pl', 'except', 'lt', 'thick', 'almost', 'through', 'again', 'seems', 'ye', 'wherein', 'anywhere', 'too', 'neither', 'fifty', 'hundred', 'many', 'behind', 'put', 'side', 'must', 'less', '75', '06', 'its', 'toward', 'so', 'still', 'him', 'former', 'i...', 'formerly', 'should', 'am', '36', '74', 'dn', 'hi', 'might', 'ten', '11', 'nothing', 'bu', 'x1'}),\n",
       "         strip_accents=None, token_pattern='(?u)\\\\b\\\\w\\\\w+\\\\b',\n",
       "         tokenizer=None, vocabulary=None),\n",
       " 'idf': TfidfTransformer(norm='l2', smooth_idf=True, sublinear_tf=False, use_idf=True),\n",
       " 'clf': LogisticRegression(C=7, class_weight=None, dual=False, fit_intercept=True,\n",
       "           intercept_scaling=1, max_iter=100, multi_class='warn',\n",
       "           n_jobs=None, penalty='l2', random_state=None, solver='liblinear',\n",
       "           tol=0.0001, verbose=0, warm_start=False)}"
      ]
     },
     "execution_count": 73,
     "metadata": {},
     "output_type": "execute_result"
    }
   ],
   "source": [
    "rCV=RandomizedSearchCV(pipclf, pramg, n_jobs=7, cv=10, scoring='f1_macro',\n",
    "                        return_train_score=True) \n",
    "##f1_score(average='macro')\n",
    "rCV.fit(Trfob, Tr_lbl)\n",
    "clfrb=rCV.best_estimator_\n",
    "clfrb.named_steps"
   ]
  },
  {
   "cell_type": "code",
   "execution_count": 75,
   "metadata": {},
   "outputs": [
    {
     "name": "stdout",
     "output_type": "stream",
     "text": [
      "0.7405405405405405 \n",
      " 0.7405405405405405 \n",
      " 0.7901586545549394 \n",
      " 0.7083782512043382 \n",
      " 0.7405405405405405 \n",
      " 0.7229500316255534 \n",
      " 0.7405405405405405\n"
     ]
    }
   ],
   "source": [
    "clfrb.fit(Trfob, Tr_lbl)\n",
    "y_pred=clfrb.predict(Tsfob) \n",
    "a1=precision_score(Ts_lbl, y_pred, average='micro')\n",
    "a2=recall_score(Ts_lbl, y_pred, average='micro')\n",
    "a3=precision_score(Ts_lbl, y_pred, average='macro')\n",
    "a4=recall_score(Ts_lbl, y_pred, average='macro') \n",
    "a5=f1_score(Ts_lbl, y_pred, average='micro')\n",
    "a6=f1_score(Ts_lbl, y_pred, average='macro')\n",
    "a7=accuracy_score(Ts_lbl, y_pred)\n",
    "print(a1,'\\n',a2,'\\n',a3,'\\n',a4,'\\n',a5,'\\n',a6,'\\n',a7)\n",
    "prf.append((round(a1,4),round(a2,4),round(a3,4),round(a4,4),round(a5,4),round(a6,4),\n",
    "              round(a7,4)))"
   ]
  },
  {
   "cell_type": "code",
   "execution_count": 76,
   "metadata": {},
   "outputs": [
    {
     "name": "stderr",
     "output_type": "stream",
     "text": [
      "c:\\python\\python37\\lib\\site-packages\\sklearn\\model_selection\\_search.py:841: DeprecationWarning: The default of the `iid` parameter will change from True to False in version 0.22 and will be removed in 0.24. This will change numeric results when test-set sizes are unequal.\n",
      "  DeprecationWarning)\n",
      "c:\\python\\python37\\lib\\site-packages\\sklearn\\linear_model\\logistic.py:460: FutureWarning: Default multi_class will be changed to 'auto' in 0.22. Specify the multi_class option to silence this warning.\n",
      "  \"this warning.\", FutureWarning)\n"
     ]
    },
    {
     "data": {
      "text/plain": [
       "{'vct': CountVectorizer(analyzer='word', binary=False, decode_error='strict',\n",
       "         dtype=<class 'numpy.int64'>, encoding='utf-8', input='content',\n",
       "         lowercase=True, max_df=0.3, max_features=None, min_df=0.01,\n",
       "         ngram_range=(1, 9), preprocessor=None,\n",
       "         stop_words=frozenset({'some', 'has', '59', 'than', 'pl', 'except', 'lt', 'thick', 'almost', 'through', 'again', 'seems', 'ye', 'wherein', 'anywhere', 'too', 'neither', 'fifty', 'hundred', 'many', 'behind', 'put', 'side', 'must', 'less', '75', '06', 'its', 'toward', 'so', 'still', 'him', 'former', 'i...', 'formerly', 'should', 'am', '36', '74', 'dn', 'hi', 'might', 'ten', '11', 'nothing', 'bu', 'x1'}),\n",
       "         strip_accents=None, token_pattern='(?u)\\\\b\\\\w\\\\w+\\\\b',\n",
       "         tokenizer=None, vocabulary=None),\n",
       " 'idf': TfidfTransformer(norm='l2', smooth_idf=True, sublinear_tf=False, use_idf=True),\n",
       " 'clf': LogisticRegression(C=2, class_weight=None, dual=False, fit_intercept=True,\n",
       "           intercept_scaling=0.3, max_iter=100, multi_class='warn',\n",
       "           n_jobs=None, penalty='l2', random_state=None, solver='newton-cg',\n",
       "           tol=0.0001, verbose=0, warm_start=False)}"
      ]
     },
     "execution_count": 76,
     "metadata": {},
     "output_type": "execute_result"
    }
   ],
   "source": [
    "rCV=RandomizedSearchCV(pipclf, pramg, n_jobs=7, cv=10, scoring='f1_macro',\n",
    "                        return_train_score=True) \n",
    "##f1_score(average='macro')\n",
    "rCV.fit(Trfob, Tr_lbl)\n",
    "clfrb=rCV.best_estimator_\n",
    "clfrb.named_steps"
   ]
  },
  {
   "cell_type": "code",
   "execution_count": 77,
   "metadata": {},
   "outputs": [
    {
     "data": {
      "text/plain": [
       "{'vct': CountVectorizer(analyzer='word', binary=False, decode_error='strict',\n",
       "         dtype=<class 'numpy.int64'>, encoding='utf-8', input='content',\n",
       "         lowercase=True, max_df=0.3, max_features=None, min_df=0.01,\n",
       "         ngram_range=(1, 9), preprocessor=None,\n",
       "         stop_words=frozenset({'some', 'has', '59', 'than', 'pl', 'except', 'lt', 'thick', 'almost', 'through', 'again', 'seems', 'ye', 'wherein', 'anywhere', 'too', 'neither', 'fifty', 'hundred', 'many', 'behind', 'put', 'side', 'must', 'less', '75', '06', 'its', 'toward', 'so', 'still', 'him', 'former', 'i...', 'formerly', 'should', 'am', '36', '74', 'dn', 'hi', 'might', 'ten', '11', 'nothing', 'bu', 'x1'}),\n",
       "         strip_accents=None, token_pattern='(?u)\\\\b\\\\w\\\\w+\\\\b',\n",
       "         tokenizer=None, vocabulary=None),\n",
       " 'idf': TfidfTransformer(norm='l2', smooth_idf=True, sublinear_tf=False, use_idf=True),\n",
       " 'clf': LogisticRegression(C=2, class_weight=None, dual=False, fit_intercept=True,\n",
       "           intercept_scaling=0.3, max_iter=100, multi_class='warn',\n",
       "           n_jobs=None, penalty='l2', random_state=None, solver='newton-cg',\n",
       "           tol=0.0001, verbose=0, warm_start=False)}"
      ]
     },
     "execution_count": 77,
     "metadata": {},
     "output_type": "execute_result"
    }
   ],
   "source": [
    "clfrb.named_steps"
   ]
  },
  {
   "cell_type": "code",
   "execution_count": 78,
   "metadata": {},
   "outputs": [
    {
     "name": "stderr",
     "output_type": "stream",
     "text": [
      "c:\\python\\python37\\lib\\site-packages\\sklearn\\linear_model\\logistic.py:460: FutureWarning: Default multi_class will be changed to 'auto' in 0.22. Specify the multi_class option to silence this warning.\n",
      "  \"this warning.\", FutureWarning)\n"
     ]
    },
    {
     "name": "stdout",
     "output_type": "stream",
     "text": [
      "0.7027027027027027 \n",
      " 0.7027027027027027 \n",
      " 0.7649106035808163 \n",
      " 0.6240107258585519 \n",
      " 0.7027027027027027 \n",
      " 0.6472263038429061 \n",
      " 0.7027027027027027\n"
     ]
    },
    {
     "name": "stderr",
     "output_type": "stream",
     "text": [
      "c:\\python\\python37\\lib\\site-packages\\sklearn\\metrics\\classification.py:1143: UndefinedMetricWarning: Precision is ill-defined and being set to 0.0 in labels with no predicted samples.\n",
      "  'precision', 'predicted', average, warn_for)\n",
      "c:\\python\\python37\\lib\\site-packages\\sklearn\\metrics\\classification.py:1143: UndefinedMetricWarning: F-score is ill-defined and being set to 0.0 in labels with no predicted samples.\n",
      "  'precision', 'predicted', average, warn_for)\n"
     ]
    }
   ],
   "source": [
    "clfrb.fit(Trfob, Tr_lbl)\n",
    "y_pred=clfrb.predict(Tsfob) \n",
    "a1=precision_score(Ts_lbl, y_pred, average='micro')\n",
    "a2=recall_score(Ts_lbl, y_pred, average='micro')\n",
    "a3=precision_score(Ts_lbl, y_pred, average='macro')\n",
    "a4=recall_score(Ts_lbl, y_pred, average='macro') \n",
    "a5=f1_score(Ts_lbl, y_pred, average='micro')\n",
    "a6=f1_score(Ts_lbl, y_pred, average='macro')\n",
    "a7=accuracy_score(Ts_lbl, y_pred)\n",
    "print(a1,'\\n',a2,'\\n',a3,'\\n',a4,'\\n',a5,'\\n',a6,'\\n',a7)\n",
    "prf.append((round(a1,4),round(a2,4),round(a3,4),round(a4,4),round(a5,4),round(a6,4),\n",
    "              round(a7,4)))"
   ]
  },
  {
   "cell_type": "code",
   "execution_count": 79,
   "metadata": {},
   "outputs": [
    {
     "name": "stderr",
     "output_type": "stream",
     "text": [
      "c:\\python\\python37\\lib\\site-packages\\sklearn\\model_selection\\_search.py:841: DeprecationWarning: The default of the `iid` parameter will change from True to False in version 0.22 and will be removed in 0.24. This will change numeric results when test-set sizes are unequal.\n",
      "  DeprecationWarning)\n",
      "c:\\python\\python37\\lib\\site-packages\\sklearn\\linear_model\\logistic.py:460: FutureWarning: Default multi_class will be changed to 'auto' in 0.22. Specify the multi_class option to silence this warning.\n",
      "  \"this warning.\", FutureWarning)\n",
      "c:\\python\\python37\\lib\\site-packages\\sklearn\\linear_model\\sag.py:334: ConvergenceWarning: The max_iter was reached which means the coef_ did not converge\n",
      "  \"the coef_ did not converge\", ConvergenceWarning)\n"
     ]
    }
   ],
   "source": [
    "rCV=RandomizedSearchCV(pipclf, pramg, n_jobs=7, cv=10, scoring='f1_micro',\n",
    "                        return_train_score=True) \n",
    "##f1_score(average='macro')\n",
    "rCV.fit(Trfob, Tr_lbl)\n",
    "clfrb=rCV.best_estimator_"
   ]
  },
  {
   "cell_type": "code",
   "execution_count": 80,
   "metadata": {},
   "outputs": [
    {
     "data": {
      "text/plain": [
       "{'vct': CountVectorizer(analyzer='word', binary=False, decode_error='strict',\n",
       "         dtype=<class 'numpy.int64'>, encoding='utf-8', input='content',\n",
       "         lowercase=True, max_df=0.3, max_features=None, min_df=0.01,\n",
       "         ngram_range=(1, 12), preprocessor=None,\n",
       "         stop_words=frozenset({'some', 'has', '59', 'than', 'pl', 'except', 'lt', 'thick', 'almost', 'through', 'again', 'seems', 'ye', 'wherein', 'anywhere', 'too', 'neither', 'fifty', 'hundred', 'many', 'behind', 'put', 'side', 'must', 'less', '75', '06', 'its', 'toward', 'so', 'still', 'him', 'former', 'i...', 'formerly', 'should', 'am', '36', '74', 'dn', 'hi', 'might', 'ten', '11', 'nothing', 'bu', 'x1'}),\n",
       "         strip_accents=None, token_pattern='(?u)\\\\b\\\\w\\\\w+\\\\b',\n",
       "         tokenizer=None, vocabulary=None),\n",
       " 'idf': TfidfTransformer(norm='l2', smooth_idf=True, sublinear_tf=False, use_idf=True),\n",
       " 'clf': LogisticRegression(C=7, class_weight=None, dual=False, fit_intercept=True,\n",
       "           intercept_scaling=2, max_iter=100, multi_class='warn',\n",
       "           n_jobs=None, penalty='l2', random_state=None, solver='sag',\n",
       "           tol=0.0001, verbose=0, warm_start=False)}"
      ]
     },
     "execution_count": 80,
     "metadata": {},
     "output_type": "execute_result"
    }
   ],
   "source": [
    "clfrb.named_steps"
   ]
  },
  {
   "cell_type": "code",
   "execution_count": 81,
   "metadata": {},
   "outputs": [
    {
     "name": "stdout",
     "output_type": "stream",
     "text": [
      "0.7405405405405405 \n",
      " 0.7405405405405405 \n",
      " 0.7901586545549394 \n",
      " 0.7083782512043382 \n",
      " 0.7405405405405405 \n",
      " 0.7229500316255534 \n",
      " 0.7405405405405405\n"
     ]
    }
   ],
   "source": [
    "clfrb.fit(Trfob, Tr_lbl)\n",
    "y_pred=clfrb.predict(Tsfob) \n",
    "a1=precision_score(Ts_lbl, y_pred, average='micro')\n",
    "a2=recall_score(Ts_lbl, y_pred, average='micro')\n",
    "a3=precision_score(Ts_lbl, y_pred, average='macro')\n",
    "a4=recall_score(Ts_lbl, y_pred, average='macro') \n",
    "a5=f1_score(Ts_lbl, y_pred, average='micro')\n",
    "a6=f1_score(Ts_lbl, y_pred, average='macro')\n",
    "a7=accuracy_score(Ts_lbl, y_pred)\n",
    "print(a1,'\\n',a2,'\\n',a3,'\\n',a4,'\\n',a5,'\\n',a6,'\\n',a7)\n",
    "prf.append((round(a1,4),round(a2,4),round(a3,4),round(a4,4),round(a5,4),round(a6,4),\n",
    "              round(a7,4)))"
   ]
  },
  {
   "cell_type": "code",
   "execution_count": 83,
   "metadata": {},
   "outputs": [],
   "source": [
    "#ruk ###############"
   ]
  },
  {
   "cell_type": "code",
   "execution_count": 84,
   "metadata": {},
   "outputs": [
    {
     "data": {
      "image/png": "[encoded data removed]",
      "text/plain": [
       "<Figure size 720x216 with 2 Axes>"
      ]
     },
     "metadata": {},
     "output_type": "display_data"
    }
   ],
   "source": [
    "rsl=pd.DataFrame(prf, columns=evlp)\n",
    "rsl.to_csv('CSVOUT/LGRprf3.csv')\n",
    "plt.figure(figsize=(10,3))\n",
    "sb.set(font_scale=1.6)\n",
    "sb.heatmap(rsl, annot=True, cmap=\"YlGnBu\", linewidths=.5, fmt=\"g\", annot_kws={\"size\": 18})\n",
    "plt.xlabel('Performance')\n",
    "plt.ylabel('Configuration')\n",
    "#plt.title('Confusion Matrix LGR_fig2')\n",
    "plt.savefig('Fig/LGRprf3.png', dpi=300, bbox_inches='tight', pad_inches=0.2)"
   ]
  },
  {
   "cell_type": "code",
   "execution_count": 239,
   "metadata": {},
   "outputs": [],
   "source": [
    "#ruk ##############################################"
   ]
  },
  {
   "cell_type": "code",
   "execution_count": 260,
   "metadata": {},
   "outputs": [],
   "source": [
    "evlp=['Precision_micro','Recall_micro','Precision_macro','Recall_macro','f1_micro',\n",
    "     'f1_macro','Accuracy']\n",
    "confp=['max df','min df','ngram','idf','no. token','C','gamma','solver','max iter']\n",
    "confg=[]\n",
    "prf=[]"
   ]
  },
  {
   "cell_type": "code",
   "execution_count": 261,
   "metadata": {},
   "outputs": [],
   "source": [
    "vc1=CountVectorizer(analyzer='word', binary=False, lowercase=True, max_df=0.35, min_df=0.005,\n",
    "                   ngram_range=(1, 3), stop_words=stpwd)\n",
    "idft1=TfidfTransformer()"
   ]
  },
  {
   "cell_type": "code",
   "execution_count": 262,
   "metadata": {},
   "outputs": [],
   "source": [
    "TrDX=vc1.fit_transform(Trfob)\n",
    "TrDtX=idft1.fit_transform(TrDX.toarray())\n",
    "###############\n",
    "TsDX=vc1.transform(Tsfob)\n",
    "TsDtX=idft1.transform(TsDX.toarray())"
   ]
  },
  {
   "cell_type": "code",
   "execution_count": 263,
   "metadata": {},
   "outputs": [],
   "source": [
    "TrD=pd.DataFrame(TrDX.toarray(), columns=vc1.get_feature_names())\n",
    "TrDt=pd.DataFrame(TrDtX.toarray(), columns=vc1.get_feature_names())\n",
    "###############\n",
    "TsD=pd.DataFrame(TsDX.toarray(), columns=vc1.get_feature_names())\n",
    "TsDt=pd.DataFrame(TsDtX.toarray(), columns=vc1.get_feature_names())"
   ]
  },
  {
   "cell_type": "code",
   "execution_count": 264,
   "metadata": {},
   "outputs": [
    {
     "name": "stdout",
     "output_type": "stream",
     "text": [
      "(499, 7128) (499, 7128) (185, 7128) (185, 7128)\n"
     ]
    }
   ],
   "source": [
    "print(TrD.shape, TrDt.shape, TsD.shape, TsDt.shape)"
   ]
  },
  {
   "cell_type": "code",
   "execution_count": 265,
   "metadata": {},
   "outputs": [],
   "source": [
    "#'lbfgs', 'liblinear', 'sag', 'saga'\n",
    "clf=LogisticRegression(C=6,intercept_scaling=0.3, max_iter=1500, solver='liblinear',tol=0.00001)"
   ]
  },
  {
   "cell_type": "code",
   "execution_count": 266,
   "metadata": {},
   "outputs": [
    {
     "name": "stderr",
     "output_type": "stream",
     "text": [
      "c:\\python\\python37\\lib\\site-packages\\sklearn\\linear_model\\logistic.py:460: FutureWarning: Default multi_class will be changed to 'auto' in 0.22. Specify the multi_class option to silence this warning.\n",
      "  \"this warning.\", FutureWarning)\n"
     ]
    },
    {
     "data": {
      "text/plain": [
       "LogisticRegression(C=6, class_weight=None, dual=False, fit_intercept=True,\n",
       "          intercept_scaling=0.3, max_iter=1500, multi_class='warn',\n",
       "          n_jobs=None, penalty='l2', random_state=None, solver='liblinear',\n",
       "          tol=1e-05, verbose=0, warm_start=False)"
      ]
     },
     "execution_count": 266,
     "metadata": {},
     "output_type": "execute_result"
    }
   ],
   "source": [
    "clf.fit(TrD, Tr_lbl)"
   ]
  },
  {
   "cell_type": "code",
   "execution_count": 267,
   "metadata": {},
   "outputs": [
    {
     "name": "stdout",
     "output_type": "stream",
     "text": [
      "0.7567567567567568 \n",
      " 0.7567567567567568 \n",
      " 0.7812770562770563 \n",
      " 0.7212405700449179 \n",
      " 0.7567567567567567 \n",
      " 0.7143792190083673 \n",
      " 0.7567567567567568\n"
     ]
    }
   ],
   "source": [
    "y_pred=clf.predict(TsD)\n",
    "a1=precision_score(Ts_lbl, y_pred, average='micro')\n",
    "a2=recall_score(Ts_lbl, y_pred, average='micro')\n",
    "a3=precision_score(Ts_lbl, y_pred, average='macro')\n",
    "a4=recall_score(Ts_lbl, y_pred, average='macro') \n",
    "a5=f1_score(Ts_lbl, y_pred, average='micro')\n",
    "a6=f1_score(Ts_lbl, y_pred, average='macro')\n",
    "a7=accuracy_score(Ts_lbl, y_pred)\n",
    "print(a1,'\\n',a2,'\\n',a3,'\\n',a4,'\\n',a5,'\\n',a6,'\\n',a7)"
   ]
  },
  {
   "cell_type": "code",
   "execution_count": 268,
   "metadata": {},
   "outputs": [],
   "source": [
    "prf.append((round(a1,4),round(a2,4),round(a3,4),round(a4,4),round(a5,4),round(a6,4),round(a7,4)))\n",
    "confg.append(('0.3','0.005',\"1 - 3\",'No','7128','6','0.3','liblinear','1500'))"
   ]
  },
  {
   "cell_type": "code",
   "execution_count": 269,
   "metadata": {},
   "outputs": [],
   "source": [
    "#####################"
   ]
  },
  {
   "cell_type": "code",
   "execution_count": 270,
   "metadata": {},
   "outputs": [
    {
     "name": "stderr",
     "output_type": "stream",
     "text": [
      "c:\\python\\python37\\lib\\site-packages\\sklearn\\linear_model\\logistic.py:460: FutureWarning: Default multi_class will be changed to 'auto' in 0.22. Specify the multi_class option to silence this warning.\n",
      "  \"this warning.\", FutureWarning)\n"
     ]
    },
    {
     "data": {
      "text/plain": [
       "LogisticRegression(C=6, class_weight=None, dual=False, fit_intercept=True,\n",
       "          intercept_scaling=0.3, max_iter=1500, multi_class='warn',\n",
       "          n_jobs=None, penalty='l2', random_state=None, solver='liblinear',\n",
       "          tol=1e-05, verbose=0, warm_start=False)"
      ]
     },
     "execution_count": 270,
     "metadata": {},
     "output_type": "execute_result"
    }
   ],
   "source": [
    "clf.fit(TrDt, Tr_lbl)"
   ]
  },
  {
   "cell_type": "code",
   "execution_count": 271,
   "metadata": {},
   "outputs": [
    {
     "name": "stdout",
     "output_type": "stream",
     "text": [
      "0.7513513513513513 \n",
      " 0.7513513513513513 \n",
      " 0.7917754919499105 \n",
      " 0.718510168836256 \n",
      " 0.7513513513513513 \n",
      " 0.7183413451084684 \n",
      " 0.7513513513513513\n"
     ]
    }
   ],
   "source": [
    "y_pred=clf.predict(TsDt)\n",
    "a1=precision_score(Ts_lbl, y_pred, average='micro')\n",
    "a2=recall_score(Ts_lbl, y_pred, average='micro')\n",
    "a3=precision_score(Ts_lbl, y_pred, average='macro')\n",
    "a4=recall_score(Ts_lbl, y_pred, average='macro') \n",
    "a5=f1_score(Ts_lbl, y_pred, average='micro')\n",
    "a6=f1_score(Ts_lbl, y_pred, average='macro')\n",
    "a7=accuracy_score(Ts_lbl, y_pred)\n",
    "print(a1,'\\n',a2,'\\n',a3,'\\n',a4,'\\n',a5,'\\n',a6,'\\n',a7)"
   ]
  },
  {
   "cell_type": "code",
   "execution_count": 272,
   "metadata": {},
   "outputs": [],
   "source": [
    "prf.append((round(a1,4),round(a2,4),round(a3,4),round(a4,4),round(a5,4),round(a6,4),round(a7,4)))\n",
    "confg.append(('0.3','0.005',\"1 - 3\",'Yes','7128','6','0.3','liblinear','1500'))"
   ]
  },
  {
   "cell_type": "code",
   "execution_count": 273,
   "metadata": {},
   "outputs": [
    {
     "data": {
      "text/html": [
       "<div>\n",
       "<style scoped>\n",
       "    .dataframe tbody tr th:only-of-type {\n",
       "        vertical-align: middle;\n",
       "    }\n",
       "\n",
       "    .dataframe tbody tr th {\n",
       "        vertical-align: top;\n",
       "    }\n",
       "\n",
       "    .dataframe thead th {\n",
       "        text-align: right;\n",
       "    }\n",
       "</style>\n",
       "<table border=\"1\" class=\"dataframe\">\n",
       "  <thead>\n",
       "    <tr style=\"text-align: right;\">\n",
       "      <th></th>\n",
       "      <th>max df</th>\n",
       "      <th>min df</th>\n",
       "      <th>ngram</th>\n",
       "      <th>idf</th>\n",
       "      <th>no. token</th>\n",
       "      <th>C</th>\n",
       "      <th>gamma</th>\n",
       "      <th>solver</th>\n",
       "      <th>max iter</th>\n",
       "    </tr>\n",
       "  </thead>\n",
       "  <tbody>\n",
       "    <tr>\n",
       "      <th>0</th>\n",
       "      <td>0.3</td>\n",
       "      <td>0.005</td>\n",
       "      <td>1 - 3</td>\n",
       "      <td>No</td>\n",
       "      <td>7128</td>\n",
       "      <td>6</td>\n",
       "      <td>0.3</td>\n",
       "      <td>liblinear</td>\n",
       "      <td>1500</td>\n",
       "    </tr>\n",
       "    <tr>\n",
       "      <th>1</th>\n",
       "      <td>0.3</td>\n",
       "      <td>0.005</td>\n",
       "      <td>1 - 3</td>\n",
       "      <td>Yes</td>\n",
       "      <td>7128</td>\n",
       "      <td>6</td>\n",
       "      <td>0.3</td>\n",
       "      <td>liblinear</td>\n",
       "      <td>1500</td>\n",
       "    </tr>\n",
       "  </tbody>\n",
       "</table>\n",
       "</div>"
      ],
      "text/plain": [
       "  max df min df  ngram  idf no. token  C gamma     solver max iter\n",
       "0    0.3  0.005  1 - 3   No      7128  6   0.3  liblinear     1500\n",
       "1    0.3  0.005  1 - 3  Yes      7128  6   0.3  liblinear     1500"
      ]
     },
     "execution_count": 273,
     "metadata": {},
     "output_type": "execute_result"
    }
   ],
   "source": [
    "stp=pd.DataFrame(confg, columns=confp)\n",
    "stp.to_csv('CSVOUT/LGRconf5.csv')\n",
    "stp"
   ]
  },
  {
   "cell_type": "code",
   "execution_count": 274,
   "metadata": {},
   "outputs": [
    {
     "data": {
      "image/png": "[encoded data removed]",
      "text/plain": [
       "<Figure size 720x216 with 2 Axes>"
      ]
     },
     "metadata": {},
     "output_type": "display_data"
    }
   ],
   "source": [
    "rsl=pd.DataFrame(prf, columns=evlp)\n",
    "rsl.to_csv('CSVOUT/LGRprf5.csv')\n",
    "plt.figure(figsize=(10,3))\n",
    "sb.set(font_scale=1.6)\n",
    "sb.heatmap(rsl, annot=True, cmap=\"YlGnBu\", linewidths=.5, fmt=\"g\", annot_kws={\"size\": 18})\n",
    "plt.xlabel('Performance')\n",
    "plt.ylabel('Configuration')\n",
    "#plt.title('Confusion Matrix LGR_fig2')\n",
    "plt.savefig('Fig/LGRprf5.png', dpi=300, bbox_inches='tight', pad_inches=0.2)"
   ]
  },
  {
   "cell_type": "code",
   "execution_count": 275,
   "metadata": {},
   "outputs": [
    {
     "data": {
      "image/png": "[encoded data removed]",
      "text/plain": [
       "<Figure size 504x504 with 2 Axes>"
      ]
     },
     "metadata": {},
     "output_type": "display_data"
    }
   ],
   "source": [
    "cm=confusion_matrix(Ts_lbl, y_pred)\n",
    "m=pd.DataFrame(cm, columns=tsl, index=tsl)\n",
    "plt.figure(figsize=(7,7))\n",
    "sb.set(font_scale=1.6)\n",
    "sb.heatmap(m, annot=True, cmap=\"YlGnBu\", linewidths=.5, annot_kws={\"size\": 18})\n",
    "plt.xlabel('Predicted Class')\n",
    "plt.ylabel('Actual Class')\n",
    "#plt.title('Confusion Matrix LGR_fig1')\n",
    "plt.savefig('Fig/LGRcm3.png', dpi=300, bbox_inches='tight', pad_inches=0.2)"
   ]
  },
  {
   "cell_type": "code",
   "execution_count": 276,
   "metadata": {},
   "outputs": [],
   "source": [
    "################"
   ]
  },
  {
   "cell_type": "code",
   "execution_count": 277,
   "metadata": {},
   "outputs": [
    {
     "name": "stderr",
     "output_type": "stream",
     "text": [
      "c:\\python\\python37\\lib\\site-packages\\sklearn\\linear_model\\logistic.py:460: FutureWarning: Default multi_class will be changed to 'auto' in 0.22. Specify the multi_class option to silence this warning.\n",
      "  \"this warning.\", FutureWarning)\n",
      "c:\\python\\python37\\lib\\site-packages\\sklearn\\linear_model\\logistic.py:460: FutureWarning: Default multi_class will be changed to 'auto' in 0.22. Specify the multi_class option to silence this warning.\n",
      "  \"this warning.\", FutureWarning)\n",
      "c:\\python\\python37\\lib\\site-packages\\sklearn\\linear_model\\logistic.py:460: FutureWarning: Default multi_class will be changed to 'auto' in 0.22. Specify the multi_class option to silence this warning.\n",
      "  \"this warning.\", FutureWarning)\n",
      "c:\\python\\python37\\lib\\site-packages\\sklearn\\linear_model\\logistic.py:460: FutureWarning: Default multi_class will be changed to 'auto' in 0.22. Specify the multi_class option to silence this warning.\n",
      "  \"this warning.\", FutureWarning)\n",
      "c:\\python\\python37\\lib\\site-packages\\sklearn\\linear_model\\logistic.py:460: FutureWarning: Default multi_class will be changed to 'auto' in 0.22. Specify the multi_class option to silence this warning.\n",
      "  \"this warning.\", FutureWarning)\n",
      "c:\\python\\python37\\lib\\site-packages\\sklearn\\linear_model\\logistic.py:460: FutureWarning: Default multi_class will be changed to 'auto' in 0.22. Specify the multi_class option to silence this warning.\n",
      "  \"this warning.\", FutureWarning)\n",
      "c:\\python\\python37\\lib\\site-packages\\sklearn\\linear_model\\logistic.py:460: FutureWarning: Default multi_class will be changed to 'auto' in 0.22. Specify the multi_class option to silence this warning.\n",
      "  \"this warning.\", FutureWarning)\n",
      "c:\\python\\python37\\lib\\site-packages\\sklearn\\linear_model\\logistic.py:460: FutureWarning: Default multi_class will be changed to 'auto' in 0.22. Specify the multi_class option to silence this warning.\n",
      "  \"this warning.\", FutureWarning)\n",
      "c:\\python\\python37\\lib\\site-packages\\sklearn\\linear_model\\logistic.py:460: FutureWarning: Default multi_class will be changed to 'auto' in 0.22. Specify the multi_class option to silence this warning.\n",
      "  \"this warning.\", FutureWarning)\n",
      "c:\\python\\python37\\lib\\site-packages\\sklearn\\linear_model\\logistic.py:460: FutureWarning: Default multi_class will be changed to 'auto' in 0.22. Specify the multi_class option to silence this warning.\n",
      "  \"this warning.\", FutureWarning)\n",
      "c:\\python\\python37\\lib\\site-packages\\sklearn\\linear_model\\logistic.py:460: FutureWarning: Default multi_class will be changed to 'auto' in 0.22. Specify the multi_class option to silence this warning.\n",
      "  \"this warning.\", FutureWarning)\n",
      "c:\\python\\python37\\lib\\site-packages\\sklearn\\linear_model\\logistic.py:460: FutureWarning: Default multi_class will be changed to 'auto' in 0.22. Specify the multi_class option to silence this warning.\n",
      "  \"this warning.\", FutureWarning)\n"
     ]
    },
    {
     "name": "stdout",
     "output_type": "stream",
     "text": [
      "[0.7593, 0.7736, 0.7547, 0.8235, 0.7647, 0.7755, 0.8163, 0.8298, 0.7826, 0.7391, 0.7819159539340572, 'f1 micro', '10'] \n",
      " Average Score : 0.7819159539340572\n"
     ]
    },
    {
     "name": "stderr",
     "output_type": "stream",
     "text": [
      "c:\\python\\python37\\lib\\site-packages\\sklearn\\linear_model\\logistic.py:460: FutureWarning: Default multi_class will be changed to 'auto' in 0.22. Specify the multi_class option to silence this warning.\n",
      "  \"this warning.\", FutureWarning)\n",
      "c:\\python\\python37\\lib\\site-packages\\sklearn\\metrics\\classification.py:1143: UndefinedMetricWarning: F-score is ill-defined and being set to 0.0 in labels with no predicted samples.\n",
      "  'precision', 'predicted', average, warn_for)\n",
      "c:\\python\\python37\\lib\\site-packages\\sklearn\\linear_model\\logistic.py:460: FutureWarning: Default multi_class will be changed to 'auto' in 0.22. Specify the multi_class option to silence this warning.\n",
      "  \"this warning.\", FutureWarning)\n",
      "c:\\python\\python37\\lib\\site-packages\\sklearn\\linear_model\\logistic.py:460: FutureWarning: Default multi_class will be changed to 'auto' in 0.22. Specify the multi_class option to silence this warning.\n",
      "  \"this warning.\", FutureWarning)\n",
      "c:\\python\\python37\\lib\\site-packages\\sklearn\\linear_model\\logistic.py:460: FutureWarning: Default multi_class will be changed to 'auto' in 0.22. Specify the multi_class option to silence this warning.\n",
      "  \"this warning.\", FutureWarning)\n",
      "c:\\python\\python37\\lib\\site-packages\\sklearn\\metrics\\classification.py:1143: UndefinedMetricWarning: F-score is ill-defined and being set to 0.0 in labels with no predicted samples.\n",
      "  'precision', 'predicted', average, warn_for)\n",
      "c:\\python\\python37\\lib\\site-packages\\sklearn\\linear_model\\logistic.py:460: FutureWarning: Default multi_class will be changed to 'auto' in 0.22. Specify the multi_class option to silence this warning.\n",
      "  \"this warning.\", FutureWarning)\n",
      "c:\\python\\python37\\lib\\site-packages\\sklearn\\linear_model\\logistic.py:460: FutureWarning: Default multi_class will be changed to 'auto' in 0.22. Specify the multi_class option to silence this warning.\n",
      "  \"this warning.\", FutureWarning)\n"
     ]
    },
    {
     "name": "stdout",
     "output_type": "stream",
     "text": [
      "[0.7784, 0.7584, 0.7044, 0.8346, 0.7504, 0.7065, 0.7766, 0.81, 0.7842, 0.735, 0.7638609857410503, 'f1 macro', '10'] \n",
      " Average Score : 0.7638609857410503\n"
     ]
    },
    {
     "name": "stderr",
     "output_type": "stream",
     "text": [
      "c:\\python\\python37\\lib\\site-packages\\sklearn\\metrics\\classification.py:1143: UndefinedMetricWarning: F-score is ill-defined and being set to 0.0 in labels with no predicted samples.\n",
      "  'precision', 'predicted', average, warn_for)\n",
      "c:\\python\\python37\\lib\\site-packages\\sklearn\\linear_model\\logistic.py:460: FutureWarning: Default multi_class will be changed to 'auto' in 0.22. Specify the multi_class option to silence this warning.\n",
      "  \"this warning.\", FutureWarning)\n",
      "c:\\python\\python37\\lib\\site-packages\\sklearn\\metrics\\classification.py:1143: UndefinedMetricWarning: F-score is ill-defined and being set to 0.0 in labels with no predicted samples.\n",
      "  'precision', 'predicted', average, warn_for)\n",
      "c:\\python\\python37\\lib\\site-packages\\sklearn\\linear_model\\logistic.py:460: FutureWarning: Default multi_class will be changed to 'auto' in 0.22. Specify the multi_class option to silence this warning.\n",
      "  \"this warning.\", FutureWarning)\n"
     ]
    },
    {
     "data": {
      "text/html": [
       "<div>\n",
       "<style scoped>\n",
       "    .dataframe tbody tr th:only-of-type {\n",
       "        vertical-align: middle;\n",
       "    }\n",
       "\n",
       "    .dataframe tbody tr th {\n",
       "        vertical-align: top;\n",
       "    }\n",
       "\n",
       "    .dataframe thead th {\n",
       "        text-align: right;\n",
       "    }\n",
       "</style>\n",
       "<table border=\"1\" class=\"dataframe\">\n",
       "  <thead>\n",
       "    <tr style=\"text-align: right;\">\n",
       "      <th></th>\n",
       "      <th>1</th>\n",
       "      <th>2</th>\n",
       "      <th>3</th>\n",
       "      <th>4</th>\n",
       "      <th>5</th>\n",
       "      <th>6</th>\n",
       "      <th>7</th>\n",
       "      <th>8</th>\n",
       "      <th>9</th>\n",
       "      <th>10</th>\n",
       "      <th>Average</th>\n",
       "      <th>metric</th>\n",
       "      <th>cv fold</th>\n",
       "    </tr>\n",
       "  </thead>\n",
       "  <tbody>\n",
       "    <tr>\n",
       "      <th>0</th>\n",
       "      <td>0.7593</td>\n",
       "      <td>0.7736</td>\n",
       "      <td>0.7547</td>\n",
       "      <td>0.8235</td>\n",
       "      <td>0.7647</td>\n",
       "      <td>0.7755</td>\n",
       "      <td>0.8163</td>\n",
       "      <td>0.8298</td>\n",
       "      <td>0.7826</td>\n",
       "      <td>0.7391</td>\n",
       "      <td>0.781916</td>\n",
       "      <td>f1 micro</td>\n",
       "      <td>10</td>\n",
       "    </tr>\n",
       "    <tr>\n",
       "      <th>1</th>\n",
       "      <td>0.7784</td>\n",
       "      <td>0.7584</td>\n",
       "      <td>0.7044</td>\n",
       "      <td>0.8346</td>\n",
       "      <td>0.7504</td>\n",
       "      <td>0.7065</td>\n",
       "      <td>0.7766</td>\n",
       "      <td>0.8100</td>\n",
       "      <td>0.7842</td>\n",
       "      <td>0.7350</td>\n",
       "      <td>0.763861</td>\n",
       "      <td>f1 macro</td>\n",
       "      <td>10</td>\n",
       "    </tr>\n",
       "  </tbody>\n",
       "</table>\n",
       "</div>"
      ],
      "text/plain": [
       "        1       2       3       4       5       6       7       8       9  \\\n",
       "0  0.7593  0.7736  0.7547  0.8235  0.7647  0.7755  0.8163  0.8298  0.7826   \n",
       "1  0.7784  0.7584  0.7044  0.8346  0.7504  0.7065  0.7766  0.8100  0.7842   \n",
       "\n",
       "       10   Average    metric cv fold  \n",
       "0  0.7391  0.781916  f1 micro      10  \n",
       "1  0.7350  0.763861  f1 macro      10  "
      ]
     },
     "execution_count": 277,
     "metadata": {},
     "output_type": "execute_result"
    }
   ],
   "source": [
    "cvp=['1','2','3','4','5','6','7','8','9','10','Average','metric','cv fold']\n",
    "cvs=[]\n",
    "clf_crs=cross_val_score(clf, TrDt, Tr_lbl, cv=10, scoring='f1_micro')\n",
    "sr1=[round(e,4) for e in clf_crs]\n",
    "a1=(sum(clf_crs)/10)\n",
    "sr1.append(a1)\n",
    "sr1.append('f1 micro')\n",
    "sr1.append('10')\n",
    "print(sr1,'\\n','Average Score :',a1)\n",
    "clf_crs=cross_val_score(clf, TrDt, Tr_lbl, cv=10, scoring='f1_macro')\n",
    "sr2=[round(e,4) for e in clf_crs]\n",
    "a2=(sum(clf_crs)/10)\n",
    "sr2.append(a2)\n",
    "sr2.append('f1 macro')\n",
    "sr2.append('10')\n",
    "print(sr2,'\\n','Average Score :',a2)\n",
    "cvs.append(sr1)\n",
    "cvs.append(sr2)\n",
    "rsl=pd.DataFrame(cvs, columns=cvp)\n",
    "rsl.to_csv('CSVOUT/LGRcvp110t.csv')\n",
    "rsl"
   ]
  },
  {
   "cell_type": "code",
   "execution_count": 278,
   "metadata": {},
   "outputs": [
    {
     "name": "stderr",
     "output_type": "stream",
     "text": [
      "c:\\python\\python37\\lib\\site-packages\\sklearn\\linear_model\\logistic.py:460: FutureWarning: Default multi_class will be changed to 'auto' in 0.22. Specify the multi_class option to silence this warning.\n",
      "  \"this warning.\", FutureWarning)\n",
      "c:\\python\\python37\\lib\\site-packages\\sklearn\\linear_model\\logistic.py:460: FutureWarning: Default multi_class will be changed to 'auto' in 0.22. Specify the multi_class option to silence this warning.\n",
      "  \"this warning.\", FutureWarning)\n",
      "c:\\python\\python37\\lib\\site-packages\\sklearn\\linear_model\\logistic.py:460: FutureWarning: Default multi_class will be changed to 'auto' in 0.22. Specify the multi_class option to silence this warning.\n",
      "  \"this warning.\", FutureWarning)\n",
      "c:\\python\\python37\\lib\\site-packages\\sklearn\\linear_model\\logistic.py:460: FutureWarning: Default multi_class will be changed to 'auto' in 0.22. Specify the multi_class option to silence this warning.\n",
      "  \"this warning.\", FutureWarning)\n",
      "c:\\python\\python37\\lib\\site-packages\\sklearn\\linear_model\\logistic.py:460: FutureWarning: Default multi_class will be changed to 'auto' in 0.22. Specify the multi_class option to silence this warning.\n",
      "  \"this warning.\", FutureWarning)\n",
      "c:\\python\\python37\\lib\\site-packages\\sklearn\\linear_model\\logistic.py:460: FutureWarning: Default multi_class will be changed to 'auto' in 0.22. Specify the multi_class option to silence this warning.\n",
      "  \"this warning.\", FutureWarning)\n",
      "c:\\python\\python37\\lib\\site-packages\\sklearn\\linear_model\\logistic.py:460: FutureWarning: Default multi_class will be changed to 'auto' in 0.22. Specify the multi_class option to silence this warning.\n",
      "  \"this warning.\", FutureWarning)\n",
      "c:\\python\\python37\\lib\\site-packages\\sklearn\\linear_model\\logistic.py:460: FutureWarning: Default multi_class will be changed to 'auto' in 0.22. Specify the multi_class option to silence this warning.\n",
      "  \"this warning.\", FutureWarning)\n",
      "c:\\python\\python37\\lib\\site-packages\\sklearn\\linear_model\\logistic.py:460: FutureWarning: Default multi_class will be changed to 'auto' in 0.22. Specify the multi_class option to silence this warning.\n",
      "  \"this warning.\", FutureWarning)\n",
      "c:\\python\\python37\\lib\\site-packages\\sklearn\\linear_model\\logistic.py:460: FutureWarning: Default multi_class will be changed to 'auto' in 0.22. Specify the multi_class option to silence this warning.\n",
      "  \"this warning.\", FutureWarning)\n"
     ]
    },
    {
     "name": "stdout",
     "output_type": "stream",
     "text": [
      "[0.7593, 0.7925, 0.7736, 0.8235, 0.8039, 0.7959, 0.8163, 0.8511, 0.8696, 0.8043, 0.8089969746725153, 'f1 micro', '10'] \n",
      " Average Score : 0.8089969746725153\n"
     ]
    },
    {
     "name": "stderr",
     "output_type": "stream",
     "text": [
      "c:\\python\\python37\\lib\\site-packages\\sklearn\\linear_model\\logistic.py:460: FutureWarning: Default multi_class will be changed to 'auto' in 0.22. Specify the multi_class option to silence this warning.\n",
      "  \"this warning.\", FutureWarning)\n",
      "c:\\python\\python37\\lib\\site-packages\\sklearn\\linear_model\\logistic.py:460: FutureWarning: Default multi_class will be changed to 'auto' in 0.22. Specify the multi_class option to silence this warning.\n",
      "  \"this warning.\", FutureWarning)\n",
      "c:\\python\\python37\\lib\\site-packages\\sklearn\\linear_model\\logistic.py:460: FutureWarning: Default multi_class will be changed to 'auto' in 0.22. Specify the multi_class option to silence this warning.\n",
      "  \"this warning.\", FutureWarning)\n",
      "c:\\python\\python37\\lib\\site-packages\\sklearn\\linear_model\\logistic.py:460: FutureWarning: Default multi_class will be changed to 'auto' in 0.22. Specify the multi_class option to silence this warning.\n",
      "  \"this warning.\", FutureWarning)\n",
      "c:\\python\\python37\\lib\\site-packages\\sklearn\\linear_model\\logistic.py:460: FutureWarning: Default multi_class will be changed to 'auto' in 0.22. Specify the multi_class option to silence this warning.\n",
      "  \"this warning.\", FutureWarning)\n",
      "c:\\python\\python37\\lib\\site-packages\\sklearn\\linear_model\\logistic.py:460: FutureWarning: Default multi_class will be changed to 'auto' in 0.22. Specify the multi_class option to silence this warning.\n",
      "  \"this warning.\", FutureWarning)\n",
      "c:\\python\\python37\\lib\\site-packages\\sklearn\\linear_model\\logistic.py:460: FutureWarning: Default multi_class will be changed to 'auto' in 0.22. Specify the multi_class option to silence this warning.\n",
      "  \"this warning.\", FutureWarning)\n",
      "c:\\python\\python37\\lib\\site-packages\\sklearn\\linear_model\\logistic.py:460: FutureWarning: Default multi_class will be changed to 'auto' in 0.22. Specify the multi_class option to silence this warning.\n",
      "  \"this warning.\", FutureWarning)\n",
      "c:\\python\\python37\\lib\\site-packages\\sklearn\\metrics\\classification.py:1143: UndefinedMetricWarning: F-score is ill-defined and being set to 0.0 in labels with no predicted samples.\n",
      "  'precision', 'predicted', average, warn_for)\n",
      "c:\\python\\python37\\lib\\site-packages\\sklearn\\linear_model\\logistic.py:460: FutureWarning: Default multi_class will be changed to 'auto' in 0.22. Specify the multi_class option to silence this warning.\n",
      "  \"this warning.\", FutureWarning)\n",
      "c:\\python\\python37\\lib\\site-packages\\sklearn\\metrics\\classification.py:1143: UndefinedMetricWarning: F-score is ill-defined and being set to 0.0 in labels with no predicted samples.\n",
      "  'precision', 'predicted', average, warn_for)\n",
      "c:\\python\\python37\\lib\\site-packages\\sklearn\\linear_model\\logistic.py:460: FutureWarning: Default multi_class will be changed to 'auto' in 0.22. Specify the multi_class option to silence this warning.\n",
      "  \"this warning.\", FutureWarning)\n"
     ]
    },
    {
     "name": "stdout",
     "output_type": "stream",
     "text": [
      "[0.7784, 0.7713, 0.7737, 0.8346, 0.8064, 0.812, 0.7734, 0.8065, 0.8467, 0.8182, 0.8021131164941908, 'f1 macro', '10'] \n",
      " Average Score : 0.8021131164941908\n"
     ]
    },
    {
     "data": {
      "text/html": [
       "<div>\n",
       "<style scoped>\n",
       "    .dataframe tbody tr th:only-of-type {\n",
       "        vertical-align: middle;\n",
       "    }\n",
       "\n",
       "    .dataframe tbody tr th {\n",
       "        vertical-align: top;\n",
       "    }\n",
       "\n",
       "    .dataframe thead th {\n",
       "        text-align: right;\n",
       "    }\n",
       "</style>\n",
       "<table border=\"1\" class=\"dataframe\">\n",
       "  <thead>\n",
       "    <tr style=\"text-align: right;\">\n",
       "      <th></th>\n",
       "      <th>1</th>\n",
       "      <th>2</th>\n",
       "      <th>3</th>\n",
       "      <th>4</th>\n",
       "      <th>5</th>\n",
       "      <th>6</th>\n",
       "      <th>7</th>\n",
       "      <th>8</th>\n",
       "      <th>9</th>\n",
       "      <th>10</th>\n",
       "      <th>Average</th>\n",
       "      <th>metric</th>\n",
       "      <th>cv fold</th>\n",
       "    </tr>\n",
       "  </thead>\n",
       "  <tbody>\n",
       "    <tr>\n",
       "      <th>0</th>\n",
       "      <td>0.7593</td>\n",
       "      <td>0.7925</td>\n",
       "      <td>0.7736</td>\n",
       "      <td>0.8235</td>\n",
       "      <td>0.8039</td>\n",
       "      <td>0.7959</td>\n",
       "      <td>0.8163</td>\n",
       "      <td>0.8511</td>\n",
       "      <td>0.8696</td>\n",
       "      <td>0.8043</td>\n",
       "      <td>0.808997</td>\n",
       "      <td>f1 micro</td>\n",
       "      <td>10</td>\n",
       "    </tr>\n",
       "    <tr>\n",
       "      <th>1</th>\n",
       "      <td>0.7784</td>\n",
       "      <td>0.7713</td>\n",
       "      <td>0.7737</td>\n",
       "      <td>0.8346</td>\n",
       "      <td>0.8064</td>\n",
       "      <td>0.8120</td>\n",
       "      <td>0.7734</td>\n",
       "      <td>0.8065</td>\n",
       "      <td>0.8467</td>\n",
       "      <td>0.8182</td>\n",
       "      <td>0.802113</td>\n",
       "      <td>f1 macro</td>\n",
       "      <td>10</td>\n",
       "    </tr>\n",
       "  </tbody>\n",
       "</table>\n",
       "</div>"
      ],
      "text/plain": [
       "        1       2       3       4       5       6       7       8       9  \\\n",
       "0  0.7593  0.7925  0.7736  0.8235  0.8039  0.7959  0.8163  0.8511  0.8696   \n",
       "1  0.7784  0.7713  0.7737  0.8346  0.8064  0.8120  0.7734  0.8065  0.8467   \n",
       "\n",
       "       10   Average    metric cv fold  \n",
       "0  0.8043  0.808997  f1 micro      10  \n",
       "1  0.8182  0.802113  f1 macro      10  "
      ]
     },
     "execution_count": 278,
     "metadata": {},
     "output_type": "execute_result"
    }
   ],
   "source": [
    "cvp=['1','2','3','4','5','6','7','8','9','10','Average','metric','cv fold']\n",
    "cvs=[]\n",
    "clf_crs=cross_val_score(clf, TrD, Tr_lbl, cv=10, scoring='f1_micro')\n",
    "sr1=[round(e,4) for e in clf_crs]\n",
    "a1=(sum(clf_crs)/10)\n",
    "sr1.append(a1)\n",
    "sr1.append('f1 micro')\n",
    "sr1.append('10')\n",
    "print(sr1,'\\n','Average Score :',a1)\n",
    "clf_crs=cross_val_score(clf, TrD, Tr_lbl, cv=10, scoring='f1_macro')\n",
    "sr2=[round(e,4) for e in clf_crs]\n",
    "a2=(sum(clf_crs)/10)\n",
    "sr2.append(a2)\n",
    "sr2.append('f1 macro')\n",
    "sr2.append('10')\n",
    "print(sr2,'\\n','Average Score :',a2)\n",
    "cvs.append(sr1)\n",
    "cvs.append(sr2)\n",
    "rsl=pd.DataFrame(cvs, columns=cvp)\n",
    "rsl.to_csv('CSVOUT/LGRcvp110.csv')\n",
    "rsl"
   ]
  },
  {
   "cell_type": "code",
   "execution_count": 279,
   "metadata": {},
   "outputs": [
    {
     "name": "stderr",
     "output_type": "stream",
     "text": [
      "c:\\python\\python37\\lib\\site-packages\\sklearn\\model_selection\\_split.py:652: Warning: The least populated class in y has only 2 members, which is too few. The minimum number of members in any class cannot be less than n_splits=20.\n",
      "  % (min_groups, self.n_splits)), Warning)\n",
      "c:\\python\\python37\\lib\\site-packages\\sklearn\\linear_model\\logistic.py:460: FutureWarning: Default multi_class will be changed to 'auto' in 0.22. Specify the multi_class option to silence this warning.\n",
      "  \"this warning.\", FutureWarning)\n",
      "c:\\python\\python37\\lib\\site-packages\\sklearn\\linear_model\\logistic.py:460: FutureWarning: Default multi_class will be changed to 'auto' in 0.22. Specify the multi_class option to silence this warning.\n",
      "  \"this warning.\", FutureWarning)\n",
      "c:\\python\\python37\\lib\\site-packages\\sklearn\\linear_model\\logistic.py:460: FutureWarning: Default multi_class will be changed to 'auto' in 0.22. Specify the multi_class option to silence this warning.\n",
      "  \"this warning.\", FutureWarning)\n",
      "c:\\python\\python37\\lib\\site-packages\\sklearn\\linear_model\\logistic.py:460: FutureWarning: Default multi_class will be changed to 'auto' in 0.22. Specify the multi_class option to silence this warning.\n",
      "  \"this warning.\", FutureWarning)\n",
      "c:\\python\\python37\\lib\\site-packages\\sklearn\\linear_model\\logistic.py:460: FutureWarning: Default multi_class will be changed to 'auto' in 0.22. Specify the multi_class option to silence this warning.\n",
      "  \"this warning.\", FutureWarning)\n",
      "c:\\python\\python37\\lib\\site-packages\\sklearn\\linear_model\\logistic.py:460: FutureWarning: Default multi_class will be changed to 'auto' in 0.22. Specify the multi_class option to silence this warning.\n",
      "  \"this warning.\", FutureWarning)\n",
      "c:\\python\\python37\\lib\\site-packages\\sklearn\\linear_model\\logistic.py:460: FutureWarning: Default multi_class will be changed to 'auto' in 0.22. Specify the multi_class option to silence this warning.\n",
      "  \"this warning.\", FutureWarning)\n",
      "c:\\python\\python37\\lib\\site-packages\\sklearn\\linear_model\\logistic.py:460: FutureWarning: Default multi_class will be changed to 'auto' in 0.22. Specify the multi_class option to silence this warning.\n",
      "  \"this warning.\", FutureWarning)\n",
      "c:\\python\\python37\\lib\\site-packages\\sklearn\\linear_model\\logistic.py:460: FutureWarning: Default multi_class will be changed to 'auto' in 0.22. Specify the multi_class option to silence this warning.\n",
      "  \"this warning.\", FutureWarning)\n",
      "c:\\python\\python37\\lib\\site-packages\\sklearn\\linear_model\\logistic.py:460: FutureWarning: Default multi_class will be changed to 'auto' in 0.22. Specify the multi_class option to silence this warning.\n",
      "  \"this warning.\", FutureWarning)\n",
      "c:\\python\\python37\\lib\\site-packages\\sklearn\\linear_model\\logistic.py:460: FutureWarning: Default multi_class will be changed to 'auto' in 0.22. Specify the multi_class option to silence this warning.\n",
      "  \"this warning.\", FutureWarning)\n",
      "c:\\python\\python37\\lib\\site-packages\\sklearn\\linear_model\\logistic.py:460: FutureWarning: Default multi_class will be changed to 'auto' in 0.22. Specify the multi_class option to silence this warning.\n",
      "  \"this warning.\", FutureWarning)\n",
      "c:\\python\\python37\\lib\\site-packages\\sklearn\\linear_model\\logistic.py:460: FutureWarning: Default multi_class will be changed to 'auto' in 0.22. Specify the multi_class option to silence this warning.\n",
      "  \"this warning.\", FutureWarning)\n",
      "c:\\python\\python37\\lib\\site-packages\\sklearn\\linear_model\\logistic.py:460: FutureWarning: Default multi_class will be changed to 'auto' in 0.22. Specify the multi_class option to silence this warning.\n",
      "  \"this warning.\", FutureWarning)\n",
      "c:\\python\\python37\\lib\\site-packages\\sklearn\\linear_model\\logistic.py:460: FutureWarning: Default multi_class will be changed to 'auto' in 0.22. Specify the multi_class option to silence this warning.\n",
      "  \"this warning.\", FutureWarning)\n",
      "c:\\python\\python37\\lib\\site-packages\\sklearn\\linear_model\\logistic.py:460: FutureWarning: Default multi_class will be changed to 'auto' in 0.22. Specify the multi_class option to silence this warning.\n",
      "  \"this warning.\", FutureWarning)\n",
      "c:\\python\\python37\\lib\\site-packages\\sklearn\\linear_model\\logistic.py:460: FutureWarning: Default multi_class will be changed to 'auto' in 0.22. Specify the multi_class option to silence this warning.\n",
      "  \"this warning.\", FutureWarning)\n",
      "c:\\python\\python37\\lib\\site-packages\\sklearn\\linear_model\\logistic.py:460: FutureWarning: Default multi_class will be changed to 'auto' in 0.22. Specify the multi_class option to silence this warning.\n",
      "  \"this warning.\", FutureWarning)\n",
      "c:\\python\\python37\\lib\\site-packages\\sklearn\\linear_model\\logistic.py:460: FutureWarning: Default multi_class will be changed to 'auto' in 0.22. Specify the multi_class option to silence this warning.\n",
      "  \"this warning.\", FutureWarning)\n",
      "c:\\python\\python37\\lib\\site-packages\\sklearn\\linear_model\\logistic.py:460: FutureWarning: Default multi_class will be changed to 'auto' in 0.22. Specify the multi_class option to silence this warning.\n",
      "  \"this warning.\", FutureWarning)\n",
      "c:\\python\\python37\\lib\\site-packages\\sklearn\\model_selection\\_split.py:652: Warning: The least populated class in y has only 2 members, which is too few. The minimum number of members in any class cannot be less than n_splits=20.\n",
      "  % (min_groups, self.n_splits)), Warning)\n",
      "c:\\python\\python37\\lib\\site-packages\\sklearn\\linear_model\\logistic.py:460: FutureWarning: Default multi_class will be changed to 'auto' in 0.22. Specify the multi_class option to silence this warning.\n",
      "  \"this warning.\", FutureWarning)\n",
      "c:\\python\\python37\\lib\\site-packages\\sklearn\\metrics\\classification.py:1143: UndefinedMetricWarning: F-score is ill-defined and being set to 0.0 in labels with no predicted samples.\n",
      "  'precision', 'predicted', average, warn_for)\n",
      "c:\\python\\python37\\lib\\site-packages\\sklearn\\linear_model\\logistic.py:460: FutureWarning: Default multi_class will be changed to 'auto' in 0.22. Specify the multi_class option to silence this warning.\n",
      "  \"this warning.\", FutureWarning)\n",
      "c:\\python\\python37\\lib\\site-packages\\sklearn\\metrics\\classification.py:1143: UndefinedMetricWarning: F-score is ill-defined and being set to 0.0 in labels with no predicted samples.\n",
      "  'precision', 'predicted', average, warn_for)\n",
      "c:\\python\\python37\\lib\\site-packages\\sklearn\\linear_model\\logistic.py:460: FutureWarning: Default multi_class will be changed to 'auto' in 0.22. Specify the multi_class option to silence this warning.\n",
      "  \"this warning.\", FutureWarning)\n",
      "c:\\python\\python37\\lib\\site-packages\\sklearn\\metrics\\classification.py:1143: UndefinedMetricWarning: F-score is ill-defined and being set to 0.0 in labels with no predicted samples.\n",
      "  'precision', 'predicted', average, warn_for)\n"
     ]
    },
    {
     "name": "stdout",
     "output_type": "stream",
     "text": [
      "[0.6, 0.8, 0.7143, 0.5385, 0.3636, 0.3636, 0.5455, 0.6364, 0.6, 0.8, 1.0, 0.875, 0.5, 0.7143, 0.8333, 0.3333, 0.6667, 0.6, 0.6, 0.8, 0.6442228604728605, 'f1 micro', '20'] \n",
      " Average Score : 0.6442228604728605\n"
     ]
    },
    {
     "name": "stderr",
     "output_type": "stream",
     "text": [
      "c:\\python\\python37\\lib\\site-packages\\sklearn\\linear_model\\logistic.py:460: FutureWarning: Default multi_class will be changed to 'auto' in 0.22. Specify the multi_class option to silence this warning.\n",
      "  \"this warning.\", FutureWarning)\n",
      "c:\\python\\python37\\lib\\site-packages\\sklearn\\metrics\\classification.py:1143: UndefinedMetricWarning: F-score is ill-defined and being set to 0.0 in labels with no predicted samples.\n",
      "  'precision', 'predicted', average, warn_for)\n",
      "c:\\python\\python37\\lib\\site-packages\\sklearn\\linear_model\\logistic.py:460: FutureWarning: Default multi_class will be changed to 'auto' in 0.22. Specify the multi_class option to silence this warning.\n",
      "  \"this warning.\", FutureWarning)\n",
      "c:\\python\\python37\\lib\\site-packages\\sklearn\\metrics\\classification.py:1143: UndefinedMetricWarning: F-score is ill-defined and being set to 0.0 in labels with no predicted samples.\n",
      "  'precision', 'predicted', average, warn_for)\n",
      "c:\\python\\python37\\lib\\site-packages\\sklearn\\linear_model\\logistic.py:460: FutureWarning: Default multi_class will be changed to 'auto' in 0.22. Specify the multi_class option to silence this warning.\n",
      "  \"this warning.\", FutureWarning)\n",
      "c:\\python\\python37\\lib\\site-packages\\sklearn\\metrics\\classification.py:1143: UndefinedMetricWarning: F-score is ill-defined and being set to 0.0 in labels with no predicted samples.\n",
      "  'precision', 'predicted', average, warn_for)\n",
      "c:\\python\\python37\\lib\\site-packages\\sklearn\\linear_model\\logistic.py:460: FutureWarning: Default multi_class will be changed to 'auto' in 0.22. Specify the multi_class option to silence this warning.\n",
      "  \"this warning.\", FutureWarning)\n",
      "c:\\python\\python37\\lib\\site-packages\\sklearn\\metrics\\classification.py:1143: UndefinedMetricWarning: F-score is ill-defined and being set to 0.0 in labels with no predicted samples.\n",
      "  'precision', 'predicted', average, warn_for)\n",
      "c:\\python\\python37\\lib\\site-packages\\sklearn\\linear_model\\logistic.py:460: FutureWarning: Default multi_class will be changed to 'auto' in 0.22. Specify the multi_class option to silence this warning.\n",
      "  \"this warning.\", FutureWarning)\n",
      "c:\\python\\python37\\lib\\site-packages\\sklearn\\linear_model\\logistic.py:460: FutureWarning: Default multi_class will be changed to 'auto' in 0.22. Specify the multi_class option to silence this warning.\n",
      "  \"this warning.\", FutureWarning)\n",
      "c:\\python\\python37\\lib\\site-packages\\sklearn\\metrics\\classification.py:1143: UndefinedMetricWarning: F-score is ill-defined and being set to 0.0 in labels with no predicted samples.\n",
      "  'precision', 'predicted', average, warn_for)\n",
      "c:\\python\\python37\\lib\\site-packages\\sklearn\\linear_model\\logistic.py:460: FutureWarning: Default multi_class will be changed to 'auto' in 0.22. Specify the multi_class option to silence this warning.\n",
      "  \"this warning.\", FutureWarning)\n",
      "c:\\python\\python37\\lib\\site-packages\\sklearn\\metrics\\classification.py:1143: UndefinedMetricWarning: F-score is ill-defined and being set to 0.0 in labels with no predicted samples.\n",
      "  'precision', 'predicted', average, warn_for)\n",
      "c:\\python\\python37\\lib\\site-packages\\sklearn\\linear_model\\logistic.py:460: FutureWarning: Default multi_class will be changed to 'auto' in 0.22. Specify the multi_class option to silence this warning.\n",
      "  \"this warning.\", FutureWarning)\n",
      "c:\\python\\python37\\lib\\site-packages\\sklearn\\linear_model\\logistic.py:460: FutureWarning: Default multi_class will be changed to 'auto' in 0.22. Specify the multi_class option to silence this warning.\n",
      "  \"this warning.\", FutureWarning)\n",
      "c:\\python\\python37\\lib\\site-packages\\sklearn\\linear_model\\logistic.py:460: FutureWarning: Default multi_class will be changed to 'auto' in 0.22. Specify the multi_class option to silence this warning.\n",
      "  \"this warning.\", FutureWarning)\n",
      "c:\\python\\python37\\lib\\site-packages\\sklearn\\metrics\\classification.py:1143: UndefinedMetricWarning: F-score is ill-defined and being set to 0.0 in labels with no predicted samples.\n",
      "  'precision', 'predicted', average, warn_for)\n",
      "c:\\python\\python37\\lib\\site-packages\\sklearn\\metrics\\classification.py:1145: UndefinedMetricWarning: F-score is ill-defined and being set to 0.0 in labels with no true samples.\n",
      "  'recall', 'true', average, warn_for)\n",
      "c:\\python\\python37\\lib\\site-packages\\sklearn\\linear_model\\logistic.py:460: FutureWarning: Default multi_class will be changed to 'auto' in 0.22. Specify the multi_class option to silence this warning.\n",
      "  \"this warning.\", FutureWarning)\n",
      "c:\\python\\python37\\lib\\site-packages\\sklearn\\metrics\\classification.py:1143: UndefinedMetricWarning: F-score is ill-defined and being set to 0.0 in labels with no predicted samples.\n",
      "  'precision', 'predicted', average, warn_for)\n",
      "c:\\python\\python37\\lib\\site-packages\\sklearn\\linear_model\\logistic.py:460: FutureWarning: Default multi_class will be changed to 'auto' in 0.22. Specify the multi_class option to silence this warning.\n",
      "  \"this warning.\", FutureWarning)\n",
      "c:\\python\\python37\\lib\\site-packages\\sklearn\\metrics\\classification.py:1143: UndefinedMetricWarning: F-score is ill-defined and being set to 0.0 in labels with no predicted samples.\n",
      "  'precision', 'predicted', average, warn_for)\n",
      "c:\\python\\python37\\lib\\site-packages\\sklearn\\linear_model\\logistic.py:460: FutureWarning: Default multi_class will be changed to 'auto' in 0.22. Specify the multi_class option to silence this warning.\n",
      "  \"this warning.\", FutureWarning)\n",
      "c:\\python\\python37\\lib\\site-packages\\sklearn\\metrics\\classification.py:1143: UndefinedMetricWarning: F-score is ill-defined and being set to 0.0 in labels with no predicted samples.\n",
      "  'precision', 'predicted', average, warn_for)\n",
      "c:\\python\\python37\\lib\\site-packages\\sklearn\\linear_model\\logistic.py:460: FutureWarning: Default multi_class will be changed to 'auto' in 0.22. Specify the multi_class option to silence this warning.\n",
      "  \"this warning.\", FutureWarning)\n"
     ]
    },
    {
     "name": "stdout",
     "output_type": "stream",
     "text": [
      "[0.5733, 0.73, 0.6259, 0.3524, 0.25, 0.3333, 0.55, 0.7083, 0.6, 0.7917, 1.0, 0.8889, 0.381, 0.6944, 0.76, 0.4, 0.6333, 0.5, 0.5333, 0.6667, 0.5986296296296296, 'f1 macro', '20'] \n",
      " Average Score : 0.5986296296296296\n"
     ]
    },
    {
     "name": "stderr",
     "output_type": "stream",
     "text": [
      "c:\\python\\python37\\lib\\site-packages\\sklearn\\metrics\\classification.py:1143: UndefinedMetricWarning: F-score is ill-defined and being set to 0.0 in labels with no predicted samples.\n",
      "  'precision', 'predicted', average, warn_for)\n",
      "c:\\python\\python37\\lib\\site-packages\\sklearn\\linear_model\\logistic.py:460: FutureWarning: Default multi_class will be changed to 'auto' in 0.22. Specify the multi_class option to silence this warning.\n",
      "  \"this warning.\", FutureWarning)\n",
      "c:\\python\\python37\\lib\\site-packages\\sklearn\\metrics\\classification.py:1143: UndefinedMetricWarning: F-score is ill-defined and being set to 0.0 in labels with no predicted samples.\n",
      "  'precision', 'predicted', average, warn_for)\n",
      "c:\\python\\python37\\lib\\site-packages\\sklearn\\metrics\\classification.py:1145: UndefinedMetricWarning: F-score is ill-defined and being set to 0.0 in labels with no true samples.\n",
      "  'recall', 'true', average, warn_for)\n",
      "c:\\python\\python37\\lib\\site-packages\\sklearn\\linear_model\\logistic.py:460: FutureWarning: Default multi_class will be changed to 'auto' in 0.22. Specify the multi_class option to silence this warning.\n",
      "  \"this warning.\", FutureWarning)\n",
      "c:\\python\\python37\\lib\\site-packages\\sklearn\\metrics\\classification.py:1143: UndefinedMetricWarning: F-score is ill-defined and being set to 0.0 in labels with no predicted samples.\n",
      "  'precision', 'predicted', average, warn_for)\n",
      "c:\\python\\python37\\lib\\site-packages\\sklearn\\linear_model\\logistic.py:460: FutureWarning: Default multi_class will be changed to 'auto' in 0.22. Specify the multi_class option to silence this warning.\n",
      "  \"this warning.\", FutureWarning)\n",
      "c:\\python\\python37\\lib\\site-packages\\sklearn\\metrics\\classification.py:1143: UndefinedMetricWarning: F-score is ill-defined and being set to 0.0 in labels with no predicted samples.\n",
      "  'precision', 'predicted', average, warn_for)\n",
      "c:\\python\\python37\\lib\\site-packages\\sklearn\\metrics\\classification.py:1145: UndefinedMetricWarning: F-score is ill-defined and being set to 0.0 in labels with no true samples.\n",
      "  'recall', 'true', average, warn_for)\n"
     ]
    },
    {
     "data": {
      "text/html": [
       "<div>\n",
       "<style scoped>\n",
       "    .dataframe tbody tr th:only-of-type {\n",
       "        vertical-align: middle;\n",
       "    }\n",
       "\n",
       "    .dataframe tbody tr th {\n",
       "        vertical-align: top;\n",
       "    }\n",
       "\n",
       "    .dataframe thead th {\n",
       "        text-align: right;\n",
       "    }\n",
       "</style>\n",
       "<table border=\"1\" class=\"dataframe\">\n",
       "  <thead>\n",
       "    <tr style=\"text-align: right;\">\n",
       "      <th></th>\n",
       "      <th>1</th>\n",
       "      <th>2</th>\n",
       "      <th>3</th>\n",
       "      <th>4</th>\n",
       "      <th>5</th>\n",
       "      <th>6</th>\n",
       "      <th>7</th>\n",
       "      <th>8</th>\n",
       "      <th>9</th>\n",
       "      <th>10</th>\n",
       "      <th>...</th>\n",
       "      <th>14</th>\n",
       "      <th>15</th>\n",
       "      <th>16</th>\n",
       "      <th>17</th>\n",
       "      <th>18</th>\n",
       "      <th>19</th>\n",
       "      <th>20</th>\n",
       "      <th>Average</th>\n",
       "      <th>metric</th>\n",
       "      <th>cv fold</th>\n",
       "    </tr>\n",
       "  </thead>\n",
       "  <tbody>\n",
       "    <tr>\n",
       "      <th>0</th>\n",
       "      <td>0.6000</td>\n",
       "      <td>0.80</td>\n",
       "      <td>0.7143</td>\n",
       "      <td>0.5385</td>\n",
       "      <td>0.3636</td>\n",
       "      <td>0.3636</td>\n",
       "      <td>0.5455</td>\n",
       "      <td>0.6364</td>\n",
       "      <td>0.6</td>\n",
       "      <td>0.8000</td>\n",
       "      <td>...</td>\n",
       "      <td>0.7143</td>\n",
       "      <td>0.8333</td>\n",
       "      <td>0.3333</td>\n",
       "      <td>0.6667</td>\n",
       "      <td>0.6</td>\n",
       "      <td>0.6000</td>\n",
       "      <td>0.8000</td>\n",
       "      <td>0.644223</td>\n",
       "      <td>f1 micro</td>\n",
       "      <td>20</td>\n",
       "    </tr>\n",
       "    <tr>\n",
       "      <th>1</th>\n",
       "      <td>0.5733</td>\n",
       "      <td>0.73</td>\n",
       "      <td>0.6259</td>\n",
       "      <td>0.3524</td>\n",
       "      <td>0.2500</td>\n",
       "      <td>0.3333</td>\n",
       "      <td>0.5500</td>\n",
       "      <td>0.7083</td>\n",
       "      <td>0.6</td>\n",
       "      <td>0.7917</td>\n",
       "      <td>...</td>\n",
       "      <td>0.6944</td>\n",
       "      <td>0.7600</td>\n",
       "      <td>0.4000</td>\n",
       "      <td>0.6333</td>\n",
       "      <td>0.5</td>\n",
       "      <td>0.5333</td>\n",
       "      <td>0.6667</td>\n",
       "      <td>0.598630</td>\n",
       "      <td>f1 macro</td>\n",
       "      <td>20</td>\n",
       "    </tr>\n",
       "  </tbody>\n",
       "</table>\n",
       "<p>2 rows × 23 columns</p>\n",
       "</div>"
      ],
      "text/plain": [
       "        1     2       3       4       5       6       7       8    9      10  \\\n",
       "0  0.6000  0.80  0.7143  0.5385  0.3636  0.3636  0.5455  0.6364  0.6  0.8000   \n",
       "1  0.5733  0.73  0.6259  0.3524  0.2500  0.3333  0.5500  0.7083  0.6  0.7917   \n",
       "\n",
       "   ...      14      15      16      17   18      19      20   Average  \\\n",
       "0  ...  0.7143  0.8333  0.3333  0.6667  0.6  0.6000  0.8000  0.644223   \n",
       "1  ...  0.6944  0.7600  0.4000  0.6333  0.5  0.5333  0.6667  0.598630   \n",
       "\n",
       "     metric  cv fold  \n",
       "0  f1 micro       20  \n",
       "1  f1 macro       20  \n",
       "\n",
       "[2 rows x 23 columns]"
      ]
     },
     "execution_count": 279,
     "metadata": {},
     "output_type": "execute_result"
    }
   ],
   "source": [
    "cvp=['1','2','3','4','5','6','7','8','9','10','11','12','13','14','15','16','17','18','19','20',\n",
    "    'Average','metric','cv fold']\n",
    "cvs=[]\n",
    "clf_crs=cross_val_score(clf, TsDt, Ts_lbl, cv=20, scoring='f1_micro')\n",
    "sr1=[round(e,4) for e in clf_crs]\n",
    "a1=(sum(clf_crs)/20)\n",
    "sr1.append(a1)\n",
    "sr1.append('f1 micro')\n",
    "sr1.append('20')\n",
    "print(sr1,'\\n','Average Score :',a1)\n",
    "clf_crs=cross_val_score(clf, TsDt, Ts_lbl, cv=20, scoring='f1_macro')\n",
    "sr2=[round(e,4) for e in clf_crs]\n",
    "a2=(sum(clf_crs)/20)\n",
    "sr2.append(a2)\n",
    "sr2.append('f1 macro')\n",
    "sr2.append('20')\n",
    "print(sr2,'\\n','Average Score :',a2)\n",
    "cvs.append(sr1)\n",
    "cvs.append(sr2)\n",
    "rsl=pd.DataFrame(cvs, columns=cvp)\n",
    "rsl.to_csv('CSVOUT/LGRcvpf120.csv')\n",
    "rsl\n",
    "#print(len(sr1),len(sr2))"
   ]
  }
 ],
 "metadata": {
  "kernelspec": {
   "display_name": "Python 3",
   "language": "python",
   "name": "python3"
  },
  "language_info": {
   "codemirror_mode": {
    "name": "ipython",
    "version": 3
   },
   "file_extension": ".py",
   "mimetype": "text/x-python",
   "name": "python",
   "nbconvert_exporter": "python",
   "pygments_lexer": "ipython3",
   "version": "3.7.2"
  }
 },
 "nbformat": 4,
 "nbformat_minor": 2
}
