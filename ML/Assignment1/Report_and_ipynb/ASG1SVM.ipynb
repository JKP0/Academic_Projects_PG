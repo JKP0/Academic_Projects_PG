{
 "cells": [
  {
   "cell_type": "code",
   "execution_count": 1,
   "metadata": {},
   "outputs": [],
   "source": [
    "import pandas as pd\n",
    "import glob as gb\n",
    "import matplotlib.pyplot as plt\n",
    "import seaborn as sb\n",
    "from sklearn.feature_extraction.text import ENGLISH_STOP_WORDS, CountVectorizer, TfidfTransformer\n",
    "from sklearn.preprocessing import LabelEncoder\n",
    "from nltk.stem import WordNetLemmatizer, PorterStemmer\n",
    "from sklearn.pipeline import Pipeline"
   ]
  },
  {
   "cell_type": "code",
   "execution_count": 2,
   "metadata": {},
   "outputs": [],
   "source": [
    "from sklearn.metrics import precision_score, recall_score, f1_score, confusion_matrix, accuracy_score\n",
    "from sklearn.model_selection import  RandomizedSearchCV\n",
    "from sklearn.model_selection import cross_val_score\n",
    "from sklearn import svm"
   ]
  },
  {
   "cell_type": "code",
   "execution_count": 3,
   "metadata": {},
   "outputs": [],
   "source": [
    "TrnFlsPth=gb.glob(\"DTrain/*/*\")\n",
    "TstFlsPth=gb.glob(\"DTest/*/*\")"
   ]
  },
  {
   "cell_type": "code",
   "execution_count": 4,
   "metadata": {},
   "outputs": [
    {
     "name": "stdout",
     "output_type": "stream",
     "text": [
      "['alum', 'barley', 'coffee', 'dmk', 'fuel', 'livestock', 'palm-oil', 'retail', 'soybean', 'veg-oil'] \n",
      " ['alum', 'barley', 'coffee', 'dmk', 'fuel', 'livestock', 'palm-oil', 'retail', 'soybean', 'veg-oil']\n"
     ]
    }
   ],
   "source": [
    "Tr_lbl=[e.strip().split('\\\\')[1] for e in TrnFlsPth]\n",
    "Ts_lbl=[e.strip().split('\\\\')[1] for e in TstFlsPth]\n",
    "trl=[]\n",
    "a={trl.append(e) for e in Tr_lbl if(e not in trl)}\n",
    "tsl=[]\n",
    "a={tsl.append(e) for e in Ts_lbl if(e not in tsl)}\n",
    "a=None\n",
    "print(trl, '\\n', tsl)"
   ]
  },
  {
   "cell_type": "code",
   "execution_count": 5,
   "metadata": {},
   "outputs": [],
   "source": [
    "le =LabelEncoder()\n",
    "Y_Tr=le.fit_transform(Tr_lbl)\n",
    "Y_Ts=le.fit_transform(Ts_lbl)"
   ]
  },
  {
   "cell_type": "code",
   "execution_count": 6,
   "metadata": {},
   "outputs": [
    {
     "data": {
      "text/plain": [
       "False"
      ]
     },
     "execution_count": 6,
     "metadata": {},
     "output_type": "execute_result"
    }
   ],
   "source": [
    "fpt=[open(f) for f in TrnFlsPth]\n",
    "Trfob=[f.read().replace(\"\\\\\",'').replace('//',' ').replace('/',' ') for f in fpt]\n",
    "all(f.close() for f in fpt)"
   ]
  },
  {
   "cell_type": "code",
   "execution_count": 7,
   "metadata": {},
   "outputs": [],
   "source": [
    "fpt=[open(f) for f in TstFlsPth]\n",
    "Tsfob=[f.read().replace(\"\\\\\",'').replace('//',' ').replace('/',' ') for f in fpt]\n",
    "all(f.close() for f in fpt)\n",
    "fpt=None"
   ]
  },
  {
   "cell_type": "code",
   "execution_count": 8,
   "metadata": {},
   "outputs": [],
   "source": [
    "rd={'\\n':' ','<':' ','>':' ','(':' ',')':' ','[':' ',']':' ','{':' ','}':' ','?':' ',  \n",
    "    ':':' ', \",\":'','.':' ', '|':' ', '_':' ', '||':' '}\n",
    "#\\"
   ]
  },
  {
   "cell_type": "code",
   "execution_count": 9,
   "metadata": {},
   "outputs": [],
   "source": [
    "Trfob=[''.join([rd.get(c,c) for c in flob]) for flob in Trfob]\n",
    "Tsfob=[''.join([rd.get(c,c) for c in flob]) for flob in Tsfob]"
   ]
  },
  {
   "cell_type": "code",
   "execution_count": 10,
   "metadata": {},
   "outputs": [],
   "source": [
    "Trfob=[' '.join(flob.split()) for flob in Trfob]\n",
    "Tsfob=[' '.join(flob.split()) for flob in Tsfob]"
   ]
  },
  {
   "cell_type": "code",
   "execution_count": 11,
   "metadata": {},
   "outputs": [],
   "source": [
    "lm=WordNetLemmatizer()\n",
    "ps=PorterStemmer()\n",
    "Trfob=[' '.join([lm.lemmatize(word) for word in text.split(' ')]) for text in Trfob]\n",
    "Tsfob=[' '.join([lm.lemmatize(word) for word in text.split(' ')]) for text in Tsfob]\n",
    "Trfob=[' '.join([ps.stem(word) for word in text.split(' ')]) for text in Trfob]\n",
    "Tsfob=[' '.join([ps.stem(word) for word in text.split(' ')]) for text in Tsfob]"
   ]
  },
  {
   "cell_type": "code",
   "execution_count": 12,
   "metadata": {},
   "outputs": [
    {
     "data": {
      "text/plain": [
       "\"nippon light metal continu aluminium output cut tokyo march 2 - nippon light metal Co ltd nlgt T which ha annual capac of 63000 tonn will continu primari aluminium product at a rate of 35000 tonn owe to low domest and world price and low water suppli at it hydroelectr power plant a compani offici said nippon which ha no plan to restor output to the 48000 tonn a year at which it wa work until late 1986 will becom japan' onli smelter ryoka light metal industri ltd will stop smelt in april owe to high power cost and low price and mitsui aluminium Co ltd ha said it stop smelt in februari\""
      ]
     },
     "execution_count": 12,
     "metadata": {},
     "output_type": "execute_result"
    }
   ],
   "source": [
    "Trfob[0]"
   ]
  },
  {
   "cell_type": "code",
   "execution_count": 13,
   "metadata": {},
   "outputs": [],
   "source": [
    "vc=CountVectorizer(analyzer='word', binary=False, lowercase=True, max_df=0.3, min_df=1,\n",
    "                   ngram_range=(1, 1), stop_words='english')\n",
    "idft=TfidfTransformer()"
   ]
  },
  {
   "cell_type": "code",
   "execution_count": 14,
   "metadata": {},
   "outputs": [],
   "source": [
    "TrDvcX=vc.fit_transform(Trfob)\n",
    "TrDtvcX=idft.fit_transform(TrDvcX.toarray())\n",
    "###############\n",
    "TsDvcX=vc.transform(Tsfob)\n",
    "TsDtvcX=idft.transform(TsDvcX.toarray())"
   ]
  },
  {
   "cell_type": "code",
   "execution_count": 15,
   "metadata": {},
   "outputs": [],
   "source": [
    "TrDvc=pd.DataFrame(TrDvcX.toarray(), columns=vc.get_feature_names())\n",
    "TrDtvc=pd.DataFrame(TrDtvcX.toarray(), columns=vc.get_feature_names())\n",
    "###############\n",
    "TsDvc=pd.DataFrame(TsDvcX.toarray(), columns=vc.get_feature_names())\n",
    "TsDtvc=pd.DataFrame(TsDtvcX.toarray(), columns=vc.get_feature_names())"
   ]
  },
  {
   "cell_type": "code",
   "execution_count": 16,
   "metadata": {},
   "outputs": [
    {
     "name": "stdout",
     "output_type": "stream",
     "text": [
      "(499, 5694) (499, 5694) (185, 5694) (185, 5694)\n"
     ]
    }
   ],
   "source": [
    "print(TrDvc.shape, TrDtvc.shape, TsDvc.shape, TsDtvc.shape)"
   ]
  },
  {
   "cell_type": "code",
   "execution_count": 17,
   "metadata": {},
   "outputs": [
    {
     "data": {
      "text/plain": [
       "488"
      ]
     },
     "execution_count": 17,
     "metadata": {},
     "output_type": "execute_result"
    }
   ],
   "source": [
    "lex=['0','00','000','0000']\n",
    "exstp=[fv for fv in TrDtvc if(len(fv)<3)]\n",
    "stpwd=ENGLISH_STOP_WORDS.union(exstp,lex)\n",
    "len(stpwd)"
   ]
  },
  {
   "cell_type": "code",
   "execution_count": 18,
   "metadata": {},
   "outputs": [],
   "source": [
    "#########"
   ]
  },
  {
   "cell_type": "code",
   "execution_count": 19,
   "metadata": {},
   "outputs": [
    {
     "data": {
      "text/plain": [
       "SVC(C=1.0, cache_size=200, class_weight=None, coef0=0.0,\n",
       "  decision_function_shape='ovr', degree=3, gamma='auto_deprecated',\n",
       "  kernel='rbf', max_iter=-1, probability=False, random_state=None,\n",
       "  shrinking=True, tol=0.001, verbose=False)"
      ]
     },
     "execution_count": 19,
     "metadata": {},
     "output_type": "execute_result"
    }
   ],
   "source": [
    "clfs=svm.SVC()\n",
    "clfs"
   ]
  },
  {
   "cell_type": "code",
   "execution_count": 20,
   "metadata": {},
   "outputs": [],
   "source": [
    "evlp=['Precision_micro','Recall_micro','Precision_macro','Recall_macro','f1_micro',\n",
    "     'f1_macro','Accuracy']\n",
    "confp=['max df','min df','ngram','idf','no. token','C','degree','gamma','kernel','max iter']\n",
    "confg=[]\n",
    "prf=[]"
   ]
  },
  {
   "cell_type": "code",
   "execution_count": 21,
   "metadata": {},
   "outputs": [
    {
     "name": "stderr",
     "output_type": "stream",
     "text": [
      "c:\\python\\python37\\lib\\site-packages\\sklearn\\svm\\base.py:196: FutureWarning: The default value of gamma will change from 'auto' to 'scale' in version 0.22 to account better for unscaled features. Set gamma explicitly to 'auto' or 'scale' to avoid this warning.\n",
      "  \"avoid this warning.\", FutureWarning)\n"
     ]
    },
    {
     "data": {
      "text/plain": [
       "SVC(C=1.0, cache_size=200, class_weight=None, coef0=0.0,\n",
       "  decision_function_shape='ovr', degree=3, gamma='auto_deprecated',\n",
       "  kernel='rbf', max_iter=-1, probability=False, random_state=None,\n",
       "  shrinking=True, tol=0.001, verbose=False)"
      ]
     },
     "execution_count": 21,
     "metadata": {},
     "output_type": "execute_result"
    }
   ],
   "source": [
    "clfs.fit(TrDvc, Tr_lbl)"
   ]
  },
  {
   "cell_type": "code",
   "execution_count": 22,
   "metadata": {},
   "outputs": [
    {
     "name": "stdout",
     "output_type": "stream",
     "text": [
      "0.3621621621621622 \n",
      " 0.3621621621621622 \n",
      " 0.2374947633012149 \n",
      " 0.25466830466830465\n"
     ]
    },
    {
     "name": "stderr",
     "output_type": "stream",
     "text": [
      "c:\\python\\python37\\lib\\site-packages\\sklearn\\metrics\\classification.py:1143: UndefinedMetricWarning: Precision is ill-defined and being set to 0.0 in labels with no predicted samples.\n",
      "  'precision', 'predicted', average, warn_for)\n"
     ]
    }
   ],
   "source": [
    "y_pred=clfs.predict(TsDvc)\n",
    "a1=precision_score(Ts_lbl, y_pred, average='micro')\n",
    "a2=recall_score(Ts_lbl, y_pred, average='micro')\n",
    "a3=precision_score(Ts_lbl, y_pred, average='macro')\n",
    "a4=recall_score(Ts_lbl, y_pred, average='macro') \n",
    "print(a1,'\\n',a2,'\\n',a3,'\\n',a4)"
   ]
  },
  {
   "cell_type": "code",
   "execution_count": 23,
   "metadata": {},
   "outputs": [
    {
     "name": "stdout",
     "output_type": "stream",
     "text": [
      "0.3621621621621622 \n",
      " 0.20641821946169775 \n",
      " 0.3621621621621622\n"
     ]
    },
    {
     "name": "stderr",
     "output_type": "stream",
     "text": [
      "c:\\python\\python37\\lib\\site-packages\\sklearn\\metrics\\classification.py:1143: UndefinedMetricWarning: F-score is ill-defined and being set to 0.0 in labels with no predicted samples.\n",
      "  'precision', 'predicted', average, warn_for)\n"
     ]
    }
   ],
   "source": [
    "a5=f1_score(Ts_lbl, y_pred, average='micro')\n",
    "a6=f1_score(Ts_lbl, y_pred, average='macro')\n",
    "a7=accuracy_score(Ts_lbl, y_pred)\n",
    "print(a5,'\\n',a6,'\\n',a7)\n",
    "prf.append((round(a1,4),round(a2,4),round(a3,4),round(a4,4),round(a5,4),round(a6,4),\n",
    "              round(a7,4)))\n",
    "confg.append(('0.3','1',\"1 - 1\",'No','5694','1','3','auto','rbf','-1'))"
   ]
  },
  {
   "cell_type": "code",
   "execution_count": 24,
   "metadata": {},
   "outputs": [],
   "source": [
    "cm=confusion_matrix(Ts_lbl, y_pred)\n",
    "m=pd.DataFrame(cm, columns=tsl, index=tsl)"
   ]
  },
  {
   "cell_type": "code",
   "execution_count": 25,
   "metadata": {},
   "outputs": [
    {
     "data": {
      "image/png": "[encoded data removed]",
      "text/plain": [
       "<Figure size 504x504 with 2 Axes>"
      ]
     },
     "metadata": {
      "needs_background": "light"
     },
     "output_type": "display_data"
    }
   ],
   "source": [
    "plt.figure(figsize=(7,7))\n",
    "sb.set(font_scale=1.6)\n",
    "sb.heatmap(m, annot=True, cmap=\"YlGnBu\", linewidths=.5, annot_kws={\"size\": 18})\n",
    "plt.xlabel('Predicted Class')\n",
    "plt.ylabel('Actual Class')\n",
    "#plt.title('Confusion Matrix SVM_fig1')\n",
    "plt.savefig('Fig/SVMcm1.png', dpi=300, bbox_inches='tight', pad_inches=0.2)"
   ]
  },
  {
   "cell_type": "code",
   "execution_count": 26,
   "metadata": {},
   "outputs": [],
   "source": [
    "################t"
   ]
  },
  {
   "cell_type": "code",
   "execution_count": 27,
   "metadata": {},
   "outputs": [
    {
     "name": "stderr",
     "output_type": "stream",
     "text": [
      "c:\\python\\python37\\lib\\site-packages\\sklearn\\svm\\base.py:196: FutureWarning: The default value of gamma will change from 'auto' to 'scale' in version 0.22 to account better for unscaled features. Set gamma explicitly to 'auto' or 'scale' to avoid this warning.\n",
      "  \"avoid this warning.\", FutureWarning)\n"
     ]
    },
    {
     "data": {
      "text/plain": [
       "SVC(C=1.0, cache_size=200, class_weight=None, coef0=0.0,\n",
       "  decision_function_shape='ovr', degree=3, gamma='auto_deprecated',\n",
       "  kernel='rbf', max_iter=-1, probability=False, random_state=None,\n",
       "  shrinking=True, tol=0.001, verbose=False)"
      ]
     },
     "execution_count": 27,
     "metadata": {},
     "output_type": "execute_result"
    }
   ],
   "source": [
    "clfs.fit(TrDtvc, Tr_lbl) "
   ]
  },
  {
   "cell_type": "code",
   "execution_count": 28,
   "metadata": {},
   "outputs": [
    {
     "name": "stdout",
     "output_type": "stream",
     "text": [
      "0.15135135135135136 \n",
      " 0.15135135135135136 \n",
      " 0.015135135135135137 \n",
      " 0.1\n"
     ]
    },
    {
     "name": "stderr",
     "output_type": "stream",
     "text": [
      "c:\\python\\python37\\lib\\site-packages\\sklearn\\metrics\\classification.py:1143: UndefinedMetricWarning: Precision is ill-defined and being set to 0.0 in labels with no predicted samples.\n",
      "  'precision', 'predicted', average, warn_for)\n"
     ]
    }
   ],
   "source": [
    "y_pred=clfs.predict(TsDtvc)\n",
    "a1=precision_score(Ts_lbl, y_pred, average='micro')\n",
    "a2=recall_score(Ts_lbl, y_pred, average='micro')\n",
    "a3=precision_score(Ts_lbl, y_pred, average='macro')\n",
    "a4=recall_score(Ts_lbl, y_pred, average='macro') \n",
    "print(a1,'\\n',a2,'\\n',a3,'\\n',a4)"
   ]
  },
  {
   "cell_type": "code",
   "execution_count": 29,
   "metadata": {},
   "outputs": [
    {
     "name": "stdout",
     "output_type": "stream",
     "text": [
      "0.15135135135135136 \n",
      " 0.026291079812206575 \n",
      " 0.15135135135135136\n"
     ]
    },
    {
     "name": "stderr",
     "output_type": "stream",
     "text": [
      "c:\\python\\python37\\lib\\site-packages\\sklearn\\metrics\\classification.py:1143: UndefinedMetricWarning: F-score is ill-defined and being set to 0.0 in labels with no predicted samples.\n",
      "  'precision', 'predicted', average, warn_for)\n"
     ]
    }
   ],
   "source": [
    "a5=f1_score(Ts_lbl, y_pred, average='micro')\n",
    "a6=f1_score(Ts_lbl, y_pred, average='macro')\n",
    "a7=accuracy_score(Ts_lbl, y_pred)\n",
    "print(a5,'\\n',a6,'\\n',a7)\n",
    "prf.append((round(a1,4),round(a2,4),round(a3,4),round(a4,4),round(a5,4),round(a6,4),\n",
    "              round(a7,4)))\n",
    "confg.append(('0.3','1',\"1 - 1\",'Yes','5694','1','3','auto','rbf','-1'))"
   ]
  },
  {
   "cell_type": "code",
   "execution_count": 30,
   "metadata": {},
   "outputs": [],
   "source": [
    "cm=confusion_matrix(Ts_lbl, y_pred)\n",
    "m=pd.DataFrame(cm, columns=tsl, index=tsl)"
   ]
  },
  {
   "cell_type": "code",
   "execution_count": 31,
   "metadata": {},
   "outputs": [
    {
     "data": {
      "image/png": "[encoded data removed]",
      "text/plain": [
       "<Figure size 504x504 with 2 Axes>"
      ]
     },
     "metadata": {},
     "output_type": "display_data"
    }
   ],
   "source": [
    "plt.figure(figsize=(7,7))\n",
    "sb.set(font_scale=1.6)\n",
    "sb.heatmap(m, annot=True, cmap=\"YlGnBu\", linewidths=.5, fmt=\"d\", annot_kws={\"size\": 18})\n",
    "plt.xlabel('Predicted Class')\n",
    "plt.ylabel('Actual Class')\n",
    "plt.savefig('Fig/SVMcm2.png', dpi=300, bbox_inches='tight', pad_inches=0.2)"
   ]
  },
  {
   "cell_type": "code",
   "execution_count": 32,
   "metadata": {},
   "outputs": [
    {
     "data": {
      "text/html": [
       "<div>\n",
       "<style scoped>\n",
       "    .dataframe tbody tr th:only-of-type {\n",
       "        vertical-align: middle;\n",
       "    }\n",
       "\n",
       "    .dataframe tbody tr th {\n",
       "        vertical-align: top;\n",
       "    }\n",
       "\n",
       "    .dataframe thead th {\n",
       "        text-align: right;\n",
       "    }\n",
       "</style>\n",
       "<table border=\"1\" class=\"dataframe\">\n",
       "  <thead>\n",
       "    <tr style=\"text-align: right;\">\n",
       "      <th></th>\n",
       "      <th>max df</th>\n",
       "      <th>min df</th>\n",
       "      <th>ngram</th>\n",
       "      <th>idf</th>\n",
       "      <th>no. token</th>\n",
       "      <th>C</th>\n",
       "      <th>degree</th>\n",
       "      <th>gamma</th>\n",
       "      <th>kernel</th>\n",
       "      <th>max iter</th>\n",
       "    </tr>\n",
       "  </thead>\n",
       "  <tbody>\n",
       "    <tr>\n",
       "      <th>0</th>\n",
       "      <td>0.3</td>\n",
       "      <td>1</td>\n",
       "      <td>1 - 1</td>\n",
       "      <td>No</td>\n",
       "      <td>5694</td>\n",
       "      <td>1</td>\n",
       "      <td>3</td>\n",
       "      <td>auto</td>\n",
       "      <td>rbf</td>\n",
       "      <td>-1</td>\n",
       "    </tr>\n",
       "    <tr>\n",
       "      <th>1</th>\n",
       "      <td>0.3</td>\n",
       "      <td>1</td>\n",
       "      <td>1 - 1</td>\n",
       "      <td>Yes</td>\n",
       "      <td>5694</td>\n",
       "      <td>1</td>\n",
       "      <td>3</td>\n",
       "      <td>auto</td>\n",
       "      <td>rbf</td>\n",
       "      <td>-1</td>\n",
       "    </tr>\n",
       "  </tbody>\n",
       "</table>\n",
       "</div>"
      ],
      "text/plain": [
       "  max df min df  ngram  idf no. token  C degree gamma kernel max iter\n",
       "0    0.3      1  1 - 1   No      5694  1      3  auto    rbf       -1\n",
       "1    0.3      1  1 - 1  Yes      5694  1      3  auto    rbf       -1"
      ]
     },
     "execution_count": 32,
     "metadata": {},
     "output_type": "execute_result"
    }
   ],
   "source": [
    "stp=pd.DataFrame(confg, columns=confp)\n",
    "stp.to_csv('CSVOUT/SVMconf1.csv')\n",
    "stp"
   ]
  },
  {
   "cell_type": "code",
   "execution_count": 33,
   "metadata": {},
   "outputs": [
    {
     "data": {
      "image/png": "[encoded data removed]",
      "text/plain": [
       "<Figure size 720x144 with 2 Axes>"
      ]
     },
     "metadata": {},
     "output_type": "display_data"
    }
   ],
   "source": [
    "rsl=pd.DataFrame(prf, columns=evlp)\n",
    "rsl.to_csv('CSVOUT/SVMprf1.csv')\n",
    "plt.figure(figsize=(10,2))\n",
    "sb.set(font_scale=1.6)\n",
    "sb.heatmap(rsl, annot=True, cmap=\"YlGnBu\", linewidths=.5, fmt=\"g\", annot_kws={\"size\": 18})\n",
    "plt.xlabel('Performance')\n",
    "plt.ylabel('Configuration')\n",
    "#plt.title('Confusion Matrix SVM_fig2')\n",
    "plt.savefig('Fig/SVMprf1.png', dpi=300, bbox_inches='tight', pad_inches=0.2)"
   ]
  },
  {
   "cell_type": "code",
   "execution_count": 34,
   "metadata": {},
   "outputs": [],
   "source": [
    "#ruk ruk################"
   ]
  },
  {
   "cell_type": "code",
   "execution_count": 35,
   "metadata": {},
   "outputs": [
    {
     "data": {
      "text/plain": [
       "SVC(C=1.0, cache_size=200, class_weight=None, coef0=0.0,\n",
       "  decision_function_shape='ovr', degree=3, gamma='auto_deprecated',\n",
       "  kernel='rbf', max_iter=-1, probability=False, random_state=None,\n",
       "  shrinking=True, tol=0.001, verbose=False)"
      ]
     },
     "execution_count": 35,
     "metadata": {},
     "output_type": "execute_result"
    }
   ],
   "source": [
    "prf=[]\n",
    "clsfv=svm.SVC()\n",
    "clsfv"
   ]
  },
  {
   "cell_type": "code",
   "execution_count": 36,
   "metadata": {},
   "outputs": [],
   "source": [
    "pipclf = Pipeline([('vct', vc), ('clf',clsfv)])#('idf', idft),"
   ]
  },
  {
   "cell_type": "code",
   "execution_count": 37,
   "metadata": {},
   "outputs": [],
   "source": [
    "mxd=[ 0.3, 0.35, 0.4]\n",
    "mid=[0.005,0.01, 0.05, 0.1,1]\n",
    "ngm=[(1,2),(1,3),(2,5),(1,7),(1,9),(1,12)]"
   ]
  },
  {
   "cell_type": "code",
   "execution_count": 38,
   "metadata": {},
   "outputs": [],
   "source": [
    "#'C','degree','gamma','kernel','max iter'\n",
    "c=[0.05,0.1,0.2,0.3,1,2,7,9]\n",
    "deg=[1,2,3,4]\n",
    "gma=[0.1,0.3,1,2,3,10,'auto_deprecated']\n",
    "krn=['rbf','linear','poly','sigmoid']#'precomputed' not supported for sparse matrix"
   ]
  },
  {
   "cell_type": "code",
   "execution_count": 39,
   "metadata": {},
   "outputs": [],
   "source": [
    "pramg={\"vct__max_df\":mxd, \"vct__min_df\":mid, \"vct__ngram_range\":ngm,\n",
    "       \"vct__stop_words\":['english', stpwd],\n",
    "       \"clf__C\":c, \"clf__degree\":deg, \"clf__gamma\":gma,\"clf__kernel\":krn,\n",
    "       }"
   ]
  },
  {
   "cell_type": "code",
   "execution_count": 40,
   "metadata": {},
   "outputs": [
    {
     "name": "stderr",
     "output_type": "stream",
     "text": [
      "c:\\python\\python37\\lib\\site-packages\\sklearn\\model_selection\\_search.py:841: DeprecationWarning: The default of the `iid` parameter will change from True to False in version 0.22 and will be removed in 0.24. This will change numeric results when test-set sizes are unequal.\n",
      "  DeprecationWarning)\n"
     ]
    }
   ],
   "source": [
    "rCV=RandomizedSearchCV(pipclf, pramg, n_jobs=7, cv=10, scoring='f1_micro',\n",
    "                        return_train_score=True) \n",
    "##f1_score(average='macro')\n",
    "rCV.fit(Trfob, Tr_lbl)\n",
    "clfrb=rCV.best_estimator_"
   ]
  },
  {
   "cell_type": "code",
   "execution_count": 41,
   "metadata": {},
   "outputs": [
    {
     "data": {
      "text/plain": [
       "{'vct': CountVectorizer(analyzer='word', binary=False, decode_error='strict',\n",
       "         dtype=<class 'numpy.int64'>, encoding='utf-8', input='content',\n",
       "         lowercase=True, max_df=0.35, max_features=None, min_df=1,\n",
       "         ngram_range=(1, 2), preprocessor=None, stop_words='english',\n",
       "         strip_accents=None, token_pattern='(?u)\\\\b\\\\w\\\\w+\\\\b',\n",
       "         tokenizer=None, vocabulary=None),\n",
       " 'clf': SVC(C=0.3, cache_size=200, class_weight=None, coef0=0.0,\n",
       "   decision_function_shape='ovr', degree=2, gamma=1, kernel='linear',\n",
       "   max_iter=-1, probability=False, random_state=None, shrinking=True,\n",
       "   tol=0.001, verbose=False)}"
      ]
     },
     "execution_count": 41,
     "metadata": {},
     "output_type": "execute_result"
    }
   ],
   "source": [
    "clfrb.named_steps"
   ]
  },
  {
   "cell_type": "code",
   "execution_count": 42,
   "metadata": {},
   "outputs": [
    {
     "name": "stdout",
     "output_type": "stream",
     "text": [
      "0.7351351351351352 \n",
      " 0.7351351351351352 \n",
      " 0.7316862745098038 \n",
      " 0.6943294494381451 \n",
      " 0.7351351351351352 \n",
      " 0.6791868310596365 \n",
      " 0.7351351351351352\n"
     ]
    },
    {
     "name": "stderr",
     "output_type": "stream",
     "text": [
      "c:\\python\\python37\\lib\\site-packages\\sklearn\\metrics\\classification.py:1143: UndefinedMetricWarning: Precision is ill-defined and being set to 0.0 in labels with no predicted samples.\n",
      "  'precision', 'predicted', average, warn_for)\n",
      "c:\\python\\python37\\lib\\site-packages\\sklearn\\metrics\\classification.py:1143: UndefinedMetricWarning: F-score is ill-defined and being set to 0.0 in labels with no predicted samples.\n",
      "  'precision', 'predicted', average, warn_for)\n"
     ]
    }
   ],
   "source": [
    "clfrb.fit(Trfob, Tr_lbl)\n",
    "y_pred=clfrb.predict(Tsfob) \n",
    "a1=precision_score(Ts_lbl, y_pred, average='micro')\n",
    "a2=recall_score(Ts_lbl, y_pred, average='micro')\n",
    "a3=precision_score(Ts_lbl, y_pred, average='macro')\n",
    "a4=recall_score(Ts_lbl, y_pred, average='macro') \n",
    "a5=f1_score(Ts_lbl, y_pred, average='micro')\n",
    "a6=f1_score(Ts_lbl, y_pred, average='macro')\n",
    "a7=accuracy_score(Ts_lbl, y_pred)\n",
    "print(a1,'\\n',a2,'\\n',a3,'\\n',a4,'\\n',a5,'\\n',a6,'\\n',a7)\n",
    "prf.append((round(a1,4),round(a2,4),round(a3,4),round(a4,4),round(a5,4),round(a6,4),\n",
    "              round(a7,4)))"
   ]
  },
  {
   "cell_type": "code",
   "execution_count": 44,
   "metadata": {},
   "outputs": [],
   "source": [
    "#ruk ruk#############"
   ]
  },
  {
   "cell_type": "code",
   "execution_count": 45,
   "metadata": {},
   "outputs": [
    {
     "name": "stderr",
     "output_type": "stream",
     "text": [
      "c:\\python\\python37\\lib\\site-packages\\sklearn\\model_selection\\_search.py:841: DeprecationWarning: The default of the `iid` parameter will change from True to False in version 0.22 and will be removed in 0.24. This will change numeric results when test-set sizes are unequal.\n",
      "  DeprecationWarning)\n"
     ]
    }
   ],
   "source": [
    "rCV=RandomizedSearchCV(pipclf, pramg, n_jobs=7, cv=10, scoring='f1_micro',\n",
    "                        return_train_score=True) \n",
    "##f1_score(average='macro')\n",
    "rCV.fit(Trfob, Tr_lbl)\n",
    "clfrb=rCV.best_estimator_"
   ]
  },
  {
   "cell_type": "code",
   "execution_count": 46,
   "metadata": {},
   "outputs": [
    {
     "data": {
      "text/plain": [
       "{'vct': CountVectorizer(analyzer='word', binary=False, decode_error='strict',\n",
       "         dtype=<class 'numpy.int64'>, encoding='utf-8', input='content',\n",
       "         lowercase=True, max_df=0.4, max_features=None, min_df=0.005,\n",
       "         ngram_range=(1, 2), preprocessor=None,\n",
       "         stop_words=frozenset({'an', '02', 'latterly', 'though', 'whether', 'el', '86', 'pa', 'across', 'anyone', 'over', 'vt', 'dn', '76', 'ab', 'we', 'whom', 'take', 'formerly', '54', 'five', 'since', '40', 'above', '72', 'often', 'a', 'being', 'only', 'rd', 'us', 'put', '81', 'become', 'x1', 'your', '43',...without', 'among', 'on', 'ag', '36', 'throughout', 'amongst', 'onto', 'part', 'find', 'mm', 'this'}),\n",
       "         strip_accents=None, token_pattern='(?u)\\\\b\\\\w\\\\w+\\\\b',\n",
       "         tokenizer=None, vocabulary=None),\n",
       " 'clf': SVC(C=9, cache_size=200, class_weight=None, coef0=0.0,\n",
       "   decision_function_shape='ovr', degree=2, gamma=10, kernel='linear',\n",
       "   max_iter=-1, probability=False, random_state=None, shrinking=True,\n",
       "   tol=0.001, verbose=False)}"
      ]
     },
     "execution_count": 46,
     "metadata": {},
     "output_type": "execute_result"
    }
   ],
   "source": [
    "clfrb.named_steps"
   ]
  },
  {
   "cell_type": "code",
   "execution_count": 47,
   "metadata": {},
   "outputs": [
    {
     "name": "stdout",
     "output_type": "stream",
     "text": [
      "0.745945945945946 \n",
      " 0.745945945945946 \n",
      " 0.7194425675675674 \n",
      " 0.70828807209242 \n",
      " 0.7459459459459459 \n",
      " 0.6806028578467603 \n",
      " 0.745945945945946\n"
     ]
    },
    {
     "name": "stderr",
     "output_type": "stream",
     "text": [
      "c:\\python\\python37\\lib\\site-packages\\sklearn\\metrics\\classification.py:1143: UndefinedMetricWarning: Precision is ill-defined and being set to 0.0 in labels with no predicted samples.\n",
      "  'precision', 'predicted', average, warn_for)\n",
      "c:\\python\\python37\\lib\\site-packages\\sklearn\\metrics\\classification.py:1143: UndefinedMetricWarning: F-score is ill-defined and being set to 0.0 in labels with no predicted samples.\n",
      "  'precision', 'predicted', average, warn_for)\n"
     ]
    }
   ],
   "source": [
    "clfrb.fit(Trfob, Tr_lbl)\n",
    "y_pred=clfrb.predict(Tsfob) \n",
    "a1=precision_score(Ts_lbl, y_pred, average='micro')\n",
    "a2=recall_score(Ts_lbl, y_pred, average='micro')\n",
    "a3=precision_score(Ts_lbl, y_pred, average='macro')\n",
    "a4=recall_score(Ts_lbl, y_pred, average='macro') \n",
    "a5=f1_score(Ts_lbl, y_pred, average='micro')\n",
    "a6=f1_score(Ts_lbl, y_pred, average='macro')\n",
    "a7=accuracy_score(Ts_lbl, y_pred)\n",
    "print(a1,'\\n',a2,'\\n',a3,'\\n',a4,'\\n',a5,'\\n',a6,'\\n',a7)\n",
    "prf.append((round(a1,4),round(a2,4),round(a3,4),round(a4,4),round(a5,4),round(a6,4),\n",
    "              round(a7,4)))"
   ]
  },
  {
   "cell_type": "code",
   "execution_count": 48,
   "metadata": {},
   "outputs": [
    {
     "name": "stderr",
     "output_type": "stream",
     "text": [
      "c:\\python\\python37\\lib\\site-packages\\sklearn\\model_selection\\_search.py:841: DeprecationWarning: The default of the `iid` parameter will change from True to False in version 0.22 and will be removed in 0.24. This will change numeric results when test-set sizes are unequal.\n",
      "  DeprecationWarning)\n"
     ]
    }
   ],
   "source": [
    "rCV=RandomizedSearchCV(pipclf, pramg, n_jobs=7, cv=10, scoring='f1_micro',\n",
    "                        return_train_score=True) \n",
    "##f1_score(average='macro')\n",
    "rCV.fit(Trfob, Tr_lbl)\n",
    "clfrb=rCV.best_estimator_"
   ]
  },
  {
   "cell_type": "code",
   "execution_count": 49,
   "metadata": {},
   "outputs": [
    {
     "data": {
      "text/plain": [
       "{'vct': CountVectorizer(analyzer='word', binary=False, decode_error='strict',\n",
       "         dtype=<class 'numpy.int64'>, encoding='utf-8', input='content',\n",
       "         lowercase=True, max_df=0.35, max_features=None, min_df=0.01,\n",
       "         ngram_range=(1, 9), preprocessor=None, stop_words='english',\n",
       "         strip_accents=None, token_pattern='(?u)\\\\b\\\\w\\\\w+\\\\b',\n",
       "         tokenizer=None, vocabulary=None),\n",
       " 'clf': SVC(C=7, cache_size=200, class_weight=None, coef0=0.0,\n",
       "   decision_function_shape='ovr', degree=3, gamma=0.1, kernel='linear',\n",
       "   max_iter=-1, probability=False, random_state=None, shrinking=True,\n",
       "   tol=0.001, verbose=False)}"
      ]
     },
     "execution_count": 49,
     "metadata": {},
     "output_type": "execute_result"
    }
   ],
   "source": [
    "clfrb.named_steps"
   ]
  },
  {
   "cell_type": "code",
   "execution_count": 50,
   "metadata": {},
   "outputs": [
    {
     "name": "stdout",
     "output_type": "stream",
     "text": [
      "0.7351351351351352 \n",
      " 0.7351351351351352 \n",
      " 0.7257459802102659 \n",
      " 0.6972920958790525 \n",
      " 0.7351351351351352 \n",
      " 0.680969641537573 \n",
      " 0.7351351351351352\n"
     ]
    },
    {
     "name": "stderr",
     "output_type": "stream",
     "text": [
      "c:\\python\\python37\\lib\\site-packages\\sklearn\\metrics\\classification.py:1143: UndefinedMetricWarning: Precision is ill-defined and being set to 0.0 in labels with no predicted samples.\n",
      "  'precision', 'predicted', average, warn_for)\n",
      "c:\\python\\python37\\lib\\site-packages\\sklearn\\metrics\\classification.py:1143: UndefinedMetricWarning: F-score is ill-defined and being set to 0.0 in labels with no predicted samples.\n",
      "  'precision', 'predicted', average, warn_for)\n"
     ]
    }
   ],
   "source": [
    "clfrb.fit(Trfob, Tr_lbl)\n",
    "y_pred=clfrb.predict(Tsfob) \n",
    "a1=precision_score(Ts_lbl, y_pred, average='micro')\n",
    "a2=recall_score(Ts_lbl, y_pred, average='micro')\n",
    "a3=precision_score(Ts_lbl, y_pred, average='macro')\n",
    "a4=recall_score(Ts_lbl, y_pred, average='macro') \n",
    "a5=f1_score(Ts_lbl, y_pred, average='micro')\n",
    "a6=f1_score(Ts_lbl, y_pred, average='macro')\n",
    "a7=accuracy_score(Ts_lbl, y_pred)\n",
    "print(a1,'\\n',a2,'\\n',a3,'\\n',a4,'\\n',a5,'\\n',a6,'\\n',a7)\n",
    "prf.append((round(a1,4),round(a2,4),round(a3,4),round(a4,4),round(a5,4),round(a6,4),\n",
    "              round(a7,4)))"
   ]
  },
  {
   "cell_type": "code",
   "execution_count": 51,
   "metadata": {},
   "outputs": [],
   "source": [
    "############################"
   ]
  },
  {
   "cell_type": "code",
   "execution_count": 52,
   "metadata": {},
   "outputs": [],
   "source": [
    "c=[0.1,0.2,0.3,1,2,7,9,10]\n",
    "deg=[1,2,3,4]\n",
    "gma=[1,2,3,10,15,25,30,'auto_deprecated']\n",
    "krn=['rbf','linear','poly','sigmoid']#'precomputed' not supported for sparse matrix"
   ]
  },
  {
   "cell_type": "code",
   "execution_count": 53,
   "metadata": {},
   "outputs": [],
   "source": [
    "pramg={\"vct__max_df\":mxd, \"vct__min_df\":mid, \"vct__ngram_range\":ngm,\n",
    "       \"vct__stop_words\":['english', stpwd],\n",
    "       \"clf__C\":c, \"clf__degree\":deg, \"clf__gamma\":gma,\"clf__kernel\":krn,\n",
    "       \"clf__max_iter\":[2000],\"clf__decision_function_shape\":['ovr', 'ovo']\n",
    "       }"
   ]
  },
  {
   "cell_type": "code",
   "execution_count": 54,
   "metadata": {},
   "outputs": [
    {
     "name": "stderr",
     "output_type": "stream",
     "text": [
      "c:\\python\\python37\\lib\\site-packages\\sklearn\\model_selection\\_search.py:841: DeprecationWarning: The default of the `iid` parameter will change from True to False in version 0.22 and will be removed in 0.24. This will change numeric results when test-set sizes are unequal.\n",
      "  DeprecationWarning)\n"
     ]
    }
   ],
   "source": [
    "rCV=RandomizedSearchCV(pipclf, pramg, n_jobs=7, cv=10, scoring='f1_micro',\n",
    "                        return_train_score=True) \n",
    "##f1_score(average='macro')\n",
    "rCV.fit(Trfob, Tr_lbl)\n",
    "clfrb=rCV.best_estimator_"
   ]
  },
  {
   "cell_type": "code",
   "execution_count": 55,
   "metadata": {},
   "outputs": [
    {
     "data": {
      "text/plain": [
       "{'vct': CountVectorizer(analyzer='word', binary=False, decode_error='strict',\n",
       "         dtype=<class 'numpy.int64'>, encoding='utf-8', input='content',\n",
       "         lowercase=True, max_df=0.4, max_features=None, min_df=0.05,\n",
       "         ngram_range=(1, 9), preprocessor=None,\n",
       "         stop_words=frozenset({'an', '02', 'latterly', 'though', 'whether', 'el', '86', 'pa', 'across', 'anyone', 'over', 'vt', 'dn', '76', 'ab', 'we', 'whom', 'take', 'formerly', '54', 'five', 'since', '40', 'above', '72', 'often', 'a', 'being', 'only', 'rd', 'us', 'put', '81', 'become', 'x1', 'your', '43',...without', 'among', 'on', 'ag', '36', 'throughout', 'amongst', 'onto', 'part', 'find', 'mm', 'this'}),\n",
       "         strip_accents=None, token_pattern='(?u)\\\\b\\\\w\\\\w+\\\\b',\n",
       "         tokenizer=None, vocabulary=None),\n",
       " 'clf': SVC(C=2, cache_size=200, class_weight=None, coef0=0.0,\n",
       "   decision_function_shape='ovo', degree=1, gamma=3, kernel='poly',\n",
       "   max_iter=2000, probability=False, random_state=None, shrinking=True,\n",
       "   tol=0.001, verbose=False)}"
      ]
     },
     "execution_count": 55,
     "metadata": {},
     "output_type": "execute_result"
    }
   ],
   "source": [
    "clfrb.named_steps"
   ]
  },
  {
   "cell_type": "code",
   "execution_count": 56,
   "metadata": {},
   "outputs": [
    {
     "name": "stdout",
     "output_type": "stream",
     "text": [
      "0.6918918918918919 \n",
      " 0.6918918918918919 \n",
      " 0.5870728576978578 \n",
      " 0.6645122621209578 \n",
      " 0.6918918918918919 \n",
      " 0.604984867858694 \n",
      " 0.6918918918918919\n"
     ]
    },
    {
     "name": "stderr",
     "output_type": "stream",
     "text": [
      "c:\\python\\python37\\lib\\site-packages\\sklearn\\metrics\\classification.py:1143: UndefinedMetricWarning: Precision is ill-defined and being set to 0.0 in labels with no predicted samples.\n",
      "  'precision', 'predicted', average, warn_for)\n",
      "c:\\python\\python37\\lib\\site-packages\\sklearn\\metrics\\classification.py:1143: UndefinedMetricWarning: F-score is ill-defined and being set to 0.0 in labels with no predicted samples.\n",
      "  'precision', 'predicted', average, warn_for)\n"
     ]
    }
   ],
   "source": [
    "clfrb.fit(Trfob, Tr_lbl)\n",
    "y_pred=clfrb.predict(Tsfob) \n",
    "a1=precision_score(Ts_lbl, y_pred, average='micro')\n",
    "a2=recall_score(Ts_lbl, y_pred, average='micro')\n",
    "a3=precision_score(Ts_lbl, y_pred, average='macro')\n",
    "a4=recall_score(Ts_lbl, y_pred, average='macro') \n",
    "a5=f1_score(Ts_lbl, y_pred, average='micro')\n",
    "a6=f1_score(Ts_lbl, y_pred, average='macro')\n",
    "a7=accuracy_score(Ts_lbl, y_pred)\n",
    "print(a1,'\\n',a2,'\\n',a3,'\\n',a4,'\\n',a5,'\\n',a6,'\\n',a7)\n",
    "prf.append((round(a1,4),round(a2,4),round(a3,4),round(a4,4),round(a5,4),round(a6,4),\n",
    "              round(a7,4)))"
   ]
  },
  {
   "cell_type": "code",
   "execution_count": 57,
   "metadata": {},
   "outputs": [
    {
     "name": "stderr",
     "output_type": "stream",
     "text": [
      "c:\\python\\python37\\lib\\site-packages\\sklearn\\model_selection\\_search.py:841: DeprecationWarning: The default of the `iid` parameter will change from True to False in version 0.22 and will be removed in 0.24. This will change numeric results when test-set sizes are unequal.\n",
      "  DeprecationWarning)\n"
     ]
    }
   ],
   "source": [
    "rCV=RandomizedSearchCV(pipclf, pramg, n_jobs=7, cv=10, scoring='f1_micro',\n",
    "                        return_train_score=True) \n",
    "##f1_score(average='macro')\n",
    "rCV.fit(Trfob, Tr_lbl)\n",
    "clfrb=rCV.best_estimator_"
   ]
  },
  {
   "cell_type": "code",
   "execution_count": 58,
   "metadata": {},
   "outputs": [
    {
     "data": {
      "text/plain": [
       "{'vct': CountVectorizer(analyzer='word', binary=False, decode_error='strict',\n",
       "         dtype=<class 'numpy.int64'>, encoding='utf-8', input='content',\n",
       "         lowercase=True, max_df=0.3, max_features=None, min_df=0.005,\n",
       "         ngram_range=(1, 12), preprocessor=None,\n",
       "         stop_words=frozenset({'an', '02', 'latterly', 'though', 'whether', 'el', '86', 'pa', 'across', 'anyone', 'over', 'vt', 'dn', '76', 'ab', 'we', 'whom', 'take', 'formerly', '54', 'five', 'since', '40', 'above', '72', 'often', 'a', 'being', 'only', 'rd', 'us', 'put', '81', 'become', 'x1', 'your', '43',...without', 'among', 'on', 'ag', '36', 'throughout', 'amongst', 'onto', 'part', 'find', 'mm', 'this'}),\n",
       "         strip_accents=None, token_pattern='(?u)\\\\b\\\\w\\\\w+\\\\b',\n",
       "         tokenizer=None, vocabulary=None),\n",
       " 'clf': SVC(C=0.3, cache_size=200, class_weight=None, coef0=0.0,\n",
       "   decision_function_shape='ovr', degree=1, gamma=2, kernel='poly',\n",
       "   max_iter=2000, probability=False, random_state=None, shrinking=True,\n",
       "   tol=0.001, verbose=False)}"
      ]
     },
     "execution_count": 58,
     "metadata": {},
     "output_type": "execute_result"
    }
   ],
   "source": [
    "clfrb.named_steps"
   ]
  },
  {
   "cell_type": "code",
   "execution_count": 59,
   "metadata": {},
   "outputs": [
    {
     "name": "stdout",
     "output_type": "stream",
     "text": [
      "0.7351351351351352 \n",
      " 0.7351351351351352 \n",
      " 0.7168446300963763 \n",
      " 0.6989372192633062 \n",
      " 0.7351351351351352 \n",
      " 0.6745215176979883 \n",
      " 0.7351351351351352\n"
     ]
    },
    {
     "name": "stderr",
     "output_type": "stream",
     "text": [
      "c:\\python\\python37\\lib\\site-packages\\sklearn\\metrics\\classification.py:1143: UndefinedMetricWarning: Precision is ill-defined and being set to 0.0 in labels with no predicted samples.\n",
      "  'precision', 'predicted', average, warn_for)\n",
      "c:\\python\\python37\\lib\\site-packages\\sklearn\\metrics\\classification.py:1143: UndefinedMetricWarning: F-score is ill-defined and being set to 0.0 in labels with no predicted samples.\n",
      "  'precision', 'predicted', average, warn_for)\n"
     ]
    }
   ],
   "source": [
    "clfrb.fit(Trfob, Tr_lbl)\n",
    "y_pred=clfrb.predict(Tsfob) \n",
    "a1=precision_score(Ts_lbl, y_pred, average='micro')\n",
    "a2=recall_score(Ts_lbl, y_pred, average='micro')\n",
    "a3=precision_score(Ts_lbl, y_pred, average='macro')\n",
    "a4=recall_score(Ts_lbl, y_pred, average='macro') \n",
    "a5=f1_score(Ts_lbl, y_pred, average='micro')\n",
    "a6=f1_score(Ts_lbl, y_pred, average='macro')\n",
    "a7=accuracy_score(Ts_lbl, y_pred)\n",
    "print(a1,'\\n',a2,'\\n',a3,'\\n',a4,'\\n',a5,'\\n',a6,'\\n',a7)\n",
    "prf.append((round(a1,4),round(a2,4),round(a3,4),round(a4,4),round(a5,4),round(a6,4),\n",
    "              round(a7,4)))"
   ]
  },
  {
   "cell_type": "code",
   "execution_count": null,
   "metadata": {},
   "outputs": [],
   "source": [
    "#ruk ruk ruk ell condition"
   ]
  },
  {
   "cell_type": "code",
   "execution_count": 60,
   "metadata": {},
   "outputs": [
    {
     "name": "stderr",
     "output_type": "stream",
     "text": [
      "c:\\python\\python37\\lib\\site-packages\\sklearn\\model_selection\\_search.py:841: DeprecationWarning: The default of the `iid` parameter will change from True to False in version 0.22 and will be removed in 0.24. This will change numeric results when test-set sizes are unequal.\n",
      "  DeprecationWarning)\n"
     ]
    }
   ],
   "source": [
    "rCV=RandomizedSearchCV(pipclf, pramg, n_jobs=7, cv=10, scoring='f1_micro',\n",
    "                        return_train_score=True) \n",
    "##f1_score(average='macro')\n",
    "rCV.fit(Trfob, Tr_lbl)\n",
    "clfrb=rCV.best_estimator_"
   ]
  },
  {
   "cell_type": "code",
   "execution_count": 61,
   "metadata": {},
   "outputs": [
    {
     "data": {
      "text/plain": [
       "{'vct': CountVectorizer(analyzer='word', binary=False, decode_error='strict',\n",
       "         dtype=<class 'numpy.int64'>, encoding='utf-8', input='content',\n",
       "         lowercase=True, max_df=0.4, max_features=None, min_df=0.01,\n",
       "         ngram_range=(1, 7), preprocessor=None, stop_words='english',\n",
       "         strip_accents=None, token_pattern='(?u)\\\\b\\\\w\\\\w+\\\\b',\n",
       "         tokenizer=None, vocabulary=None),\n",
       " 'clf': SVC(C=0.3, cache_size=200, class_weight=None, coef0=0.0,\n",
       "   decision_function_shape='ovo', degree=3, gamma=10, kernel='linear',\n",
       "   max_iter=2000, probability=False, random_state=None, shrinking=True,\n",
       "   tol=0.001, verbose=False)}"
      ]
     },
     "execution_count": 61,
     "metadata": {},
     "output_type": "execute_result"
    }
   ],
   "source": [
    "clfrb.named_steps"
   ]
  },
  {
   "cell_type": "code",
   "execution_count": 62,
   "metadata": {},
   "outputs": [
    {
     "name": "stdout",
     "output_type": "stream",
     "text": [
      "0.7405405405405405 \n",
      " 0.7405405405405405 \n",
      " 0.7250308689612596 \n",
      " 0.7032850453502628 \n",
      " 0.7405405405405405 \n",
      " 0.6863193277310925 \n",
      " 0.7405405405405405\n"
     ]
    },
    {
     "name": "stderr",
     "output_type": "stream",
     "text": [
      "c:\\python\\python37\\lib\\site-packages\\sklearn\\metrics\\classification.py:1143: UndefinedMetricWarning: Precision is ill-defined and being set to 0.0 in labels with no predicted samples.\n",
      "  'precision', 'predicted', average, warn_for)\n",
      "c:\\python\\python37\\lib\\site-packages\\sklearn\\metrics\\classification.py:1143: UndefinedMetricWarning: F-score is ill-defined and being set to 0.0 in labels with no predicted samples.\n",
      "  'precision', 'predicted', average, warn_for)\n"
     ]
    }
   ],
   "source": [
    "clfrb.fit(Trfob, Tr_lbl)\n",
    "y_pred=clfrb.predict(Tsfob) \n",
    "a1=precision_score(Ts_lbl, y_pred, average='micro')\n",
    "a2=recall_score(Ts_lbl, y_pred, average='micro')\n",
    "a3=precision_score(Ts_lbl, y_pred, average='macro')\n",
    "a4=recall_score(Ts_lbl, y_pred, average='macro') \n",
    "a5=f1_score(Ts_lbl, y_pred, average='micro')\n",
    "a6=f1_score(Ts_lbl, y_pred, average='macro')\n",
    "a7=accuracy_score(Ts_lbl, y_pred)\n",
    "print(a1,'\\n',a2,'\\n',a3,'\\n',a4,'\\n',a5,'\\n',a6,'\\n',a7)\n",
    "prf.append((round(a1,4),round(a2,4),round(a3,4),round(a4,4),round(a5,4),round(a6,4),\n",
    "              round(a7,4)))"
   ]
  },
  {
   "cell_type": "code",
   "execution_count": 63,
   "metadata": {},
   "outputs": [],
   "source": [
    "#ruk ruk##############ruk ruk"
   ]
  },
  {
   "cell_type": "code",
   "execution_count": 64,
   "metadata": {},
   "outputs": [
    {
     "data": {
      "image/png": "[encoded data removed]",
      "text/plain": [
       "<Figure size 720x216 with 2 Axes>"
      ]
     },
     "metadata": {},
     "output_type": "display_data"
    }
   ],
   "source": [
    "rsl=pd.DataFrame(prf, columns=evlp)\n",
    "rsl.to_csv('CSVOUT/SVMprf2.csv')\n",
    "plt.figure(figsize=(10,3))\n",
    "sb.set(font_scale=1.6)\n",
    "sb.heatmap(rsl, annot=True, cmap=\"YlGnBu\", linewidths=.5, fmt=\"g\", annot_kws={\"size\": 18})\n",
    "plt.xlabel('Performance')\n",
    "plt.ylabel('Configuration')\n",
    "#plt.title('Confusion Matrix SVM_fig2')\n",
    "plt.savefig('Fig/SVMprf2.png', dpi=300, bbox_inches='tight', pad_inches=0.2)"
   ]
  },
  {
   "cell_type": "code",
   "execution_count": 65,
   "metadata": {},
   "outputs": [],
   "source": [
    "#ruk ruk ################ ruk ruk##########################################"
   ]
  },
  {
   "cell_type": "code",
   "execution_count": 66,
   "metadata": {},
   "outputs": [],
   "source": [
    "prf=[]\n",
    "pipclf = Pipeline([('vct', vc), ('idf', idft), ('clf',clsfv)])#"
   ]
  },
  {
   "cell_type": "code",
   "execution_count": 67,
   "metadata": {},
   "outputs": [],
   "source": [
    "c=[0.1,0.2,0.3,1,2,7,9,10]\n",
    "deg=[1,2,3,4]\n",
    "gma=[1,2,3,10,15,25,30,'auto_deprecated']\n",
    "krn=['rbf','linear','poly','sigmoid']"
   ]
  },
  {
   "cell_type": "code",
   "execution_count": 68,
   "metadata": {},
   "outputs": [],
   "source": [
    "pramg={\"vct__max_df\":mxd, \"vct__min_df\":mid, \"vct__ngram_range\":ngm,\n",
    "       \"vct__stop_words\":['english', stpwd],\n",
    "       \"clf__C\":c, \"clf__degree\":deg, \"clf__gamma\":gma,\"clf__kernel\":krn,\n",
    "       \"clf__decision_function_shape\":['ovr', 'ovo']\n",
    "       }#\"clf__max_iter\":[2000],"
   ]
  },
  {
   "cell_type": "code",
   "execution_count": 69,
   "metadata": {},
   "outputs": [
    {
     "name": "stderr",
     "output_type": "stream",
     "text": [
      "c:\\python\\python37\\lib\\site-packages\\sklearn\\model_selection\\_search.py:841: DeprecationWarning: The default of the `iid` parameter will change from True to False in version 0.22 and will be removed in 0.24. This will change numeric results when test-set sizes are unequal.\n",
      "  DeprecationWarning)\n"
     ]
    }
   ],
   "source": [
    "rCV=RandomizedSearchCV(pipclf, pramg, n_jobs=7, cv=10, scoring='f1_micro',\n",
    "                        return_train_score=True) \n",
    "##f1_score(average='macro')\n",
    "rCV.fit(Trfob, Tr_lbl)\n",
    "clfrb=rCV.best_estimator_"
   ]
  },
  {
   "cell_type": "code",
   "execution_count": 70,
   "metadata": {},
   "outputs": [
    {
     "data": {
      "text/plain": [
       "{'vct': CountVectorizer(analyzer='word', binary=False, decode_error='strict',\n",
       "         dtype=<class 'numpy.int64'>, encoding='utf-8', input='content',\n",
       "         lowercase=True, max_df=0.35, max_features=None, min_df=0.01,\n",
       "         ngram_range=(1, 3), preprocessor=None,\n",
       "         stop_words=frozenset({'an', '02', 'latterly', 'though', 'whether', 'el', '86', 'pa', 'across', 'anyone', 'over', 'vt', 'dn', '76', 'ab', 'we', 'whom', 'take', 'formerly', '54', 'five', 'since', '40', 'above', '72', 'often', 'a', 'being', 'only', 'rd', 'us', 'put', '81', 'become', 'x1', 'your', '43',...without', 'among', 'on', 'ag', '36', 'throughout', 'amongst', 'onto', 'part', 'find', 'mm', 'this'}),\n",
       "         strip_accents=None, token_pattern='(?u)\\\\b\\\\w\\\\w+\\\\b',\n",
       "         tokenizer=None, vocabulary=None),\n",
       " 'idf': TfidfTransformer(norm='l2', smooth_idf=True, sublinear_tf=False, use_idf=True),\n",
       " 'clf': SVC(C=7, cache_size=200, class_weight=None, coef0=0.0,\n",
       "   decision_function_shape='ovr', degree=1, gamma=25, kernel='linear',\n",
       "   max_iter=-1, probability=False, random_state=None, shrinking=True,\n",
       "   tol=0.001, verbose=False)}"
      ]
     },
     "execution_count": 70,
     "metadata": {},
     "output_type": "execute_result"
    }
   ],
   "source": [
    "clfrb.named_steps"
   ]
  },
  {
   "cell_type": "code",
   "execution_count": 71,
   "metadata": {},
   "outputs": [
    {
     "name": "stdout",
     "output_type": "stream",
     "text": [
      "0.7405405405405405 \n",
      " 0.7405405405405405 \n",
      " 0.7401300163800164 \n",
      " 0.7193571479441045 \n",
      " 0.7405405405405405 \n",
      " 0.714041532756047 \n",
      " 0.7405405405405405\n"
     ]
    },
    {
     "name": "stderr",
     "output_type": "stream",
     "text": [
      "c:\\python\\python37\\lib\\site-packages\\sklearn\\metrics\\classification.py:1143: UndefinedMetricWarning: Precision is ill-defined and being set to 0.0 in labels with no predicted samples.\n",
      "  'precision', 'predicted', average, warn_for)\n",
      "c:\\python\\python37\\lib\\site-packages\\sklearn\\metrics\\classification.py:1143: UndefinedMetricWarning: F-score is ill-defined and being set to 0.0 in labels with no predicted samples.\n",
      "  'precision', 'predicted', average, warn_for)\n"
     ]
    }
   ],
   "source": [
    "clfrb.fit(Trfob, Tr_lbl)\n",
    "y_pred=clfrb.predict(Tsfob) \n",
    "a1=precision_score(Ts_lbl, y_pred, average='micro')\n",
    "a2=recall_score(Ts_lbl, y_pred, average='micro')\n",
    "a3=precision_score(Ts_lbl, y_pred, average='macro')\n",
    "a4=recall_score(Ts_lbl, y_pred, average='macro') \n",
    "a5=f1_score(Ts_lbl, y_pred, average='micro')\n",
    "a6=f1_score(Ts_lbl, y_pred, average='macro')\n",
    "a7=accuracy_score(Ts_lbl, y_pred)\n",
    "print(a1,'\\n',a2,'\\n',a3,'\\n',a4,'\\n',a5,'\\n',a6,'\\n',a7)\n",
    "prf.append((round(a1,4),round(a2,4),round(a3,4),round(a4,4),round(a5,4),round(a6,4),\n",
    "              round(a7,4)))"
   ]
  },
  {
   "cell_type": "code",
   "execution_count": 72,
   "metadata": {},
   "outputs": [
    {
     "name": "stderr",
     "output_type": "stream",
     "text": [
      "c:\\python\\python37\\lib\\site-packages\\sklearn\\model_selection\\_search.py:841: DeprecationWarning: The default of the `iid` parameter will change from True to False in version 0.22 and will be removed in 0.24. This will change numeric results when test-set sizes are unequal.\n",
      "  DeprecationWarning)\n"
     ]
    }
   ],
   "source": [
    "rCV=RandomizedSearchCV(pipclf, pramg, n_jobs=7, cv=10, scoring='f1_micro',\n",
    "                        return_train_score=True) \n",
    "##f1_score(average='macro')\n",
    "rCV.fit(Trfob, Tr_lbl)\n",
    "clfrb=rCV.best_estimator_"
   ]
  },
  {
   "cell_type": "code",
   "execution_count": 73,
   "metadata": {},
   "outputs": [
    {
     "data": {
      "text/plain": [
       "{'vct': CountVectorizer(analyzer='word', binary=False, decode_error='strict',\n",
       "         dtype=<class 'numpy.int64'>, encoding='utf-8', input='content',\n",
       "         lowercase=True, max_df=0.35, max_features=None, min_df=0.005,\n",
       "         ngram_range=(1, 9), preprocessor=None,\n",
       "         stop_words=frozenset({'an', '02', 'latterly', 'though', 'whether', 'el', '86', 'pa', 'across', 'anyone', 'over', 'vt', 'dn', '76', 'ab', 'we', 'whom', 'take', 'formerly', '54', 'five', 'since', '40', 'above', '72', 'often', 'a', 'being', 'only', 'rd', 'us', 'put', '81', 'become', 'x1', 'your', '43',...without', 'among', 'on', 'ag', '36', 'throughout', 'amongst', 'onto', 'part', 'find', 'mm', 'this'}),\n",
       "         strip_accents=None, token_pattern='(?u)\\\\b\\\\w\\\\w+\\\\b',\n",
       "         tokenizer=None, vocabulary=None),\n",
       " 'idf': TfidfTransformer(norm='l2', smooth_idf=True, sublinear_tf=False, use_idf=True),\n",
       " 'clf': SVC(C=9, cache_size=200, class_weight=None, coef0=0.0,\n",
       "   decision_function_shape='ovo', degree=2, gamma='auto_deprecated',\n",
       "   kernel='linear', max_iter=-1, probability=False, random_state=None,\n",
       "   shrinking=True, tol=0.001, verbose=False)}"
      ]
     },
     "execution_count": 73,
     "metadata": {},
     "output_type": "execute_result"
    }
   ],
   "source": [
    "clfrb.named_steps"
   ]
  },
  {
   "cell_type": "code",
   "execution_count": 74,
   "metadata": {},
   "outputs": [
    {
     "name": "stdout",
     "output_type": "stream",
     "text": [
      "0.7405405405405405 \n",
      " 0.7405405405405405 \n",
      " 0.7742312007338845 \n",
      " 0.6785203173246652 \n",
      " 0.7405405405405405 \n",
      " 0.699014675052411 \n",
      " 0.7405405405405405\n"
     ]
    },
    {
     "name": "stderr",
     "output_type": "stream",
     "text": [
      "c:\\python\\python37\\lib\\site-packages\\sklearn\\metrics\\classification.py:1143: UndefinedMetricWarning: Precision is ill-defined and being set to 0.0 in labels with no predicted samples.\n",
      "  'precision', 'predicted', average, warn_for)\n",
      "c:\\python\\python37\\lib\\site-packages\\sklearn\\metrics\\classification.py:1143: UndefinedMetricWarning: F-score is ill-defined and being set to 0.0 in labels with no predicted samples.\n",
      "  'precision', 'predicted', average, warn_for)\n"
     ]
    }
   ],
   "source": [
    "clfrb.fit(Trfob, Tr_lbl)\n",
    "y_pred=clfrb.predict(Tsfob) \n",
    "a1=precision_score(Ts_lbl, y_pred, average='micro')\n",
    "a2=recall_score(Ts_lbl, y_pred, average='micro')\n",
    "a3=precision_score(Ts_lbl, y_pred, average='macro')\n",
    "a4=recall_score(Ts_lbl, y_pred, average='macro') \n",
    "a5=f1_score(Ts_lbl, y_pred, average='micro')\n",
    "a6=f1_score(Ts_lbl, y_pred, average='macro')\n",
    "a7=accuracy_score(Ts_lbl, y_pred)\n",
    "print(a1,'\\n',a2,'\\n',a3,'\\n',a4,'\\n',a5,'\\n',a6,'\\n',a7)\n",
    "prf.append((round(a1,4),round(a2,4),round(a3,4),round(a4,4),round(a5,4),round(a6,4),\n",
    "              round(a7,4)))"
   ]
  },
  {
   "cell_type": "code",
   "execution_count": 75,
   "metadata": {},
   "outputs": [
    {
     "name": "stderr",
     "output_type": "stream",
     "text": [
      "c:\\python\\python37\\lib\\site-packages\\sklearn\\model_selection\\_search.py:841: DeprecationWarning: The default of the `iid` parameter will change from True to False in version 0.22 and will be removed in 0.24. This will change numeric results when test-set sizes are unequal.\n",
      "  DeprecationWarning)\n"
     ]
    },
    {
     "data": {
      "text/plain": [
       "{'vct': CountVectorizer(analyzer='word', binary=False, decode_error='strict',\n",
       "         dtype=<class 'numpy.int64'>, encoding='utf-8', input='content',\n",
       "         lowercase=True, max_df=0.4, max_features=None, min_df=0.01,\n",
       "         ngram_range=(1, 3), preprocessor=None, stop_words='english',\n",
       "         strip_accents=None, token_pattern='(?u)\\\\b\\\\w\\\\w+\\\\b',\n",
       "         tokenizer=None, vocabulary=None),\n",
       " 'idf': TfidfTransformer(norm='l2', smooth_idf=True, sublinear_tf=False, use_idf=True),\n",
       " 'clf': SVC(C=0.3, cache_size=200, class_weight=None, coef0=0.0,\n",
       "   decision_function_shape='ovo', degree=4, gamma=10, kernel='sigmoid',\n",
       "   max_iter=-1, probability=False, random_state=None, shrinking=True,\n",
       "   tol=0.001, verbose=False)}"
      ]
     },
     "execution_count": 75,
     "metadata": {},
     "output_type": "execute_result"
    }
   ],
   "source": [
    "rCV=RandomizedSearchCV(pipclf, pramg, n_jobs=7, cv=10, scoring='f1_macro',\n",
    "                        return_train_score=True) \n",
    "##f1_score(average='macro')\n",
    "rCV.fit(Trfob, Tr_lbl)\n",
    "clfrb=rCV.best_estimator_\n",
    "clfrb.named_steps"
   ]
  },
  {
   "cell_type": "code",
   "execution_count": 76,
   "metadata": {},
   "outputs": [
    {
     "data": {
      "text/plain": [
       "{'vct': CountVectorizer(analyzer='word', binary=False, decode_error='strict',\n",
       "         dtype=<class 'numpy.int64'>, encoding='utf-8', input='content',\n",
       "         lowercase=True, max_df=0.4, max_features=None, min_df=0.01,\n",
       "         ngram_range=(1, 3), preprocessor=None, stop_words='english',\n",
       "         strip_accents=None, token_pattern='(?u)\\\\b\\\\w\\\\w+\\\\b',\n",
       "         tokenizer=None, vocabulary=None),\n",
       " 'idf': TfidfTransformer(norm='l2', smooth_idf=True, sublinear_tf=False, use_idf=True),\n",
       " 'clf': SVC(C=0.3, cache_size=200, class_weight=None, coef0=0.0,\n",
       "   decision_function_shape='ovo', degree=4, gamma=10, kernel='sigmoid',\n",
       "   max_iter=-1, probability=False, random_state=None, shrinking=True,\n",
       "   tol=0.001, verbose=False)}"
      ]
     },
     "execution_count": 76,
     "metadata": {},
     "output_type": "execute_result"
    }
   ],
   "source": [
    "clfrb.named_steps"
   ]
  },
  {
   "cell_type": "code",
   "execution_count": 77,
   "metadata": {},
   "outputs": [
    {
     "name": "stdout",
     "output_type": "stream",
     "text": [
      "0.7567567567567568 \n",
      " 0.7567567567567568 \n",
      " 0.7324808524808525 \n",
      " 0.7428416276242363 \n",
      " 0.7567567567567567 \n",
      " 0.7172917725549304 \n",
      " 0.7567567567567568\n"
     ]
    },
    {
     "name": "stderr",
     "output_type": "stream",
     "text": [
      "c:\\python\\python37\\lib\\site-packages\\sklearn\\metrics\\classification.py:1143: UndefinedMetricWarning: Precision is ill-defined and being set to 0.0 in labels with no predicted samples.\n",
      "  'precision', 'predicted', average, warn_for)\n",
      "c:\\python\\python37\\lib\\site-packages\\sklearn\\metrics\\classification.py:1143: UndefinedMetricWarning: F-score is ill-defined and being set to 0.0 in labels with no predicted samples.\n",
      "  'precision', 'predicted', average, warn_for)\n"
     ]
    }
   ],
   "source": [
    "clfrb.fit(Trfob, Tr_lbl)\n",
    "y_pred=clfrb.predict(Tsfob) \n",
    "a1=precision_score(Ts_lbl, y_pred, average='micro')\n",
    "a2=recall_score(Ts_lbl, y_pred, average='micro')\n",
    "a3=precision_score(Ts_lbl, y_pred, average='macro')\n",
    "a4=recall_score(Ts_lbl, y_pred, average='macro') \n",
    "a5=f1_score(Ts_lbl, y_pred, average='micro')\n",
    "a6=f1_score(Ts_lbl, y_pred, average='macro')\n",
    "a7=accuracy_score(Ts_lbl, y_pred)\n",
    "print(a1,'\\n',a2,'\\n',a3,'\\n',a4,'\\n',a5,'\\n',a6,'\\n',a7)\n",
    "prf.append((round(a1,4),round(a2,4),round(a3,4),round(a4,4),round(a5,4),round(a6,4),\n",
    "              round(a7,4)))"
   ]
  },
  {
   "cell_type": "code",
   "execution_count": 78,
   "metadata": {},
   "outputs": [
    {
     "name": "stderr",
     "output_type": "stream",
     "text": [
      "c:\\python\\python37\\lib\\site-packages\\sklearn\\model_selection\\_search.py:841: DeprecationWarning: The default of the `iid` parameter will change from True to False in version 0.22 and will be removed in 0.24. This will change numeric results when test-set sizes are unequal.\n",
      "  DeprecationWarning)\n"
     ]
    },
    {
     "data": {
      "text/plain": [
       "{'vct': CountVectorizer(analyzer='word', binary=False, decode_error='strict',\n",
       "         dtype=<class 'numpy.int64'>, encoding='utf-8', input='content',\n",
       "         lowercase=True, max_df=0.3, max_features=None, min_df=0.005,\n",
       "         ngram_range=(2, 5), preprocessor=None, stop_words='english',\n",
       "         strip_accents=None, token_pattern='(?u)\\\\b\\\\w\\\\w+\\\\b',\n",
       "         tokenizer=None, vocabulary=None),\n",
       " 'idf': TfidfTransformer(norm='l2', smooth_idf=True, sublinear_tf=False, use_idf=True),\n",
       " 'clf': SVC(C=1, cache_size=200, class_weight=None, coef0=0.0,\n",
       "   decision_function_shape='ovo', degree=4, gamma=3, kernel='sigmoid',\n",
       "   max_iter=-1, probability=False, random_state=None, shrinking=True,\n",
       "   tol=0.001, verbose=False)}"
      ]
     },
     "execution_count": 78,
     "metadata": {},
     "output_type": "execute_result"
    }
   ],
   "source": [
    "rCV=RandomizedSearchCV(pipclf, pramg, n_jobs=7, cv=10, scoring='f1_macro',\n",
    "                        return_train_score=True) \n",
    "##f1_score(average='macro')\n",
    "rCV.fit(Trfob, Tr_lbl)\n",
    "clfrb=rCV.best_estimator_\n",
    "clfrb.named_steps"
   ]
  },
  {
   "cell_type": "code",
   "execution_count": 79,
   "metadata": {},
   "outputs": [
    {
     "data": {
      "text/plain": [
       "{'vct': CountVectorizer(analyzer='word', binary=False, decode_error='strict',\n",
       "         dtype=<class 'numpy.int64'>, encoding='utf-8', input='content',\n",
       "         lowercase=True, max_df=0.3, max_features=None, min_df=0.005,\n",
       "         ngram_range=(2, 5), preprocessor=None, stop_words='english',\n",
       "         strip_accents=None, token_pattern='(?u)\\\\b\\\\w\\\\w+\\\\b',\n",
       "         tokenizer=None, vocabulary=None),\n",
       " 'idf': TfidfTransformer(norm='l2', smooth_idf=True, sublinear_tf=False, use_idf=True),\n",
       " 'clf': SVC(C=1, cache_size=200, class_weight=None, coef0=0.0,\n",
       "   decision_function_shape='ovo', degree=4, gamma=3, kernel='sigmoid',\n",
       "   max_iter=-1, probability=False, random_state=None, shrinking=True,\n",
       "   tol=0.001, verbose=False)}"
      ]
     },
     "execution_count": 79,
     "metadata": {},
     "output_type": "execute_result"
    }
   ],
   "source": [
    "clfrb.named_steps"
   ]
  },
  {
   "cell_type": "code",
   "execution_count": 80,
   "metadata": {},
   "outputs": [
    {
     "name": "stdout",
     "output_type": "stream",
     "text": [
      "0.6324324324324324 \n",
      " 0.6324324324324324 \n",
      " 0.7187698412698412 \n",
      " 0.5490105223800876 \n",
      " 0.6324324324324324 \n",
      " 0.5963184408111943 \n",
      " 0.6324324324324324\n"
     ]
    },
    {
     "name": "stderr",
     "output_type": "stream",
     "text": [
      "c:\\python\\python37\\lib\\site-packages\\sklearn\\metrics\\classification.py:1143: UndefinedMetricWarning: Precision is ill-defined and being set to 0.0 in labels with no predicted samples.\n",
      "  'precision', 'predicted', average, warn_for)\n",
      "c:\\python\\python37\\lib\\site-packages\\sklearn\\metrics\\classification.py:1143: UndefinedMetricWarning: F-score is ill-defined and being set to 0.0 in labels with no predicted samples.\n",
      "  'precision', 'predicted', average, warn_for)\n"
     ]
    }
   ],
   "source": [
    "clfrb.fit(Trfob, Tr_lbl)\n",
    "y_pred=clfrb.predict(Tsfob) \n",
    "a1=precision_score(Ts_lbl, y_pred, average='micro')\n",
    "a2=recall_score(Ts_lbl, y_pred, average='micro')\n",
    "a3=precision_score(Ts_lbl, y_pred, average='macro')\n",
    "a4=recall_score(Ts_lbl, y_pred, average='macro') \n",
    "a5=f1_score(Ts_lbl, y_pred, average='micro')\n",
    "a6=f1_score(Ts_lbl, y_pred, average='macro')\n",
    "a7=accuracy_score(Ts_lbl, y_pred)\n",
    "print(a1,'\\n',a2,'\\n',a3,'\\n',a4,'\\n',a5,'\\n',a6,'\\n',a7)\n",
    "prf.append((round(a1,4),round(a2,4),round(a3,4),round(a4,4),round(a5,4),round(a6,4),\n",
    "              round(a7,4)))"
   ]
  },
  {
   "cell_type": "code",
   "execution_count": 81,
   "metadata": {},
   "outputs": [
    {
     "name": "stderr",
     "output_type": "stream",
     "text": [
      "c:\\python\\python37\\lib\\site-packages\\sklearn\\model_selection\\_search.py:841: DeprecationWarning: The default of the `iid` parameter will change from True to False in version 0.22 and will be removed in 0.24. This will change numeric results when test-set sizes are unequal.\n",
      "  DeprecationWarning)\n"
     ]
    }
   ],
   "source": [
    "rCV=RandomizedSearchCV(pipclf, pramg, n_jobs=7, cv=10, scoring='f1_micro',\n",
    "                        return_train_score=True) \n",
    "##f1_score(average='macro')\n",
    "rCV.fit(Trfob, Tr_lbl)\n",
    "clfrb=rCV.best_estimator_"
   ]
  },
  {
   "cell_type": "code",
   "execution_count": 82,
   "metadata": {},
   "outputs": [
    {
     "data": {
      "text/plain": [
       "{'vct': CountVectorizer(analyzer='word', binary=False, decode_error='strict',\n",
       "         dtype=<class 'numpy.int64'>, encoding='utf-8', input='content',\n",
       "         lowercase=True, max_df=0.4, max_features=None, min_df=1,\n",
       "         ngram_range=(1, 3), preprocessor=None, stop_words='english',\n",
       "         strip_accents=None, token_pattern='(?u)\\\\b\\\\w\\\\w+\\\\b',\n",
       "         tokenizer=None, vocabulary=None),\n",
       " 'idf': TfidfTransformer(norm='l2', smooth_idf=True, sublinear_tf=False, use_idf=True),\n",
       " 'clf': SVC(C=9, cache_size=200, class_weight=None, coef0=0.0,\n",
       "   decision_function_shape='ovo', degree=3, gamma=15, kernel='linear',\n",
       "   max_iter=-1, probability=False, random_state=None, shrinking=True,\n",
       "   tol=0.001, verbose=False)}"
      ]
     },
     "execution_count": 82,
     "metadata": {},
     "output_type": "execute_result"
    }
   ],
   "source": [
    "clfrb.named_steps"
   ]
  },
  {
   "cell_type": "code",
   "execution_count": 83,
   "metadata": {},
   "outputs": [
    {
     "name": "stdout",
     "output_type": "stream",
     "text": [
      "0.6972972972972973 \n",
      " 0.6972972972972973 \n",
      " 0.7721560069386155 \n",
      " 0.6150763044241305 \n",
      " 0.6972972972972973 \n",
      " 0.642813360685701 \n",
      " 0.6972972972972973\n"
     ]
    },
    {
     "name": "stderr",
     "output_type": "stream",
     "text": [
      "c:\\python\\python37\\lib\\site-packages\\sklearn\\metrics\\classification.py:1143: UndefinedMetricWarning: Precision is ill-defined and being set to 0.0 in labels with no predicted samples.\n",
      "  'precision', 'predicted', average, warn_for)\n",
      "c:\\python\\python37\\lib\\site-packages\\sklearn\\metrics\\classification.py:1143: UndefinedMetricWarning: F-score is ill-defined and being set to 0.0 in labels with no predicted samples.\n",
      "  'precision', 'predicted', average, warn_for)\n"
     ]
    }
   ],
   "source": [
    "clfrb.fit(Trfob, Tr_lbl)\n",
    "y_pred=clfrb.predict(Tsfob) \n",
    "a1=precision_score(Ts_lbl, y_pred, average='micro')\n",
    "a2=recall_score(Ts_lbl, y_pred, average='micro')\n",
    "a3=precision_score(Ts_lbl, y_pred, average='macro')\n",
    "a4=recall_score(Ts_lbl, y_pred, average='macro') \n",
    "a5=f1_score(Ts_lbl, y_pred, average='micro')\n",
    "a6=f1_score(Ts_lbl, y_pred, average='macro')\n",
    "a7=accuracy_score(Ts_lbl, y_pred)\n",
    "print(a1,'\\n',a2,'\\n',a3,'\\n',a4,'\\n',a5,'\\n',a6,'\\n',a7)\n",
    "prf.append((round(a1,4),round(a2,4),round(a3,4),round(a4,4),round(a5,4),round(a6,4),\n",
    "              round(a7,4)))"
   ]
  },
  {
   "cell_type": "code",
   "execution_count": 84,
   "metadata": {},
   "outputs": [],
   "source": [
    "#ruk ###############"
   ]
  },
  {
   "cell_type": "code",
   "execution_count": 85,
   "metadata": {},
   "outputs": [
    {
     "data": {
      "image/png": "[encoded data removed]",
      "text/plain": [
       "<Figure size 720x216 with 2 Axes>"
      ]
     },
     "metadata": {},
     "output_type": "display_data"
    }
   ],
   "source": [
    "rsl=pd.DataFrame(prf, columns=evlp)\n",
    "rsl.to_csv('CSVOUT/SVMprf3.csv')\n",
    "plt.figure(figsize=(10,3))\n",
    "sb.set(font_scale=1.6)\n",
    "sb.heatmap(rsl, annot=True, cmap=\"YlGnBu\", linewidths=.5, fmt=\"g\", annot_kws={\"size\": 18})\n",
    "plt.xlabel('Performance')\n",
    "plt.ylabel('Configuration')\n",
    "#plt.title('Confusion Matrix SVM_fig2')\n",
    "plt.savefig('Fig/SVMprf3.png', dpi=300, bbox_inches='tight', pad_inches=0.2)"
   ]
  },
  {
   "cell_type": "code",
   "execution_count": 86,
   "metadata": {},
   "outputs": [],
   "source": [
    "#ruk ##############################################"
   ]
  },
  {
   "cell_type": "code",
   "execution_count": 87,
   "metadata": {},
   "outputs": [
    {
     "data": {
      "text/plain": [
       "LinearSVC(C=1.0, class_weight=None, dual=True, fit_intercept=True,\n",
       "     intercept_scaling=1, loss='squared_hinge', max_iter=2500,\n",
       "     multi_class='ovr', penalty='l2', random_state=None, tol=1e-06,\n",
       "     verbose=0)"
      ]
     },
     "execution_count": 87,
     "metadata": {},
     "output_type": "execute_result"
    }
   ],
   "source": [
    "clsfv=svm.LinearSVC(max_iter=2500,tol=0.000001)\n",
    "clsfv"
   ]
  },
  {
   "cell_type": "code",
   "execution_count": 88,
   "metadata": {},
   "outputs": [],
   "source": [
    "prf=[]\n",
    "pipclf = Pipeline([('vct', vc), ('idf', idft), ('clf',clsfv)])#"
   ]
  },
  {
   "cell_type": "code",
   "execution_count": 89,
   "metadata": {},
   "outputs": [],
   "source": [
    "mxd=[ 0.3, 0.35, 0.4]\n",
    "mid=[0.005,0.01, 0.05, 0.1,1]\n",
    "ngm=[(1,2),(1,3),(2,5),(1,7)]"
   ]
  },
  {
   "cell_type": "code",
   "execution_count": 90,
   "metadata": {},
   "outputs": [],
   "source": [
    "c=[0.1,0.2,0.3,1,2,7,9,10,12,15,17]\n",
    "gma=[0.01,0.2,0.3,0.4,0.7,1,2,3,10,15,25]"
   ]
  },
  {
   "cell_type": "code",
   "execution_count": 91,
   "metadata": {},
   "outputs": [],
   "source": [
    "pramg={\"vct__max_df\":mxd, \"vct__min_df\":mid, \"vct__ngram_range\":ngm,\n",
    "       \"vct__stop_words\":['english', stpwd],\n",
    "       \"clf__C\":c,\"clf__intercept_scaling\":gma,\n",
    "       }"
   ]
  },
  {
   "cell_type": "code",
   "execution_count": 92,
   "metadata": {},
   "outputs": [
    {
     "name": "stderr",
     "output_type": "stream",
     "text": [
      "c:\\python\\python37\\lib\\site-packages\\sklearn\\model_selection\\_search.py:841: DeprecationWarning: The default of the `iid` parameter will change from True to False in version 0.22 and will be removed in 0.24. This will change numeric results when test-set sizes are unequal.\n",
      "  DeprecationWarning)\n"
     ]
    }
   ],
   "source": [
    "rCV=RandomizedSearchCV(pipclf, pramg, n_jobs=7, cv=10, scoring='f1_micro',\n",
    "                        return_train_score=True) \n",
    "##f1_score(average='macro')\n",
    "rCV.fit(Trfob, Tr_lbl)\n",
    "clfrb=rCV.best_estimator_"
   ]
  },
  {
   "cell_type": "code",
   "execution_count": 93,
   "metadata": {},
   "outputs": [
    {
     "data": {
      "text/plain": [
       "{'vct': CountVectorizer(analyzer='word', binary=False, decode_error='strict',\n",
       "         dtype=<class 'numpy.int64'>, encoding='utf-8', input='content',\n",
       "         lowercase=True, max_df=0.3, max_features=None, min_df=0.005,\n",
       "         ngram_range=(1, 3), preprocessor=None,\n",
       "         stop_words=frozenset({'an', '02', 'latterly', 'though', 'whether', 'el', '86', 'pa', 'across', 'anyone', 'over', 'vt', 'dn', '76', 'ab', 'we', 'whom', 'take', 'formerly', '54', 'five', 'since', '40', 'above', '72', 'often', 'a', 'being', 'only', 'rd', 'us', 'put', '81', 'become', 'x1', 'your', '43',...without', 'among', 'on', 'ag', '36', 'throughout', 'amongst', 'onto', 'part', 'find', 'mm', 'this'}),\n",
       "         strip_accents=None, token_pattern='(?u)\\\\b\\\\w\\\\w+\\\\b',\n",
       "         tokenizer=None, vocabulary=None),\n",
       " 'idf': TfidfTransformer(norm='l2', smooth_idf=True, sublinear_tf=False, use_idf=True),\n",
       " 'clf': LinearSVC(C=10, class_weight=None, dual=True, fit_intercept=True,\n",
       "      intercept_scaling=0.3, loss='squared_hinge', max_iter=2500,\n",
       "      multi_class='ovr', penalty='l2', random_state=None, tol=1e-06,\n",
       "      verbose=0)}"
      ]
     },
     "execution_count": 93,
     "metadata": {},
     "output_type": "execute_result"
    }
   ],
   "source": [
    "clfrb.named_steps"
   ]
  },
  {
   "cell_type": "code",
   "execution_count": 94,
   "metadata": {},
   "outputs": [
    {
     "name": "stdout",
     "output_type": "stream",
     "text": [
      "0.7783783783783784 \n",
      " 0.7783783783783784 \n",
      " 0.8365253933058812 \n",
      " 0.8011729134555223 \n",
      " 0.7783783783783784 \n",
      " 0.813483351864396 \n",
      " 0.7783783783783784\n"
     ]
    }
   ],
   "source": [
    "clfrb.fit(Trfob, Tr_lbl)\n",
    "y_pred=clfrb.predict(Tsfob) \n",
    "a1=precision_score(Ts_lbl, y_pred, average='micro')\n",
    "a2=recall_score(Ts_lbl, y_pred, average='micro')\n",
    "a3=precision_score(Ts_lbl, y_pred, average='macro')\n",
    "a4=recall_score(Ts_lbl, y_pred, average='macro') \n",
    "a5=f1_score(Ts_lbl, y_pred, average='micro')\n",
    "a6=f1_score(Ts_lbl, y_pred, average='macro')\n",
    "a7=accuracy_score(Ts_lbl, y_pred)\n",
    "print(a1,'\\n',a2,'\\n',a3,'\\n',a4,'\\n',a5,'\\n',a6,'\\n',a7)\n",
    "prf.append((round(a1,4),round(a2,4),round(a3,4),round(a4,4),round(a5,4),round(a6,4),\n",
    "              round(a7,4)))"
   ]
  },
  {
   "cell_type": "code",
   "execution_count": 95,
   "metadata": {},
   "outputs": [
    {
     "name": "stderr",
     "output_type": "stream",
     "text": [
      "c:\\python\\python37\\lib\\site-packages\\sklearn\\model_selection\\_search.py:841: DeprecationWarning: The default of the `iid` parameter will change from True to False in version 0.22 and will be removed in 0.24. This will change numeric results when test-set sizes are unequal.\n",
      "  DeprecationWarning)\n"
     ]
    }
   ],
   "source": [
    "rCV=RandomizedSearchCV(pipclf, pramg, n_jobs=7, cv=10, scoring='f1_micro',\n",
    "                        return_train_score=True) \n",
    "##f1_score(average='macro')\n",
    "rCV.fit(Trfob, Tr_lbl)\n",
    "clfrb=rCV.best_estimator_"
   ]
  },
  {
   "cell_type": "code",
   "execution_count": 96,
   "metadata": {},
   "outputs": [
    {
     "data": {
      "text/plain": [
       "{'vct': CountVectorizer(analyzer='word', binary=False, decode_error='strict',\n",
       "         dtype=<class 'numpy.int64'>, encoding='utf-8', input='content',\n",
       "         lowercase=True, max_df=0.4, max_features=None, min_df=0.005,\n",
       "         ngram_range=(1, 2), preprocessor=None, stop_words='english',\n",
       "         strip_accents=None, token_pattern='(?u)\\\\b\\\\w\\\\w+\\\\b',\n",
       "         tokenizer=None, vocabulary=None),\n",
       " 'idf': TfidfTransformer(norm='l2', smooth_idf=True, sublinear_tf=False, use_idf=True),\n",
       " 'clf': LinearSVC(C=0.2, class_weight=None, dual=True, fit_intercept=True,\n",
       "      intercept_scaling=0.01, loss='squared_hinge', max_iter=2500,\n",
       "      multi_class='ovr', penalty='l2', random_state=None, tol=1e-06,\n",
       "      verbose=0)}"
      ]
     },
     "execution_count": 96,
     "metadata": {},
     "output_type": "execute_result"
    }
   ],
   "source": [
    "clfrb.named_steps"
   ]
  },
  {
   "cell_type": "code",
   "execution_count": 97,
   "metadata": {},
   "outputs": [
    {
     "name": "stdout",
     "output_type": "stream",
     "text": [
      "0.7513513513513513 \n",
      " 0.7513513513513513 \n",
      " 0.7955544231422546 \n",
      " 0.7301358981793765 \n",
      " 0.7513513513513513 \n",
      " 0.7335605681417607 \n",
      " 0.7513513513513513\n"
     ]
    }
   ],
   "source": [
    "clfrb.fit(Trfob, Tr_lbl)\n",
    "y_pred=clfrb.predict(Tsfob) \n",
    "a1=precision_score(Ts_lbl, y_pred, average='micro')\n",
    "a2=recall_score(Ts_lbl, y_pred, average='micro')\n",
    "a3=precision_score(Ts_lbl, y_pred, average='macro')\n",
    "a4=recall_score(Ts_lbl, y_pred, average='macro') \n",
    "a5=f1_score(Ts_lbl, y_pred, average='micro')\n",
    "a6=f1_score(Ts_lbl, y_pred, average='macro')\n",
    "a7=accuracy_score(Ts_lbl, y_pred)\n",
    "print(a1,'\\n',a2,'\\n',a3,'\\n',a4,'\\n',a5,'\\n',a6,'\\n',a7)\n",
    "prf.append((round(a1,4),round(a2,4),round(a3,4),round(a4,4),round(a5,4),round(a6,4),\n",
    "              round(a7,4)))"
   ]
  },
  {
   "cell_type": "code",
   "execution_count": 98,
   "metadata": {},
   "outputs": [
    {
     "name": "stderr",
     "output_type": "stream",
     "text": [
      "c:\\python\\python37\\lib\\site-packages\\sklearn\\model_selection\\_search.py:841: DeprecationWarning: The default of the `iid` parameter will change from True to False in version 0.22 and will be removed in 0.24. This will change numeric results when test-set sizes are unequal.\n",
      "  DeprecationWarning)\n"
     ]
    }
   ],
   "source": [
    "rCV=RandomizedSearchCV(pipclf, pramg, n_jobs=7, cv=10, scoring='f1_micro',\n",
    "                        return_train_score=True) \n",
    "##f1_score(average='macro')\n",
    "rCV.fit(Trfob, Tr_lbl)\n",
    "clfrb=rCV.best_estimator_"
   ]
  },
  {
   "cell_type": "code",
   "execution_count": 99,
   "metadata": {},
   "outputs": [
    {
     "data": {
      "text/plain": [
       "{'vct': CountVectorizer(analyzer='word', binary=False, decode_error='strict',\n",
       "         dtype=<class 'numpy.int64'>, encoding='utf-8', input='content',\n",
       "         lowercase=True, max_df=0.4, max_features=None, min_df=0.005,\n",
       "         ngram_range=(1, 3), preprocessor=None,\n",
       "         stop_words=frozenset({'an', '02', 'latterly', 'though', 'whether', 'el', '86', 'pa', 'across', 'anyone', 'over', 'vt', 'dn', '76', 'ab', 'we', 'whom', 'take', 'formerly', '54', 'five', 'since', '40', 'above', '72', 'often', 'a', 'being', 'only', 'rd', 'us', 'put', '81', 'become', 'x1', 'your', '43',...without', 'among', 'on', 'ag', '36', 'throughout', 'amongst', 'onto', 'part', 'find', 'mm', 'this'}),\n",
       "         strip_accents=None, token_pattern='(?u)\\\\b\\\\w\\\\w+\\\\b',\n",
       "         tokenizer=None, vocabulary=None),\n",
       " 'idf': TfidfTransformer(norm='l2', smooth_idf=True, sublinear_tf=False, use_idf=True),\n",
       " 'clf': LinearSVC(C=17, class_weight=None, dual=True, fit_intercept=True,\n",
       "      intercept_scaling=0.2, loss='squared_hinge', max_iter=2500,\n",
       "      multi_class='ovr', penalty='l2', random_state=None, tol=1e-06,\n",
       "      verbose=0)}"
      ]
     },
     "execution_count": 99,
     "metadata": {},
     "output_type": "execute_result"
    }
   ],
   "source": [
    "clfrb.named_steps"
   ]
  },
  {
   "cell_type": "code",
   "execution_count": 100,
   "metadata": {},
   "outputs": [
    {
     "name": "stdout",
     "output_type": "stream",
     "text": [
      "0.7837837837837838 \n",
      " 0.7837837837837838 \n",
      " 0.814857399686668 \n",
      " 0.7819837242663331 \n",
      " 0.7837837837837838 \n",
      " 0.7811283821564852 \n",
      " 0.7837837837837838\n"
     ]
    }
   ],
   "source": [
    "clfrb.fit(Trfob, Tr_lbl)\n",
    "y_pred=clfrb.predict(Tsfob) \n",
    "a1=precision_score(Ts_lbl, y_pred, average='micro')\n",
    "a2=recall_score(Ts_lbl, y_pred, average='micro')\n",
    "a3=precision_score(Ts_lbl, y_pred, average='macro')\n",
    "a4=recall_score(Ts_lbl, y_pred, average='macro') \n",
    "a5=f1_score(Ts_lbl, y_pred, average='micro')\n",
    "a6=f1_score(Ts_lbl, y_pred, average='macro')\n",
    "a7=accuracy_score(Ts_lbl, y_pred)\n",
    "print(a1,'\\n',a2,'\\n',a3,'\\n',a4,'\\n',a5,'\\n',a6,'\\n',a7)\n",
    "prf.append((round(a1,4),round(a2,4),round(a3,4),round(a4,4),round(a5,4),round(a6,4),\n",
    "              round(a7,4)))"
   ]
  },
  {
   "cell_type": "code",
   "execution_count": 101,
   "metadata": {},
   "outputs": [
    {
     "name": "stderr",
     "output_type": "stream",
     "text": [
      "c:\\python\\python37\\lib\\site-packages\\sklearn\\model_selection\\_search.py:841: DeprecationWarning: The default of the `iid` parameter will change from True to False in version 0.22 and will be removed in 0.24. This will change numeric results when test-set sizes are unequal.\n",
      "  DeprecationWarning)\n"
     ]
    }
   ],
   "source": [
    "rCV=RandomizedSearchCV(pipclf, pramg, n_jobs=7, cv=10, scoring='f1_micro',\n",
    "                        return_train_score=True) \n",
    "##f1_score(average='macro')\n",
    "rCV.fit(Trfob, Tr_lbl)\n",
    "clfrb=rCV.best_estimator_"
   ]
  },
  {
   "cell_type": "code",
   "execution_count": 102,
   "metadata": {},
   "outputs": [
    {
     "data": {
      "text/plain": [
       "{'vct': CountVectorizer(analyzer='word', binary=False, decode_error='strict',\n",
       "         dtype=<class 'numpy.int64'>, encoding='utf-8', input='content',\n",
       "         lowercase=True, max_df=0.35, max_features=None, min_df=0.005,\n",
       "         ngram_range=(1, 3), preprocessor=None, stop_words='english',\n",
       "         strip_accents=None, token_pattern='(?u)\\\\b\\\\w\\\\w+\\\\b',\n",
       "         tokenizer=None, vocabulary=None),\n",
       " 'idf': TfidfTransformer(norm='l2', smooth_idf=True, sublinear_tf=False, use_idf=True),\n",
       " 'clf': LinearSVC(C=9, class_weight=None, dual=True, fit_intercept=True,\n",
       "      intercept_scaling=1, loss='squared_hinge', max_iter=2500,\n",
       "      multi_class='ovr', penalty='l2', random_state=None, tol=1e-06,\n",
       "      verbose=0)}"
      ]
     },
     "execution_count": 102,
     "metadata": {},
     "output_type": "execute_result"
    }
   ],
   "source": [
    "clfrb.named_steps"
   ]
  },
  {
   "cell_type": "code",
   "execution_count": 103,
   "metadata": {},
   "outputs": [
    {
     "name": "stdout",
     "output_type": "stream",
     "text": [
      "0.7945945945945946 \n",
      " 0.7945945945945946 \n",
      " 0.8508143502644187 \n",
      " 0.7987989810815898 \n",
      " 0.7945945945945945 \n",
      " 0.8139637737183912 \n",
      " 0.7945945945945946\n"
     ]
    }
   ],
   "source": [
    "clfrb.fit(Trfob, Tr_lbl)\n",
    "y_pred=clfrb.predict(Tsfob) \n",
    "a1=precision_score(Ts_lbl, y_pred, average='micro')\n",
    "a2=recall_score(Ts_lbl, y_pred, average='micro')\n",
    "a3=precision_score(Ts_lbl, y_pred, average='macro')\n",
    "a4=recall_score(Ts_lbl, y_pred, average='macro') \n",
    "a5=f1_score(Ts_lbl, y_pred, average='micro')\n",
    "a6=f1_score(Ts_lbl, y_pred, average='macro')\n",
    "a7=accuracy_score(Ts_lbl, y_pred)\n",
    "print(a1,'\\n',a2,'\\n',a3,'\\n',a4,'\\n',a5,'\\n',a6,'\\n',a7)\n",
    "prf.append((round(a1,4),round(a2,4),round(a3,4),round(a4,4),round(a5,4),round(a6,4),\n",
    "              round(a7,4)))"
   ]
  },
  {
   "cell_type": "code",
   "execution_count": 104,
   "metadata": {},
   "outputs": [
    {
     "name": "stderr",
     "output_type": "stream",
     "text": [
      "c:\\python\\python37\\lib\\site-packages\\sklearn\\model_selection\\_search.py:841: DeprecationWarning: The default of the `iid` parameter will change from True to False in version 0.22 and will be removed in 0.24. This will change numeric results when test-set sizes are unequal.\n",
      "  DeprecationWarning)\n"
     ]
    }
   ],
   "source": [
    "rCV=RandomizedSearchCV(pipclf, pramg, n_jobs=7, cv=10, scoring='f1_micro',\n",
    "                        return_train_score=True) \n",
    "##f1_score(average='macro')\n",
    "rCV.fit(Trfob, Tr_lbl)\n",
    "clfrb=rCV.best_estimator_"
   ]
  },
  {
   "cell_type": "code",
   "execution_count": 105,
   "metadata": {},
   "outputs": [
    {
     "data": {
      "text/plain": [
       "{'vct': CountVectorizer(analyzer='word', binary=False, decode_error='strict',\n",
       "         dtype=<class 'numpy.int64'>, encoding='utf-8', input='content',\n",
       "         lowercase=True, max_df=0.4, max_features=None, min_df=0.01,\n",
       "         ngram_range=(1, 2), preprocessor=None,\n",
       "         stop_words=frozenset({'an', '02', 'latterly', 'though', 'whether', 'el', '86', 'pa', 'across', 'anyone', 'over', 'vt', 'dn', '76', 'ab', 'we', 'whom', 'take', 'formerly', '54', 'five', 'since', '40', 'above', '72', 'often', 'a', 'being', 'only', 'rd', 'us', 'put', '81', 'become', 'x1', 'your', '43',...without', 'among', 'on', 'ag', '36', 'throughout', 'amongst', 'onto', 'part', 'find', 'mm', 'this'}),\n",
       "         strip_accents=None, token_pattern='(?u)\\\\b\\\\w\\\\w+\\\\b',\n",
       "         tokenizer=None, vocabulary=None),\n",
       " 'idf': TfidfTransformer(norm='l2', smooth_idf=True, sublinear_tf=False, use_idf=True),\n",
       " 'clf': LinearSVC(C=0.3, class_weight=None, dual=True, fit_intercept=True,\n",
       "      intercept_scaling=1, loss='squared_hinge', max_iter=2500,\n",
       "      multi_class='ovr', penalty='l2', random_state=None, tol=1e-06,\n",
       "      verbose=0)}"
      ]
     },
     "execution_count": 105,
     "metadata": {},
     "output_type": "execute_result"
    }
   ],
   "source": [
    "clfrb.named_steps"
   ]
  },
  {
   "cell_type": "code",
   "execution_count": 106,
   "metadata": {},
   "outputs": [
    {
     "name": "stdout",
     "output_type": "stream",
     "text": [
      "0.7837837837837838 \n",
      " 0.7837837837837838 \n",
      " 0.8165916233358093 \n",
      " 0.7792022372457155 \n",
      " 0.7837837837837838 \n",
      " 0.78019918123559 \n",
      " 0.7837837837837838\n"
     ]
    }
   ],
   "source": [
    "clfrb.fit(Trfob, Tr_lbl)\n",
    "y_pred=clfrb.predict(Tsfob) \n",
    "a1=precision_score(Ts_lbl, y_pred, average='micro')\n",
    "a2=recall_score(Ts_lbl, y_pred, average='micro')\n",
    "a3=precision_score(Ts_lbl, y_pred, average='macro')\n",
    "a4=recall_score(Ts_lbl, y_pred, average='macro') \n",
    "a5=f1_score(Ts_lbl, y_pred, average='micro')\n",
    "a6=f1_score(Ts_lbl, y_pred, average='macro')\n",
    "a7=accuracy_score(Ts_lbl, y_pred)\n",
    "print(a1,'\\n',a2,'\\n',a3,'\\n',a4,'\\n',a5,'\\n',a6,'\\n',a7)\n",
    "prf.append((round(a1,4),round(a2,4),round(a3,4),round(a4,4),round(a5,4),round(a6,4),\n",
    "              round(a7,4)))"
   ]
  },
  {
   "cell_type": "code",
   "execution_count": 107,
   "metadata": {},
   "outputs": [
    {
     "name": "stderr",
     "output_type": "stream",
     "text": [
      "c:\\python\\python37\\lib\\site-packages\\sklearn\\model_selection\\_search.py:841: DeprecationWarning: The default of the `iid` parameter will change from True to False in version 0.22 and will be removed in 0.24. This will change numeric results when test-set sizes are unequal.\n",
      "  DeprecationWarning)\n"
     ]
    }
   ],
   "source": [
    "rCV=RandomizedSearchCV(pipclf, pramg, n_jobs=7, cv=10, scoring='f1_micro',\n",
    "                        return_train_score=True) \n",
    "##f1_score(average='macro')\n",
    "rCV.fit(Trfob, Tr_lbl)\n",
    "clfrb=rCV.best_estimator_"
   ]
  },
  {
   "cell_type": "code",
   "execution_count": 108,
   "metadata": {},
   "outputs": [
    {
     "data": {
      "text/plain": [
       "{'vct': CountVectorizer(analyzer='word', binary=False, decode_error='strict',\n",
       "         dtype=<class 'numpy.int64'>, encoding='utf-8', input='content',\n",
       "         lowercase=True, max_df=0.4, max_features=None, min_df=0.01,\n",
       "         ngram_range=(1, 2), preprocessor=None,\n",
       "         stop_words=frozenset({'an', '02', 'latterly', 'though', 'whether', 'el', '86', 'pa', 'across', 'anyone', 'over', 'vt', 'dn', '76', 'ab', 'we', 'whom', 'take', 'formerly', '54', 'five', 'since', '40', 'above', '72', 'often', 'a', 'being', 'only', 'rd', 'us', 'put', '81', 'become', 'x1', 'your', '43',...without', 'among', 'on', 'ag', '36', 'throughout', 'amongst', 'onto', 'part', 'find', 'mm', 'this'}),\n",
       "         strip_accents=None, token_pattern='(?u)\\\\b\\\\w\\\\w+\\\\b',\n",
       "         tokenizer=None, vocabulary=None),\n",
       " 'idf': TfidfTransformer(norm='l2', smooth_idf=True, sublinear_tf=False, use_idf=True),\n",
       " 'clf': LinearSVC(C=0.2, class_weight=None, dual=True, fit_intercept=True,\n",
       "      intercept_scaling=15, loss='squared_hinge', max_iter=2500,\n",
       "      multi_class='ovr', penalty='l2', random_state=None, tol=1e-06,\n",
       "      verbose=0)}"
      ]
     },
     "execution_count": 108,
     "metadata": {},
     "output_type": "execute_result"
    }
   ],
   "source": [
    "clfrb.named_steps"
   ]
  },
  {
   "cell_type": "code",
   "execution_count": 109,
   "metadata": {},
   "outputs": [
    {
     "name": "stdout",
     "output_type": "stream",
     "text": [
      "0.7621621621621621 \n",
      " 0.7621621621621621 \n",
      " 0.7921782353701858 \n",
      " 0.7477115540159018 \n",
      " 0.7621621621621621 \n",
      " 0.7375611797885224 \n",
      " 0.7621621621621621\n"
     ]
    }
   ],
   "source": [
    "clfrb.fit(Trfob, Tr_lbl)\n",
    "y_pred=clfrb.predict(Tsfob) \n",
    "a1=precision_score(Ts_lbl, y_pred, average='micro')\n",
    "a2=recall_score(Ts_lbl, y_pred, average='micro')\n",
    "a3=precision_score(Ts_lbl, y_pred, average='macro')\n",
    "a4=recall_score(Ts_lbl, y_pred, average='macro') \n",
    "a5=f1_score(Ts_lbl, y_pred, average='micro')\n",
    "a6=f1_score(Ts_lbl, y_pred, average='macro')\n",
    "a7=accuracy_score(Ts_lbl, y_pred)\n",
    "print(a1,'\\n',a2,'\\n',a3,'\\n',a4,'\\n',a5,'\\n',a6,'\\n',a7)\n",
    "prf.append((round(a1,4),round(a2,4),round(a3,4),round(a4,4),round(a5,4),round(a6,4),\n",
    "              round(a7,4)))"
   ]
  },
  {
   "cell_type": "code",
   "execution_count": 110,
   "metadata": {},
   "outputs": [
    {
     "data": {
      "image/png": "[encoded data removed]",
      "text/plain": [
       "<Figure size 720x216 with 2 Axes>"
      ]
     },
     "metadata": {},
     "output_type": "display_data"
    }
   ],
   "source": [
    "rsl=pd.DataFrame(prf, columns=evlp)\n",
    "rsl.to_csv('CSVOUT/SVMprf4.csv')\n",
    "plt.figure(figsize=(10,3))\n",
    "sb.set(font_scale=1.6)\n",
    "sb.heatmap(rsl, annot=True, cmap=\"YlGnBu\", linewidths=.5, fmt=\"g\", annot_kws={\"size\": 18})\n",
    "plt.xlabel('Performance')\n",
    "plt.ylabel('Configuration')\n",
    "#plt.title('Confusion Matrix SVM_fig2')\n",
    "plt.savefig('Fig/SVMprf4.png', dpi=300, bbox_inches='tight', pad_inches=0.2)"
   ]
  },
  {
   "cell_type": "code",
   "execution_count": 111,
   "metadata": {},
   "outputs": [],
   "source": [
    "#ruk ruk ########################"
   ]
  },
  {
   "cell_type": "code",
   "execution_count": 112,
   "metadata": {},
   "outputs": [],
   "source": [
    "evlp=['Precision_micro','Recall_micro','Precision_macro','Recall_macro','f1_micro',\n",
    "     'f1_macro','Accuracy']\n",
    "confp=['max df','min df','ngram','idf','no. token','C','gamma','kernel','max iter']\n",
    "confg=[]\n",
    "prf=[]"
   ]
  },
  {
   "cell_type": "code",
   "execution_count": 113,
   "metadata": {},
   "outputs": [],
   "source": [
    "vc1=CountVectorizer(analyzer='word', binary=False, lowercase=True, max_df=0.35, min_df=1,\n",
    "                   ngram_range=(1, 3), stop_words=stpwd)\n",
    "idft1=TfidfTransformer()"
   ]
  },
  {
   "cell_type": "code",
   "execution_count": 114,
   "metadata": {},
   "outputs": [],
   "source": [
    "TrDX=vc1.fit_transform(Trfob)\n",
    "TrDtX=idft1.fit_transform(TrDX.toarray())\n",
    "###############\n",
    "TsDX=vc1.transform(Tsfob)\n",
    "TsDtX=idft1.transform(TsDX.toarray())"
   ]
  },
  {
   "cell_type": "code",
   "execution_count": 115,
   "metadata": {},
   "outputs": [],
   "source": [
    "TrD=pd.DataFrame(TrDX.toarray(), columns=vc1.get_feature_names())\n",
    "TrDt=pd.DataFrame(TrDtX.toarray(), columns=vc1.get_feature_names())\n",
    "###############\n",
    "TsD=pd.DataFrame(TsDX.toarray(), columns=vc1.get_feature_names())\n",
    "TsDt=pd.DataFrame(TsDtX.toarray(), columns=vc1.get_feature_names())"
   ]
  },
  {
   "cell_type": "code",
   "execution_count": 116,
   "metadata": {},
   "outputs": [
    {
     "name": "stdout",
     "output_type": "stream",
     "text": [
      "(499, 83216) (499, 83216) (185, 83216) (185, 83216)\n"
     ]
    }
   ],
   "source": [
    "print(TrD.shape, TrDt.shape, TsD.shape, TsDt.shape)"
   ]
  },
  {
   "cell_type": "code",
   "execution_count": 117,
   "metadata": {},
   "outputs": [],
   "source": [
    "clf=svm.LinearSVC()"
   ]
  },
  {
   "cell_type": "code",
   "execution_count": 118,
   "metadata": {},
   "outputs": [
    {
     "data": {
      "text/plain": [
       "LinearSVC(C=1.0, class_weight=None, dual=True, fit_intercept=True,\n",
       "     intercept_scaling=1, loss='squared_hinge', max_iter=1000,\n",
       "     multi_class='ovr', penalty='l2', random_state=None, tol=0.0001,\n",
       "     verbose=0)"
      ]
     },
     "execution_count": 118,
     "metadata": {},
     "output_type": "execute_result"
    }
   ],
   "source": [
    "clf.fit(TrDt, Tr_lbl) "
   ]
  },
  {
   "cell_type": "code",
   "execution_count": 119,
   "metadata": {},
   "outputs": [
    {
     "name": "stdout",
     "output_type": "stream",
     "text": [
      "0.7513513513513513 \n",
      " 0.7513513513513513 \n",
      " 0.7827702702702702 \n",
      " 0.7444869163347424 \n",
      " 0.7513513513513513 \n",
      " 0.7228417616222493 \n",
      " 0.7513513513513513\n"
     ]
    }
   ],
   "source": [
    "y_pred=clf.predict(TsDt)\n",
    "a1=precision_score(Ts_lbl, y_pred, average='micro')\n",
    "a2=recall_score(Ts_lbl, y_pred, average='micro')\n",
    "a3=precision_score(Ts_lbl, y_pred, average='macro')\n",
    "a4=recall_score(Ts_lbl, y_pred, average='macro') \n",
    "a5=f1_score(Ts_lbl, y_pred, average='micro')\n",
    "a6=f1_score(Ts_lbl, y_pred, average='macro')\n",
    "a7=accuracy_score(Ts_lbl, y_pred)\n",
    "print(a1,'\\n',a2,'\\n',a3,'\\n',a4,'\\n',a5,'\\n',a6,'\\n',a7)"
   ]
  },
  {
   "cell_type": "code",
   "execution_count": 120,
   "metadata": {},
   "outputs": [],
   "source": [
    "prf.append((round(a1,4),round(a2,4),round(a3,4),round(a4,4),round(a5,4),round(a6,4),round(a7,4)))\n",
    "confg.append(('0.35','1',\"1 - 3\",'YES','83216','1','1','Linear','1000'))"
   ]
  },
  {
   "cell_type": "code",
   "execution_count": 121,
   "metadata": {},
   "outputs": [],
   "source": [
    "#####################"
   ]
  },
  {
   "cell_type": "code",
   "execution_count": 122,
   "metadata": {},
   "outputs": [
    {
     "name": "stderr",
     "output_type": "stream",
     "text": [
      "c:\\python\\python37\\lib\\site-packages\\sklearn\\svm\\base.py:931: ConvergenceWarning: Liblinear failed to converge, increase the number of iterations.\n",
      "  \"the number of iterations.\", ConvergenceWarning)\n"
     ]
    },
    {
     "data": {
      "text/plain": [
       "LinearSVC(C=1.0, class_weight=None, dual=True, fit_intercept=True,\n",
       "     intercept_scaling=1, loss='squared_hinge', max_iter=1000,\n",
       "     multi_class='ovr', penalty='l2', random_state=None, tol=0.0001,\n",
       "     verbose=0)"
      ]
     },
     "execution_count": 122,
     "metadata": {},
     "output_type": "execute_result"
    }
   ],
   "source": [
    "clf.fit(TrD, Tr_lbl)"
   ]
  },
  {
   "cell_type": "code",
   "execution_count": 123,
   "metadata": {},
   "outputs": [
    {
     "name": "stdout",
     "output_type": "stream",
     "text": [
      "0.7351351351351352 \n",
      " 0.7351351351351352 \n",
      " 0.7327946367420053 \n",
      " 0.697869491456448 \n",
      " 0.7351351351351352 \n",
      " 0.6693815420905205 \n",
      " 0.7351351351351352\n"
     ]
    }
   ],
   "source": [
    "y_pred=clf.predict(TsD)\n",
    "a1=precision_score(Ts_lbl, y_pred, average='micro')\n",
    "a2=recall_score(Ts_lbl, y_pred, average='micro')\n",
    "a3=precision_score(Ts_lbl, y_pred, average='macro')\n",
    "a4=recall_score(Ts_lbl, y_pred, average='macro') \n",
    "a5=f1_score(Ts_lbl, y_pred, average='micro')\n",
    "a6=f1_score(Ts_lbl, y_pred, average='macro')\n",
    "a7=accuracy_score(Ts_lbl, y_pred)\n",
    "print(a1,'\\n',a2,'\\n',a3,'\\n',a4,'\\n',a5,'\\n',a6,'\\n',a7)"
   ]
  },
  {
   "cell_type": "code",
   "execution_count": 124,
   "metadata": {},
   "outputs": [],
   "source": [
    "prf.append((round(a1,4),round(a2,4),round(a3,4),round(a4,4),round(a5,4),round(a6,4),round(a7,4)))\n",
    "confg.append(('0.35','1',\"1 - 3\",'No','83216','1','1','Linear','1000'))"
   ]
  },
  {
   "cell_type": "code",
   "execution_count": 125,
   "metadata": {},
   "outputs": [],
   "source": [
    "############"
   ]
  },
  {
   "cell_type": "code",
   "execution_count": 126,
   "metadata": {},
   "outputs": [],
   "source": [
    "vc1=CountVectorizer(analyzer='word', binary=False, lowercase=True, max_df=0.35, min_df=0.005,\n",
    "                   ngram_range=(1, 3), stop_words=stpwd)\n",
    "idft1=TfidfTransformer()"
   ]
  },
  {
   "cell_type": "code",
   "execution_count": 127,
   "metadata": {},
   "outputs": [],
   "source": [
    "TrDX=vc1.fit_transform(Trfob)\n",
    "TrDtX=idft1.fit_transform(TrDX.toarray())\n",
    "###############\n",
    "TsDX=vc1.transform(Tsfob)\n",
    "TsDtX=idft1.transform(TsDX.toarray())"
   ]
  },
  {
   "cell_type": "code",
   "execution_count": 128,
   "metadata": {},
   "outputs": [],
   "source": [
    "TrD=pd.DataFrame(TrDX.toarray(), columns=vc1.get_feature_names())\n",
    "TrDt=pd.DataFrame(TrDtX.toarray(), columns=vc1.get_feature_names())\n",
    "###############\n",
    "TsD=pd.DataFrame(TsDX.toarray(), columns=vc1.get_feature_names())\n",
    "TsDt=pd.DataFrame(TsDtX.toarray(), columns=vc1.get_feature_names())"
   ]
  },
  {
   "cell_type": "code",
   "execution_count": 129,
   "metadata": {},
   "outputs": [
    {
     "name": "stdout",
     "output_type": "stream",
     "text": [
      "(499, 7128) (499, 7128) (185, 7128) (185, 7128)\n"
     ]
    }
   ],
   "source": [
    "print(TrD.shape, TrDt.shape, TsD.shape, TsDt.shape)"
   ]
  },
  {
   "cell_type": "code",
   "execution_count": 130,
   "metadata": {},
   "outputs": [
    {
     "data": {
      "text/plain": [
       "LinearSVC(C=1.0, class_weight=None, dual=True, fit_intercept=True,\n",
       "     intercept_scaling=1, loss='squared_hinge', max_iter=1000,\n",
       "     multi_class='ovr', penalty='l2', random_state=None, tol=0.0001,\n",
       "     verbose=0)"
      ]
     },
     "execution_count": 130,
     "metadata": {},
     "output_type": "execute_result"
    }
   ],
   "source": [
    "clf.fit(TrDt, Tr_lbl)"
   ]
  },
  {
   "cell_type": "code",
   "execution_count": 131,
   "metadata": {},
   "outputs": [
    {
     "name": "stdout",
     "output_type": "stream",
     "text": [
      "0.7945945945945946 \n",
      " 0.7945945945945946 \n",
      " 0.8195224775224776 \n",
      " 0.7880443303269391 \n",
      " 0.7945945945945945 \n",
      " 0.7863192439262944 \n",
      " 0.7945945945945946\n"
     ]
    }
   ],
   "source": [
    "y_pred=clf.predict(TsDt)\n",
    "a1=precision_score(Ts_lbl, y_pred, average='micro')\n",
    "a2=recall_score(Ts_lbl, y_pred, average='micro')\n",
    "a3=precision_score(Ts_lbl, y_pred, average='macro')\n",
    "a4=recall_score(Ts_lbl, y_pred, average='macro') \n",
    "a5=f1_score(Ts_lbl, y_pred, average='micro')\n",
    "a6=f1_score(Ts_lbl, y_pred, average='macro')\n",
    "a7=accuracy_score(Ts_lbl, y_pred)\n",
    "print(a1,'\\n',a2,'\\n',a3,'\\n',a4,'\\n',a5,'\\n',a6,'\\n',a7)"
   ]
  },
  {
   "cell_type": "code",
   "execution_count": 132,
   "metadata": {},
   "outputs": [],
   "source": [
    "prf.append((round(a1,4),round(a2,4),round(a3,4),round(a4,4),round(a5,4),round(a6,4),round(a7,4)))\n",
    "confg.append(('0.35','0.005',\"1 - 3\",'Yes','7128','1','1','Linear','1000'))"
   ]
  },
  {
   "cell_type": "code",
   "execution_count": 133,
   "metadata": {},
   "outputs": [],
   "source": [
    "#ruk ruk ###########ruk"
   ]
  },
  {
   "cell_type": "code",
   "execution_count": 134,
   "metadata": {},
   "outputs": [],
   "source": [
    "vc1=CountVectorizer(analyzer='word', binary=False, lowercase=True, max_df=0.35, min_df=0.005,\n",
    "                   ngram_range=(1, 7), stop_words=stpwd)\n",
    "idft1=TfidfTransformer()"
   ]
  },
  {
   "cell_type": "code",
   "execution_count": 135,
   "metadata": {},
   "outputs": [],
   "source": [
    "TrDX=vc1.fit_transform(Trfob)\n",
    "TrDtX=idft1.fit_transform(TrDX.toarray())\n",
    "###############\n",
    "TsDX=vc1.transform(Tsfob)\n",
    "TsDtX=idft1.transform(TsDX.toarray())"
   ]
  },
  {
   "cell_type": "code",
   "execution_count": 136,
   "metadata": {},
   "outputs": [],
   "source": [
    "TrD=pd.DataFrame(TrDX.toarray(), columns=vc1.get_feature_names())\n",
    "TrDt=pd.DataFrame(TrDtX.toarray(), columns=vc1.get_feature_names())\n",
    "###############\n",
    "TsD=pd.DataFrame(TsDX.toarray(), columns=vc1.get_feature_names())\n",
    "TsDt=pd.DataFrame(TsDtX.toarray(), columns=vc1.get_feature_names())"
   ]
  },
  {
   "cell_type": "code",
   "execution_count": 137,
   "metadata": {},
   "outputs": [
    {
     "name": "stdout",
     "output_type": "stream",
     "text": [
      "(499, 11883) (499, 11883) (185, 11883) (185, 11883)\n"
     ]
    }
   ],
   "source": [
    "print(TrD.shape, TrDt.shape, TsD.shape, TsDt.shape)"
   ]
  },
  {
   "cell_type": "code",
   "execution_count": 138,
   "metadata": {},
   "outputs": [],
   "source": [
    "clf=svm.LinearSVC()"
   ]
  },
  {
   "cell_type": "code",
   "execution_count": 139,
   "metadata": {},
   "outputs": [
    {
     "data": {
      "text/plain": [
       "LinearSVC(C=1.0, class_weight=None, dual=True, fit_intercept=True,\n",
       "     intercept_scaling=1, loss='squared_hinge', max_iter=1000,\n",
       "     multi_class='ovr', penalty='l2', random_state=None, tol=0.0001,\n",
       "     verbose=0)"
      ]
     },
     "execution_count": 139,
     "metadata": {},
     "output_type": "execute_result"
    }
   ],
   "source": [
    "clf.fit(TrDt, Tr_lbl)"
   ]
  },
  {
   "cell_type": "code",
   "execution_count": 140,
   "metadata": {},
   "outputs": [
    {
     "name": "stdout",
     "output_type": "stream",
     "text": [
      "0.7945945945945946 \n",
      " 0.7945945945945946 \n",
      " 0.8195224775224776 \n",
      " 0.7880443303269391 \n",
      " 0.7945945945945945 \n",
      " 0.7863192439262944 \n",
      " 0.7945945945945946\n"
     ]
    }
   ],
   "source": [
    "y_pred=clf.predict(TsDt)\n",
    "a1=precision_score(Ts_lbl, y_pred, average='micro')\n",
    "a2=recall_score(Ts_lbl, y_pred, average='micro')\n",
    "a3=precision_score(Ts_lbl, y_pred, average='macro')\n",
    "a4=recall_score(Ts_lbl, y_pred, average='macro') \n",
    "a5=f1_score(Ts_lbl, y_pred, average='micro')\n",
    "a6=f1_score(Ts_lbl, y_pred, average='macro')\n",
    "a7=accuracy_score(Ts_lbl, y_pred)\n",
    "print(a1,'\\n',a2,'\\n',a3,'\\n',a4,'\\n',a5,'\\n',a6,'\\n',a7)"
   ]
  },
  {
   "cell_type": "code",
   "execution_count": 141,
   "metadata": {},
   "outputs": [],
   "source": [
    "prf.append((round(a1,4),round(a2,4),round(a3,4),round(a4,4),round(a5,4),round(a6,4),round(a7,4)))\n",
    "confg.append(('0.35','0.005',\"1 - 7\",'Yes','11883','1','1','Linear','1000'))"
   ]
  },
  {
   "cell_type": "code",
   "execution_count": 142,
   "metadata": {},
   "outputs": [
    {
     "data": {
      "text/html": [
       "<div>\n",
       "<style scoped>\n",
       "    .dataframe tbody tr th:only-of-type {\n",
       "        vertical-align: middle;\n",
       "    }\n",
       "\n",
       "    .dataframe tbody tr th {\n",
       "        vertical-align: top;\n",
       "    }\n",
       "\n",
       "    .dataframe thead th {\n",
       "        text-align: right;\n",
       "    }\n",
       "</style>\n",
       "<table border=\"1\" class=\"dataframe\">\n",
       "  <thead>\n",
       "    <tr style=\"text-align: right;\">\n",
       "      <th></th>\n",
       "      <th>max df</th>\n",
       "      <th>min df</th>\n",
       "      <th>ngram</th>\n",
       "      <th>idf</th>\n",
       "      <th>no. token</th>\n",
       "      <th>C</th>\n",
       "      <th>gamma</th>\n",
       "      <th>kernel</th>\n",
       "      <th>max iter</th>\n",
       "    </tr>\n",
       "  </thead>\n",
       "  <tbody>\n",
       "    <tr>\n",
       "      <th>0</th>\n",
       "      <td>0.35</td>\n",
       "      <td>1</td>\n",
       "      <td>1 - 3</td>\n",
       "      <td>YES</td>\n",
       "      <td>83216</td>\n",
       "      <td>1</td>\n",
       "      <td>1</td>\n",
       "      <td>Linear</td>\n",
       "      <td>1000</td>\n",
       "    </tr>\n",
       "    <tr>\n",
       "      <th>1</th>\n",
       "      <td>0.35</td>\n",
       "      <td>1</td>\n",
       "      <td>1 - 3</td>\n",
       "      <td>No</td>\n",
       "      <td>83216</td>\n",
       "      <td>1</td>\n",
       "      <td>1</td>\n",
       "      <td>Linear</td>\n",
       "      <td>1000</td>\n",
       "    </tr>\n",
       "    <tr>\n",
       "      <th>2</th>\n",
       "      <td>0.35</td>\n",
       "      <td>0.005</td>\n",
       "      <td>1 - 3</td>\n",
       "      <td>Yes</td>\n",
       "      <td>7128</td>\n",
       "      <td>1</td>\n",
       "      <td>1</td>\n",
       "      <td>Linear</td>\n",
       "      <td>1000</td>\n",
       "    </tr>\n",
       "    <tr>\n",
       "      <th>3</th>\n",
       "      <td>0.35</td>\n",
       "      <td>0.005</td>\n",
       "      <td>1 - 7</td>\n",
       "      <td>Yes</td>\n",
       "      <td>11883</td>\n",
       "      <td>1</td>\n",
       "      <td>1</td>\n",
       "      <td>Linear</td>\n",
       "      <td>1000</td>\n",
       "    </tr>\n",
       "  </tbody>\n",
       "</table>\n",
       "</div>"
      ],
      "text/plain": [
       "  max df min df  ngram  idf no. token  C gamma  kernel max iter\n",
       "0   0.35      1  1 - 3  YES     83216  1     1  Linear     1000\n",
       "1   0.35      1  1 - 3   No     83216  1     1  Linear     1000\n",
       "2   0.35  0.005  1 - 3  Yes      7128  1     1  Linear     1000\n",
       "3   0.35  0.005  1 - 7  Yes     11883  1     1  Linear     1000"
      ]
     },
     "execution_count": 142,
     "metadata": {},
     "output_type": "execute_result"
    }
   ],
   "source": [
    "stp=pd.DataFrame(confg, columns=confp)\n",
    "stp.to_csv('CSVOUT/SVMconf5.csv')\n",
    "stp"
   ]
  },
  {
   "cell_type": "code",
   "execution_count": 143,
   "metadata": {},
   "outputs": [
    {
     "data": {
      "image/png": "[encoded data removed]",
      "text/plain": [
       "<Figure size 720x360 with 2 Axes>"
      ]
     },
     "metadata": {},
     "output_type": "display_data"
    }
   ],
   "source": [
    "rsl=pd.DataFrame(prf, columns=evlp)\n",
    "rsl.to_csv('CSVOUT/SVMprf5.csv')\n",
    "plt.figure(figsize=(10,5))\n",
    "sb.set(font_scale=1.6)\n",
    "sb.heatmap(rsl, annot=True, cmap=\"YlGnBu\", linewidths=.5, fmt=\"g\", annot_kws={\"size\": 18})\n",
    "plt.xlabel('Performance')\n",
    "plt.ylabel('Configuration')\n",
    "#plt.title('Confusion Matrix SVM_fig2')\n",
    "plt.savefig('Fig/SVMprf5.png', dpi=300, bbox_inches='tight', pad_inches=0.2)"
   ]
  },
  {
   "cell_type": "code",
   "execution_count": 144,
   "metadata": {},
   "outputs": [],
   "source": [
    "####ruk"
   ]
  },
  {
   "cell_type": "code",
   "execution_count": 145,
   "metadata": {},
   "outputs": [],
   "source": [
    "evlp=['Precision_micro','Recall_micro','Precision_macro','Recall_macro','f1_micro',\n",
    "     'f1_macro','Accuracy']\n",
    "confp=['max df','min df','ngram','idf','no. token','C','gamma','kernel','max iter']\n",
    "confg=[]\n",
    "prf=[]"
   ]
  },
  {
   "cell_type": "code",
   "execution_count": 146,
   "metadata": {},
   "outputs": [],
   "source": [
    "vc1=CountVectorizer(analyzer='word', binary=False, lowercase=True, max_df=0.35, min_df=0.005,\n",
    "                   ngram_range=(1, 3), stop_words='english')\n",
    "idft1=TfidfTransformer()"
   ]
  },
  {
   "cell_type": "code",
   "execution_count": 147,
   "metadata": {},
   "outputs": [],
   "source": [
    "TrDX=vc1.fit_transform(Trfob)\n",
    "TrDtX=idft1.fit_transform(TrDX.toarray())\n",
    "###############\n",
    "TsDX=vc1.transform(Tsfob)\n",
    "TsDtX=idft1.transform(TsDX.toarray())"
   ]
  },
  {
   "cell_type": "code",
   "execution_count": 148,
   "metadata": {},
   "outputs": [],
   "source": [
    "TrD=pd.DataFrame(TrDX.toarray(), columns=vc1.get_feature_names())\n",
    "TrDt=pd.DataFrame(TrDtX.toarray(), columns=vc1.get_feature_names())\n",
    "###############\n",
    "TsD=pd.DataFrame(TsDX.toarray(), columns=vc1.get_feature_names())\n",
    "TsDt=pd.DataFrame(TsDtX.toarray(), columns=vc1.get_feature_names())"
   ]
  },
  {
   "cell_type": "code",
   "execution_count": 149,
   "metadata": {},
   "outputs": [
    {
     "name": "stdout",
     "output_type": "stream",
     "text": [
      "(499, 7511) (499, 7511) (185, 7511) (185, 7511)\n"
     ]
    }
   ],
   "source": [
    "print(TrD.shape, TrDt.shape, TsD.shape, TsDt.shape)"
   ]
  },
  {
   "cell_type": "code",
   "execution_count": 150,
   "metadata": {},
   "outputs": [],
   "source": [
    "clf=svm.LinearSVC(C=7,dual=True,intercept_scaling=1, max_iter=2000,tol=0.0000001)"
   ]
  },
  {
   "cell_type": "code",
   "execution_count": 151,
   "metadata": {},
   "outputs": [
    {
     "data": {
      "text/plain": [
       "LinearSVC(C=7, class_weight=None, dual=True, fit_intercept=True,\n",
       "     intercept_scaling=1, loss='squared_hinge', max_iter=2000,\n",
       "     multi_class='ovr', penalty='l2', random_state=None, tol=1e-07,\n",
       "     verbose=0)"
      ]
     },
     "execution_count": 151,
     "metadata": {},
     "output_type": "execute_result"
    }
   ],
   "source": [
    "clf.fit(TrDt, Tr_lbl)"
   ]
  },
  {
   "cell_type": "code",
   "execution_count": 152,
   "metadata": {},
   "outputs": [
    {
     "name": "stdout",
     "output_type": "stream",
     "text": [
      "0.7945945945945946 \n",
      " 0.7945945945945946 \n",
      " 0.8508143502644187 \n",
      " 0.7987989810815898 \n",
      " 0.7945945945945945 \n",
      " 0.8139637737183912 \n",
      " 0.7945945945945946\n"
     ]
    }
   ],
   "source": [
    "y_pred=clf.predict(TsDt)\n",
    "a1=precision_score(Ts_lbl, y_pred, average='micro')\n",
    "a2=recall_score(Ts_lbl, y_pred, average='micro')\n",
    "a3=precision_score(Ts_lbl, y_pred, average='macro')\n",
    "a4=recall_score(Ts_lbl, y_pred, average='macro') \n",
    "a5=f1_score(Ts_lbl, y_pred, average='micro')\n",
    "a6=f1_score(Ts_lbl, y_pred, average='macro')\n",
    "a7=accuracy_score(Ts_lbl, y_pred)\n",
    "print(a1,'\\n',a2,'\\n',a3,'\\n',a4,'\\n',a5,'\\n',a6,'\\n',a7)"
   ]
  },
  {
   "cell_type": "code",
   "execution_count": 153,
   "metadata": {},
   "outputs": [],
   "source": [
    "prf.append((round(a1,4),round(a2,4),round(a3,4),round(a4,4),round(a5,4),round(a6,4),round(a7,4)))\n",
    "confg.append(('0.35','0.005',\"1 - 3\",'Yes','7511','7','1','Linear','2000'))"
   ]
  },
  {
   "cell_type": "code",
   "execution_count": 154,
   "metadata": {},
   "outputs": [
    {
     "data": {
      "image/png": "[encoded data removed]",
      "text/plain": [
       "<Figure size 504x504 with 2 Axes>"
      ]
     },
     "metadata": {},
     "output_type": "display_data"
    }
   ],
   "source": [
    "cm=confusion_matrix(Ts_lbl, y_pred)\n",
    "m=pd.DataFrame(cm, columns=tsl, index=tsl)\n",
    "plt.figure(figsize=(7,7))\n",
    "sb.set(font_scale=1.6)\n",
    "sb.heatmap(m, annot=True, cmap=\"YlGnBu\", linewidths=.5, annot_kws={\"size\": 18})\n",
    "plt.xlabel('Predicted Class')\n",
    "plt.ylabel('Actual Class')\n",
    "#plt.title('Confusion Matrix SVM_fig1')\n",
    "plt.savefig('Fig/SVMcm3.png', dpi=300, bbox_inches='tight', pad_inches=0.2)"
   ]
  },
  {
   "cell_type": "code",
   "execution_count": 155,
   "metadata": {},
   "outputs": [
    {
     "data": {
      "text/html": [
       "<div>\n",
       "<style scoped>\n",
       "    .dataframe tbody tr th:only-of-type {\n",
       "        vertical-align: middle;\n",
       "    }\n",
       "\n",
       "    .dataframe tbody tr th {\n",
       "        vertical-align: top;\n",
       "    }\n",
       "\n",
       "    .dataframe thead th {\n",
       "        text-align: right;\n",
       "    }\n",
       "</style>\n",
       "<table border=\"1\" class=\"dataframe\">\n",
       "  <thead>\n",
       "    <tr style=\"text-align: right;\">\n",
       "      <th></th>\n",
       "      <th>max df</th>\n",
       "      <th>min df</th>\n",
       "      <th>ngram</th>\n",
       "      <th>idf</th>\n",
       "      <th>no. token</th>\n",
       "      <th>C</th>\n",
       "      <th>gamma</th>\n",
       "      <th>kernel</th>\n",
       "      <th>max iter</th>\n",
       "    </tr>\n",
       "  </thead>\n",
       "  <tbody>\n",
       "    <tr>\n",
       "      <th>0</th>\n",
       "      <td>0.35</td>\n",
       "      <td>0.005</td>\n",
       "      <td>1 - 3</td>\n",
       "      <td>Yes</td>\n",
       "      <td>7511</td>\n",
       "      <td>7</td>\n",
       "      <td>1</td>\n",
       "      <td>Linear</td>\n",
       "      <td>2000</td>\n",
       "    </tr>\n",
       "  </tbody>\n",
       "</table>\n",
       "</div>"
      ],
      "text/plain": [
       "  max df min df  ngram  idf no. token  C gamma  kernel max iter\n",
       "0   0.35  0.005  1 - 3  Yes      7511  7     1  Linear     2000"
      ]
     },
     "execution_count": 155,
     "metadata": {},
     "output_type": "execute_result"
    }
   ],
   "source": [
    "stp=pd.DataFrame(confg, columns=confp)\n",
    "stp.to_csv('CSVOUT/SVMconf6.csv')\n",
    "stp"
   ]
  },
  {
   "cell_type": "code",
   "execution_count": 156,
   "metadata": {},
   "outputs": [
    {
     "data": {
      "image/png": "[encoded data removed]",
      "text/plain": [
       "<Figure size 720x144 with 2 Axes>"
      ]
     },
     "metadata": {},
     "output_type": "display_data"
    }
   ],
   "source": [
    "rsl=pd.DataFrame(prf, columns=evlp)\n",
    "rsl.to_csv('CSVOUT/SVMprf6.csv')\n",
    "plt.figure(figsize=(10,2))\n",
    "sb.set(font_scale=1.6)\n",
    "sb.heatmap(rsl, annot=True, cmap=\"YlGnBu\", linewidths=.5, fmt=\"g\", annot_kws={\"size\": 18})\n",
    "plt.xlabel('Performance')\n",
    "plt.ylabel('Configuration')\n",
    "#plt.title('Confusion Matrix SVM_fig2')\n",
    "plt.savefig('Fig/SVMprf6.png', dpi=300, bbox_inches='tight', pad_inches=0.2)"
   ]
  },
  {
   "cell_type": "code",
   "execution_count": 157,
   "metadata": {},
   "outputs": [],
   "source": [
    "################"
   ]
  },
  {
   "cell_type": "code",
   "execution_count": 158,
   "metadata": {},
   "outputs": [
    {
     "name": "stdout",
     "output_type": "stream",
     "text": [
      "[0.7593, 0.7925, 0.7736, 0.8039, 0.8039, 0.8163, 0.8163, 0.8511, 0.8478, 0.7826, 0.8047291805983636, 'f1 micro', '10'] \n",
      " Average Score : 0.8047291805983636\n"
     ]
    },
    {
     "name": "stderr",
     "output_type": "stream",
     "text": [
      "c:\\python\\python37\\lib\\site-packages\\sklearn\\metrics\\classification.py:1143: UndefinedMetricWarning: F-score is ill-defined and being set to 0.0 in labels with no predicted samples.\n",
      "  'precision', 'predicted', average, warn_for)\n",
      "c:\\python\\python37\\lib\\site-packages\\sklearn\\metrics\\classification.py:1143: UndefinedMetricWarning: F-score is ill-defined and being set to 0.0 in labels with no predicted samples.\n",
      "  'precision', 'predicted', average, warn_for)\n"
     ]
    },
    {
     "name": "stdout",
     "output_type": "stream",
     "text": [
      "[0.7784, 0.794, 0.7737, 0.8159, 0.8017, 0.829, 0.7766, 0.8229, 0.8247, 0.8022, 0.8019273954235591, 'f1 macro', '10'] \n",
      " Average Score : 0.8019273954235591\n"
     ]
    },
    {
     "data": {
      "text/html": [
       "<div>\n",
       "<style scoped>\n",
       "    .dataframe tbody tr th:only-of-type {\n",
       "        vertical-align: middle;\n",
       "    }\n",
       "\n",
       "    .dataframe tbody tr th {\n",
       "        vertical-align: top;\n",
       "    }\n",
       "\n",
       "    .dataframe thead th {\n",
       "        text-align: right;\n",
       "    }\n",
       "</style>\n",
       "<table border=\"1\" class=\"dataframe\">\n",
       "  <thead>\n",
       "    <tr style=\"text-align: right;\">\n",
       "      <th></th>\n",
       "      <th>1</th>\n",
       "      <th>2</th>\n",
       "      <th>3</th>\n",
       "      <th>4</th>\n",
       "      <th>5</th>\n",
       "      <th>6</th>\n",
       "      <th>7</th>\n",
       "      <th>8</th>\n",
       "      <th>9</th>\n",
       "      <th>10</th>\n",
       "      <th>Average</th>\n",
       "      <th>metric</th>\n",
       "      <th>cv fold</th>\n",
       "    </tr>\n",
       "  </thead>\n",
       "  <tbody>\n",
       "    <tr>\n",
       "      <th>0</th>\n",
       "      <td>0.7593</td>\n",
       "      <td>0.7925</td>\n",
       "      <td>0.7736</td>\n",
       "      <td>0.8039</td>\n",
       "      <td>0.8039</td>\n",
       "      <td>0.8163</td>\n",
       "      <td>0.8163</td>\n",
       "      <td>0.8511</td>\n",
       "      <td>0.8478</td>\n",
       "      <td>0.7826</td>\n",
       "      <td>0.804729</td>\n",
       "      <td>f1 micro</td>\n",
       "      <td>10</td>\n",
       "    </tr>\n",
       "    <tr>\n",
       "      <th>1</th>\n",
       "      <td>0.7784</td>\n",
       "      <td>0.7940</td>\n",
       "      <td>0.7737</td>\n",
       "      <td>0.8159</td>\n",
       "      <td>0.8017</td>\n",
       "      <td>0.8290</td>\n",
       "      <td>0.7766</td>\n",
       "      <td>0.8229</td>\n",
       "      <td>0.8247</td>\n",
       "      <td>0.8022</td>\n",
       "      <td>0.801927</td>\n",
       "      <td>f1 macro</td>\n",
       "      <td>10</td>\n",
       "    </tr>\n",
       "  </tbody>\n",
       "</table>\n",
       "</div>"
      ],
      "text/plain": [
       "        1       2       3       4       5       6       7       8       9  \\\n",
       "0  0.7593  0.7925  0.7736  0.8039  0.8039  0.8163  0.8163  0.8511  0.8478   \n",
       "1  0.7784  0.7940  0.7737  0.8159  0.8017  0.8290  0.7766  0.8229  0.8247   \n",
       "\n",
       "       10   Average    metric cv fold  \n",
       "0  0.7826  0.804729  f1 micro      10  \n",
       "1  0.8022  0.801927  f1 macro      10  "
      ]
     },
     "execution_count": 158,
     "metadata": {},
     "output_type": "execute_result"
    }
   ],
   "source": [
    "cvp=['1','2','3','4','5','6','7','8','9','10','Average','metric','cv fold']\n",
    "cvs=[]\n",
    "clf_crs=cross_val_score(clf, TrDt, Tr_lbl, cv=10, scoring='f1_micro')\n",
    "sr1=[round(e,4) for e in clf_crs]\n",
    "a1=(sum(clf_crs)/10)\n",
    "sr1.append(a1)\n",
    "sr1.append('f1 micro')\n",
    "sr1.append('10')\n",
    "print(sr1,'\\n','Average Score :',a1)\n",
    "clf_crs=cross_val_score(clf, TrDt, Tr_lbl, cv=10, scoring='f1_macro')\n",
    "sr2=[round(e,4) for e in clf_crs]\n",
    "a2=(sum(clf_crs)/10)\n",
    "sr2.append(a2)\n",
    "sr2.append('f1 macro')\n",
    "sr2.append('10')\n",
    "print(sr2,'\\n','Average Score :',a2)\n",
    "cvs.append(sr1)\n",
    "cvs.append(sr2)\n",
    "rsl=pd.DataFrame(cvs, columns=cvp)\n",
    "rsl.to_csv('CSVOUT/SVMcvp110.csv')\n",
    "rsl"
   ]
  },
  {
   "cell_type": "code",
   "execution_count": 159,
   "metadata": {},
   "outputs": [
    {
     "name": "stderr",
     "output_type": "stream",
     "text": [
      "c:\\python\\python37\\lib\\site-packages\\sklearn\\model_selection\\_split.py:652: Warning: The least populated class in y has only 2 members, which is too few. The minimum number of members in any class cannot be less than n_splits=10.\n",
      "  % (min_groups, self.n_splits)), Warning)\n"
     ]
    },
    {
     "name": "stdout",
     "output_type": "stream",
     "text": [
      "[0.6522, 0.6522, 0.5, 0.65, 0.7647, 0.8824, 0.4706, 0.8125, 0.6667, 0.5333, 0.6584494884910487, 'f1 micro', '10'] \n",
      " Average Score : 0.6584494884910487\n"
     ]
    },
    {
     "name": "stderr",
     "output_type": "stream",
     "text": [
      "c:\\python\\python37\\lib\\site-packages\\sklearn\\model_selection\\_split.py:652: Warning: The least populated class in y has only 2 members, which is too few. The minimum number of members in any class cannot be less than n_splits=10.\n",
      "  % (min_groups, self.n_splits)), Warning)\n",
      "c:\\python\\python37\\lib\\site-packages\\sklearn\\metrics\\classification.py:1143: UndefinedMetricWarning: F-score is ill-defined and being set to 0.0 in labels with no predicted samples.\n",
      "  'precision', 'predicted', average, warn_for)\n",
      "c:\\python\\python37\\lib\\site-packages\\sklearn\\metrics\\classification.py:1143: UndefinedMetricWarning: F-score is ill-defined and being set to 0.0 in labels with no predicted samples.\n",
      "  'precision', 'predicted', average, warn_for)\n",
      "c:\\python\\python37\\lib\\site-packages\\sklearn\\metrics\\classification.py:1143: UndefinedMetricWarning: F-score is ill-defined and being set to 0.0 in labels with no predicted samples.\n",
      "  'precision', 'predicted', average, warn_for)\n",
      "c:\\python\\python37\\lib\\site-packages\\sklearn\\metrics\\classification.py:1143: UndefinedMetricWarning: F-score is ill-defined and being set to 0.0 in labels with no predicted samples.\n",
      "  'precision', 'predicted', average, warn_for)\n",
      "c:\\python\\python37\\lib\\site-packages\\sklearn\\metrics\\classification.py:1143: UndefinedMetricWarning: F-score is ill-defined and being set to 0.0 in labels with no predicted samples.\n",
      "  'precision', 'predicted', average, warn_for)\n",
      "c:\\python\\python37\\lib\\site-packages\\sklearn\\metrics\\classification.py:1143: UndefinedMetricWarning: F-score is ill-defined and being set to 0.0 in labels with no predicted samples.\n",
      "  'precision', 'predicted', average, warn_for)\n",
      "c:\\python\\python37\\lib\\site-packages\\sklearn\\metrics\\classification.py:1143: UndefinedMetricWarning: F-score is ill-defined and being set to 0.0 in labels with no predicted samples.\n",
      "  'precision', 'predicted', average, warn_for)\n",
      "c:\\python\\python37\\lib\\site-packages\\sklearn\\metrics\\classification.py:1143: UndefinedMetricWarning: F-score is ill-defined and being set to 0.0 in labels with no predicted samples.\n",
      "  'precision', 'predicted', average, warn_for)\n"
     ]
    },
    {
     "name": "stdout",
     "output_type": "stream",
     "text": [
      "[0.6502, 0.5473, 0.4153, 0.6429, 0.6652, 0.825, 0.5524, 0.7354, 0.5833, 0.4815, 0.6098482905982906, 'f1 macro', '10'] \n",
      " Average Score : 0.6098482905982906\n"
     ]
    },
    {
     "name": "stderr",
     "output_type": "stream",
     "text": [
      "c:\\python\\python37\\lib\\site-packages\\sklearn\\metrics\\classification.py:1143: UndefinedMetricWarning: F-score is ill-defined and being set to 0.0 in labels with no predicted samples.\n",
      "  'precision', 'predicted', average, warn_for)\n",
      "c:\\python\\python37\\lib\\site-packages\\sklearn\\metrics\\classification.py:1145: UndefinedMetricWarning: F-score is ill-defined and being set to 0.0 in labels with no true samples.\n",
      "  'recall', 'true', average, warn_for)\n"
     ]
    },
    {
     "data": {
      "text/html": [
       "<div>\n",
       "<style scoped>\n",
       "    .dataframe tbody tr th:only-of-type {\n",
       "        vertical-align: middle;\n",
       "    }\n",
       "\n",
       "    .dataframe tbody tr th {\n",
       "        vertical-align: top;\n",
       "    }\n",
       "\n",
       "    .dataframe thead th {\n",
       "        text-align: right;\n",
       "    }\n",
       "</style>\n",
       "<table border=\"1\" class=\"dataframe\">\n",
       "  <thead>\n",
       "    <tr style=\"text-align: right;\">\n",
       "      <th></th>\n",
       "      <th>1</th>\n",
       "      <th>2</th>\n",
       "      <th>3</th>\n",
       "      <th>4</th>\n",
       "      <th>5</th>\n",
       "      <th>6</th>\n",
       "      <th>7</th>\n",
       "      <th>8</th>\n",
       "      <th>9</th>\n",
       "      <th>10</th>\n",
       "      <th>Average</th>\n",
       "      <th>metric</th>\n",
       "      <th>cv fold</th>\n",
       "    </tr>\n",
       "  </thead>\n",
       "  <tbody>\n",
       "    <tr>\n",
       "      <th>0</th>\n",
       "      <td>0.6522</td>\n",
       "      <td>0.6522</td>\n",
       "      <td>0.5000</td>\n",
       "      <td>0.6500</td>\n",
       "      <td>0.7647</td>\n",
       "      <td>0.8824</td>\n",
       "      <td>0.4706</td>\n",
       "      <td>0.8125</td>\n",
       "      <td>0.6667</td>\n",
       "      <td>0.5333</td>\n",
       "      <td>0.658449</td>\n",
       "      <td>f1 micro</td>\n",
       "      <td>10</td>\n",
       "    </tr>\n",
       "    <tr>\n",
       "      <th>1</th>\n",
       "      <td>0.6502</td>\n",
       "      <td>0.5473</td>\n",
       "      <td>0.4153</td>\n",
       "      <td>0.6429</td>\n",
       "      <td>0.6652</td>\n",
       "      <td>0.8250</td>\n",
       "      <td>0.5524</td>\n",
       "      <td>0.7354</td>\n",
       "      <td>0.5833</td>\n",
       "      <td>0.4815</td>\n",
       "      <td>0.609848</td>\n",
       "      <td>f1 macro</td>\n",
       "      <td>10</td>\n",
       "    </tr>\n",
       "  </tbody>\n",
       "</table>\n",
       "</div>"
      ],
      "text/plain": [
       "        1       2       3       4       5       6       7       8       9  \\\n",
       "0  0.6522  0.6522  0.5000  0.6500  0.7647  0.8824  0.4706  0.8125  0.6667   \n",
       "1  0.6502  0.5473  0.4153  0.6429  0.6652  0.8250  0.5524  0.7354  0.5833   \n",
       "\n",
       "       10   Average    metric cv fold  \n",
       "0  0.5333  0.658449  f1 micro      10  \n",
       "1  0.4815  0.609848  f1 macro      10  "
      ]
     },
     "execution_count": 159,
     "metadata": {},
     "output_type": "execute_result"
    }
   ],
   "source": [
    "cvp=['1','2','3','4','5','6','7','8','9','10','Average','metric','cv fold']\n",
    "cvs=[]\n",
    "clf_crs=cross_val_score(clf, TsDt, Ts_lbl, cv=10, scoring='f1_micro')\n",
    "sr1=[round(e,4) for e in clf_crs]\n",
    "a1=(sum(clf_crs)/10)\n",
    "sr1.append(a1)\n",
    "sr1.append('f1 micro')\n",
    "sr1.append('10')\n",
    "print(sr1,'\\n','Average Score :',a1)\n",
    "clf_crs=cross_val_score(clf, TsDt, Ts_lbl, cv=10, scoring='f1_macro')\n",
    "sr2=[round(e,4) for e in clf_crs]\n",
    "a2=(sum(clf_crs)/10)\n",
    "sr2.append(a2)\n",
    "sr2.append('f1 macro')\n",
    "sr2.append('10')\n",
    "print(sr2,'\\n','Average Score :',a2)\n",
    "cvs.append(sr1)\n",
    "cvs.append(sr2)\n",
    "rsl=pd.DataFrame(cvs, columns=cvp)\n",
    "rsl.to_csv('CSVOUT/SVMcvp110ts.csv')\n",
    "rsl"
   ]
  },
  {
   "cell_type": "code",
   "execution_count": 160,
   "metadata": {},
   "outputs": [
    {
     "name": "stderr",
     "output_type": "stream",
     "text": [
      "c:\\python\\python37\\lib\\site-packages\\sklearn\\model_selection\\_split.py:652: Warning: The least populated class in y has only 2 members, which is too few. The minimum number of members in any class cannot be less than n_splits=20.\n",
      "  % (min_groups, self.n_splits)), Warning)\n"
     ]
    },
    {
     "name": "stdout",
     "output_type": "stream",
     "text": [
      "[0.6, 0.7333, 0.6429, 0.6154, 0.3636, 0.4545, 0.6364, 0.6364, 0.7, 0.8, 1.0, 1.0, 0.375, 0.7143, 0.8333, 0.3333, 0.6667, 0.6, 0.6, 0.8, 0.6552551615051615, 'f1 micro', '20'] \n",
      " Average Score : 0.6552551615051615\n"
     ]
    },
    {
     "name": "stderr",
     "output_type": "stream",
     "text": [
      "c:\\python\\python37\\lib\\site-packages\\sklearn\\model_selection\\_split.py:652: Warning: The least populated class in y has only 2 members, which is too few. The minimum number of members in any class cannot be less than n_splits=20.\n",
      "  % (min_groups, self.n_splits)), Warning)\n",
      "c:\\python\\python37\\lib\\site-packages\\sklearn\\metrics\\classification.py:1143: UndefinedMetricWarning: F-score is ill-defined and being set to 0.0 in labels with no predicted samples.\n",
      "  'precision', 'predicted', average, warn_for)\n",
      "c:\\python\\python37\\lib\\site-packages\\sklearn\\metrics\\classification.py:1143: UndefinedMetricWarning: F-score is ill-defined and being set to 0.0 in labels with no predicted samples.\n",
      "  'precision', 'predicted', average, warn_for)\n",
      "c:\\python\\python37\\lib\\site-packages\\sklearn\\metrics\\classification.py:1143: UndefinedMetricWarning: F-score is ill-defined and being set to 0.0 in labels with no predicted samples.\n",
      "  'precision', 'predicted', average, warn_for)\n",
      "c:\\python\\python37\\lib\\site-packages\\sklearn\\metrics\\classification.py:1143: UndefinedMetricWarning: F-score is ill-defined and being set to 0.0 in labels with no predicted samples.\n",
      "  'precision', 'predicted', average, warn_for)\n",
      "c:\\python\\python37\\lib\\site-packages\\sklearn\\metrics\\classification.py:1143: UndefinedMetricWarning: F-score is ill-defined and being set to 0.0 in labels with no predicted samples.\n",
      "  'precision', 'predicted', average, warn_for)\n",
      "c:\\python\\python37\\lib\\site-packages\\sklearn\\metrics\\classification.py:1143: UndefinedMetricWarning: F-score is ill-defined and being set to 0.0 in labels with no predicted samples.\n",
      "  'precision', 'predicted', average, warn_for)\n",
      "c:\\python\\python37\\lib\\site-packages\\sklearn\\metrics\\classification.py:1143: UndefinedMetricWarning: F-score is ill-defined and being set to 0.0 in labels with no predicted samples.\n",
      "  'precision', 'predicted', average, warn_for)\n",
      "c:\\python\\python37\\lib\\site-packages\\sklearn\\metrics\\classification.py:1143: UndefinedMetricWarning: F-score is ill-defined and being set to 0.0 in labels with no predicted samples.\n",
      "  'precision', 'predicted', average, warn_for)\n",
      "c:\\python\\python37\\lib\\site-packages\\sklearn\\metrics\\classification.py:1143: UndefinedMetricWarning: F-score is ill-defined and being set to 0.0 in labels with no predicted samples.\n",
      "  'precision', 'predicted', average, warn_for)\n",
      "c:\\python\\python37\\lib\\site-packages\\sklearn\\metrics\\classification.py:1145: UndefinedMetricWarning: F-score is ill-defined and being set to 0.0 in labels with no true samples.\n",
      "  'recall', 'true', average, warn_for)\n",
      "c:\\python\\python37\\lib\\site-packages\\sklearn\\metrics\\classification.py:1143: UndefinedMetricWarning: F-score is ill-defined and being set to 0.0 in labels with no predicted samples.\n",
      "  'precision', 'predicted', average, warn_for)\n",
      "c:\\python\\python37\\lib\\site-packages\\sklearn\\metrics\\classification.py:1143: UndefinedMetricWarning: F-score is ill-defined and being set to 0.0 in labels with no predicted samples.\n",
      "  'precision', 'predicted', average, warn_for)\n",
      "c:\\python\\python37\\lib\\site-packages\\sklearn\\metrics\\classification.py:1143: UndefinedMetricWarning: F-score is ill-defined and being set to 0.0 in labels with no predicted samples.\n",
      "  'precision', 'predicted', average, warn_for)\n",
      "c:\\python\\python37\\lib\\site-packages\\sklearn\\metrics\\classification.py:1143: UndefinedMetricWarning: F-score is ill-defined and being set to 0.0 in labels with no predicted samples.\n",
      "  'precision', 'predicted', average, warn_for)\n",
      "c:\\python\\python37\\lib\\site-packages\\sklearn\\metrics\\classification.py:1143: UndefinedMetricWarning: F-score is ill-defined and being set to 0.0 in labels with no predicted samples.\n",
      "  'precision', 'predicted', average, warn_for)\n",
      "c:\\python\\python37\\lib\\site-packages\\sklearn\\metrics\\classification.py:1145: UndefinedMetricWarning: F-score is ill-defined and being set to 0.0 in labels with no true samples.\n",
      "  'recall', 'true', average, warn_for)\n"
     ]
    },
    {
     "name": "stdout",
     "output_type": "stream",
     "text": [
      "[0.5733, 0.6667, 0.5598, 0.4857, 0.25, 0.5, 0.675, 0.7083, 0.725, 0.7917, 1.0, 1.0, 0.2245, 0.6944, 0.76, 0.4, 0.6333, 0.5, 0.5333, 0.6667, 0.6173885109599395, 'f1 macro', '20'] \n",
      " Average Score : 0.6173885109599395\n"
     ]
    },
    {
     "name": "stderr",
     "output_type": "stream",
     "text": [
      "c:\\python\\python37\\lib\\site-packages\\sklearn\\metrics\\classification.py:1143: UndefinedMetricWarning: F-score is ill-defined and being set to 0.0 in labels with no predicted samples.\n",
      "  'precision', 'predicted', average, warn_for)\n",
      "c:\\python\\python37\\lib\\site-packages\\sklearn\\metrics\\classification.py:1143: UndefinedMetricWarning: F-score is ill-defined and being set to 0.0 in labels with no predicted samples.\n",
      "  'precision', 'predicted', average, warn_for)\n",
      "c:\\python\\python37\\lib\\site-packages\\sklearn\\metrics\\classification.py:1145: UndefinedMetricWarning: F-score is ill-defined and being set to 0.0 in labels with no true samples.\n",
      "  'recall', 'true', average, warn_for)\n"
     ]
    },
    {
     "data": {
      "text/html": [
       "<div>\n",
       "<style scoped>\n",
       "    .dataframe tbody tr th:only-of-type {\n",
       "        vertical-align: middle;\n",
       "    }\n",
       "\n",
       "    .dataframe tbody tr th {\n",
       "        vertical-align: top;\n",
       "    }\n",
       "\n",
       "    .dataframe thead th {\n",
       "        text-align: right;\n",
       "    }\n",
       "</style>\n",
       "<table border=\"1\" class=\"dataframe\">\n",
       "  <thead>\n",
       "    <tr style=\"text-align: right;\">\n",
       "      <th></th>\n",
       "      <th>1</th>\n",
       "      <th>2</th>\n",
       "      <th>3</th>\n",
       "      <th>4</th>\n",
       "      <th>5</th>\n",
       "      <th>6</th>\n",
       "      <th>7</th>\n",
       "      <th>8</th>\n",
       "      <th>9</th>\n",
       "      <th>10</th>\n",
       "      <th>...</th>\n",
       "      <th>14</th>\n",
       "      <th>15</th>\n",
       "      <th>16</th>\n",
       "      <th>17</th>\n",
       "      <th>18</th>\n",
       "      <th>19</th>\n",
       "      <th>20</th>\n",
       "      <th>Average</th>\n",
       "      <th>metric</th>\n",
       "      <th>cv fold</th>\n",
       "    </tr>\n",
       "  </thead>\n",
       "  <tbody>\n",
       "    <tr>\n",
       "      <th>0</th>\n",
       "      <td>0.6000</td>\n",
       "      <td>0.7333</td>\n",
       "      <td>0.6429</td>\n",
       "      <td>0.6154</td>\n",
       "      <td>0.3636</td>\n",
       "      <td>0.4545</td>\n",
       "      <td>0.6364</td>\n",
       "      <td>0.6364</td>\n",
       "      <td>0.700</td>\n",
       "      <td>0.8000</td>\n",
       "      <td>...</td>\n",
       "      <td>0.7143</td>\n",
       "      <td>0.8333</td>\n",
       "      <td>0.3333</td>\n",
       "      <td>0.6667</td>\n",
       "      <td>0.6</td>\n",
       "      <td>0.6000</td>\n",
       "      <td>0.8000</td>\n",
       "      <td>0.655255</td>\n",
       "      <td>f1 micro</td>\n",
       "      <td>20</td>\n",
       "    </tr>\n",
       "    <tr>\n",
       "      <th>1</th>\n",
       "      <td>0.5733</td>\n",
       "      <td>0.6667</td>\n",
       "      <td>0.5598</td>\n",
       "      <td>0.4857</td>\n",
       "      <td>0.2500</td>\n",
       "      <td>0.5000</td>\n",
       "      <td>0.6750</td>\n",
       "      <td>0.7083</td>\n",
       "      <td>0.725</td>\n",
       "      <td>0.7917</td>\n",
       "      <td>...</td>\n",
       "      <td>0.6944</td>\n",
       "      <td>0.7600</td>\n",
       "      <td>0.4000</td>\n",
       "      <td>0.6333</td>\n",
       "      <td>0.5</td>\n",
       "      <td>0.5333</td>\n",
       "      <td>0.6667</td>\n",
       "      <td>0.617389</td>\n",
       "      <td>f1 macro</td>\n",
       "      <td>20</td>\n",
       "    </tr>\n",
       "  </tbody>\n",
       "</table>\n",
       "<p>2 rows × 23 columns</p>\n",
       "</div>"
      ],
      "text/plain": [
       "        1       2       3       4       5       6       7       8      9  \\\n",
       "0  0.6000  0.7333  0.6429  0.6154  0.3636  0.4545  0.6364  0.6364  0.700   \n",
       "1  0.5733  0.6667  0.5598  0.4857  0.2500  0.5000  0.6750  0.7083  0.725   \n",
       "\n",
       "       10  ...      14      15      16      17   18      19      20   Average  \\\n",
       "0  0.8000  ...  0.7143  0.8333  0.3333  0.6667  0.6  0.6000  0.8000  0.655255   \n",
       "1  0.7917  ...  0.6944  0.7600  0.4000  0.6333  0.5  0.5333  0.6667  0.617389   \n",
       "\n",
       "     metric  cv fold  \n",
       "0  f1 micro       20  \n",
       "1  f1 macro       20  \n",
       "\n",
       "[2 rows x 23 columns]"
      ]
     },
     "execution_count": 160,
     "metadata": {},
     "output_type": "execute_result"
    }
   ],
   "source": [
    "cvp=['1','2','3','4','5','6','7','8','9','10','11','12','13','14','15','16','17','18','19','20',\n",
    "    'Average','metric','cv fold']\n",
    "cvs=[]\n",
    "clf_crs=cross_val_score(clf, TsDt, Ts_lbl, cv=20, scoring='f1_micro')\n",
    "sr1=[round(e,4) for e in clf_crs]\n",
    "a1=(sum(clf_crs)/20)\n",
    "sr1.append(a1)\n",
    "sr1.append('f1 micro')\n",
    "sr1.append('20')\n",
    "print(sr1,'\\n','Average Score :',a1)\n",
    "clf_crs=cross_val_score(clf, TsDt, Ts_lbl, cv=20, scoring='f1_macro')\n",
    "sr2=[round(e,4) for e in clf_crs]\n",
    "a2=(sum(clf_crs)/20)\n",
    "sr2.append(a2)\n",
    "sr2.append('f1 macro')\n",
    "sr2.append('20')\n",
    "print(sr2,'\\n','Average Score :',a2)\n",
    "cvs.append(sr1)\n",
    "cvs.append(sr2)\n",
    "rsl=pd.DataFrame(cvs, columns=cvp)\n",
    "rsl.to_csv('CSVOUT/SVMcvpf120.csv')\n",
    "rsl\n",
    "#print(len(sr1),len(sr2))"
   ]
  }
 ],
 "metadata": {
  "kernelspec": {
   "display_name": "Python 3",
   "language": "python",
   "name": "python3"
  },
  "language_info": {
   "codemirror_mode": {
    "name": "ipython",
    "version": 3
   },
   "file_extension": ".py",
   "mimetype": "text/x-python",
   "name": "python",
   "nbconvert_exporter": "python",
   "pygments_lexer": "ipython3",
   "version": "3.7.2"
  }
 },
 "nbformat": 4,
 "nbformat_minor": 2
}
